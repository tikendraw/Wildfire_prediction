{
  "cells": [
    {
      "cell_type": "markdown",
      "metadata": {
        "id": "view-in-github",
        "colab_type": "text"
      },
      "source": [
        "<a href=\"https://colab.research.google.com/github/tikendraw/Wildfire_prediction/blob/main/Wildfire.ipynb\" target=\"_parent\"><img src=\"https://colab.research.google.com/assets/colab-badge.svg\" alt=\"Open In Colab\"/></a>"
      ]
    },
    {
      "cell_type": "markdown",
      "metadata": {
        "id": "JE2u9nzflX7N"
      },
      "source": [
        "#Predictive modeling of wildfires: A new dataset and machine learning approach"
      ]
    },
    {
      "cell_type": "markdown",
      "metadata": {
        "id": "IRqq9IyLlvhZ"
      },
      "source": [
        "Abstract\n",
        "Wildfires, whether natural or caused by humans, are considered among the most dangerous and devastating disasters around the world.\n",
        "\n",
        "To address this issue, many research efforts have been conducted in order to monitor, predict and prevent wildfires using several Artificial Intelligence techniques and strategies such as Big Data, Machine Learning, and Remote Sensing. T\n",
        "\n",
        "he latter offers a rich source of satellite images, from which we can retrieve a huge amount of data that can be used to monitor wildfires.  The method used in this paper combines Big Data, Remote Sensing and Data Mining algorithms (Artificial Neural Network and SVM) to process data collected from satellite images over large areas and extract insights from them to predict the occurrence of wildfires and avoid such disasters. \n",
        "\n",
        "\n",
        " This dataset is available on GitHub via this link (https://github.com/ouladsayadyounes/Wildfires). "
      ]
    },
    {
      "cell_type": "code",
      "execution_count": 211,
      "metadata": {
        "id": "Q4Dah3IUlLrK"
      },
      "outputs": [],
      "source": [
        "data_repo = 'https://github.com/ouladsayadyounes/WildFires'"
      ]
    },
    {
      "cell_type": "code",
      "execution_count": 212,
      "metadata": {
        "colab": {
          "base_uri": "https://localhost:8080/"
        },
        "id": "EIXLeBuTlXLc",
        "outputId": "596bd78b-a695-416f-d1aa-af879e16d097"
      },
      "outputs": [
        {
          "output_type": "stream",
          "name": "stdout",
          "text": [
            "fatal: destination path 'WildFires' already exists and is not an empty directory.\n"
          ]
        }
      ],
      "source": [
        "# get the data\n",
        "! git clone $data_repo"
      ]
    },
    {
      "cell_type": "code",
      "execution_count": 213,
      "metadata": {
        "id": "cYqFipyLm03-",
        "colab": {
          "base_uri": "https://localhost:8080/",
          "height": 206
        },
        "outputId": "cee23bdf-f52e-473b-8db3-ff89ccfbc816"
      },
      "outputs": [
        {
          "output_type": "execute_result",
          "data": {
            "text/plain": [
              "       NDVI           LST  BURNED_AREA    CLASS\n",
              "0  0.506782  14584.272727     4.692308  no_fire\n",
              "1  0.522150  14655.833333     5.000000  no_fire\n",
              "2  0.682284  14780.000000     5.000000     fire\n",
              "3  0.120046  13298.500000     3.500000  no_fire\n",
              "4  0.568734  14743.000000     5.000000  no_fire"
            ],
            "text/html": [
              "\n",
              "  <div id=\"df-10a6ceec-d0d3-47cc-a95c-6f0f18f95d1c\">\n",
              "    <div class=\"colab-df-container\">\n",
              "      <div>\n",
              "<style scoped>\n",
              "    .dataframe tbody tr th:only-of-type {\n",
              "        vertical-align: middle;\n",
              "    }\n",
              "\n",
              "    .dataframe tbody tr th {\n",
              "        vertical-align: top;\n",
              "    }\n",
              "\n",
              "    .dataframe thead th {\n",
              "        text-align: right;\n",
              "    }\n",
              "</style>\n",
              "<table border=\"1\" class=\"dataframe\">\n",
              "  <thead>\n",
              "    <tr style=\"text-align: right;\">\n",
              "      <th></th>\n",
              "      <th>NDVI</th>\n",
              "      <th>LST</th>\n",
              "      <th>BURNED_AREA</th>\n",
              "      <th>CLASS</th>\n",
              "    </tr>\n",
              "  </thead>\n",
              "  <tbody>\n",
              "    <tr>\n",
              "      <th>0</th>\n",
              "      <td>0.506782</td>\n",
              "      <td>14584.272727</td>\n",
              "      <td>4.692308</td>\n",
              "      <td>no_fire</td>\n",
              "    </tr>\n",
              "    <tr>\n",
              "      <th>1</th>\n",
              "      <td>0.522150</td>\n",
              "      <td>14655.833333</td>\n",
              "      <td>5.000000</td>\n",
              "      <td>no_fire</td>\n",
              "    </tr>\n",
              "    <tr>\n",
              "      <th>2</th>\n",
              "      <td>0.682284</td>\n",
              "      <td>14780.000000</td>\n",
              "      <td>5.000000</td>\n",
              "      <td>fire</td>\n",
              "    </tr>\n",
              "    <tr>\n",
              "      <th>3</th>\n",
              "      <td>0.120046</td>\n",
              "      <td>13298.500000</td>\n",
              "      <td>3.500000</td>\n",
              "      <td>no_fire</td>\n",
              "    </tr>\n",
              "    <tr>\n",
              "      <th>4</th>\n",
              "      <td>0.568734</td>\n",
              "      <td>14743.000000</td>\n",
              "      <td>5.000000</td>\n",
              "      <td>no_fire</td>\n",
              "    </tr>\n",
              "  </tbody>\n",
              "</table>\n",
              "</div>\n",
              "      <button class=\"colab-df-convert\" onclick=\"convertToInteractive('df-10a6ceec-d0d3-47cc-a95c-6f0f18f95d1c')\"\n",
              "              title=\"Convert this dataframe to an interactive table.\"\n",
              "              style=\"display:none;\">\n",
              "        \n",
              "  <svg xmlns=\"http://www.w3.org/2000/svg\" height=\"24px\"viewBox=\"0 0 24 24\"\n",
              "       width=\"24px\">\n",
              "    <path d=\"M0 0h24v24H0V0z\" fill=\"none\"/>\n",
              "    <path d=\"M18.56 5.44l.94 2.06.94-2.06 2.06-.94-2.06-.94-.94-2.06-.94 2.06-2.06.94zm-11 1L8.5 8.5l.94-2.06 2.06-.94-2.06-.94L8.5 2.5l-.94 2.06-2.06.94zm10 10l.94 2.06.94-2.06 2.06-.94-2.06-.94-.94-2.06-.94 2.06-2.06.94z\"/><path d=\"M17.41 7.96l-1.37-1.37c-.4-.4-.92-.59-1.43-.59-.52 0-1.04.2-1.43.59L10.3 9.45l-7.72 7.72c-.78.78-.78 2.05 0 2.83L4 21.41c.39.39.9.59 1.41.59.51 0 1.02-.2 1.41-.59l7.78-7.78 2.81-2.81c.8-.78.8-2.07 0-2.86zM5.41 20L4 18.59l7.72-7.72 1.47 1.35L5.41 20z\"/>\n",
              "  </svg>\n",
              "      </button>\n",
              "      \n",
              "  <style>\n",
              "    .colab-df-container {\n",
              "      display:flex;\n",
              "      flex-wrap:wrap;\n",
              "      gap: 12px;\n",
              "    }\n",
              "\n",
              "    .colab-df-convert {\n",
              "      background-color: #E8F0FE;\n",
              "      border: none;\n",
              "      border-radius: 50%;\n",
              "      cursor: pointer;\n",
              "      display: none;\n",
              "      fill: #1967D2;\n",
              "      height: 32px;\n",
              "      padding: 0 0 0 0;\n",
              "      width: 32px;\n",
              "    }\n",
              "\n",
              "    .colab-df-convert:hover {\n",
              "      background-color: #E2EBFA;\n",
              "      box-shadow: 0px 1px 2px rgba(60, 64, 67, 0.3), 0px 1px 3px 1px rgba(60, 64, 67, 0.15);\n",
              "      fill: #174EA6;\n",
              "    }\n",
              "\n",
              "    [theme=dark] .colab-df-convert {\n",
              "      background-color: #3B4455;\n",
              "      fill: #D2E3FC;\n",
              "    }\n",
              "\n",
              "    [theme=dark] .colab-df-convert:hover {\n",
              "      background-color: #434B5C;\n",
              "      box-shadow: 0px 1px 3px 1px rgba(0, 0, 0, 0.15);\n",
              "      filter: drop-shadow(0px 1px 2px rgba(0, 0, 0, 0.3));\n",
              "      fill: #FFFFFF;\n",
              "    }\n",
              "  </style>\n",
              "\n",
              "      <script>\n",
              "        const buttonEl =\n",
              "          document.querySelector('#df-10a6ceec-d0d3-47cc-a95c-6f0f18f95d1c button.colab-df-convert');\n",
              "        buttonEl.style.display =\n",
              "          google.colab.kernel.accessAllowed ? 'block' : 'none';\n",
              "\n",
              "        async function convertToInteractive(key) {\n",
              "          const element = document.querySelector('#df-10a6ceec-d0d3-47cc-a95c-6f0f18f95d1c');\n",
              "          const dataTable =\n",
              "            await google.colab.kernel.invokeFunction('convertToInteractive',\n",
              "                                                     [key], {});\n",
              "          if (!dataTable) return;\n",
              "\n",
              "          const docLinkHtml = 'Like what you see? Visit the ' +\n",
              "            '<a target=\"_blank\" href=https://colab.research.google.com/notebooks/data_table.ipynb>data table notebook</a>'\n",
              "            + ' to learn more about interactive tables.';\n",
              "          element.innerHTML = '';\n",
              "          dataTable['output_type'] = 'display_data';\n",
              "          await google.colab.output.renderOutput(dataTable, element);\n",
              "          const docLink = document.createElement('div');\n",
              "          docLink.innerHTML = docLinkHtml;\n",
              "          element.appendChild(docLink);\n",
              "        }\n",
              "      </script>\n",
              "    </div>\n",
              "  </div>\n",
              "  "
            ]
          },
          "metadata": {},
          "execution_count": 213
        }
      ],
      "source": [
        "#read the DATA\n",
        "import pandas as pd\n",
        "data = pd.read_csv('/content/WildFires/WildFires_DataSet.csv')\n",
        "data.head()"
      ]
    },
    {
      "cell_type": "code",
      "execution_count": 214,
      "metadata": {
        "id": "UtJoxbsLnKda",
        "colab": {
          "base_uri": "https://localhost:8080/"
        },
        "outputId": "e2ded535-b8fc-4baf-b64f-87e628367901"
      },
      "outputs": [
        {
          "output_type": "stream",
          "name": "stdout",
          "text": [
            "<class 'pandas.core.frame.DataFrame'>\n",
            "RangeIndex: 1713 entries, 0 to 1712\n",
            "Data columns (total 4 columns):\n",
            " #   Column       Non-Null Count  Dtype  \n",
            "---  ------       --------------  -----  \n",
            " 0   NDVI         1713 non-null   float64\n",
            " 1   LST          1713 non-null   float64\n",
            " 2   BURNED_AREA  1713 non-null   float64\n",
            " 3   CLASS        1713 non-null   object \n",
            "dtypes: float64(3), object(1)\n",
            "memory usage: 53.7+ KB\n"
          ]
        }
      ],
      "source": [
        "data.info()"
      ]
    },
    {
      "cell_type": "code",
      "execution_count": 215,
      "metadata": {
        "id": "zqyb84wwoBKT",
        "colab": {
          "base_uri": "https://localhost:8080/",
          "height": 300
        },
        "outputId": "6a7c95b3-9b49-41ee-9fdf-286a7d7a8f70"
      },
      "outputs": [
        {
          "output_type": "execute_result",
          "data": {
            "text/plain": [
              "              NDVI           LST  BURNED_AREA\n",
              "count  1713.000000   1713.000000  1713.000000\n",
              "mean      0.555665  14622.802073     4.674973\n",
              "std       0.092847    366.927861     0.583791\n",
              "min       0.030735  13137.000000     3.000000\n",
              "25%       0.501276  14406.000000     4.521951\n",
              "50%       0.565181  14645.750000     4.920635\n",
              "75%       0.620987  14881.300000     5.000000\n",
              "max       0.781723  15611.570513     9.000000"
            ],
            "text/html": [
              "\n",
              "  <div id=\"df-6a55518c-1c88-42a5-8589-d2868e57c601\">\n",
              "    <div class=\"colab-df-container\">\n",
              "      <div>\n",
              "<style scoped>\n",
              "    .dataframe tbody tr th:only-of-type {\n",
              "        vertical-align: middle;\n",
              "    }\n",
              "\n",
              "    .dataframe tbody tr th {\n",
              "        vertical-align: top;\n",
              "    }\n",
              "\n",
              "    .dataframe thead th {\n",
              "        text-align: right;\n",
              "    }\n",
              "</style>\n",
              "<table border=\"1\" class=\"dataframe\">\n",
              "  <thead>\n",
              "    <tr style=\"text-align: right;\">\n",
              "      <th></th>\n",
              "      <th>NDVI</th>\n",
              "      <th>LST</th>\n",
              "      <th>BURNED_AREA</th>\n",
              "    </tr>\n",
              "  </thead>\n",
              "  <tbody>\n",
              "    <tr>\n",
              "      <th>count</th>\n",
              "      <td>1713.000000</td>\n",
              "      <td>1713.000000</td>\n",
              "      <td>1713.000000</td>\n",
              "    </tr>\n",
              "    <tr>\n",
              "      <th>mean</th>\n",
              "      <td>0.555665</td>\n",
              "      <td>14622.802073</td>\n",
              "      <td>4.674973</td>\n",
              "    </tr>\n",
              "    <tr>\n",
              "      <th>std</th>\n",
              "      <td>0.092847</td>\n",
              "      <td>366.927861</td>\n",
              "      <td>0.583791</td>\n",
              "    </tr>\n",
              "    <tr>\n",
              "      <th>min</th>\n",
              "      <td>0.030735</td>\n",
              "      <td>13137.000000</td>\n",
              "      <td>3.000000</td>\n",
              "    </tr>\n",
              "    <tr>\n",
              "      <th>25%</th>\n",
              "      <td>0.501276</td>\n",
              "      <td>14406.000000</td>\n",
              "      <td>4.521951</td>\n",
              "    </tr>\n",
              "    <tr>\n",
              "      <th>50%</th>\n",
              "      <td>0.565181</td>\n",
              "      <td>14645.750000</td>\n",
              "      <td>4.920635</td>\n",
              "    </tr>\n",
              "    <tr>\n",
              "      <th>75%</th>\n",
              "      <td>0.620987</td>\n",
              "      <td>14881.300000</td>\n",
              "      <td>5.000000</td>\n",
              "    </tr>\n",
              "    <tr>\n",
              "      <th>max</th>\n",
              "      <td>0.781723</td>\n",
              "      <td>15611.570513</td>\n",
              "      <td>9.000000</td>\n",
              "    </tr>\n",
              "  </tbody>\n",
              "</table>\n",
              "</div>\n",
              "      <button class=\"colab-df-convert\" onclick=\"convertToInteractive('df-6a55518c-1c88-42a5-8589-d2868e57c601')\"\n",
              "              title=\"Convert this dataframe to an interactive table.\"\n",
              "              style=\"display:none;\">\n",
              "        \n",
              "  <svg xmlns=\"http://www.w3.org/2000/svg\" height=\"24px\"viewBox=\"0 0 24 24\"\n",
              "       width=\"24px\">\n",
              "    <path d=\"M0 0h24v24H0V0z\" fill=\"none\"/>\n",
              "    <path d=\"M18.56 5.44l.94 2.06.94-2.06 2.06-.94-2.06-.94-.94-2.06-.94 2.06-2.06.94zm-11 1L8.5 8.5l.94-2.06 2.06-.94-2.06-.94L8.5 2.5l-.94 2.06-2.06.94zm10 10l.94 2.06.94-2.06 2.06-.94-2.06-.94-.94-2.06-.94 2.06-2.06.94z\"/><path d=\"M17.41 7.96l-1.37-1.37c-.4-.4-.92-.59-1.43-.59-.52 0-1.04.2-1.43.59L10.3 9.45l-7.72 7.72c-.78.78-.78 2.05 0 2.83L4 21.41c.39.39.9.59 1.41.59.51 0 1.02-.2 1.41-.59l7.78-7.78 2.81-2.81c.8-.78.8-2.07 0-2.86zM5.41 20L4 18.59l7.72-7.72 1.47 1.35L5.41 20z\"/>\n",
              "  </svg>\n",
              "      </button>\n",
              "      \n",
              "  <style>\n",
              "    .colab-df-container {\n",
              "      display:flex;\n",
              "      flex-wrap:wrap;\n",
              "      gap: 12px;\n",
              "    }\n",
              "\n",
              "    .colab-df-convert {\n",
              "      background-color: #E8F0FE;\n",
              "      border: none;\n",
              "      border-radius: 50%;\n",
              "      cursor: pointer;\n",
              "      display: none;\n",
              "      fill: #1967D2;\n",
              "      height: 32px;\n",
              "      padding: 0 0 0 0;\n",
              "      width: 32px;\n",
              "    }\n",
              "\n",
              "    .colab-df-convert:hover {\n",
              "      background-color: #E2EBFA;\n",
              "      box-shadow: 0px 1px 2px rgba(60, 64, 67, 0.3), 0px 1px 3px 1px rgba(60, 64, 67, 0.15);\n",
              "      fill: #174EA6;\n",
              "    }\n",
              "\n",
              "    [theme=dark] .colab-df-convert {\n",
              "      background-color: #3B4455;\n",
              "      fill: #D2E3FC;\n",
              "    }\n",
              "\n",
              "    [theme=dark] .colab-df-convert:hover {\n",
              "      background-color: #434B5C;\n",
              "      box-shadow: 0px 1px 3px 1px rgba(0, 0, 0, 0.15);\n",
              "      filter: drop-shadow(0px 1px 2px rgba(0, 0, 0, 0.3));\n",
              "      fill: #FFFFFF;\n",
              "    }\n",
              "  </style>\n",
              "\n",
              "      <script>\n",
              "        const buttonEl =\n",
              "          document.querySelector('#df-6a55518c-1c88-42a5-8589-d2868e57c601 button.colab-df-convert');\n",
              "        buttonEl.style.display =\n",
              "          google.colab.kernel.accessAllowed ? 'block' : 'none';\n",
              "\n",
              "        async function convertToInteractive(key) {\n",
              "          const element = document.querySelector('#df-6a55518c-1c88-42a5-8589-d2868e57c601');\n",
              "          const dataTable =\n",
              "            await google.colab.kernel.invokeFunction('convertToInteractive',\n",
              "                                                     [key], {});\n",
              "          if (!dataTable) return;\n",
              "\n",
              "          const docLinkHtml = 'Like what you see? Visit the ' +\n",
              "            '<a target=\"_blank\" href=https://colab.research.google.com/notebooks/data_table.ipynb>data table notebook</a>'\n",
              "            + ' to learn more about interactive tables.';\n",
              "          element.innerHTML = '';\n",
              "          dataTable['output_type'] = 'display_data';\n",
              "          await google.colab.output.renderOutput(dataTable, element);\n",
              "          const docLink = document.createElement('div');\n",
              "          docLink.innerHTML = docLinkHtml;\n",
              "          element.appendChild(docLink);\n",
              "        }\n",
              "      </script>\n",
              "    </div>\n",
              "  </div>\n",
              "  "
            ]
          },
          "metadata": {},
          "execution_count": 215
        }
      ],
      "source": [
        "data.describe()"
      ]
    },
    {
      "cell_type": "code",
      "execution_count": 216,
      "metadata": {
        "id": "y2l4c8f9nvPu",
        "colab": {
          "base_uri": "https://localhost:8080/"
        },
        "outputId": "48249d6e-aadb-406b-b697-a2607661f68e"
      },
      "outputs": [
        {
          "output_type": "execute_result",
          "data": {
            "text/plain": [
              "NDVI           0\n",
              "LST            0\n",
              "BURNED_AREA    0\n",
              "CLASS          0\n",
              "dtype: int64"
            ]
          },
          "metadata": {},
          "execution_count": 216
        }
      ],
      "source": [
        "# check for nulls\n",
        "data.isnull().sum()"
      ]
    },
    {
      "cell_type": "code",
      "execution_count": 217,
      "metadata": {
        "id": "OJdibVhGr3CR",
        "colab": {
          "base_uri": "https://localhost:8080/"
        },
        "outputId": "9063cec1-d311-4a28-e9c6-817e39320bbb"
      },
      "outputs": [
        {
          "output_type": "stream",
          "name": "stdout",
          "text": [
            "before Dropping (1713, 4)\n",
            "after Dropping (1438, 4)\n"
          ]
        }
      ],
      "source": [
        "# Removing the Duplicates\n",
        "print('before Dropping',data.shape)\n",
        "\n",
        "data.drop_duplicates(keep='first',inplace = True)\n",
        "print('after Dropping',data.shape)\n"
      ]
    },
    {
      "cell_type": "markdown",
      "metadata": {
        "id": "N9ohOVWFnN7i"
      },
      "source": [
        "# EDA"
      ]
    },
    {
      "cell_type": "markdown",
      "metadata": {
        "id": "JRg6wwKMofYY"
      },
      "source": [
        "### checking for Feature Correlation"
      ]
    },
    {
      "cell_type": "code",
      "execution_count": 218,
      "metadata": {
        "id": "aQ9DyouRnyVK",
        "colab": {
          "base_uri": "https://localhost:8080/",
          "height": 287
        },
        "outputId": "b7db3665-0f26-445b-966c-bffe27c5af0a"
      },
      "outputs": [
        {
          "output_type": "execute_result",
          "data": {
            "text/plain": [
              "<matplotlib.axes._subplots.AxesSubplot at 0x7f71fc83f3d0>"
            ]
          },
          "metadata": {},
          "execution_count": 218
        },
        {
          "output_type": "display_data",
          "data": {
            "text/plain": [
              "<Figure size 432x288 with 2 Axes>"
            ],
            "image/png": "[encoded data removed]"
          },
          "metadata": {
            "needs_background": "light"
          }
        }
      ],
      "source": [
        "import seaborn as sns\n",
        "import numpy as np\n",
        "sns.heatmap(data.corr(), annot = True)"
      ]
    },
    {
      "cell_type": "markdown",
      "metadata": {
        "id": "bpWbH61eoZfB"
      },
      "source": [
        "There is no Strong Correlation:\n",
        "Feature are independent"
      ]
    },
    {
      "cell_type": "markdown",
      "metadata": {
        "id": "wQVgCq8Lo-s9"
      },
      "source": [
        "## Checking Distribution"
      ]
    },
    {
      "cell_type": "markdown",
      "source": [
        "### Univariate Analysis"
      ],
      "metadata": {
        "id": "hobLU3P72gRk"
      }
    },
    {
      "cell_type": "code",
      "execution_count": 219,
      "metadata": {
        "id": "aFfxmzxNpa1e",
        "colab": {
          "base_uri": "https://localhost:8080/"
        },
        "outputId": "dfb656c9-8254-42bf-d39a-09f7e2292d3d"
      },
      "outputs": [
        {
          "output_type": "stream",
          "name": "stdout",
          "text": [
            "Index(['NDVI', 'LST', 'BURNED_AREA', 'CLASS'], dtype='object')\n"
          ]
        }
      ],
      "source": [
        "cols = data.columns\n",
        "print(cols)"
      ]
    },
    {
      "cell_type": "code",
      "execution_count": 220,
      "metadata": {
        "id": "cjhgBHt7o-qJ",
        "colab": {
          "base_uri": "https://localhost:8080/",
          "height": 882
        },
        "outputId": "7d11946a-d8f3-4704-8301-80c7be4a5fd3"
      },
      "outputs": [
        {
          "output_type": "display_data",
          "data": {
            "text/plain": [
              "<Figure size 1440x1440 with 3 Axes>"
            ],
            "image/png": "[encoded data removed]"
          },
          "metadata": {
            "needs_background": "light"
          }
        }
      ],
      "source": [
        "import matplotlib.pyplot as plt\n",
        "\n",
        "#creating temp \n",
        "_fired = data[(data.CLASS=='fire')]\n",
        "_not_fired = data[~(data.CLASS=='fire')]\n",
        "\n",
        "plt.figure(figsize = (20,20))\n",
        "\n",
        "for i,col in enumerate(cols):\n",
        "    if i < 3:\n",
        "        plt.subplot(4,1,i+1)\n",
        "        # d_plot(cols[i])\n",
        "        # plt.title(cols[i])\n",
        "        data1 = _fired[col]\n",
        "        data2 = _not_fired[col]\n",
        "        # plt.figure(figsize=(15,5))\n",
        "        bins = np.linspace(data[col].min(), data[col].max(), 100)\n",
        "        sns.histplot(data2, bins=bins, alpha=0.5, color='green', kde=True,label='not_fired')\n",
        "\n",
        "        sns.histplot(data1, bins=bins, alpha=0.5, color = 'blue', kde=True,label='fired')\n",
        "        plt.gca().set(title=f'Distribution Histogram of {col}', ylabel='Count')\n",
        "        plt.legend()"
      ]
    },
    {
      "cell_type": "code",
      "source": [
        "sns.countplot(data = data , x = 'CLASS')"
      ],
      "metadata": {
        "colab": {
          "base_uri": "https://localhost:8080/",
          "height": 297
        },
        "id": "GL5LYMty2pB2",
        "outputId": "aa1a5ecf-1fbb-48bc-b60c-52b1d406a056"
      },
      "execution_count": 221,
      "outputs": [
        {
          "output_type": "execute_result",
          "data": {
            "text/plain": [
              "<matplotlib.axes._subplots.AxesSubplot at 0x7f71fc7ec1d0>"
            ]
          },
          "metadata": {},
          "execution_count": 221
        },
        {
          "output_type": "display_data",
          "data": {
            "text/plain": [
              "<Figure size 432x288 with 1 Axes>"
            ],
            "image/png": "[encoded data removed]"
          },
          "metadata": {
            "needs_background": "light"
          }
        }
      ]
    },
    {
      "cell_type": "markdown",
      "metadata": {
        "id": "s1D1CClEo-nL"
      },
      "source": [
        "**High Class Immbalance**"
      ]
    },
    {
      "cell_type": "markdown",
      "metadata": {
        "id": "Et9yru9DUOL_"
      },
      "source": [
        "# Outlier Removal"
      ]
    },
    {
      "cell_type": "code",
      "source": [
        "# OUtliers check\n",
        "num_col = data.select_dtypes('float')\n",
        "\n",
        "plt.figure(figsize=(15,5))\n",
        "i = 1\n",
        "for col in num_col:\n",
        "    plt.subplot(1,3,i)\n",
        "    sns.boxplot(data = data[col])\n",
        "    i += 1\n",
        "plt.show()"
      ],
      "metadata": {
        "colab": {
          "base_uri": "https://localhost:8080/",
          "height": 320
        },
        "id": "HOj3gaYd3Gwe",
        "outputId": "e42e76c2-378f-4709-cecf-67e57ffa2088"
      },
      "execution_count": 222,
      "outputs": [
        {
          "output_type": "display_data",
          "data": {
            "text/plain": [
              "<Figure size 1080x360 with 3 Axes>"
            ],
            "image/png": "[encoded data removed]"
          },
          "metadata": {
            "needs_background": "light"
          }
        }
      ]
    },
    {
      "cell_type": "code",
      "execution_count": 223,
      "metadata": {
        "id": "R3I7yM2RUN-T",
        "colab": {
          "base_uri": "https://localhost:8080/"
        },
        "outputId": "529ad69d-0999-4332-ae72-dcd69495ca11"
      },
      "outputs": [
        {
          "output_type": "execute_result",
          "data": {
            "text/plain": [
              "array([ 1,  1,  1, ...,  1, -1,  1])"
            ]
          },
          "metadata": {},
          "execution_count": 223
        }
      ],
      "source": [
        "from sklearn.covariance import EllipticEnvelope\n",
        "\n",
        "# we will use a copy of data with dropped labels\n",
        "data_with_no_labels = data.drop('CLASS', axis = 1)\n",
        "elliptical = EllipticEnvelope().fit(data_with_no_labels)\n",
        "outliers = elliptical.predict(data_with_no_labels)\n",
        "\n",
        "outliers"
      ]
    },
    {
      "cell_type": "code",
      "execution_count": 224,
      "metadata": {
        "id": "kQPY3SFMVAXh",
        "colab": {
          "base_uri": "https://localhost:8080/"
        },
        "outputId": "e45c57b4-5f38-4d13-9c70-c7c859751883"
      },
      "outputs": [
        {
          "output_type": "stream",
          "name": "stdout",
          "text": [
            "Counter({1: 1294, -1: 144})\n",
            "There are 144 Outliers in the dataset\n"
          ]
        }
      ],
      "source": [
        "from collections import Counter\n",
        "bincount = Counter(outliers)\n",
        "print(bincount)\n",
        "print(f'There are {bincount[-1]} Outliers in the dataset')"
      ]
    },
    {
      "cell_type": "code",
      "execution_count": 225,
      "metadata": {
        "id": "K8_srmvSVlNW",
        "colab": {
          "base_uri": "https://localhost:8080/",
          "height": 206
        },
        "outputId": "3ebbb30f-489f-4856-8213-96cfc5758fa7"
      },
      "outputs": [
        {
          "output_type": "execute_result",
          "data": {
            "text/plain": [
              "       NDVI           LST  BURNED_AREA    CLASS  outlier\n",
              "0  0.506782  14584.272727     4.692308  no_fire        1\n",
              "1  0.522150  14655.833333     5.000000  no_fire        1\n",
              "2  0.682284  14780.000000     5.000000     fire        1\n",
              "3  0.120046  13298.500000     3.500000  no_fire       -1\n",
              "4  0.568734  14743.000000     5.000000  no_fire        1"
            ],
            "text/html": [
              "\n",
              "  <div id=\"df-8bfaa449-02d4-4368-9ba9-d7bbffc7d280\">\n",
              "    <div class=\"colab-df-container\">\n",
              "      <div>\n",
              "<style scoped>\n",
              "    .dataframe tbody tr th:only-of-type {\n",
              "        vertical-align: middle;\n",
              "    }\n",
              "\n",
              "    .dataframe tbody tr th {\n",
              "        vertical-align: top;\n",
              "    }\n",
              "\n",
              "    .dataframe thead th {\n",
              "        text-align: right;\n",
              "    }\n",
              "</style>\n",
              "<table border=\"1\" class=\"dataframe\">\n",
              "  <thead>\n",
              "    <tr style=\"text-align: right;\">\n",
              "      <th></th>\n",
              "      <th>NDVI</th>\n",
              "      <th>LST</th>\n",
              "      <th>BURNED_AREA</th>\n",
              "      <th>CLASS</th>\n",
              "      <th>outlier</th>\n",
              "    </tr>\n",
              "  </thead>\n",
              "  <tbody>\n",
              "    <tr>\n",
              "      <th>0</th>\n",
              "      <td>0.506782</td>\n",
              "      <td>14584.272727</td>\n",
              "      <td>4.692308</td>\n",
              "      <td>no_fire</td>\n",
              "      <td>1</td>\n",
              "    </tr>\n",
              "    <tr>\n",
              "      <th>1</th>\n",
              "      <td>0.522150</td>\n",
              "      <td>14655.833333</td>\n",
              "      <td>5.000000</td>\n",
              "      <td>no_fire</td>\n",
              "      <td>1</td>\n",
              "    </tr>\n",
              "    <tr>\n",
              "      <th>2</th>\n",
              "      <td>0.682284</td>\n",
              "      <td>14780.000000</td>\n",
              "      <td>5.000000</td>\n",
              "      <td>fire</td>\n",
              "      <td>1</td>\n",
              "    </tr>\n",
              "    <tr>\n",
              "      <th>3</th>\n",
              "      <td>0.120046</td>\n",
              "      <td>13298.500000</td>\n",
              "      <td>3.500000</td>\n",
              "      <td>no_fire</td>\n",
              "      <td>-1</td>\n",
              "    </tr>\n",
              "    <tr>\n",
              "      <th>4</th>\n",
              "      <td>0.568734</td>\n",
              "      <td>14743.000000</td>\n",
              "      <td>5.000000</td>\n",
              "      <td>no_fire</td>\n",
              "      <td>1</td>\n",
              "    </tr>\n",
              "  </tbody>\n",
              "</table>\n",
              "</div>\n",
              "      <button class=\"colab-df-convert\" onclick=\"convertToInteractive('df-8bfaa449-02d4-4368-9ba9-d7bbffc7d280')\"\n",
              "              title=\"Convert this dataframe to an interactive table.\"\n",
              "              style=\"display:none;\">\n",
              "        \n",
              "  <svg xmlns=\"http://www.w3.org/2000/svg\" height=\"24px\"viewBox=\"0 0 24 24\"\n",
              "       width=\"24px\">\n",
              "    <path d=\"M0 0h24v24H0V0z\" fill=\"none\"/>\n",
              "    <path d=\"M18.56 5.44l.94 2.06.94-2.06 2.06-.94-2.06-.94-.94-2.06-.94 2.06-2.06.94zm-11 1L8.5 8.5l.94-2.06 2.06-.94-2.06-.94L8.5 2.5l-.94 2.06-2.06.94zm10 10l.94 2.06.94-2.06 2.06-.94-2.06-.94-.94-2.06-.94 2.06-2.06.94z\"/><path d=\"M17.41 7.96l-1.37-1.37c-.4-.4-.92-.59-1.43-.59-.52 0-1.04.2-1.43.59L10.3 9.45l-7.72 7.72c-.78.78-.78 2.05 0 2.83L4 21.41c.39.39.9.59 1.41.59.51 0 1.02-.2 1.41-.59l7.78-7.78 2.81-2.81c.8-.78.8-2.07 0-2.86zM5.41 20L4 18.59l7.72-7.72 1.47 1.35L5.41 20z\"/>\n",
              "  </svg>\n",
              "      </button>\n",
              "      \n",
              "  <style>\n",
              "    .colab-df-container {\n",
              "      display:flex;\n",
              "      flex-wrap:wrap;\n",
              "      gap: 12px;\n",
              "    }\n",
              "\n",
              "    .colab-df-convert {\n",
              "      background-color: #E8F0FE;\n",
              "      border: none;\n",
              "      border-radius: 50%;\n",
              "      cursor: pointer;\n",
              "      display: none;\n",
              "      fill: #1967D2;\n",
              "      height: 32px;\n",
              "      padding: 0 0 0 0;\n",
              "      width: 32px;\n",
              "    }\n",
              "\n",
              "    .colab-df-convert:hover {\n",
              "      background-color: #E2EBFA;\n",
              "      box-shadow: 0px 1px 2px rgba(60, 64, 67, 0.3), 0px 1px 3px 1px rgba(60, 64, 67, 0.15);\n",
              "      fill: #174EA6;\n",
              "    }\n",
              "\n",
              "    [theme=dark] .colab-df-convert {\n",
              "      background-color: #3B4455;\n",
              "      fill: #D2E3FC;\n",
              "    }\n",
              "\n",
              "    [theme=dark] .colab-df-convert:hover {\n",
              "      background-color: #434B5C;\n",
              "      box-shadow: 0px 1px 3px 1px rgba(0, 0, 0, 0.15);\n",
              "      filter: drop-shadow(0px 1px 2px rgba(0, 0, 0, 0.3));\n",
              "      fill: #FFFFFF;\n",
              "    }\n",
              "  </style>\n",
              "\n",
              "      <script>\n",
              "        const buttonEl =\n",
              "          document.querySelector('#df-8bfaa449-02d4-4368-9ba9-d7bbffc7d280 button.colab-df-convert');\n",
              "        buttonEl.style.display =\n",
              "          google.colab.kernel.accessAllowed ? 'block' : 'none';\n",
              "\n",
              "        async function convertToInteractive(key) {\n",
              "          const element = document.querySelector('#df-8bfaa449-02d4-4368-9ba9-d7bbffc7d280');\n",
              "          const dataTable =\n",
              "            await google.colab.kernel.invokeFunction('convertToInteractive',\n",
              "                                                     [key], {});\n",
              "          if (!dataTable) return;\n",
              "\n",
              "          const docLinkHtml = 'Like what you see? Visit the ' +\n",
              "            '<a target=\"_blank\" href=https://colab.research.google.com/notebooks/data_table.ipynb>data table notebook</a>'\n",
              "            + ' to learn more about interactive tables.';\n",
              "          element.innerHTML = '';\n",
              "          dataTable['output_type'] = 'display_data';\n",
              "          await google.colab.output.renderOutput(dataTable, element);\n",
              "          const docLink = document.createElement('div');\n",
              "          docLink.innerHTML = docLinkHtml;\n",
              "          element.appendChild(docLink);\n",
              "        }\n",
              "      </script>\n",
              "    </div>\n",
              "  </div>\n",
              "  "
            ]
          },
          "metadata": {},
          "execution_count": 225
        }
      ],
      "source": [
        "data['outlier'] = outliers\n",
        "data.head()"
      ]
    },
    {
      "cell_type": "code",
      "execution_count": 226,
      "metadata": {
        "id": "8ee6yJKFVyZ9",
        "colab": {
          "base_uri": "https://localhost:8080/",
          "height": 206
        },
        "outputId": "9284c11a-5cff-43a2-91eb-90eec452035b"
      },
      "outputs": [
        {
          "output_type": "execute_result",
          "data": {
            "text/plain": [
              "       NDVI           LST  BURNED_AREA    CLASS\n",
              "0  0.506782  14584.272727     4.692308  no_fire\n",
              "1  0.522150  14655.833333     5.000000  no_fire\n",
              "2  0.682284  14780.000000     5.000000     fire\n",
              "4  0.568734  14743.000000     5.000000  no_fire\n",
              "5  0.454228  14929.571429     4.904762     fire"
            ],
            "text/html": [
              "\n",
              "  <div id=\"df-2cdf11c8-ae8e-494d-a526-52e5b30b124c\">\n",
              "    <div class=\"colab-df-container\">\n",
              "      <div>\n",
              "<style scoped>\n",
              "    .dataframe tbody tr th:only-of-type {\n",
              "        vertical-align: middle;\n",
              "    }\n",
              "\n",
              "    .dataframe tbody tr th {\n",
              "        vertical-align: top;\n",
              "    }\n",
              "\n",
              "    .dataframe thead th {\n",
              "        text-align: right;\n",
              "    }\n",
              "</style>\n",
              "<table border=\"1\" class=\"dataframe\">\n",
              "  <thead>\n",
              "    <tr style=\"text-align: right;\">\n",
              "      <th></th>\n",
              "      <th>NDVI</th>\n",
              "      <th>LST</th>\n",
              "      <th>BURNED_AREA</th>\n",
              "      <th>CLASS</th>\n",
              "    </tr>\n",
              "  </thead>\n",
              "  <tbody>\n",
              "    <tr>\n",
              "      <th>0</th>\n",
              "      <td>0.506782</td>\n",
              "      <td>14584.272727</td>\n",
              "      <td>4.692308</td>\n",
              "      <td>no_fire</td>\n",
              "    </tr>\n",
              "    <tr>\n",
              "      <th>1</th>\n",
              "      <td>0.522150</td>\n",
              "      <td>14655.833333</td>\n",
              "      <td>5.000000</td>\n",
              "      <td>no_fire</td>\n",
              "    </tr>\n",
              "    <tr>\n",
              "      <th>2</th>\n",
              "      <td>0.682284</td>\n",
              "      <td>14780.000000</td>\n",
              "      <td>5.000000</td>\n",
              "      <td>fire</td>\n",
              "    </tr>\n",
              "    <tr>\n",
              "      <th>4</th>\n",
              "      <td>0.568734</td>\n",
              "      <td>14743.000000</td>\n",
              "      <td>5.000000</td>\n",
              "      <td>no_fire</td>\n",
              "    </tr>\n",
              "    <tr>\n",
              "      <th>5</th>\n",
              "      <td>0.454228</td>\n",
              "      <td>14929.571429</td>\n",
              "      <td>4.904762</td>\n",
              "      <td>fire</td>\n",
              "    </tr>\n",
              "  </tbody>\n",
              "</table>\n",
              "</div>\n",
              "      <button class=\"colab-df-convert\" onclick=\"convertToInteractive('df-2cdf11c8-ae8e-494d-a526-52e5b30b124c')\"\n",
              "              title=\"Convert this dataframe to an interactive table.\"\n",
              "              style=\"display:none;\">\n",
              "        \n",
              "  <svg xmlns=\"http://www.w3.org/2000/svg\" height=\"24px\"viewBox=\"0 0 24 24\"\n",
              "       width=\"24px\">\n",
              "    <path d=\"M0 0h24v24H0V0z\" fill=\"none\"/>\n",
              "    <path d=\"M18.56 5.44l.94 2.06.94-2.06 2.06-.94-2.06-.94-.94-2.06-.94 2.06-2.06.94zm-11 1L8.5 8.5l.94-2.06 2.06-.94-2.06-.94L8.5 2.5l-.94 2.06-2.06.94zm10 10l.94 2.06.94-2.06 2.06-.94-2.06-.94-.94-2.06-.94 2.06-2.06.94z\"/><path d=\"M17.41 7.96l-1.37-1.37c-.4-.4-.92-.59-1.43-.59-.52 0-1.04.2-1.43.59L10.3 9.45l-7.72 7.72c-.78.78-.78 2.05 0 2.83L4 21.41c.39.39.9.59 1.41.59.51 0 1.02-.2 1.41-.59l7.78-7.78 2.81-2.81c.8-.78.8-2.07 0-2.86zM5.41 20L4 18.59l7.72-7.72 1.47 1.35L5.41 20z\"/>\n",
              "  </svg>\n",
              "      </button>\n",
              "      \n",
              "  <style>\n",
              "    .colab-df-container {\n",
              "      display:flex;\n",
              "      flex-wrap:wrap;\n",
              "      gap: 12px;\n",
              "    }\n",
              "\n",
              "    .colab-df-convert {\n",
              "      background-color: #E8F0FE;\n",
              "      border: none;\n",
              "      border-radius: 50%;\n",
              "      cursor: pointer;\n",
              "      display: none;\n",
              "      fill: #1967D2;\n",
              "      height: 32px;\n",
              "      padding: 0 0 0 0;\n",
              "      width: 32px;\n",
              "    }\n",
              "\n",
              "    .colab-df-convert:hover {\n",
              "      background-color: #E2EBFA;\n",
              "      box-shadow: 0px 1px 2px rgba(60, 64, 67, 0.3), 0px 1px 3px 1px rgba(60, 64, 67, 0.15);\n",
              "      fill: #174EA6;\n",
              "    }\n",
              "\n",
              "    [theme=dark] .colab-df-convert {\n",
              "      background-color: #3B4455;\n",
              "      fill: #D2E3FC;\n",
              "    }\n",
              "\n",
              "    [theme=dark] .colab-df-convert:hover {\n",
              "      background-color: #434B5C;\n",
              "      box-shadow: 0px 1px 3px 1px rgba(0, 0, 0, 0.15);\n",
              "      filter: drop-shadow(0px 1px 2px rgba(0, 0, 0, 0.3));\n",
              "      fill: #FFFFFF;\n",
              "    }\n",
              "  </style>\n",
              "\n",
              "      <script>\n",
              "        const buttonEl =\n",
              "          document.querySelector('#df-2cdf11c8-ae8e-494d-a526-52e5b30b124c button.colab-df-convert');\n",
              "        buttonEl.style.display =\n",
              "          google.colab.kernel.accessAllowed ? 'block' : 'none';\n",
              "\n",
              "        async function convertToInteractive(key) {\n",
              "          const element = document.querySelector('#df-2cdf11c8-ae8e-494d-a526-52e5b30b124c');\n",
              "          const dataTable =\n",
              "            await google.colab.kernel.invokeFunction('convertToInteractive',\n",
              "                                                     [key], {});\n",
              "          if (!dataTable) return;\n",
              "\n",
              "          const docLinkHtml = 'Like what you see? Visit the ' +\n",
              "            '<a target=\"_blank\" href=https://colab.research.google.com/notebooks/data_table.ipynb>data table notebook</a>'\n",
              "            + ' to learn more about interactive tables.';\n",
              "          element.innerHTML = '';\n",
              "          dataTable['output_type'] = 'display_data';\n",
              "          await google.colab.output.renderOutput(dataTable, element);\n",
              "          const docLink = document.createElement('div');\n",
              "          docLink.innerHTML = docLinkHtml;\n",
              "          element.appendChild(docLink);\n",
              "        }\n",
              "      </script>\n",
              "    </div>\n",
              "  </div>\n",
              "  "
            ]
          },
          "metadata": {},
          "execution_count": 226
        }
      ],
      "source": [
        "new_data =  data[data.outlier == 1]\n",
        "\n",
        "#dropping outlier column\n",
        "new_data = new_data.drop('outlier', axis = 1)\n",
        "new_data.head()"
      ]
    },
    {
      "cell_type": "code",
      "source": [
        "# OUtliers check\n",
        "num_col = new_data.select_dtypes('float')\n",
        "\n",
        "plt.figure(figsize=(15,5))\n",
        "i = 1\n",
        "for col in num_col:\n",
        "    plt.subplot(1,3,i)\n",
        "    sns.boxplot(data = new_data[col])\n",
        "    i += 1\n",
        "plt.show()"
      ],
      "metadata": {
        "colab": {
          "base_uri": "https://localhost:8080/",
          "height": 320
        },
        "id": "WYwOyxgG3Pd-",
        "outputId": "4664555a-6e51-480e-869f-025d26a75704"
      },
      "execution_count": 227,
      "outputs": [
        {
          "output_type": "display_data",
          "data": {
            "text/plain": [
              "<Figure size 1080x360 with 3 Axes>"
            ],
            "image/png": "[encoded data removed]"
          },
          "metadata": {
            "needs_background": "light"
          }
        }
      ]
    },
    {
      "cell_type": "markdown",
      "source": [
        "* Outlier Removal changes a the Dataset a Little as there are not many outliers"
      ],
      "metadata": {
        "id": "6IuydLBf3c1i"
      }
    },
    {
      "cell_type": "markdown",
      "metadata": {
        "id": "jbgMMUKZMkLW"
      },
      "source": [
        "## Feature Engineering"
      ]
    },
    {
      "cell_type": "markdown",
      "metadata": {
        "id": "KbESfC0CnCyj"
      },
      "source": [
        "We will create features with combination of other features and see it Helps to improve our models performance"
      ]
    },
    {
      "cell_type": "code",
      "execution_count": 228,
      "metadata": {
        "id": "w7ziszJvMpLQ"
      },
      "outputs": [],
      "source": [
        "from sklearn.preprocessing import PolynomialFeatures"
      ]
    },
    {
      "cell_type": "code",
      "execution_count": 229,
      "metadata": {
        "id": "b2KcLNw3pq_k",
        "colab": {
          "base_uri": "https://localhost:8080/",
          "height": 206
        },
        "outputId": "8304d808-6efe-4ae1-b510-e73002a00f21"
      },
      "outputs": [
        {
          "output_type": "execute_result",
          "data": {
            "text/plain": [
              "       NDVI           LST  BURNED_AREA\n",
              "0  0.506782  14584.272727     4.692308\n",
              "1  0.522150  14655.833333     5.000000\n",
              "2  0.682284  14780.000000     5.000000\n",
              "4  0.568734  14743.000000     5.000000\n",
              "5  0.454228  14929.571429     4.904762"
            ],
            "text/html": [
              "\n",
              "  <div id=\"df-adf0a617-a1da-4970-8358-53222dfab1fa\">\n",
              "    <div class=\"colab-df-container\">\n",
              "      <div>\n",
              "<style scoped>\n",
              "    .dataframe tbody tr th:only-of-type {\n",
              "        vertical-align: middle;\n",
              "    }\n",
              "\n",
              "    .dataframe tbody tr th {\n",
              "        vertical-align: top;\n",
              "    }\n",
              "\n",
              "    .dataframe thead th {\n",
              "        text-align: right;\n",
              "    }\n",
              "</style>\n",
              "<table border=\"1\" class=\"dataframe\">\n",
              "  <thead>\n",
              "    <tr style=\"text-align: right;\">\n",
              "      <th></th>\n",
              "      <th>NDVI</th>\n",
              "      <th>LST</th>\n",
              "      <th>BURNED_AREA</th>\n",
              "    </tr>\n",
              "  </thead>\n",
              "  <tbody>\n",
              "    <tr>\n",
              "      <th>0</th>\n",
              "      <td>0.506782</td>\n",
              "      <td>14584.272727</td>\n",
              "      <td>4.692308</td>\n",
              "    </tr>\n",
              "    <tr>\n",
              "      <th>1</th>\n",
              "      <td>0.522150</td>\n",
              "      <td>14655.833333</td>\n",
              "      <td>5.000000</td>\n",
              "    </tr>\n",
              "    <tr>\n",
              "      <th>2</th>\n",
              "      <td>0.682284</td>\n",
              "      <td>14780.000000</td>\n",
              "      <td>5.000000</td>\n",
              "    </tr>\n",
              "    <tr>\n",
              "      <th>4</th>\n",
              "      <td>0.568734</td>\n",
              "      <td>14743.000000</td>\n",
              "      <td>5.000000</td>\n",
              "    </tr>\n",
              "    <tr>\n",
              "      <th>5</th>\n",
              "      <td>0.454228</td>\n",
              "      <td>14929.571429</td>\n",
              "      <td>4.904762</td>\n",
              "    </tr>\n",
              "  </tbody>\n",
              "</table>\n",
              "</div>\n",
              "      <button class=\"colab-df-convert\" onclick=\"convertToInteractive('df-adf0a617-a1da-4970-8358-53222dfab1fa')\"\n",
              "              title=\"Convert this dataframe to an interactive table.\"\n",
              "              style=\"display:none;\">\n",
              "        \n",
              "  <svg xmlns=\"http://www.w3.org/2000/svg\" height=\"24px\"viewBox=\"0 0 24 24\"\n",
              "       width=\"24px\">\n",
              "    <path d=\"M0 0h24v24H0V0z\" fill=\"none\"/>\n",
              "    <path d=\"M18.56 5.44l.94 2.06.94-2.06 2.06-.94-2.06-.94-.94-2.06-.94 2.06-2.06.94zm-11 1L8.5 8.5l.94-2.06 2.06-.94-2.06-.94L8.5 2.5l-.94 2.06-2.06.94zm10 10l.94 2.06.94-2.06 2.06-.94-2.06-.94-.94-2.06-.94 2.06-2.06.94z\"/><path d=\"M17.41 7.96l-1.37-1.37c-.4-.4-.92-.59-1.43-.59-.52 0-1.04.2-1.43.59L10.3 9.45l-7.72 7.72c-.78.78-.78 2.05 0 2.83L4 21.41c.39.39.9.59 1.41.59.51 0 1.02-.2 1.41-.59l7.78-7.78 2.81-2.81c.8-.78.8-2.07 0-2.86zM5.41 20L4 18.59l7.72-7.72 1.47 1.35L5.41 20z\"/>\n",
              "  </svg>\n",
              "      </button>\n",
              "      \n",
              "  <style>\n",
              "    .colab-df-container {\n",
              "      display:flex;\n",
              "      flex-wrap:wrap;\n",
              "      gap: 12px;\n",
              "    }\n",
              "\n",
              "    .colab-df-convert {\n",
              "      background-color: #E8F0FE;\n",
              "      border: none;\n",
              "      border-radius: 50%;\n",
              "      cursor: pointer;\n",
              "      display: none;\n",
              "      fill: #1967D2;\n",
              "      height: 32px;\n",
              "      padding: 0 0 0 0;\n",
              "      width: 32px;\n",
              "    }\n",
              "\n",
              "    .colab-df-convert:hover {\n",
              "      background-color: #E2EBFA;\n",
              "      box-shadow: 0px 1px 2px rgba(60, 64, 67, 0.3), 0px 1px 3px 1px rgba(60, 64, 67, 0.15);\n",
              "      fill: #174EA6;\n",
              "    }\n",
              "\n",
              "    [theme=dark] .colab-df-convert {\n",
              "      background-color: #3B4455;\n",
              "      fill: #D2E3FC;\n",
              "    }\n",
              "\n",
              "    [theme=dark] .colab-df-convert:hover {\n",
              "      background-color: #434B5C;\n",
              "      box-shadow: 0px 1px 3px 1px rgba(0, 0, 0, 0.15);\n",
              "      filter: drop-shadow(0px 1px 2px rgba(0, 0, 0, 0.3));\n",
              "      fill: #FFFFFF;\n",
              "    }\n",
              "  </style>\n",
              "\n",
              "      <script>\n",
              "        const buttonEl =\n",
              "          document.querySelector('#df-adf0a617-a1da-4970-8358-53222dfab1fa button.colab-df-convert');\n",
              "        buttonEl.style.display =\n",
              "          google.colab.kernel.accessAllowed ? 'block' : 'none';\n",
              "\n",
              "        async function convertToInteractive(key) {\n",
              "          const element = document.querySelector('#df-adf0a617-a1da-4970-8358-53222dfab1fa');\n",
              "          const dataTable =\n",
              "            await google.colab.kernel.invokeFunction('convertToInteractive',\n",
              "                                                     [key], {});\n",
              "          if (!dataTable) return;\n",
              "\n",
              "          const docLinkHtml = 'Like what you see? Visit the ' +\n",
              "            '<a target=\"_blank\" href=https://colab.research.google.com/notebooks/data_table.ipynb>data table notebook</a>'\n",
              "            + ' to learn more about interactive tables.';\n",
              "          element.innerHTML = '';\n",
              "          dataTable['output_type'] = 'display_data';\n",
              "          await google.colab.output.renderOutput(dataTable, element);\n",
              "          const docLink = document.createElement('div');\n",
              "          docLink.innerHTML = docLinkHtml;\n",
              "          element.appendChild(docLink);\n",
              "        }\n",
              "      </script>\n",
              "    </div>\n",
              "  </div>\n",
              "  "
            ]
          },
          "metadata": {},
          "execution_count": 229
        }
      ],
      "source": [
        "x = new_data.select_dtypes('number')\n",
        "x.head()"
      ]
    },
    {
      "cell_type": "code",
      "execution_count": 230,
      "metadata": {
        "id": "lNAoF_usMpIU"
      },
      "outputs": [],
      "source": [
        "polynomial_features = PolynomialFeatures(degree=3)\n",
        "data_poly = polynomial_features.fit_transform(x)"
      ]
    },
    {
      "cell_type": "code",
      "execution_count": 231,
      "metadata": {
        "id": "t13f692yMpFm",
        "colab": {
          "base_uri": "https://localhost:8080/"
        },
        "outputId": "b241c94d-af61-4f40-f79d-a2fe750980f0"
      },
      "outputs": [
        {
          "output_type": "execute_result",
          "data": {
            "text/plain": [
              "(1294, 20)"
            ]
          },
          "metadata": {},
          "execution_count": 231
        }
      ],
      "source": [
        "data_poly.shape"
      ]
    },
    {
      "cell_type": "code",
      "execution_count": 232,
      "metadata": {
        "id": "AOEPhVArNX2Y",
        "colab": {
          "base_uri": "https://localhost:8080/"
        },
        "outputId": "1221d2f6-eb7a-4c9d-cb7a-64c7a80f8380"
      },
      "outputs": [
        {
          "output_type": "execute_result",
          "data": {
            "text/plain": [
              "array([[1.00000000e+00, 5.06782000e-01, 1.45842727e+04, ...,\n",
              "        9.98058655e+08, 3.21112935e+05, 1.03314085e+02],\n",
              "       [1.00000000e+00, 5.22150000e-01, 1.46558333e+04, ...,\n",
              "        1.07396725e+09, 3.66395833e+05, 1.25000000e+02],\n",
              "       [1.00000000e+00, 6.82284000e-01, 1.47800000e+04, ...,\n",
              "        1.09224200e+09, 3.69500000e+05, 1.25000000e+02],\n",
              "       ...,\n",
              "       [1.00000000e+00, 6.21721000e-01, 1.44060000e+04, ...,\n",
              "        1.03766418e+09, 3.60150000e+05, 1.25000000e+02],\n",
              "       [1.00000000e+00, 7.09715000e-01, 1.43304000e+04, ...,\n",
              "        9.96378094e+08, 3.37344320e+05, 1.14214866e+02],\n",
              "       [1.00000000e+00, 5.49497000e-01, 1.42697778e+04, ...,\n",
              "        1.01813279e+09, 3.56744444e+05, 1.25000000e+02]])"
            ]
          },
          "metadata": {},
          "execution_count": 232
        }
      ],
      "source": [
        "data_poly"
      ]
    },
    {
      "cell_type": "markdown",
      "metadata": {
        "id": "ZT0LIa7Go-ZQ"
      },
      "source": [
        "#Preprocessing"
      ]
    },
    {
      "cell_type": "markdown",
      "metadata": {
        "id": "xafSQ54ao-Wp"
      },
      "source": [
        "* Scale/Normalize the data\n",
        "* Encode the Labels"
      ]
    },
    {
      "cell_type": "code",
      "execution_count": 233,
      "metadata": {
        "id": "Vdu9HRUwo-T4"
      },
      "outputs": [],
      "source": [
        "from sklearn.compose import make_column_transformer\n",
        "from sklearn.preprocessing import LabelEncoder, MinMaxScaler"
      ]
    },
    {
      "cell_type": "code",
      "execution_count": 234,
      "metadata": {
        "colab": {
          "base_uri": "https://localhost:8080/"
        },
        "id": "_JQp1SNr4fey",
        "outputId": "847c7edb-035f-42f1-e45f-23b139c1379e"
      },
      "outputs": [
        {
          "output_type": "execute_result",
          "data": {
            "text/plain": [
              "array([1, 1, 0, ..., 1, 1, 0])"
            ]
          },
          "metadata": {},
          "execution_count": 234
        }
      ],
      "source": [
        "le = LabelEncoder()\n",
        "enc_label = le.fit_transform(new_data.CLASS)\n",
        "enc_label"
      ]
    },
    {
      "cell_type": "markdown",
      "metadata": {
        "id": "vZVc17EQ44N4"
      },
      "source": [
        "Lables Encoded as :\n",
        "* No_fire = 1\n",
        "* Fire    = 0"
      ]
    },
    {
      "cell_type": "code",
      "execution_count": 235,
      "metadata": {
        "id": "I5t3rNhd4fb9"
      },
      "outputs": [],
      "source": [
        "new_data['CLASS'] = enc_label"
      ]
    },
    {
      "cell_type": "code",
      "execution_count": 236,
      "metadata": {
        "colab": {
          "base_uri": "https://localhost:8080/",
          "height": 206
        },
        "id": "LQkBQrog4fY5",
        "outputId": "85b8e339-016e-4c32-8418-441243e93124"
      },
      "outputs": [
        {
          "output_type": "execute_result",
          "data": {
            "text/plain": [
              "       NDVI           LST  BURNED_AREA  CLASS\n",
              "0  0.506782  14584.272727     4.692308      1\n",
              "1  0.522150  14655.833333     5.000000      1\n",
              "2  0.682284  14780.000000     5.000000      0\n",
              "4  0.568734  14743.000000     5.000000      1\n",
              "5  0.454228  14929.571429     4.904762      0"
            ],
            "text/html": [
              "\n",
              "  <div id=\"df-d84dec16-f56c-401f-a6d6-320352c90fdb\">\n",
              "    <div class=\"colab-df-container\">\n",
              "      <div>\n",
              "<style scoped>\n",
              "    .dataframe tbody tr th:only-of-type {\n",
              "        vertical-align: middle;\n",
              "    }\n",
              "\n",
              "    .dataframe tbody tr th {\n",
              "        vertical-align: top;\n",
              "    }\n",
              "\n",
              "    .dataframe thead th {\n",
              "        text-align: right;\n",
              "    }\n",
              "</style>\n",
              "<table border=\"1\" class=\"dataframe\">\n",
              "  <thead>\n",
              "    <tr style=\"text-align: right;\">\n",
              "      <th></th>\n",
              "      <th>NDVI</th>\n",
              "      <th>LST</th>\n",
              "      <th>BURNED_AREA</th>\n",
              "      <th>CLASS</th>\n",
              "    </tr>\n",
              "  </thead>\n",
              "  <tbody>\n",
              "    <tr>\n",
              "      <th>0</th>\n",
              "      <td>0.506782</td>\n",
              "      <td>14584.272727</td>\n",
              "      <td>4.692308</td>\n",
              "      <td>1</td>\n",
              "    </tr>\n",
              "    <tr>\n",
              "      <th>1</th>\n",
              "      <td>0.522150</td>\n",
              "      <td>14655.833333</td>\n",
              "      <td>5.000000</td>\n",
              "      <td>1</td>\n",
              "    </tr>\n",
              "    <tr>\n",
              "      <th>2</th>\n",
              "      <td>0.682284</td>\n",
              "      <td>14780.000000</td>\n",
              "      <td>5.000000</td>\n",
              "      <td>0</td>\n",
              "    </tr>\n",
              "    <tr>\n",
              "      <th>4</th>\n",
              "      <td>0.568734</td>\n",
              "      <td>14743.000000</td>\n",
              "      <td>5.000000</td>\n",
              "      <td>1</td>\n",
              "    </tr>\n",
              "    <tr>\n",
              "      <th>5</th>\n",
              "      <td>0.454228</td>\n",
              "      <td>14929.571429</td>\n",
              "      <td>4.904762</td>\n",
              "      <td>0</td>\n",
              "    </tr>\n",
              "  </tbody>\n",
              "</table>\n",
              "</div>\n",
              "      <button class=\"colab-df-convert\" onclick=\"convertToInteractive('df-d84dec16-f56c-401f-a6d6-320352c90fdb')\"\n",
              "              title=\"Convert this dataframe to an interactive table.\"\n",
              "              style=\"display:none;\">\n",
              "        \n",
              "  <svg xmlns=\"http://www.w3.org/2000/svg\" height=\"24px\"viewBox=\"0 0 24 24\"\n",
              "       width=\"24px\">\n",
              "    <path d=\"M0 0h24v24H0V0z\" fill=\"none\"/>\n",
              "    <path d=\"M18.56 5.44l.94 2.06.94-2.06 2.06-.94-2.06-.94-.94-2.06-.94 2.06-2.06.94zm-11 1L8.5 8.5l.94-2.06 2.06-.94-2.06-.94L8.5 2.5l-.94 2.06-2.06.94zm10 10l.94 2.06.94-2.06 2.06-.94-2.06-.94-.94-2.06-.94 2.06-2.06.94z\"/><path d=\"M17.41 7.96l-1.37-1.37c-.4-.4-.92-.59-1.43-.59-.52 0-1.04.2-1.43.59L10.3 9.45l-7.72 7.72c-.78.78-.78 2.05 0 2.83L4 21.41c.39.39.9.59 1.41.59.51 0 1.02-.2 1.41-.59l7.78-7.78 2.81-2.81c.8-.78.8-2.07 0-2.86zM5.41 20L4 18.59l7.72-7.72 1.47 1.35L5.41 20z\"/>\n",
              "  </svg>\n",
              "      </button>\n",
              "      \n",
              "  <style>\n",
              "    .colab-df-container {\n",
              "      display:flex;\n",
              "      flex-wrap:wrap;\n",
              "      gap: 12px;\n",
              "    }\n",
              "\n",
              "    .colab-df-convert {\n",
              "      background-color: #E8F0FE;\n",
              "      border: none;\n",
              "      border-radius: 50%;\n",
              "      cursor: pointer;\n",
              "      display: none;\n",
              "      fill: #1967D2;\n",
              "      height: 32px;\n",
              "      padding: 0 0 0 0;\n",
              "      width: 32px;\n",
              "    }\n",
              "\n",
              "    .colab-df-convert:hover {\n",
              "      background-color: #E2EBFA;\n",
              "      box-shadow: 0px 1px 2px rgba(60, 64, 67, 0.3), 0px 1px 3px 1px rgba(60, 64, 67, 0.15);\n",
              "      fill: #174EA6;\n",
              "    }\n",
              "\n",
              "    [theme=dark] .colab-df-convert {\n",
              "      background-color: #3B4455;\n",
              "      fill: #D2E3FC;\n",
              "    }\n",
              "\n",
              "    [theme=dark] .colab-df-convert:hover {\n",
              "      background-color: #434B5C;\n",
              "      box-shadow: 0px 1px 3px 1px rgba(0, 0, 0, 0.15);\n",
              "      filter: drop-shadow(0px 1px 2px rgba(0, 0, 0, 0.3));\n",
              "      fill: #FFFFFF;\n",
              "    }\n",
              "  </style>\n",
              "\n",
              "      <script>\n",
              "        const buttonEl =\n",
              "          document.querySelector('#df-d84dec16-f56c-401f-a6d6-320352c90fdb button.colab-df-convert');\n",
              "        buttonEl.style.display =\n",
              "          google.colab.kernel.accessAllowed ? 'block' : 'none';\n",
              "\n",
              "        async function convertToInteractive(key) {\n",
              "          const element = document.querySelector('#df-d84dec16-f56c-401f-a6d6-320352c90fdb');\n",
              "          const dataTable =\n",
              "            await google.colab.kernel.invokeFunction('convertToInteractive',\n",
              "                                                     [key], {});\n",
              "          if (!dataTable) return;\n",
              "\n",
              "          const docLinkHtml = 'Like what you see? Visit the ' +\n",
              "            '<a target=\"_blank\" href=https://colab.research.google.com/notebooks/data_table.ipynb>data table notebook</a>'\n",
              "            + ' to learn more about interactive tables.';\n",
              "          element.innerHTML = '';\n",
              "          dataTable['output_type'] = 'display_data';\n",
              "          await google.colab.output.renderOutput(dataTable, element);\n",
              "          const docLink = document.createElement('div');\n",
              "          docLink.innerHTML = docLinkHtml;\n",
              "          element.appendChild(docLink);\n",
              "        }\n",
              "      </script>\n",
              "    </div>\n",
              "  </div>\n",
              "  "
            ]
          },
          "metadata": {},
          "execution_count": 236
        }
      ],
      "source": [
        "new_data.head()"
      ]
    },
    {
      "cell_type": "markdown",
      "source": [
        "## Splititng the dATA"
      ],
      "metadata": {
        "id": "UCfoZOjL0Hlq"
      }
    },
    {
      "cell_type": "code",
      "source": [
        "# features and Labels\n",
        "X = new_data.drop('CLASS', axis = 1)\n",
        "y = new_data.CLASS # non Scaled"
      ],
      "metadata": {
        "id": "TZmojgj70J8O"
      },
      "execution_count": 237,
      "outputs": []
    },
    {
      "cell_type": "code",
      "execution_count": 238,
      "metadata": {
        "id": "bdUbvNhL5QnX"
      },
      "outputs": [],
      "source": [
        "# Spliting the DATA\n",
        "from sklearn.model_selection import train_test_split\n",
        "xtrain, xtest, ytrain, ytest = train_test_split(X, y, test_size = .2, random_state = 2, stratify = y)"
      ]
    },
    {
      "cell_type": "code",
      "source": [
        "# Scaling the data\n",
        "scaler = MinMaxScaler()\n",
        "xtrain_scaled = scaler.fit_transform(xtrain)\n",
        "xtest_scaled = scaler.transform(xtest)"
      ],
      "metadata": {
        "id": "cAeZz6ti0A6a"
      },
      "execution_count": 239,
      "outputs": []
    },
    {
      "cell_type": "code",
      "source": [
        "print('xtest', xtest_scaled.shape,\n",
        "      'ytest', ytest.shape,\n",
        "      'xtrain', xtrain_scaled.shape,\n",
        "      'ytrain',ytrain.shape)"
      ],
      "metadata": {
        "colab": {
          "base_uri": "https://localhost:8080/"
        },
        "id": "HAewBvpY0hck",
        "outputId": "15bfe252-3ecf-4d32-b576-e37b170d4ecd"
      },
      "execution_count": 240,
      "outputs": [
        {
          "output_type": "stream",
          "name": "stdout",
          "text": [
            "xtest (259, 3) ytest (259,) xtrain (1035, 3) ytrain (1035,)\n"
          ]
        }
      ]
    },
    {
      "cell_type": "code",
      "execution_count": 241,
      "metadata": {
        "id": "jqrkfpZB5TZo"
      },
      "outputs": [],
      "source": [
        "# spliting the Poly data\n",
        "xtrain_poly, xtest_poly, ytrain_poly, ytest_poly = train_test_split(data_poly, y, test_size = .2, random_state = 2, stratify = y)"
      ]
    },
    {
      "cell_type": "code",
      "source": [
        "# scaling poly data\n",
        "scaler = MinMaxScaler()\n",
        "xtrain_poly_scaled = scaler.fit_transform(xtrain_poly)\n",
        "xtest_poly_scaled = scaler.transform(xtest_poly)"
      ],
      "metadata": {
        "id": "b7gpVBYPy_Xv"
      },
      "execution_count": 242,
      "outputs": []
    },
    {
      "cell_type": "code",
      "execution_count": 243,
      "metadata": {
        "colab": {
          "base_uri": "https://localhost:8080/"
        },
        "id": "vNM1pAhP57oo",
        "outputId": "f2aac092-1fac-4556-cda8-d82c22180a45"
      },
      "outputs": [
        {
          "output_type": "stream",
          "name": "stdout",
          "text": [
            "xtest (259, 20) ytest (259,) xtrain (1035, 20) ytrain (1035,)\n"
          ]
        }
      ],
      "source": [
        "print('xtest', xtest_poly_scaled.shape,\n",
        "      'ytest', ytest_poly.shape,\n",
        "      'xtrain', xtrain_poly_scaled.shape,\n",
        "      'ytrain',ytrain_poly.shape)"
      ]
    },
    {
      "cell_type": "markdown",
      "metadata": {
        "id": "pLMkiTRSqfXc"
      },
      "source": [
        "## Helper functions"
      ]
    },
    {
      "cell_type": "code",
      "execution_count": 244,
      "metadata": {
        "id": "77RLjmGsqfTD"
      },
      "outputs": [],
      "source": [
        "# Function to evaluate: accuracy, precision, recall, f1-score\n",
        "from sklearn.metrics import accuracy_score, precision_recall_fscore_support\n",
        "\n",
        "def calculate_results(y_true, y_pred):\n",
        "    \"\"\"\n",
        "    Calculates model accuracy, precision, recall and f1 score of a binary classification model.\n",
        "\n",
        "    Args:\n",
        "    -----\n",
        "    y_true = true labels in the form of a 1D array\n",
        "    y_pred = predicted labels in the form of a 1D array\n",
        "\n",
        "    Returns a dictionary of accuracy, precision, recall, f1-score.\n",
        "    \"\"\"\n",
        "    # Calculate model accuracy\n",
        "    model_accuracy = accuracy_score(y_true, y_pred) * 100\n",
        "    # Calculate model precision, recall and f1 score using \"weighted\" average\n",
        "    model_precision, model_recall, model_f1, _ = precision_recall_fscore_support(y_true, y_pred, average='weighted')\n",
        "    model_results = {\"accuracy\": model_accuracy,\n",
        "                  \"precision\": model_precision,\n",
        "                  \"recall\": model_recall,\n",
        "                  \"f1\": model_f1}\n",
        "    return model_results\n"
      ]
    },
    {
      "cell_type": "code",
      "source": [
        "# function to plot roc curve\n",
        "# !pip install scikit-plot\n",
        "import scikitplot as skplt\n",
        "def plot_roc(y_true, y_probas, figsize = (15,10)):\n",
        "    skplt.metrics.plot_roc(y_true, y_probas,figsize = figsize)\n",
        "    plt.show()"
      ],
      "metadata": {
        "id": "hZN3Fgd7F0Gj"
      },
      "execution_count": 245,
      "outputs": []
    },
    {
      "cell_type": "markdown",
      "metadata": {
        "id": "-pK1fBdH0l0h"
      },
      "source": [
        "# Models"
      ]
    },
    {
      "cell_type": "code",
      "execution_count": 246,
      "metadata": {
        "id": "4W7G4_kh0ogk"
      },
      "outputs": [],
      "source": [
        "from sklearn.pipeline import Pipeline"
      ]
    },
    {
      "cell_type": "code",
      "execution_count": 247,
      "metadata": {
        "id": "0yVL4bFR0sHT"
      },
      "outputs": [],
      "source": [
        "from sklearn.linear_model import LogisticRegression\n",
        "from sklearn.svm import SVC\n",
        "from sklearn.neighbors import KNeighborsClassifier\n",
        "from sklearn.tree import DecisionTreeClassifier\n",
        "from sklearn.naive_bayes import BernoulliNB\n",
        "from sklearn.ensemble import VotingClassifier, RandomForestClassifier, ExtraTreesClassifier"
      ]
    },
    {
      "cell_type": "code",
      "execution_count": 248,
      "metadata": {
        "id": "vcJ2evSB1Lfj"
      },
      "outputs": [],
      "source": [
        "clfs = {'logistic regression': LogisticRegression(),\n",
        "        'SVM': SVC(probability=True),\n",
        "        'Knn': KNeighborsClassifier(n_neighbors=5),\n",
        "        'D Tree': DecisionTreeClassifier(),\n",
        "    'Random Forest': RandomForestClassifier(n_estimators = 20),\n",
        "        'Xtra Random Forest': ExtraTreesClassifier(n_estimators = 20),\n",
        "        'naive bayes': BernoulliNB()}"
      ]
    },
    {
      "cell_type": "markdown",
      "metadata": {
        "id": "Lw8hHHNIJoG_"
      },
      "source": [
        "* Now Let's test all models"
      ]
    },
    {
      "cell_type": "code",
      "execution_count": 249,
      "metadata": {
        "id": "Kqw_1_8kJvVV"
      },
      "outputs": [],
      "source": [
        "#function to train all model at once\n",
        "def models(xtrain, ytrain, xtest, ytest):\n",
        "    sscores = []\n",
        "    for name, model in clfs.items():\n",
        "        model.fit(xtrain, ytrain)\n",
        "        ypred = model.predict(xtest)\n",
        "        result = {'model' : name}\n",
        "        result.update(calculate_results(ytest, ypred))\n",
        "        sscores.append(result)\n",
        "    return sscores"
      ]
    },
    {
      "cell_type": "code",
      "execution_count": 250,
      "metadata": {
        "colab": {
          "base_uri": "https://localhost:8080/"
        },
        "id": "gmvsubnMxGf6",
        "outputId": "76383ee3-0bbc-4df6-98ee-f98fc863e8b6"
      },
      "outputs": [
        {
          "output_type": "stream",
          "name": "stderr",
          "text": [
            "/usr/local/lib/python3.7/dist-packages/sklearn/metrics/_classification.py:1318: UndefinedMetricWarning: Precision and F-score are ill-defined and being set to 0.0 in labels with no predicted samples. Use `zero_division` parameter to control this behavior.\n",
            "  _warn_prf(average, modifier, msg_start, len(result))\n"
          ]
        }
      ],
      "source": [
        "scores = models(xtrain_scaled, ytrain, xtest_scaled,ytest)"
      ]
    },
    {
      "cell_type": "markdown",
      "metadata": {
        "id": "FU5x12tbr7NH"
      },
      "source": [
        "## Voting Classifier"
      ]
    },
    {
      "cell_type": "code",
      "execution_count": 251,
      "metadata": {
        "id": "aUclVSBE4CrS"
      },
      "outputs": [],
      "source": [
        "def votingclf(xtrain, ytrain, xtest, ytest):\n",
        "    vt_clf = VotingClassifier(clfs.items(), voting = 'soft', n_jobs = -1)\n",
        "    vt_clf.fit(xtrain, ytrain )\n",
        "    ypred = vt_clf.predict(xtest)\n",
        "\n",
        "    # calculate  result\n",
        "    vc_result = calculate_results(ytest, ypred)\n",
        "    vc_result['model'] = 'voting_classifier'\n",
        "    return vc_result"
      ]
    },
    {
      "cell_type": "code",
      "execution_count": 252,
      "metadata": {
        "id": "WtArF_Xo6W5O"
      },
      "outputs": [],
      "source": [
        "vc_result = votingclf(xtrain_scaled, ytrain, xtest_scaled,ytest)\n",
        "\n",
        "# add score\n",
        "scores.append(vc_result)"
      ]
    },
    {
      "cell_type": "markdown",
      "metadata": {
        "id": "2UGvwBgmv7e2"
      },
      "source": [
        "## fitting on polynomial data"
      ]
    },
    {
      "cell_type": "code",
      "execution_count": 253,
      "metadata": {
        "id": "PmlD4L7p0IX7"
      },
      "outputs": [],
      "source": [
        "poly_model_result = models(xtrain_poly_scaled, ytrain_poly, xtest_poly_scaled, ytest_poly)\n",
        "poly_votingclf_result = votingclf(xtrain_poly_scaled, ytrain_poly, xtest_poly_scaled, ytest_poly)\n"
      ]
    },
    {
      "cell_type": "code",
      "execution_count": 254,
      "metadata": {
        "id": "kyPiJ-_F340r"
      },
      "outputs": [],
      "source": [
        "all_results = [poly_model_result, poly_votingclf_result]"
      ]
    },
    {
      "cell_type": "code",
      "execution_count": 255,
      "metadata": {
        "id": "RRmSPXKP0kAY"
      },
      "outputs": [],
      "source": [
        "#appending results\n",
        "poly_model_result.append(poly_votingclf_result)\n",
        "scores2 = poly_model_result\n",
        "\n"
      ]
    },
    {
      "cell_type": "markdown",
      "metadata": {
        "id": "XQESdqexS_jx"
      },
      "source": [
        "## Xgboost classifier"
      ]
    },
    {
      "cell_type": "code",
      "execution_count": 256,
      "metadata": {
        "colab": {
          "base_uri": "https://localhost:8080/"
        },
        "id": "6VPqA9JOk11a",
        "outputId": "3def985d-a355-42cf-959e-f50068553795"
      },
      "outputs": [
        {
          "output_type": "stream",
          "name": "stdout",
          "text": [
            "Looking in indexes: https://pypi.org/simple, https://us-python.pkg.dev/colab-wheels/public/simple/\n",
            "Requirement already satisfied: xgboost in /usr/local/lib/python3.7/dist-packages (0.90)\n",
            "Requirement already satisfied: numpy in /usr/local/lib/python3.7/dist-packages (from xgboost) (1.21.6)\n",
            "Requirement already satisfied: scipy in /usr/local/lib/python3.7/dist-packages (from xgboost) (1.7.3)\n"
          ]
        }
      ],
      "source": [
        "!pip install xgboost"
      ]
    },
    {
      "cell_type": "code",
      "execution_count": 257,
      "metadata": {
        "id": "TqHmgzcDk5Wh"
      },
      "outputs": [],
      "source": [
        "from xgboost import XGBClassifier"
      ]
    },
    {
      "cell_type": "code",
      "execution_count": 258,
      "metadata": {
        "id": "1L4s_KeZlEYl"
      },
      "outputs": [],
      "source": [
        "def xgb(xtrain,ytrain, xtest, ytest):\n",
        "    xgb = XGBClassifier()\n",
        "    xgb.fit(xtrain, ytrain)\n",
        "    ypred = xgb.predict(xtest)\n",
        "\n",
        "    # calculate  result\n",
        "    xgb_result = calculate_results(ytest, ypred)\n",
        "    xgb_result['model'] = 'xgb'\n",
        "\n",
        "    return xgb_result\n"
      ]
    },
    {
      "cell_type": "code",
      "execution_count": 259,
      "metadata": {
        "id": "CWrBg5MUnIU9"
      },
      "outputs": [],
      "source": [
        "xgb_result = xgb(xtrain_scaled, ytrain, xtest_scaled, ytest)\n",
        "# add score to dataframe\n",
        "scores.append(xgb_result)\n"
      ]
    },
    {
      "cell_type": "code",
      "execution_count": 260,
      "metadata": {
        "id": "ePJss8Usnb7o"
      },
      "outputs": [],
      "source": [
        "xgb_result2 = xgb(xtrain_poly_scaled,ytrain_poly, xtest_poly_scaled, ytest_poly)\n",
        "# add score to dataframe\n",
        "scores2.append(xgb_result2)"
      ]
    },
    {
      "cell_type": "code",
      "execution_count": 261,
      "metadata": {
        "colab": {
          "base_uri": "https://localhost:8080/",
          "height": 332
        },
        "id": "RVO4iwwqn_EB",
        "outputId": "ae5d4e09-5a2a-47bb-e538-b3f406f246dd"
      },
      "outputs": [
        {
          "output_type": "execute_result",
          "data": {
            "text/plain": [
              "                 model   accuracy  precision    recall        f1\n",
              "0  logistic regression  76.061776   0.693968  0.760618  0.704007\n",
              "1                  SVM  77.992278   0.755590  0.779923  0.693951\n",
              "2                  Knn  76.061776   0.737891  0.760618  0.746049\n",
              "3               D Tree  67.567568   0.702345  0.675676  0.687288\n",
              "4        Random Forest  76.833977   0.762743  0.768340  0.765344\n",
              "5   Xtra Random Forest  74.903475   0.735301  0.749035  0.741228\n",
              "6          naive bayes  76.833977   0.600919  0.768340  0.674394\n",
              "7    voting_classifier  75.675676   0.706445  0.756757  0.717628\n",
              "8                  xgb  77.606178   0.744442  0.776062  0.750517"
            ],
            "text/html": [
              "\n",
              "  <div id=\"df-baf56a00-9697-428c-a507-4462ec35f9d7\">\n",
              "    <div class=\"colab-df-container\">\n",
              "      <div>\n",
              "<style scoped>\n",
              "    .dataframe tbody tr th:only-of-type {\n",
              "        vertical-align: middle;\n",
              "    }\n",
              "\n",
              "    .dataframe tbody tr th {\n",
              "        vertical-align: top;\n",
              "    }\n",
              "\n",
              "    .dataframe thead th {\n",
              "        text-align: right;\n",
              "    }\n",
              "</style>\n",
              "<table border=\"1\" class=\"dataframe\">\n",
              "  <thead>\n",
              "    <tr style=\"text-align: right;\">\n",
              "      <th></th>\n",
              "      <th>model</th>\n",
              "      <th>accuracy</th>\n",
              "      <th>precision</th>\n",
              "      <th>recall</th>\n",
              "      <th>f1</th>\n",
              "    </tr>\n",
              "  </thead>\n",
              "  <tbody>\n",
              "    <tr>\n",
              "      <th>0</th>\n",
              "      <td>logistic regression</td>\n",
              "      <td>76.061776</td>\n",
              "      <td>0.693968</td>\n",
              "      <td>0.760618</td>\n",
              "      <td>0.704007</td>\n",
              "    </tr>\n",
              "    <tr>\n",
              "      <th>1</th>\n",
              "      <td>SVM</td>\n",
              "      <td>77.992278</td>\n",
              "      <td>0.755590</td>\n",
              "      <td>0.779923</td>\n",
              "      <td>0.693951</td>\n",
              "    </tr>\n",
              "    <tr>\n",
              "      <th>2</th>\n",
              "      <td>Knn</td>\n",
              "      <td>76.061776</td>\n",
              "      <td>0.737891</td>\n",
              "      <td>0.760618</td>\n",
              "      <td>0.746049</td>\n",
              "    </tr>\n",
              "    <tr>\n",
              "      <th>3</th>\n",
              "      <td>D Tree</td>\n",
              "      <td>67.567568</td>\n",
              "      <td>0.702345</td>\n",
              "      <td>0.675676</td>\n",
              "      <td>0.687288</td>\n",
              "    </tr>\n",
              "    <tr>\n",
              "      <th>4</th>\n",
              "      <td>Random Forest</td>\n",
              "      <td>76.833977</td>\n",
              "      <td>0.762743</td>\n",
              "      <td>0.768340</td>\n",
              "      <td>0.765344</td>\n",
              "    </tr>\n",
              "    <tr>\n",
              "      <th>5</th>\n",
              "      <td>Xtra Random Forest</td>\n",
              "      <td>74.903475</td>\n",
              "      <td>0.735301</td>\n",
              "      <td>0.749035</td>\n",
              "      <td>0.741228</td>\n",
              "    </tr>\n",
              "    <tr>\n",
              "      <th>6</th>\n",
              "      <td>naive bayes</td>\n",
              "      <td>76.833977</td>\n",
              "      <td>0.600919</td>\n",
              "      <td>0.768340</td>\n",
              "      <td>0.674394</td>\n",
              "    </tr>\n",
              "    <tr>\n",
              "      <th>7</th>\n",
              "      <td>voting_classifier</td>\n",
              "      <td>75.675676</td>\n",
              "      <td>0.706445</td>\n",
              "      <td>0.756757</td>\n",
              "      <td>0.717628</td>\n",
              "    </tr>\n",
              "    <tr>\n",
              "      <th>8</th>\n",
              "      <td>xgb</td>\n",
              "      <td>77.606178</td>\n",
              "      <td>0.744442</td>\n",
              "      <td>0.776062</td>\n",
              "      <td>0.750517</td>\n",
              "    </tr>\n",
              "  </tbody>\n",
              "</table>\n",
              "</div>\n",
              "      <button class=\"colab-df-convert\" onclick=\"convertToInteractive('df-baf56a00-9697-428c-a507-4462ec35f9d7')\"\n",
              "              title=\"Convert this dataframe to an interactive table.\"\n",
              "              style=\"display:none;\">\n",
              "        \n",
              "  <svg xmlns=\"http://www.w3.org/2000/svg\" height=\"24px\"viewBox=\"0 0 24 24\"\n",
              "       width=\"24px\">\n",
              "    <path d=\"M0 0h24v24H0V0z\" fill=\"none\"/>\n",
              "    <path d=\"M18.56 5.44l.94 2.06.94-2.06 2.06-.94-2.06-.94-.94-2.06-.94 2.06-2.06.94zm-11 1L8.5 8.5l.94-2.06 2.06-.94-2.06-.94L8.5 2.5l-.94 2.06-2.06.94zm10 10l.94 2.06.94-2.06 2.06-.94-2.06-.94-.94-2.06-.94 2.06-2.06.94z\"/><path d=\"M17.41 7.96l-1.37-1.37c-.4-.4-.92-.59-1.43-.59-.52 0-1.04.2-1.43.59L10.3 9.45l-7.72 7.72c-.78.78-.78 2.05 0 2.83L4 21.41c.39.39.9.59 1.41.59.51 0 1.02-.2 1.41-.59l7.78-7.78 2.81-2.81c.8-.78.8-2.07 0-2.86zM5.41 20L4 18.59l7.72-7.72 1.47 1.35L5.41 20z\"/>\n",
              "  </svg>\n",
              "      </button>\n",
              "      \n",
              "  <style>\n",
              "    .colab-df-container {\n",
              "      display:flex;\n",
              "      flex-wrap:wrap;\n",
              "      gap: 12px;\n",
              "    }\n",
              "\n",
              "    .colab-df-convert {\n",
              "      background-color: #E8F0FE;\n",
              "      border: none;\n",
              "      border-radius: 50%;\n",
              "      cursor: pointer;\n",
              "      display: none;\n",
              "      fill: #1967D2;\n",
              "      height: 32px;\n",
              "      padding: 0 0 0 0;\n",
              "      width: 32px;\n",
              "    }\n",
              "\n",
              "    .colab-df-convert:hover {\n",
              "      background-color: #E2EBFA;\n",
              "      box-shadow: 0px 1px 2px rgba(60, 64, 67, 0.3), 0px 1px 3px 1px rgba(60, 64, 67, 0.15);\n",
              "      fill: #174EA6;\n",
              "    }\n",
              "\n",
              "    [theme=dark] .colab-df-convert {\n",
              "      background-color: #3B4455;\n",
              "      fill: #D2E3FC;\n",
              "    }\n",
              "\n",
              "    [theme=dark] .colab-df-convert:hover {\n",
              "      background-color: #434B5C;\n",
              "      box-shadow: 0px 1px 3px 1px rgba(0, 0, 0, 0.15);\n",
              "      filter: drop-shadow(0px 1px 2px rgba(0, 0, 0, 0.3));\n",
              "      fill: #FFFFFF;\n",
              "    }\n",
              "  </style>\n",
              "\n",
              "      <script>\n",
              "        const buttonEl =\n",
              "          document.querySelector('#df-baf56a00-9697-428c-a507-4462ec35f9d7 button.colab-df-convert');\n",
              "        buttonEl.style.display =\n",
              "          google.colab.kernel.accessAllowed ? 'block' : 'none';\n",
              "\n",
              "        async function convertToInteractive(key) {\n",
              "          const element = document.querySelector('#df-baf56a00-9697-428c-a507-4462ec35f9d7');\n",
              "          const dataTable =\n",
              "            await google.colab.kernel.invokeFunction('convertToInteractive',\n",
              "                                                     [key], {});\n",
              "          if (!dataTable) return;\n",
              "\n",
              "          const docLinkHtml = 'Like what you see? Visit the ' +\n",
              "            '<a target=\"_blank\" href=https://colab.research.google.com/notebooks/data_table.ipynb>data table notebook</a>'\n",
              "            + ' to learn more about interactive tables.';\n",
              "          element.innerHTML = '';\n",
              "          dataTable['output_type'] = 'display_data';\n",
              "          await google.colab.output.renderOutput(dataTable, element);\n",
              "          const docLink = document.createElement('div');\n",
              "          docLink.innerHTML = docLinkHtml;\n",
              "          element.appendChild(docLink);\n",
              "        }\n",
              "      </script>\n",
              "    </div>\n",
              "  </div>\n",
              "  "
            ]
          },
          "metadata": {},
          "execution_count": 261
        }
      ],
      "source": [
        "scoresheet2 = pd.DataFrame(scores2)\n",
        "scoresheet2"
      ]
    },
    {
      "cell_type": "code",
      "execution_count": 262,
      "metadata": {
        "colab": {
          "base_uri": "https://localhost:8080/",
          "height": 332
        },
        "id": "1RZ3kMZDn_BI",
        "outputId": "9bcd17f9-8f9e-41f1-f5b2-a3c4bd38d011"
      },
      "outputs": [
        {
          "output_type": "execute_result",
          "data": {
            "text/plain": [
              "                 model   accuracy  precision    recall        f1\n",
              "0  logistic regression  77.220077   0.702657  0.772201  0.695657\n",
              "1                  SVM  78.764479   0.790223  0.787645  0.710689\n",
              "2                  Knn  74.517375   0.723289  0.745174  0.731974\n",
              "3               D Tree  72.586873   0.720809  0.725869  0.723245\n",
              "4        Random Forest  75.289575   0.737948  0.752896  0.744239\n",
              "5   Xtra Random Forest  73.745174   0.717950  0.737452  0.726110\n",
              "6          naive bayes  77.606178   0.602272  0.776062  0.678211\n",
              "7    voting_classifier  77.992278   0.736466  0.779923  0.725738\n",
              "8                  xgb  78.764479   0.762510  0.787645  0.767132"
            ],
            "text/html": [
              "\n",
              "  <div id=\"df-404c4bf8-ed9d-4d91-bb25-72fea37f21c4\">\n",
              "    <div class=\"colab-df-container\">\n",
              "      <div>\n",
              "<style scoped>\n",
              "    .dataframe tbody tr th:only-of-type {\n",
              "        vertical-align: middle;\n",
              "    }\n",
              "\n",
              "    .dataframe tbody tr th {\n",
              "        vertical-align: top;\n",
              "    }\n",
              "\n",
              "    .dataframe thead th {\n",
              "        text-align: right;\n",
              "    }\n",
              "</style>\n",
              "<table border=\"1\" class=\"dataframe\">\n",
              "  <thead>\n",
              "    <tr style=\"text-align: right;\">\n",
              "      <th></th>\n",
              "      <th>model</th>\n",
              "      <th>accuracy</th>\n",
              "      <th>precision</th>\n",
              "      <th>recall</th>\n",
              "      <th>f1</th>\n",
              "    </tr>\n",
              "  </thead>\n",
              "  <tbody>\n",
              "    <tr>\n",
              "      <th>0</th>\n",
              "      <td>logistic regression</td>\n",
              "      <td>77.220077</td>\n",
              "      <td>0.702657</td>\n",
              "      <td>0.772201</td>\n",
              "      <td>0.695657</td>\n",
              "    </tr>\n",
              "    <tr>\n",
              "      <th>1</th>\n",
              "      <td>SVM</td>\n",
              "      <td>78.764479</td>\n",
              "      <td>0.790223</td>\n",
              "      <td>0.787645</td>\n",
              "      <td>0.710689</td>\n",
              "    </tr>\n",
              "    <tr>\n",
              "      <th>2</th>\n",
              "      <td>Knn</td>\n",
              "      <td>74.517375</td>\n",
              "      <td>0.723289</td>\n",
              "      <td>0.745174</td>\n",
              "      <td>0.731974</td>\n",
              "    </tr>\n",
              "    <tr>\n",
              "      <th>3</th>\n",
              "      <td>D Tree</td>\n",
              "      <td>72.586873</td>\n",
              "      <td>0.720809</td>\n",
              "      <td>0.725869</td>\n",
              "      <td>0.723245</td>\n",
              "    </tr>\n",
              "    <tr>\n",
              "      <th>4</th>\n",
              "      <td>Random Forest</td>\n",
              "      <td>75.289575</td>\n",
              "      <td>0.737948</td>\n",
              "      <td>0.752896</td>\n",
              "      <td>0.744239</td>\n",
              "    </tr>\n",
              "    <tr>\n",
              "      <th>5</th>\n",
              "      <td>Xtra Random Forest</td>\n",
              "      <td>73.745174</td>\n",
              "      <td>0.717950</td>\n",
              "      <td>0.737452</td>\n",
              "      <td>0.726110</td>\n",
              "    </tr>\n",
              "    <tr>\n",
              "      <th>6</th>\n",
              "      <td>naive bayes</td>\n",
              "      <td>77.606178</td>\n",
              "      <td>0.602272</td>\n",
              "      <td>0.776062</td>\n",
              "      <td>0.678211</td>\n",
              "    </tr>\n",
              "    <tr>\n",
              "      <th>7</th>\n",
              "      <td>voting_classifier</td>\n",
              "      <td>77.992278</td>\n",
              "      <td>0.736466</td>\n",
              "      <td>0.779923</td>\n",
              "      <td>0.725738</td>\n",
              "    </tr>\n",
              "    <tr>\n",
              "      <th>8</th>\n",
              "      <td>xgb</td>\n",
              "      <td>78.764479</td>\n",
              "      <td>0.762510</td>\n",
              "      <td>0.787645</td>\n",
              "      <td>0.767132</td>\n",
              "    </tr>\n",
              "  </tbody>\n",
              "</table>\n",
              "</div>\n",
              "      <button class=\"colab-df-convert\" onclick=\"convertToInteractive('df-404c4bf8-ed9d-4d91-bb25-72fea37f21c4')\"\n",
              "              title=\"Convert this dataframe to an interactive table.\"\n",
              "              style=\"display:none;\">\n",
              "        \n",
              "  <svg xmlns=\"http://www.w3.org/2000/svg\" height=\"24px\"viewBox=\"0 0 24 24\"\n",
              "       width=\"24px\">\n",
              "    <path d=\"M0 0h24v24H0V0z\" fill=\"none\"/>\n",
              "    <path d=\"M18.56 5.44l.94 2.06.94-2.06 2.06-.94-2.06-.94-.94-2.06-.94 2.06-2.06.94zm-11 1L8.5 8.5l.94-2.06 2.06-.94-2.06-.94L8.5 2.5l-.94 2.06-2.06.94zm10 10l.94 2.06.94-2.06 2.06-.94-2.06-.94-.94-2.06-.94 2.06-2.06.94z\"/><path d=\"M17.41 7.96l-1.37-1.37c-.4-.4-.92-.59-1.43-.59-.52 0-1.04.2-1.43.59L10.3 9.45l-7.72 7.72c-.78.78-.78 2.05 0 2.83L4 21.41c.39.39.9.59 1.41.59.51 0 1.02-.2 1.41-.59l7.78-7.78 2.81-2.81c.8-.78.8-2.07 0-2.86zM5.41 20L4 18.59l7.72-7.72 1.47 1.35L5.41 20z\"/>\n",
              "  </svg>\n",
              "      </button>\n",
              "      \n",
              "  <style>\n",
              "    .colab-df-container {\n",
              "      display:flex;\n",
              "      flex-wrap:wrap;\n",
              "      gap: 12px;\n",
              "    }\n",
              "\n",
              "    .colab-df-convert {\n",
              "      background-color: #E8F0FE;\n",
              "      border: none;\n",
              "      border-radius: 50%;\n",
              "      cursor: pointer;\n",
              "      display: none;\n",
              "      fill: #1967D2;\n",
              "      height: 32px;\n",
              "      padding: 0 0 0 0;\n",
              "      width: 32px;\n",
              "    }\n",
              "\n",
              "    .colab-df-convert:hover {\n",
              "      background-color: #E2EBFA;\n",
              "      box-shadow: 0px 1px 2px rgba(60, 64, 67, 0.3), 0px 1px 3px 1px rgba(60, 64, 67, 0.15);\n",
              "      fill: #174EA6;\n",
              "    }\n",
              "\n",
              "    [theme=dark] .colab-df-convert {\n",
              "      background-color: #3B4455;\n",
              "      fill: #D2E3FC;\n",
              "    }\n",
              "\n",
              "    [theme=dark] .colab-df-convert:hover {\n",
              "      background-color: #434B5C;\n",
              "      box-shadow: 0px 1px 3px 1px rgba(0, 0, 0, 0.15);\n",
              "      filter: drop-shadow(0px 1px 2px rgba(0, 0, 0, 0.3));\n",
              "      fill: #FFFFFF;\n",
              "    }\n",
              "  </style>\n",
              "\n",
              "      <script>\n",
              "        const buttonEl =\n",
              "          document.querySelector('#df-404c4bf8-ed9d-4d91-bb25-72fea37f21c4 button.colab-df-convert');\n",
              "        buttonEl.style.display =\n",
              "          google.colab.kernel.accessAllowed ? 'block' : 'none';\n",
              "\n",
              "        async function convertToInteractive(key) {\n",
              "          const element = document.querySelector('#df-404c4bf8-ed9d-4d91-bb25-72fea37f21c4');\n",
              "          const dataTable =\n",
              "            await google.colab.kernel.invokeFunction('convertToInteractive',\n",
              "                                                     [key], {});\n",
              "          if (!dataTable) return;\n",
              "\n",
              "          const docLinkHtml = 'Like what you see? Visit the ' +\n",
              "            '<a target=\"_blank\" href=https://colab.research.google.com/notebooks/data_table.ipynb>data table notebook</a>'\n",
              "            + ' to learn more about interactive tables.';\n",
              "          element.innerHTML = '';\n",
              "          dataTable['output_type'] = 'display_data';\n",
              "          await google.colab.output.renderOutput(dataTable, element);\n",
              "          const docLink = document.createElement('div');\n",
              "          docLink.innerHTML = docLinkHtml;\n",
              "          element.appendChild(docLink);\n",
              "        }\n",
              "      </script>\n",
              "    </div>\n",
              "  </div>\n",
              "  "
            ]
          },
          "metadata": {},
          "execution_count": 262
        }
      ],
      "source": [
        "scoresheet = pd.DataFrame(scores)\n",
        "scoresheet"
      ]
    },
    {
      "cell_type": "code",
      "execution_count": 263,
      "metadata": {
        "colab": {
          "base_uri": "https://localhost:8080/",
          "height": 332
        },
        "id": "apnjfU1ioV55",
        "outputId": "4feb7560-1eff-4ae9-8d17-bfc0c8059e7f"
      },
      "outputs": [
        {
          "output_type": "execute_result",
          "data": {
            "text/plain": [
              "   model  accuracy  precision  recall     f1\n",
              "0  False     False      False   False   True\n",
              "1  False     False      False   False  False\n",
              "2  False      True       True    True   True\n",
              "3  False     False      False   False  False\n",
              "4  False      True       True    True   True\n",
              "5  False      True       True    True   True\n",
              "6  False     False      False   False  False\n",
              "7  False     False      False   False  False\n",
              "8  False     False      False   False  False"
            ],
            "text/html": [
              "\n",
              "  <div id=\"df-087780c9-1207-4a9a-b56f-1099b42152b7\">\n",
              "    <div class=\"colab-df-container\">\n",
              "      <div>\n",
              "<style scoped>\n",
              "    .dataframe tbody tr th:only-of-type {\n",
              "        vertical-align: middle;\n",
              "    }\n",
              "\n",
              "    .dataframe tbody tr th {\n",
              "        vertical-align: top;\n",
              "    }\n",
              "\n",
              "    .dataframe thead th {\n",
              "        text-align: right;\n",
              "    }\n",
              "</style>\n",
              "<table border=\"1\" class=\"dataframe\">\n",
              "  <thead>\n",
              "    <tr style=\"text-align: right;\">\n",
              "      <th></th>\n",
              "      <th>model</th>\n",
              "      <th>accuracy</th>\n",
              "      <th>precision</th>\n",
              "      <th>recall</th>\n",
              "      <th>f1</th>\n",
              "    </tr>\n",
              "  </thead>\n",
              "  <tbody>\n",
              "    <tr>\n",
              "      <th>0</th>\n",
              "      <td>False</td>\n",
              "      <td>False</td>\n",
              "      <td>False</td>\n",
              "      <td>False</td>\n",
              "      <td>True</td>\n",
              "    </tr>\n",
              "    <tr>\n",
              "      <th>1</th>\n",
              "      <td>False</td>\n",
              "      <td>False</td>\n",
              "      <td>False</td>\n",
              "      <td>False</td>\n",
              "      <td>False</td>\n",
              "    </tr>\n",
              "    <tr>\n",
              "      <th>2</th>\n",
              "      <td>False</td>\n",
              "      <td>True</td>\n",
              "      <td>True</td>\n",
              "      <td>True</td>\n",
              "      <td>True</td>\n",
              "    </tr>\n",
              "    <tr>\n",
              "      <th>3</th>\n",
              "      <td>False</td>\n",
              "      <td>False</td>\n",
              "      <td>False</td>\n",
              "      <td>False</td>\n",
              "      <td>False</td>\n",
              "    </tr>\n",
              "    <tr>\n",
              "      <th>4</th>\n",
              "      <td>False</td>\n",
              "      <td>True</td>\n",
              "      <td>True</td>\n",
              "      <td>True</td>\n",
              "      <td>True</td>\n",
              "    </tr>\n",
              "    <tr>\n",
              "      <th>5</th>\n",
              "      <td>False</td>\n",
              "      <td>True</td>\n",
              "      <td>True</td>\n",
              "      <td>True</td>\n",
              "      <td>True</td>\n",
              "    </tr>\n",
              "    <tr>\n",
              "      <th>6</th>\n",
              "      <td>False</td>\n",
              "      <td>False</td>\n",
              "      <td>False</td>\n",
              "      <td>False</td>\n",
              "      <td>False</td>\n",
              "    </tr>\n",
              "    <tr>\n",
              "      <th>7</th>\n",
              "      <td>False</td>\n",
              "      <td>False</td>\n",
              "      <td>False</td>\n",
              "      <td>False</td>\n",
              "      <td>False</td>\n",
              "    </tr>\n",
              "    <tr>\n",
              "      <th>8</th>\n",
              "      <td>False</td>\n",
              "      <td>False</td>\n",
              "      <td>False</td>\n",
              "      <td>False</td>\n",
              "      <td>False</td>\n",
              "    </tr>\n",
              "  </tbody>\n",
              "</table>\n",
              "</div>\n",
              "      <button class=\"colab-df-convert\" onclick=\"convertToInteractive('df-087780c9-1207-4a9a-b56f-1099b42152b7')\"\n",
              "              title=\"Convert this dataframe to an interactive table.\"\n",
              "              style=\"display:none;\">\n",
              "        \n",
              "  <svg xmlns=\"http://www.w3.org/2000/svg\" height=\"24px\"viewBox=\"0 0 24 24\"\n",
              "       width=\"24px\">\n",
              "    <path d=\"M0 0h24v24H0V0z\" fill=\"none\"/>\n",
              "    <path d=\"M18.56 5.44l.94 2.06.94-2.06 2.06-.94-2.06-.94-.94-2.06-.94 2.06-2.06.94zm-11 1L8.5 8.5l.94-2.06 2.06-.94-2.06-.94L8.5 2.5l-.94 2.06-2.06.94zm10 10l.94 2.06.94-2.06 2.06-.94-2.06-.94-.94-2.06-.94 2.06-2.06.94z\"/><path d=\"M17.41 7.96l-1.37-1.37c-.4-.4-.92-.59-1.43-.59-.52 0-1.04.2-1.43.59L10.3 9.45l-7.72 7.72c-.78.78-.78 2.05 0 2.83L4 21.41c.39.39.9.59 1.41.59.51 0 1.02-.2 1.41-.59l7.78-7.78 2.81-2.81c.8-.78.8-2.07 0-2.86zM5.41 20L4 18.59l7.72-7.72 1.47 1.35L5.41 20z\"/>\n",
              "  </svg>\n",
              "      </button>\n",
              "      \n",
              "  <style>\n",
              "    .colab-df-container {\n",
              "      display:flex;\n",
              "      flex-wrap:wrap;\n",
              "      gap: 12px;\n",
              "    }\n",
              "\n",
              "    .colab-df-convert {\n",
              "      background-color: #E8F0FE;\n",
              "      border: none;\n",
              "      border-radius: 50%;\n",
              "      cursor: pointer;\n",
              "      display: none;\n",
              "      fill: #1967D2;\n",
              "      height: 32px;\n",
              "      padding: 0 0 0 0;\n",
              "      width: 32px;\n",
              "    }\n",
              "\n",
              "    .colab-df-convert:hover {\n",
              "      background-color: #E2EBFA;\n",
              "      box-shadow: 0px 1px 2px rgba(60, 64, 67, 0.3), 0px 1px 3px 1px rgba(60, 64, 67, 0.15);\n",
              "      fill: #174EA6;\n",
              "    }\n",
              "\n",
              "    [theme=dark] .colab-df-convert {\n",
              "      background-color: #3B4455;\n",
              "      fill: #D2E3FC;\n",
              "    }\n",
              "\n",
              "    [theme=dark] .colab-df-convert:hover {\n",
              "      background-color: #434B5C;\n",
              "      box-shadow: 0px 1px 3px 1px rgba(0, 0, 0, 0.15);\n",
              "      filter: drop-shadow(0px 1px 2px rgba(0, 0, 0, 0.3));\n",
              "      fill: #FFFFFF;\n",
              "    }\n",
              "  </style>\n",
              "\n",
              "      <script>\n",
              "        const buttonEl =\n",
              "          document.querySelector('#df-087780c9-1207-4a9a-b56f-1099b42152b7 button.colab-df-convert');\n",
              "        buttonEl.style.display =\n",
              "          google.colab.kernel.accessAllowed ? 'block' : 'none';\n",
              "\n",
              "        async function convertToInteractive(key) {\n",
              "          const element = document.querySelector('#df-087780c9-1207-4a9a-b56f-1099b42152b7');\n",
              "          const dataTable =\n",
              "            await google.colab.kernel.invokeFunction('convertToInteractive',\n",
              "                                                     [key], {});\n",
              "          if (!dataTable) return;\n",
              "\n",
              "          const docLinkHtml = 'Like what you see? Visit the ' +\n",
              "            '<a target=\"_blank\" href=https://colab.research.google.com/notebooks/data_table.ipynb>data table notebook</a>'\n",
              "            + ' to learn more about interactive tables.';\n",
              "          element.innerHTML = '';\n",
              "          dataTable['output_type'] = 'display_data';\n",
              "          await google.colab.output.renderOutput(dataTable, element);\n",
              "          const docLink = document.createElement('div');\n",
              "          docLink.innerHTML = docLinkHtml;\n",
              "          element.appendChild(docLink);\n",
              "        }\n",
              "      </script>\n",
              "    </div>\n",
              "  </div>\n",
              "  "
            ]
          },
          "metadata": {},
          "execution_count": 263
        }
      ],
      "source": [
        "scoresheet2 > scoresheet"
      ]
    },
    {
      "cell_type": "markdown",
      "metadata": {
        "id": "bDoa2O3JqYgA"
      },
      "source": [
        "# Fixing Class Immbalance"
      ]
    },
    {
      "cell_type": "markdown",
      "source": [
        "we will use oversampling technique to Overcome class imbalance using `imblearn`'s smote"
      ],
      "metadata": {
        "id": "xOBZg10WIgFP"
      }
    },
    {
      "cell_type": "code",
      "execution_count": 264,
      "metadata": {
        "id": "89idsHV7qtBX"
      },
      "outputs": [],
      "source": [
        "X = new_data.drop('CLASS', axis = 1)\n",
        "y = new_data.CLASS"
      ]
    },
    {
      "cell_type": "code",
      "source": [
        "print('CLass Count',Counter(y))"
      ],
      "metadata": {
        "colab": {
          "base_uri": "https://localhost:8080/"
        },
        "id": "ejd1jJQVIC2A",
        "outputId": "5e0e8358-1112-4ce9-cd5b-7582f46dc544"
      },
      "execution_count": 265,
      "outputs": [
        {
          "output_type": "stream",
          "name": "stdout",
          "text": [
            "CLass Count Counter({1: 1002, 0: 292})\n"
          ]
        }
      ]
    },
    {
      "cell_type": "code",
      "source": [
        "from imblearn.over_sampling import SMOTE\n",
        "\n",
        "smote = SMOTE()\n",
        "X_balanced, y_balanced = smote.fit_resample(X,y)"
      ],
      "metadata": {
        "id": "xlXRborZGQ1F"
      },
      "execution_count": 266,
      "outputs": []
    },
    {
      "cell_type": "code",
      "source": [
        "print('CLass Count after SMOTING(PUN)',Counter(y_balanced))"
      ],
      "metadata": {
        "colab": {
          "base_uri": "https://localhost:8080/"
        },
        "id": "vzkfJMRtG4NQ",
        "outputId": "0a66b448-6707-4a8b-d3b9-e9bc4afbd273"
      },
      "execution_count": 267,
      "outputs": [
        {
          "output_type": "stream",
          "name": "stdout",
          "text": [
            "CLass Count after SMOTING(PUN) Counter({1: 1002, 0: 1002})\n"
          ]
        }
      ]
    },
    {
      "cell_type": "code",
      "source": [
        "#splitiing data\n",
        "xtrain_bala, xtest_bala, ytrain_bala, ytest_bala = train_test_split(X_balanced, y_balanced, test_size=.2, random_state= 2, stratify = y_balanced)\n",
        "print('xtrain_balanced',xtrain_bala.shape,ytrain_bala.shape, \n",
        "      'xtest_balanced',xtest_bala.shape,  ytest_bala.shape)"
      ],
      "metadata": {
        "colab": {
          "base_uri": "https://localhost:8080/"
        },
        "id": "VlqYPU9hMTJQ",
        "outputId": "eacef2cd-24af-409f-822e-24cb8e38b3d1"
      },
      "execution_count": 268,
      "outputs": [
        {
          "output_type": "stream",
          "name": "stdout",
          "text": [
            "xtrain_balanced (1603, 3) (1603,) xtest_balanced (401, 3) (401,)\n"
          ]
        }
      ]
    },
    {
      "cell_type": "code",
      "source": [
        "from numpy.ma.core import size\n",
        "# lets see its representation on 3D\n",
        "import plotly.express as px\n",
        "\n",
        "# Scaling to visualize it better\n",
        "_scale = MinMaxScaler()\n",
        "xtrain_bala_scaled = _scale.fit_transform(xtrain_bala)\n",
        "xtest_bala_scaled = _scale.transform(xtest_bala)\n",
        "\n",
        "# px.scatter_3d(X_balanced, x = X_balanced[:,0], y = X_balanced[:,1], z = X_balanced[:,2], color = y_balanced, size = 0)\n"
      ],
      "metadata": {
        "id": "Gvm65uf2IVIr"
      },
      "execution_count": 269,
      "outputs": []
    },
    {
      "cell_type": "markdown",
      "source": [
        "# Mode Score on Balanced DATA"
      ],
      "metadata": {
        "id": "DyVrA39wKgAv"
      }
    },
    {
      "cell_type": "code",
      "source": [
        "# scaling data\n",
        "bala_scaler = MinMaxScaler()\n",
        "bala_scaler.fit(xtrain_bala)\n",
        "xtrain_bala_scaled = bala_scaler.transform(xtrain_bala)\n",
        "xtest_bala_scaled = bala_scaler.transform(xtest_bala)"
      ],
      "metadata": {
        "id": "9VxAI8qWP94S"
      },
      "execution_count": 270,
      "outputs": []
    },
    {
      "cell_type": "code",
      "source": [
        "balanced_model_result = models(xtrain_bala_scaled, ytrain_bala, xtest_bala_scaled, ytest_bala)\n",
        "balanced_votingclf_result = votingclf(xtrain_bala_scaled, ytrain_bala, xtest_bala_scaled, ytest_bala)\n",
        "xgb_result = xgb(xtrain_bala_scaled, ytrain_bala, xtest_bala_scaled, ytest_bala)\n"
      ],
      "metadata": {
        "id": "hSnD0COaMMbG"
      },
      "execution_count": 271,
      "outputs": []
    },
    {
      "cell_type": "code",
      "source": [
        "#appending results\n",
        "balanced_model_result.append(balanced_votingclf_result)\n",
        "balanced_model_result.append(xgb_result)\n",
        "\n",
        "scores3 = balanced_model_result"
      ],
      "metadata": {
        "id": "VTKSD-CDNyRb"
      },
      "execution_count": 272,
      "outputs": []
    },
    {
      "cell_type": "code",
      "source": [
        "scoresheet3 = pd.DataFrame(scores3)\n",
        "scoresheet3"
      ],
      "metadata": {
        "colab": {
          "base_uri": "https://localhost:8080/",
          "height": 332
        },
        "id": "z9SDT1KtOvwL",
        "outputId": "78f8c6e2-3d67-4c13-db6c-49a179fce361"
      },
      "execution_count": 273,
      "outputs": [
        {
          "output_type": "execute_result",
          "data": {
            "text/plain": [
              "                 model   accuracy  precision    recall        f1\n",
              "0  logistic regression  71.820449   0.718614  0.718204  0.718047\n",
              "1                  SVM  75.311721   0.755353  0.753117  0.752532\n",
              "2                  Knn  73.566085   0.736216  0.735661  0.735480\n",
              "3               D Tree  75.062344   0.750711  0.750623  0.750592\n",
              "4        Random Forest  78.553616   0.790352  0.785536  0.784596\n",
              "5   Xtra Random Forest  81.296758   0.821610  0.812968  0.811653\n",
              "6          naive bayes  50.374065   0.750630  0.503741  0.340239\n",
              "7    voting_classifier  81.546135   0.817447  0.815461  0.815149\n",
              "8                  xgb  78.802993   0.791811  0.788030  0.787300"
            ],
            "text/html": [
              "\n",
              "  <div id=\"df-acd900ba-78eb-4661-935e-5ba066da2ac5\">\n",
              "    <div class=\"colab-df-container\">\n",
              "      <div>\n",
              "<style scoped>\n",
              "    .dataframe tbody tr th:only-of-type {\n",
              "        vertical-align: middle;\n",
              "    }\n",
              "\n",
              "    .dataframe tbody tr th {\n",
              "        vertical-align: top;\n",
              "    }\n",
              "\n",
              "    .dataframe thead th {\n",
              "        text-align: right;\n",
              "    }\n",
              "</style>\n",
              "<table border=\"1\" class=\"dataframe\">\n",
              "  <thead>\n",
              "    <tr style=\"text-align: right;\">\n",
              "      <th></th>\n",
              "      <th>model</th>\n",
              "      <th>accuracy</th>\n",
              "      <th>precision</th>\n",
              "      <th>recall</th>\n",
              "      <th>f1</th>\n",
              "    </tr>\n",
              "  </thead>\n",
              "  <tbody>\n",
              "    <tr>\n",
              "      <th>0</th>\n",
              "      <td>logistic regression</td>\n",
              "      <td>71.820449</td>\n",
              "      <td>0.718614</td>\n",
              "      <td>0.718204</td>\n",
              "      <td>0.718047</td>\n",
              "    </tr>\n",
              "    <tr>\n",
              "      <th>1</th>\n",
              "      <td>SVM</td>\n",
              "      <td>75.311721</td>\n",
              "      <td>0.755353</td>\n",
              "      <td>0.753117</td>\n",
              "      <td>0.752532</td>\n",
              "    </tr>\n",
              "    <tr>\n",
              "      <th>2</th>\n",
              "      <td>Knn</td>\n",
              "      <td>73.566085</td>\n",
              "      <td>0.736216</td>\n",
              "      <td>0.735661</td>\n",
              "      <td>0.735480</td>\n",
              "    </tr>\n",
              "    <tr>\n",
              "      <th>3</th>\n",
              "      <td>D Tree</td>\n",
              "      <td>75.062344</td>\n",
              "      <td>0.750711</td>\n",
              "      <td>0.750623</td>\n",
              "      <td>0.750592</td>\n",
              "    </tr>\n",
              "    <tr>\n",
              "      <th>4</th>\n",
              "      <td>Random Forest</td>\n",
              "      <td>78.553616</td>\n",
              "      <td>0.790352</td>\n",
              "      <td>0.785536</td>\n",
              "      <td>0.784596</td>\n",
              "    </tr>\n",
              "    <tr>\n",
              "      <th>5</th>\n",
              "      <td>Xtra Random Forest</td>\n",
              "      <td>81.296758</td>\n",
              "      <td>0.821610</td>\n",
              "      <td>0.812968</td>\n",
              "      <td>0.811653</td>\n",
              "    </tr>\n",
              "    <tr>\n",
              "      <th>6</th>\n",
              "      <td>naive bayes</td>\n",
              "      <td>50.374065</td>\n",
              "      <td>0.750630</td>\n",
              "      <td>0.503741</td>\n",
              "      <td>0.340239</td>\n",
              "    </tr>\n",
              "    <tr>\n",
              "      <th>7</th>\n",
              "      <td>voting_classifier</td>\n",
              "      <td>81.546135</td>\n",
              "      <td>0.817447</td>\n",
              "      <td>0.815461</td>\n",
              "      <td>0.815149</td>\n",
              "    </tr>\n",
              "    <tr>\n",
              "      <th>8</th>\n",
              "      <td>xgb</td>\n",
              "      <td>78.802993</td>\n",
              "      <td>0.791811</td>\n",
              "      <td>0.788030</td>\n",
              "      <td>0.787300</td>\n",
              "    </tr>\n",
              "  </tbody>\n",
              "</table>\n",
              "</div>\n",
              "      <button class=\"colab-df-convert\" onclick=\"convertToInteractive('df-acd900ba-78eb-4661-935e-5ba066da2ac5')\"\n",
              "              title=\"Convert this dataframe to an interactive table.\"\n",
              "              style=\"display:none;\">\n",
              "        \n",
              "  <svg xmlns=\"http://www.w3.org/2000/svg\" height=\"24px\"viewBox=\"0 0 24 24\"\n",
              "       width=\"24px\">\n",
              "    <path d=\"M0 0h24v24H0V0z\" fill=\"none\"/>\n",
              "    <path d=\"M18.56 5.44l.94 2.06.94-2.06 2.06-.94-2.06-.94-.94-2.06-.94 2.06-2.06.94zm-11 1L8.5 8.5l.94-2.06 2.06-.94-2.06-.94L8.5 2.5l-.94 2.06-2.06.94zm10 10l.94 2.06.94-2.06 2.06-.94-2.06-.94-.94-2.06-.94 2.06-2.06.94z\"/><path d=\"M17.41 7.96l-1.37-1.37c-.4-.4-.92-.59-1.43-.59-.52 0-1.04.2-1.43.59L10.3 9.45l-7.72 7.72c-.78.78-.78 2.05 0 2.83L4 21.41c.39.39.9.59 1.41.59.51 0 1.02-.2 1.41-.59l7.78-7.78 2.81-2.81c.8-.78.8-2.07 0-2.86zM5.41 20L4 18.59l7.72-7.72 1.47 1.35L5.41 20z\"/>\n",
              "  </svg>\n",
              "      </button>\n",
              "      \n",
              "  <style>\n",
              "    .colab-df-container {\n",
              "      display:flex;\n",
              "      flex-wrap:wrap;\n",
              "      gap: 12px;\n",
              "    }\n",
              "\n",
              "    .colab-df-convert {\n",
              "      background-color: #E8F0FE;\n",
              "      border: none;\n",
              "      border-radius: 50%;\n",
              "      cursor: pointer;\n",
              "      display: none;\n",
              "      fill: #1967D2;\n",
              "      height: 32px;\n",
              "      padding: 0 0 0 0;\n",
              "      width: 32px;\n",
              "    }\n",
              "\n",
              "    .colab-df-convert:hover {\n",
              "      background-color: #E2EBFA;\n",
              "      box-shadow: 0px 1px 2px rgba(60, 64, 67, 0.3), 0px 1px 3px 1px rgba(60, 64, 67, 0.15);\n",
              "      fill: #174EA6;\n",
              "    }\n",
              "\n",
              "    [theme=dark] .colab-df-convert {\n",
              "      background-color: #3B4455;\n",
              "      fill: #D2E3FC;\n",
              "    }\n",
              "\n",
              "    [theme=dark] .colab-df-convert:hover {\n",
              "      background-color: #434B5C;\n",
              "      box-shadow: 0px 1px 3px 1px rgba(0, 0, 0, 0.15);\n",
              "      filter: drop-shadow(0px 1px 2px rgba(0, 0, 0, 0.3));\n",
              "      fill: #FFFFFF;\n",
              "    }\n",
              "  </style>\n",
              "\n",
              "      <script>\n",
              "        const buttonEl =\n",
              "          document.querySelector('#df-acd900ba-78eb-4661-935e-5ba066da2ac5 button.colab-df-convert');\n",
              "        buttonEl.style.display =\n",
              "          google.colab.kernel.accessAllowed ? 'block' : 'none';\n",
              "\n",
              "        async function convertToInteractive(key) {\n",
              "          const element = document.querySelector('#df-acd900ba-78eb-4661-935e-5ba066da2ac5');\n",
              "          const dataTable =\n",
              "            await google.colab.kernel.invokeFunction('convertToInteractive',\n",
              "                                                     [key], {});\n",
              "          if (!dataTable) return;\n",
              "\n",
              "          const docLinkHtml = 'Like what you see? Visit the ' +\n",
              "            '<a target=\"_blank\" href=https://colab.research.google.com/notebooks/data_table.ipynb>data table notebook</a>'\n",
              "            + ' to learn more about interactive tables.';\n",
              "          element.innerHTML = '';\n",
              "          dataTable['output_type'] = 'display_data';\n",
              "          await google.colab.output.renderOutput(dataTable, element);\n",
              "          const docLink = document.createElement('div');\n",
              "          docLink.innerHTML = docLinkHtml;\n",
              "          element.appendChild(docLink);\n",
              "        }\n",
              "      </script>\n",
              "    </div>\n",
              "  </div>\n",
              "  "
            ]
          },
          "metadata": {},
          "execution_count": 273
        }
      ]
    },
    {
      "cell_type": "code",
      "source": [
        "scoresheet2"
      ],
      "metadata": {
        "colab": {
          "base_uri": "https://localhost:8080/",
          "height": 332
        },
        "id": "2lW7jOn-PKeo",
        "outputId": "052e58d1-ae50-4a09-be9b-c10d4c1cb770"
      },
      "execution_count": 274,
      "outputs": [
        {
          "output_type": "execute_result",
          "data": {
            "text/plain": [
              "                 model   accuracy  precision    recall        f1\n",
              "0  logistic regression  76.061776   0.693968  0.760618  0.704007\n",
              "1                  SVM  77.992278   0.755590  0.779923  0.693951\n",
              "2                  Knn  76.061776   0.737891  0.760618  0.746049\n",
              "3               D Tree  67.567568   0.702345  0.675676  0.687288\n",
              "4        Random Forest  76.833977   0.762743  0.768340  0.765344\n",
              "5   Xtra Random Forest  74.903475   0.735301  0.749035  0.741228\n",
              "6          naive bayes  76.833977   0.600919  0.768340  0.674394\n",
              "7    voting_classifier  75.675676   0.706445  0.756757  0.717628\n",
              "8                  xgb  77.606178   0.744442  0.776062  0.750517"
            ],
            "text/html": [
              "\n",
              "  <div id=\"df-76478b1b-491c-41d3-b74b-33fcbdc1c41c\">\n",
              "    <div class=\"colab-df-container\">\n",
              "      <div>\n",
              "<style scoped>\n",
              "    .dataframe tbody tr th:only-of-type {\n",
              "        vertical-align: middle;\n",
              "    }\n",
              "\n",
              "    .dataframe tbody tr th {\n",
              "        vertical-align: top;\n",
              "    }\n",
              "\n",
              "    .dataframe thead th {\n",
              "        text-align: right;\n",
              "    }\n",
              "</style>\n",
              "<table border=\"1\" class=\"dataframe\">\n",
              "  <thead>\n",
              "    <tr style=\"text-align: right;\">\n",
              "      <th></th>\n",
              "      <th>model</th>\n",
              "      <th>accuracy</th>\n",
              "      <th>precision</th>\n",
              "      <th>recall</th>\n",
              "      <th>f1</th>\n",
              "    </tr>\n",
              "  </thead>\n",
              "  <tbody>\n",
              "    <tr>\n",
              "      <th>0</th>\n",
              "      <td>logistic regression</td>\n",
              "      <td>76.061776</td>\n",
              "      <td>0.693968</td>\n",
              "      <td>0.760618</td>\n",
              "      <td>0.704007</td>\n",
              "    </tr>\n",
              "    <tr>\n",
              "      <th>1</th>\n",
              "      <td>SVM</td>\n",
              "      <td>77.992278</td>\n",
              "      <td>0.755590</td>\n",
              "      <td>0.779923</td>\n",
              "      <td>0.693951</td>\n",
              "    </tr>\n",
              "    <tr>\n",
              "      <th>2</th>\n",
              "      <td>Knn</td>\n",
              "      <td>76.061776</td>\n",
              "      <td>0.737891</td>\n",
              "      <td>0.760618</td>\n",
              "      <td>0.746049</td>\n",
              "    </tr>\n",
              "    <tr>\n",
              "      <th>3</th>\n",
              "      <td>D Tree</td>\n",
              "      <td>67.567568</td>\n",
              "      <td>0.702345</td>\n",
              "      <td>0.675676</td>\n",
              "      <td>0.687288</td>\n",
              "    </tr>\n",
              "    <tr>\n",
              "      <th>4</th>\n",
              "      <td>Random Forest</td>\n",
              "      <td>76.833977</td>\n",
              "      <td>0.762743</td>\n",
              "      <td>0.768340</td>\n",
              "      <td>0.765344</td>\n",
              "    </tr>\n",
              "    <tr>\n",
              "      <th>5</th>\n",
              "      <td>Xtra Random Forest</td>\n",
              "      <td>74.903475</td>\n",
              "      <td>0.735301</td>\n",
              "      <td>0.749035</td>\n",
              "      <td>0.741228</td>\n",
              "    </tr>\n",
              "    <tr>\n",
              "      <th>6</th>\n",
              "      <td>naive bayes</td>\n",
              "      <td>76.833977</td>\n",
              "      <td>0.600919</td>\n",
              "      <td>0.768340</td>\n",
              "      <td>0.674394</td>\n",
              "    </tr>\n",
              "    <tr>\n",
              "      <th>7</th>\n",
              "      <td>voting_classifier</td>\n",
              "      <td>75.675676</td>\n",
              "      <td>0.706445</td>\n",
              "      <td>0.756757</td>\n",
              "      <td>0.717628</td>\n",
              "    </tr>\n",
              "    <tr>\n",
              "      <th>8</th>\n",
              "      <td>xgb</td>\n",
              "      <td>77.606178</td>\n",
              "      <td>0.744442</td>\n",
              "      <td>0.776062</td>\n",
              "      <td>0.750517</td>\n",
              "    </tr>\n",
              "  </tbody>\n",
              "</table>\n",
              "</div>\n",
              "      <button class=\"colab-df-convert\" onclick=\"convertToInteractive('df-76478b1b-491c-41d3-b74b-33fcbdc1c41c')\"\n",
              "              title=\"Convert this dataframe to an interactive table.\"\n",
              "              style=\"display:none;\">\n",
              "        \n",
              "  <svg xmlns=\"http://www.w3.org/2000/svg\" height=\"24px\"viewBox=\"0 0 24 24\"\n",
              "       width=\"24px\">\n",
              "    <path d=\"M0 0h24v24H0V0z\" fill=\"none\"/>\n",
              "    <path d=\"M18.56 5.44l.94 2.06.94-2.06 2.06-.94-2.06-.94-.94-2.06-.94 2.06-2.06.94zm-11 1L8.5 8.5l.94-2.06 2.06-.94-2.06-.94L8.5 2.5l-.94 2.06-2.06.94zm10 10l.94 2.06.94-2.06 2.06-.94-2.06-.94-.94-2.06-.94 2.06-2.06.94z\"/><path d=\"M17.41 7.96l-1.37-1.37c-.4-.4-.92-.59-1.43-.59-.52 0-1.04.2-1.43.59L10.3 9.45l-7.72 7.72c-.78.78-.78 2.05 0 2.83L4 21.41c.39.39.9.59 1.41.59.51 0 1.02-.2 1.41-.59l7.78-7.78 2.81-2.81c.8-.78.8-2.07 0-2.86zM5.41 20L4 18.59l7.72-7.72 1.47 1.35L5.41 20z\"/>\n",
              "  </svg>\n",
              "      </button>\n",
              "      \n",
              "  <style>\n",
              "    .colab-df-container {\n",
              "      display:flex;\n",
              "      flex-wrap:wrap;\n",
              "      gap: 12px;\n",
              "    }\n",
              "\n",
              "    .colab-df-convert {\n",
              "      background-color: #E8F0FE;\n",
              "      border: none;\n",
              "      border-radius: 50%;\n",
              "      cursor: pointer;\n",
              "      display: none;\n",
              "      fill: #1967D2;\n",
              "      height: 32px;\n",
              "      padding: 0 0 0 0;\n",
              "      width: 32px;\n",
              "    }\n",
              "\n",
              "    .colab-df-convert:hover {\n",
              "      background-color: #E2EBFA;\n",
              "      box-shadow: 0px 1px 2px rgba(60, 64, 67, 0.3), 0px 1px 3px 1px rgba(60, 64, 67, 0.15);\n",
              "      fill: #174EA6;\n",
              "    }\n",
              "\n",
              "    [theme=dark] .colab-df-convert {\n",
              "      background-color: #3B4455;\n",
              "      fill: #D2E3FC;\n",
              "    }\n",
              "\n",
              "    [theme=dark] .colab-df-convert:hover {\n",
              "      background-color: #434B5C;\n",
              "      box-shadow: 0px 1px 3px 1px rgba(0, 0, 0, 0.15);\n",
              "      filter: drop-shadow(0px 1px 2px rgba(0, 0, 0, 0.3));\n",
              "      fill: #FFFFFF;\n",
              "    }\n",
              "  </style>\n",
              "\n",
              "      <script>\n",
              "        const buttonEl =\n",
              "          document.querySelector('#df-76478b1b-491c-41d3-b74b-33fcbdc1c41c button.colab-df-convert');\n",
              "        buttonEl.style.display =\n",
              "          google.colab.kernel.accessAllowed ? 'block' : 'none';\n",
              "\n",
              "        async function convertToInteractive(key) {\n",
              "          const element = document.querySelector('#df-76478b1b-491c-41d3-b74b-33fcbdc1c41c');\n",
              "          const dataTable =\n",
              "            await google.colab.kernel.invokeFunction('convertToInteractive',\n",
              "                                                     [key], {});\n",
              "          if (!dataTable) return;\n",
              "\n",
              "          const docLinkHtml = 'Like what you see? Visit the ' +\n",
              "            '<a target=\"_blank\" href=https://colab.research.google.com/notebooks/data_table.ipynb>data table notebook</a>'\n",
              "            + ' to learn more about interactive tables.';\n",
              "          element.innerHTML = '';\n",
              "          dataTable['output_type'] = 'display_data';\n",
              "          await google.colab.output.renderOutput(dataTable, element);\n",
              "          const docLink = document.createElement('div');\n",
              "          docLink.innerHTML = docLinkHtml;\n",
              "          element.appendChild(docLink);\n",
              "        }\n",
              "      </script>\n",
              "    </div>\n",
              "  </div>\n",
              "  "
            ]
          },
          "metadata": {},
          "execution_count": 274
        }
      ]
    },
    {
      "cell_type": "code",
      "source": [
        "scoresheet"
      ],
      "metadata": {
        "id": "70F38aRjPy33",
        "colab": {
          "base_uri": "https://localhost:8080/",
          "height": 332
        },
        "outputId": "6b7812fc-8443-4903-e5a5-09298c9ef53d"
      },
      "execution_count": 275,
      "outputs": [
        {
          "output_type": "execute_result",
          "data": {
            "text/plain": [
              "                 model   accuracy  precision    recall        f1\n",
              "0  logistic regression  77.220077   0.702657  0.772201  0.695657\n",
              "1                  SVM  78.764479   0.790223  0.787645  0.710689\n",
              "2                  Knn  74.517375   0.723289  0.745174  0.731974\n",
              "3               D Tree  72.586873   0.720809  0.725869  0.723245\n",
              "4        Random Forest  75.289575   0.737948  0.752896  0.744239\n",
              "5   Xtra Random Forest  73.745174   0.717950  0.737452  0.726110\n",
              "6          naive bayes  77.606178   0.602272  0.776062  0.678211\n",
              "7    voting_classifier  77.992278   0.736466  0.779923  0.725738\n",
              "8                  xgb  78.764479   0.762510  0.787645  0.767132"
            ],
            "text/html": [
              "\n",
              "  <div id=\"df-c202d14d-4672-41c5-84e5-c3b8d8b812f0\">\n",
              "    <div class=\"colab-df-container\">\n",
              "      <div>\n",
              "<style scoped>\n",
              "    .dataframe tbody tr th:only-of-type {\n",
              "        vertical-align: middle;\n",
              "    }\n",
              "\n",
              "    .dataframe tbody tr th {\n",
              "        vertical-align: top;\n",
              "    }\n",
              "\n",
              "    .dataframe thead th {\n",
              "        text-align: right;\n",
              "    }\n",
              "</style>\n",
              "<table border=\"1\" class=\"dataframe\">\n",
              "  <thead>\n",
              "    <tr style=\"text-align: right;\">\n",
              "      <th></th>\n",
              "      <th>model</th>\n",
              "      <th>accuracy</th>\n",
              "      <th>precision</th>\n",
              "      <th>recall</th>\n",
              "      <th>f1</th>\n",
              "    </tr>\n",
              "  </thead>\n",
              "  <tbody>\n",
              "    <tr>\n",
              "      <th>0</th>\n",
              "      <td>logistic regression</td>\n",
              "      <td>77.220077</td>\n",
              "      <td>0.702657</td>\n",
              "      <td>0.772201</td>\n",
              "      <td>0.695657</td>\n",
              "    </tr>\n",
              "    <tr>\n",
              "      <th>1</th>\n",
              "      <td>SVM</td>\n",
              "      <td>78.764479</td>\n",
              "      <td>0.790223</td>\n",
              "      <td>0.787645</td>\n",
              "      <td>0.710689</td>\n",
              "    </tr>\n",
              "    <tr>\n",
              "      <th>2</th>\n",
              "      <td>Knn</td>\n",
              "      <td>74.517375</td>\n",
              "      <td>0.723289</td>\n",
              "      <td>0.745174</td>\n",
              "      <td>0.731974</td>\n",
              "    </tr>\n",
              "    <tr>\n",
              "      <th>3</th>\n",
              "      <td>D Tree</td>\n",
              "      <td>72.586873</td>\n",
              "      <td>0.720809</td>\n",
              "      <td>0.725869</td>\n",
              "      <td>0.723245</td>\n",
              "    </tr>\n",
              "    <tr>\n",
              "      <th>4</th>\n",
              "      <td>Random Forest</td>\n",
              "      <td>75.289575</td>\n",
              "      <td>0.737948</td>\n",
              "      <td>0.752896</td>\n",
              "      <td>0.744239</td>\n",
              "    </tr>\n",
              "    <tr>\n",
              "      <th>5</th>\n",
              "      <td>Xtra Random Forest</td>\n",
              "      <td>73.745174</td>\n",
              "      <td>0.717950</td>\n",
              "      <td>0.737452</td>\n",
              "      <td>0.726110</td>\n",
              "    </tr>\n",
              "    <tr>\n",
              "      <th>6</th>\n",
              "      <td>naive bayes</td>\n",
              "      <td>77.606178</td>\n",
              "      <td>0.602272</td>\n",
              "      <td>0.776062</td>\n",
              "      <td>0.678211</td>\n",
              "    </tr>\n",
              "    <tr>\n",
              "      <th>7</th>\n",
              "      <td>voting_classifier</td>\n",
              "      <td>77.992278</td>\n",
              "      <td>0.736466</td>\n",
              "      <td>0.779923</td>\n",
              "      <td>0.725738</td>\n",
              "    </tr>\n",
              "    <tr>\n",
              "      <th>8</th>\n",
              "      <td>xgb</td>\n",
              "      <td>78.764479</td>\n",
              "      <td>0.762510</td>\n",
              "      <td>0.787645</td>\n",
              "      <td>0.767132</td>\n",
              "    </tr>\n",
              "  </tbody>\n",
              "</table>\n",
              "</div>\n",
              "      <button class=\"colab-df-convert\" onclick=\"convertToInteractive('df-c202d14d-4672-41c5-84e5-c3b8d8b812f0')\"\n",
              "              title=\"Convert this dataframe to an interactive table.\"\n",
              "              style=\"display:none;\">\n",
              "        \n",
              "  <svg xmlns=\"http://www.w3.org/2000/svg\" height=\"24px\"viewBox=\"0 0 24 24\"\n",
              "       width=\"24px\">\n",
              "    <path d=\"M0 0h24v24H0V0z\" fill=\"none\"/>\n",
              "    <path d=\"M18.56 5.44l.94 2.06.94-2.06 2.06-.94-2.06-.94-.94-2.06-.94 2.06-2.06.94zm-11 1L8.5 8.5l.94-2.06 2.06-.94-2.06-.94L8.5 2.5l-.94 2.06-2.06.94zm10 10l.94 2.06.94-2.06 2.06-.94-2.06-.94-.94-2.06-.94 2.06-2.06.94z\"/><path d=\"M17.41 7.96l-1.37-1.37c-.4-.4-.92-.59-1.43-.59-.52 0-1.04.2-1.43.59L10.3 9.45l-7.72 7.72c-.78.78-.78 2.05 0 2.83L4 21.41c.39.39.9.59 1.41.59.51 0 1.02-.2 1.41-.59l7.78-7.78 2.81-2.81c.8-.78.8-2.07 0-2.86zM5.41 20L4 18.59l7.72-7.72 1.47 1.35L5.41 20z\"/>\n",
              "  </svg>\n",
              "      </button>\n",
              "      \n",
              "  <style>\n",
              "    .colab-df-container {\n",
              "      display:flex;\n",
              "      flex-wrap:wrap;\n",
              "      gap: 12px;\n",
              "    }\n",
              "\n",
              "    .colab-df-convert {\n",
              "      background-color: #E8F0FE;\n",
              "      border: none;\n",
              "      border-radius: 50%;\n",
              "      cursor: pointer;\n",
              "      display: none;\n",
              "      fill: #1967D2;\n",
              "      height: 32px;\n",
              "      padding: 0 0 0 0;\n",
              "      width: 32px;\n",
              "    }\n",
              "\n",
              "    .colab-df-convert:hover {\n",
              "      background-color: #E2EBFA;\n",
              "      box-shadow: 0px 1px 2px rgba(60, 64, 67, 0.3), 0px 1px 3px 1px rgba(60, 64, 67, 0.15);\n",
              "      fill: #174EA6;\n",
              "    }\n",
              "\n",
              "    [theme=dark] .colab-df-convert {\n",
              "      background-color: #3B4455;\n",
              "      fill: #D2E3FC;\n",
              "    }\n",
              "\n",
              "    [theme=dark] .colab-df-convert:hover {\n",
              "      background-color: #434B5C;\n",
              "      box-shadow: 0px 1px 3px 1px rgba(0, 0, 0, 0.15);\n",
              "      filter: drop-shadow(0px 1px 2px rgba(0, 0, 0, 0.3));\n",
              "      fill: #FFFFFF;\n",
              "    }\n",
              "  </style>\n",
              "\n",
              "      <script>\n",
              "        const buttonEl =\n",
              "          document.querySelector('#df-c202d14d-4672-41c5-84e5-c3b8d8b812f0 button.colab-df-convert');\n",
              "        buttonEl.style.display =\n",
              "          google.colab.kernel.accessAllowed ? 'block' : 'none';\n",
              "\n",
              "        async function convertToInteractive(key) {\n",
              "          const element = document.querySelector('#df-c202d14d-4672-41c5-84e5-c3b8d8b812f0');\n",
              "          const dataTable =\n",
              "            await google.colab.kernel.invokeFunction('convertToInteractive',\n",
              "                                                     [key], {});\n",
              "          if (!dataTable) return;\n",
              "\n",
              "          const docLinkHtml = 'Like what you see? Visit the ' +\n",
              "            '<a target=\"_blank\" href=https://colab.research.google.com/notebooks/data_table.ipynb>data table notebook</a>'\n",
              "            + ' to learn more about interactive tables.';\n",
              "          element.innerHTML = '';\n",
              "          dataTable['output_type'] = 'display_data';\n",
              "          await google.colab.output.renderOutput(dataTable, element);\n",
              "          const docLink = document.createElement('div');\n",
              "          docLink.innerHTML = docLinkHtml;\n",
              "          element.appendChild(docLink);\n",
              "        }\n",
              "      </script>\n",
              "    </div>\n",
              "  </div>\n",
              "  "
            ]
          },
          "metadata": {},
          "execution_count": 275
        }
      ]
    },
    {
      "cell_type": "markdown",
      "source": [
        "# Conclusion"
      ],
      "metadata": {
        "id": "f8LyD3Fd5nOy"
      }
    },
    {
      "cell_type": "markdown",
      "source": [
        "# Fine Tuning `XGBClassifier`"
      ],
      "metadata": {
        "id": "dIw46-AA-X8h"
      }
    },
    {
      "cell_type": "markdown",
      "source": [
        "Xgb is best performing model with Default parameter .\n",
        "\n",
        "Now lets fine tune xgb and train on whole dataset"
      ],
      "metadata": {
        "id": "FvL2kP2E58Z4"
      }
    },
    {
      "cell_type": "code",
      "source": [
        "boost_params = {\n",
        "    'learning_rate': [0.01, 0.005, 0.1 ,1]\n",
        ",'n_estimators': [100, 200, 250, 150]\n",
        ",'max_depth': [ 3, 5, 7, 9, 11]\n",
        ",'subsample': [0.7, 0.8, 0.9, 1 ]\n",
        ",'gamma': [0.1, 0.5 , 1.0, 1.5, 2.0]\n",
        "# , 'booster' :['gbtree', 'gblinear', 'dart']\n",
        "}"
      ],
      "metadata": {
        "id": "xgS-Pg316MD2"
      },
      "execution_count": 276,
      "outputs": []
    },
    {
      "cell_type": "code",
      "source": [
        "xgb = XGBClassifier(booster = 'gbtree', n_jobs=-1)"
      ],
      "metadata": {
        "id": "25AtwKGq6btQ"
      },
      "execution_count": 277,
      "outputs": []
    },
    {
      "cell_type": "code",
      "source": [
        "# since it is a cross validation we do not need to split the whole data into train"
      ],
      "metadata": {
        "id": "bDW1l2u37Vro"
      },
      "execution_count": 278,
      "outputs": []
    },
    {
      "cell_type": "code",
      "source": [
        "from sklearn.model_selection import RandomizedSearchCV\n",
        "\n",
        "def random_search_cv(estimator, params, n_iters, return_train_score = True, **kwargs):\n",
        "    'returns randomized search model, save it in a variable'\n",
        "    random_cv = RandomizedSearchCV( estimator = estimator, \n",
        "                                          param_distributions = params, \n",
        "                                          n_iter= n_iters, \n",
        "                                          return_train_score = return_train_score,verbose = 1, **kwargs)\n",
        "    random_cv.fit(X_balanced, y_balanced)\n",
        "    print( f'''best score: {random_cv.best_score_}\n",
        "    best estimator: {random_cv.best_estimator_}\n",
        "    best params: {random_cv.best_params_}\n",
        "    best index: {random_cv.best_index_}''')\n",
        "    return random_cv"
      ],
      "metadata": {
        "id": "ecn9Btzu6cOS"
      },
      "execution_count": 279,
      "outputs": []
    },
    {
      "cell_type": "code",
      "source": [
        "rscv = random_search_cv(xgb, boost_params, n_iters=50)"
      ],
      "metadata": {
        "colab": {
          "base_uri": "https://localhost:8080/"
        },
        "id": "-AAWnh8s7oFS",
        "outputId": "c0a042d2-eb92-4bcc-ef4f-843fef09e77c"
      },
      "execution_count": 280,
      "outputs": [
        {
          "output_type": "stream",
          "name": "stdout",
          "text": [
            "Fitting 5 folds for each of 50 candidates, totalling 250 fits\n",
            "best score: 0.8078977556109725\n",
            "    best estimator: XGBClassifier(gamma=0.5, max_depth=11, n_jobs=-1, subsample=0.9)\n",
            "    best params: {'subsample': 0.9, 'n_estimators': 100, 'max_depth': 11, 'learning_rate': 0.1, 'gamma': 0.5}\n",
            "    best index: 27\n"
          ]
        }
      ]
    },
    {
      "cell_type": "code",
      "source": [
        "# getting the best params\n",
        "xgb_param = rscv.best_params_\n",
        "xgb_param"
      ],
      "metadata": {
        "colab": {
          "base_uri": "https://localhost:8080/"
        },
        "id": "TjmyoyEw7v34",
        "outputId": "f6cdaabf-da77-46bf-c35e-992069f15797"
      },
      "execution_count": 281,
      "outputs": [
        {
          "output_type": "execute_result",
          "data": {
            "text/plain": [
              "{'subsample': 0.9,\n",
              " 'n_estimators': 100,\n",
              " 'max_depth': 11,\n",
              " 'learning_rate': 0.1,\n",
              " 'gamma': 0.5}"
            ]
          },
          "metadata": {},
          "execution_count": 281
        }
      ]
    },
    {
      "cell_type": "code",
      "source": [
        "xgb_tuned = XGBClassifier( n_estimators=xgb_param['n_estimators'],\n",
        "                                    subsample = xgb_param['subsample'],\n",
        "                                    gamma = xgb_param['gamma'],\n",
        "                                    learning_rate = xgb_param['learning_rate'],\n",
        "                                    max_depth= xgb_param['max_depth'])"
      ],
      "metadata": {
        "id": "tdOSX8G1-hR4"
      },
      "execution_count": 282,
      "outputs": []
    },
    {
      "cell_type": "code",
      "source": [
        "# fitting on splitted data to see performance\n",
        "xgb_tuned.fit(xtrain_bala_scaled, ytrain_bala)"
      ],
      "metadata": {
        "colab": {
          "base_uri": "https://localhost:8080/"
        },
        "id": "LZBPCGZF-kvB",
        "outputId": "93bcfe18-3cf7-4c81-f20e-ba4fdd28a624"
      },
      "execution_count": 283,
      "outputs": [
        {
          "output_type": "execute_result",
          "data": {
            "text/plain": [
              "XGBClassifier(gamma=0.5, max_depth=11, subsample=0.9)"
            ]
          },
          "metadata": {},
          "execution_count": 283
        }
      ]
    },
    {
      "cell_type": "code",
      "source": [
        "ypred = xgb_tuned.predict(xtest_bala_scaled)\n",
        "\n",
        "calculate_results(y_true=ytest_bala, y_pred = ypred)"
      ],
      "metadata": {
        "colab": {
          "base_uri": "https://localhost:8080/"
        },
        "id": "5Gf1PZLX-v7J",
        "outputId": "83e65740-a496-4389-98e9-811070058dba"
      },
      "execution_count": 284,
      "outputs": [
        {
          "output_type": "execute_result",
          "data": {
            "text/plain": [
              "{'accuracy': 81.79551122194513,\n",
              " 'precision': 0.8207941973293787,\n",
              " 'recall': 0.8179551122194514,\n",
              " 'f1': 0.8175238364957551}"
            ]
          },
          "metadata": {},
          "execution_count": 284
        }
      ]
    },
    {
      "cell_type": "code",
      "source": [
        "# ploting roc curve for xgbclassifier\n",
        "# it requires probability as input rather than hard value\n",
        "ypred_proba = xgb_tuned.predict_proba(xtest_bala_scaled)\n",
        "plot_roc(ytest_bala, ypred_proba)"
      ],
      "metadata": {
        "colab": {
          "base_uri": "https://localhost:8080/",
          "height": 621
        },
        "id": "uWC-XRCcDhzN",
        "outputId": "dce259fc-ad62-462f-e9ab-9fa17e7e351d"
      },
      "execution_count": 285,
      "outputs": [
        {
          "output_type": "display_data",
          "data": {
            "text/plain": [
              "<Figure size 1080x720 with 1 Axes>"
            ],
            "image/png": "[encoded data removed]"
          },
          "metadata": {
            "needs_background": "light"
          }
        }
      ]
    },
    {
      "cell_type": "markdown",
      "source": [
        " **Best Score so far**"
      ],
      "metadata": {
        "id": "BBM3OsFlAFyU"
      }
    },
    {
      "cell_type": "code",
      "source": [
        "# fittting on Whole data\n",
        "xgb_tuned.fit(X_balanced, y_balanced)"
      ],
      "metadata": {
        "colab": {
          "base_uri": "https://localhost:8080/"
        },
        "id": "bFXuVyqT_W-Z",
        "outputId": "a82c1cae-e1ab-4ecd-90db-c5a52a3c4469"
      },
      "execution_count": 286,
      "outputs": [
        {
          "output_type": "execute_result",
          "data": {
            "text/plain": [
              "XGBClassifier(gamma=0.5, max_depth=11, subsample=0.9)"
            ]
          },
          "metadata": {},
          "execution_count": 286
        }
      ]
    },
    {
      "cell_type": "code",
      "source": [
        "import joblib\n",
        "# saving the Model\n",
        "joblib.dump(xgb_tuned,'XGBClassifier.joblib')"
      ],
      "metadata": {
        "colab": {
          "base_uri": "https://localhost:8080/"
        },
        "id": "cEW89RKRB0IM",
        "outputId": "712e57b7-748b-4ebf-e3e8-0fcc0ad294fb"
      },
      "execution_count": 287,
      "outputs": [
        {
          "output_type": "execute_result",
          "data": {
            "text/plain": [
              "['XGBClassifier.joblib']"
            ]
          },
          "metadata": {},
          "execution_count": 287
        }
      ]
    },
    {
      "cell_type": "markdown",
      "source": [
        "# Fine Tuning Random FOrest"
      ],
      "metadata": {
        "id": "2qmqMA9CCJg-"
      }
    },
    {
      "cell_type": "code",
      "source": [
        "rand_params ={\n",
        " 'max_depth': [ 3, 5, 7, 9, 11],\n",
        " 'max_leaf_nodes': [2,3,4,5],\n",
        " 'min_samples_leaf': [2,3,4,5],\n",
        " 'min_samples_split': [3,4,5],\n",
        " 'n_estimators': [100,150, 200,250]\n",
        "}"
      ],
      "metadata": {
        "id": "ofPVuzUTDnyM"
      },
      "execution_count": 288,
      "outputs": []
    },
    {
      "cell_type": "code",
      "source": [
        "rand = RandomForestClassifier(bootstrap=True, oob_score=True, n_jobs= -1, criterion='gini')"
      ],
      "metadata": {
        "id": "stp4QP7jDz2J"
      },
      "execution_count": 289,
      "outputs": []
    },
    {
      "cell_type": "code",
      "source": [
        "# using random function to perform random search cv\n",
        "rscv2 = random_search_cv(rand, rand_params, n_iters=50)"
      ],
      "metadata": {
        "colab": {
          "base_uri": "https://localhost:8080/"
        },
        "id": "w6Yf7ERzDqX-",
        "outputId": "8cb63977-70f7-404f-e302-59f4fdeffa37"
      },
      "execution_count": 290,
      "outputs": [
        {
          "output_type": "stream",
          "name": "stdout",
          "text": [
            "Fitting 5 folds for each of 50 candidates, totalling 250 fits\n",
            "best score: 0.7430311720698254\n",
            "    best estimator: RandomForestClassifier(max_depth=11, max_leaf_nodes=5, min_samples_leaf=2,\n",
            "                       min_samples_split=4, n_estimators=150, n_jobs=-1,\n",
            "                       oob_score=True)\n",
            "    best params: {'n_estimators': 150, 'min_samples_split': 4, 'min_samples_leaf': 2, 'max_leaf_nodes': 5, 'max_depth': 11}\n",
            "    best index: 49\n"
          ]
        }
      ]
    },
    {
      "cell_type": "code",
      "source": [
        "param = rscv2.best_params_"
      ],
      "metadata": {
        "id": "IJAWBsjND1N2"
      },
      "execution_count": 291,
      "outputs": []
    },
    {
      "cell_type": "code",
      "source": [
        "rand_tuned = RandomForestClassifier(n_estimators=param['n_estimators'],\n",
        "                                    min_samples_split = param['min_samples_split'],\n",
        "                                    min_samples_leaf = param['min_samples_leaf'],\n",
        "                                    max_leaf_nodes = param['max_leaf_nodes'],\n",
        "                                    max_depth= param['max_depth'],\n",
        "                                    bootstrap= True, oob_score=True)"
      ],
      "metadata": {
        "id": "YqawtDxTD77x"
      },
      "execution_count": 292,
      "outputs": []
    },
    {
      "cell_type": "code",
      "source": [
        "# fitting on splitted data to see performance\n",
        "rand_tuned.fit(xtrain_bala_scaled, ytrain_bala)"
      ],
      "metadata": {
        "colab": {
          "base_uri": "https://localhost:8080/"
        },
        "id": "NmuZGAEND748",
        "outputId": "a6628c27-3e87-4772-e775-422676bbef20"
      },
      "execution_count": 293,
      "outputs": [
        {
          "output_type": "execute_result",
          "data": {
            "text/plain": [
              "RandomForestClassifier(max_depth=11, max_leaf_nodes=5, min_samples_leaf=2,\n",
              "                       min_samples_split=4, n_estimators=150, oob_score=True)"
            ]
          },
          "metadata": {},
          "execution_count": 293
        }
      ]
    },
    {
      "cell_type": "code",
      "source": [
        "ypred2 = rand_tuned.predict(xtest_bala_scaled)\n",
        "\n",
        "calculate_results(y_true=ytest_bala, y_pred = ypred2)"
      ],
      "metadata": {
        "colab": {
          "base_uri": "https://localhost:8080/"
        },
        "id": "HmXWSAGVD71_",
        "outputId": "edf7305f-72de-430a-e963-85aa209c13a9"
      },
      "execution_count": 294,
      "outputs": [
        {
          "output_type": "execute_result",
          "data": {
            "text/plain": [
              "{'accuracy': 77.0573566084788,\n",
              " 'precision': 0.7727212151767202,\n",
              " 'recall': 0.770573566084788,\n",
              " 'f1': 0.7700845119810794}"
            ]
          },
          "metadata": {},
          "execution_count": 294
        }
      ]
    },
    {
      "cell_type": "code",
      "source": [
        "# ploting roc curve for random forest classifier\n",
        "# it requires probability as input rather than hard value\n",
        "ypred2_proba = rand_tuned.predict_proba(xtest_bala_scaled)\n",
        "plot_roc(ytest_bala, ypred2_proba)"
      ],
      "metadata": {
        "colab": {
          "base_uri": "https://localhost:8080/",
          "height": 621
        },
        "id": "HXYhJlAUD7zV",
        "outputId": "1913f0a0-8f88-4075-c4f0-b6a90ffcc10a"
      },
      "execution_count": 295,
      "outputs": [
        {
          "output_type": "display_data",
          "data": {
            "text/plain": [
              "<Figure size 1080x720 with 1 Axes>"
            ],
            "image/png": "[encoded data removed]"
          },
          "metadata": {
            "needs_background": "light"
          }
        }
      ]
    },
    {
      "cell_type": "code",
      "source": [
        "#FInally fitting whole dataset\n",
        "rand_tuned.fit(X_balanced, y_balanced)"
      ],
      "metadata": {
        "colab": {
          "base_uri": "https://localhost:8080/"
        },
        "id": "kW-0Syr-G2-M",
        "outputId": "2313b94a-0157-48d9-db21-b826b444622f"
      },
      "execution_count": 296,
      "outputs": [
        {
          "output_type": "execute_result",
          "data": {
            "text/plain": [
              "RandomForestClassifier(max_depth=11, max_leaf_nodes=5, min_samples_leaf=2,\n",
              "                       min_samples_split=4, n_estimators=150, oob_score=True)"
            ]
          },
          "metadata": {},
          "execution_count": 296
        }
      ]
    },
    {
      "cell_type": "code",
      "source": [
        "# Saving model\n",
        "joblib.dump(rand_tuned, 'RandomForestClassifier.joblib')"
      ],
      "metadata": {
        "colab": {
          "base_uri": "https://localhost:8080/"
        },
        "id": "epkZYtRiGgPB",
        "outputId": "266e29fd-666b-4c65-f9be-56e2cf54f134"
      },
      "execution_count": 297,
      "outputs": [
        {
          "output_type": "execute_result",
          "data": {
            "text/plain": [
              "['RandomForestClassifier.joblib']"
            ]
          },
          "metadata": {},
          "execution_count": 297
        }
      ]
    },
    {
      "cell_type": "markdown",
      "source": [
        "## Just to see a Cross validation"
      ],
      "metadata": {
        "id": "yyzqw-vcJYnU"
      }
    },
    {
      "cell_type": "code",
      "source": [
        "from sklearn.model_selection import cross_val_score"
      ],
      "metadata": {
        "id": "R3J8X6mwHHU6"
      },
      "execution_count": 298,
      "outputs": []
    },
    {
      "cell_type": "code",
      "source": [
        "aa = cross_val_score(xgb_tuned, X_balanced, y_balanced, n_jobs=-1,\n",
        "                     verbose = 1,\n",
        "                     cv = 5)"
      ],
      "metadata": {
        "colab": {
          "base_uri": "https://localhost:8080/"
        },
        "id": "EFO1gfj1HRAJ",
        "outputId": "55971df9-f583-4207-ed64-943384105712"
      },
      "execution_count": 299,
      "outputs": [
        {
          "output_type": "stream",
          "name": "stderr",
          "text": [
            "[Parallel(n_jobs=-1)]: Using backend LokyBackend with 2 concurrent workers.\n",
            "[Parallel(n_jobs=-1)]: Done   5 out of   5 | elapsed:    1.4s finished\n"
          ]
        }
      ]
    },
    {
      "cell_type": "code",
      "source": [
        "np.mean(aa)"
      ],
      "metadata": {
        "colab": {
          "base_uri": "https://localhost:8080/"
        },
        "id": "Gred1IwvHrGy",
        "outputId": "8f3b0cf9-177b-42fc-c3de-6f523c8bf6d3"
      },
      "execution_count": 300,
      "outputs": [
        {
          "output_type": "execute_result",
          "data": {
            "text/plain": [
              "0.8078977556109725"
            ]
          },
          "metadata": {},
          "execution_count": 300
        }
      ]
    },
    {
      "cell_type": "code",
      "source": [
        "aaa = cross_val_score(rand_tuned, X_balanced, y_balanced, n_jobs=-1,\n",
        "                     verbose = 1,\n",
        "                     cv = 5)"
      ],
      "metadata": {
        "colab": {
          "base_uri": "https://localhost:8080/"
        },
        "id": "ZnqZVaNOHxYE",
        "outputId": "0dc27950-a428-4224-eb7e-ff8fb50fd4a0"
      },
      "execution_count": 301,
      "outputs": [
        {
          "output_type": "stream",
          "name": "stderr",
          "text": [
            "[Parallel(n_jobs=-1)]: Using backend LokyBackend with 2 concurrent workers.\n",
            "[Parallel(n_jobs=-1)]: Done   5 out of   5 | elapsed:    1.7s finished\n"
          ]
        }
      ]
    },
    {
      "cell_type": "code",
      "source": [
        "np.mean(aaa)"
      ],
      "metadata": {
        "colab": {
          "base_uri": "https://localhost:8080/"
        },
        "id": "KRDil_HZIZC3",
        "outputId": "4fd2231b-95e8-4e93-800a-b9dcf89c3c06"
      },
      "execution_count": 302,
      "outputs": [
        {
          "output_type": "execute_result",
          "data": {
            "text/plain": [
              "0.7415336658354115"
            ]
          },
          "metadata": {},
          "execution_count": 302
        }
      ]
    },
    {
      "cell_type": "code",
      "source": [],
      "metadata": {
        "id": "S8pfcYjWIavm"
      },
      "execution_count": 302,
      "outputs": []
    }
  ],
  "metadata": {
    "colab": {
      "collapsed_sections": [],
      "provenance": [],
      "authorship_tag": "ABX9TyMorMP6FmcLXQxV1KSHqjsB",
      "include_colab_link": true
    },
    "kernelspec": {
      "display_name": "Python 3",
      "name": "python3"
    },
    "language_info": {
      "name": "python"
    }
  },
  "nbformat": 4,
  "nbformat_minor": 0
}