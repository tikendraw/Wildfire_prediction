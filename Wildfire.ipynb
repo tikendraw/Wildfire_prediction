{
 "cells": [
  {
   "cell_type": "markdown",
   "metadata": {
    "id": "JE2u9nzflX7N"
   },
   "source": [
    "#Predictive modeling of wildfires: A new dataset and machine learning approach"
   ]
  },
  {
   "cell_type": "markdown",
   "metadata": {
    "id": "IRqq9IyLlvhZ"
   },
   "source": [
    "Abstract\n",
    "Wildfires, whether natural or caused by humans, are considered among the most dangerous and devastating disasters around the world.\n",
    "\n",
    "To address this issue, many research efforts have been conducted in order to monitor, predict and prevent wildfires using several Artificial Intelligence techniques and strategies such as Big Data, Machine Learning, and Remote Sensing. T\n",
    "\n",
    "he latter offers a rich source of satellite images, from which we can retrieve a huge amount of data that can be used to monitor wildfires.  The method used in this paper combines Big Data, Remote Sensing and Data Mining algorithms (Artificial Neural Network and SVM) to process data collected from satellite images over large areas and extract insights from them to predict the occurrence of wildfires and avoid such disasters. \n",
    "\n",
    "\n",
    " This dataset is available on GitHub via this link (https://github.com/ouladsayadyounes/Wildfires). "
   ]
  },
  {
   "cell_type": "code",
   "execution_count": 2,
   "metadata": {
    "id": "Q4Dah3IUlLrK"
   },
   "outputs": [],
   "source": [
    "data_repo = 'https://github.com/ouladsayadyounes/WildFires'"
   ]
  },
  {
   "cell_type": "code",
   "execution_count": 3,
   "metadata": {
    "colab": {
     "base_uri": "https://localhost:8080/"
    },
    "id": "EIXLeBuTlXLc",
    "outputId": "596bd78b-a695-416f-d1aa-af879e16d097"
   },
   "outputs": [
    {
     "name": "stdout",
     "output_type": "stream",
     "text": [
      "fatal: destination path 'WildFires' already exists and is not an empty directory.\r\n"
     ]
    }
   ],
   "source": [
    "# get the data\n",
    "! git clone $data_repo"
   ]
  },
  {
   "cell_type": "code",
   "execution_count": 4,
   "metadata": {
    "colab": {
     "base_uri": "https://localhost:8080/",
     "height": 206
    },
    "id": "cYqFipyLm03-",
    "outputId": "cee23bdf-f52e-473b-8db3-ff89ccfbc816"
   },
   "outputs": [
    {
     "data": {
      "text/html": [
       "<div>\n",
       "<style scoped>\n",
       "    .dataframe tbody tr th:only-of-type {\n",
       "        vertical-align: middle;\n",
       "    }\n",
       "\n",
       "    .dataframe tbody tr th {\n",
       "        vertical-align: top;\n",
       "    }\n",
       "\n",
       "    .dataframe thead th {\n",
       "        text-align: right;\n",
       "    }\n",
       "</style>\n",
       "<table border=\"1\" class=\"dataframe\">\n",
       "  <thead>\n",
       "    <tr style=\"text-align: right;\">\n",
       "      <th></th>\n",
       "      <th>NDVI</th>\n",
       "      <th>LST</th>\n",
       "      <th>BURNED_AREA</th>\n",
       "      <th>CLASS</th>\n",
       "    </tr>\n",
       "  </thead>\n",
       "  <tbody>\n",
       "    <tr>\n",
       "      <th>0</th>\n",
       "      <td>0.506782</td>\n",
       "      <td>14584.272727</td>\n",
       "      <td>4.692308</td>\n",
       "      <td>no_fire</td>\n",
       "    </tr>\n",
       "    <tr>\n",
       "      <th>1</th>\n",
       "      <td>0.522150</td>\n",
       "      <td>14655.833333</td>\n",
       "      <td>5.000000</td>\n",
       "      <td>no_fire</td>\n",
       "    </tr>\n",
       "    <tr>\n",
       "      <th>2</th>\n",
       "      <td>0.682284</td>\n",
       "      <td>14780.000000</td>\n",
       "      <td>5.000000</td>\n",
       "      <td>fire</td>\n",
       "    </tr>\n",
       "    <tr>\n",
       "      <th>3</th>\n",
       "      <td>0.120046</td>\n",
       "      <td>13298.500000</td>\n",
       "      <td>3.500000</td>\n",
       "      <td>no_fire</td>\n",
       "    </tr>\n",
       "    <tr>\n",
       "      <th>4</th>\n",
       "      <td>0.568734</td>\n",
       "      <td>14743.000000</td>\n",
       "      <td>5.000000</td>\n",
       "      <td>no_fire</td>\n",
       "    </tr>\n",
       "  </tbody>\n",
       "</table>\n",
       "</div>"
      ],
      "text/plain": [
       "       NDVI           LST  BURNED_AREA    CLASS\n",
       "0  0.506782  14584.272727     4.692308  no_fire\n",
       "1  0.522150  14655.833333     5.000000  no_fire\n",
       "2  0.682284  14780.000000     5.000000     fire\n",
       "3  0.120046  13298.500000     3.500000  no_fire\n",
       "4  0.568734  14743.000000     5.000000  no_fire"
      ]
     },
     "execution_count": 4,
     "metadata": {},
     "output_type": "execute_result"
    }
   ],
   "source": [
    "#read the DATA\n",
    "import pandas as pd\n",
    "data = pd.read_csv('WildFires/WildFires_DataSet.csv')\n",
    "data.head()"
   ]
  },
  {
   "cell_type": "code",
   "execution_count": 5,
   "metadata": {
    "colab": {
     "base_uri": "https://localhost:8080/"
    },
    "id": "UtJoxbsLnKda",
    "outputId": "e2ded535-b8fc-4baf-b64f-87e628367901"
   },
   "outputs": [
    {
     "name": "stdout",
     "output_type": "stream",
     "text": [
      "<class 'pandas.core.frame.DataFrame'>\n",
      "RangeIndex: 1713 entries, 0 to 1712\n",
      "Data columns (total 4 columns):\n",
      " #   Column       Non-Null Count  Dtype  \n",
      "---  ------       --------------  -----  \n",
      " 0   NDVI         1713 non-null   float64\n",
      " 1   LST          1713 non-null   float64\n",
      " 2   BURNED_AREA  1713 non-null   float64\n",
      " 3   CLASS        1713 non-null   object \n",
      "dtypes: float64(3), object(1)\n",
      "memory usage: 53.7+ KB\n"
     ]
    }
   ],
   "source": [
    "data.info()"
   ]
  },
  {
   "cell_type": "code",
   "execution_count": 6,
   "metadata": {
    "colab": {
     "base_uri": "https://localhost:8080/",
     "height": 300
    },
    "id": "zqyb84wwoBKT",
    "outputId": "6a7c95b3-9b49-41ee-9fdf-286a7d7a8f70"
   },
   "outputs": [
    {
     "data": {
      "text/html": [
       "<div>\n",
       "<style scoped>\n",
       "    .dataframe tbody tr th:only-of-type {\n",
       "        vertical-align: middle;\n",
       "    }\n",
       "\n",
       "    .dataframe tbody tr th {\n",
       "        vertical-align: top;\n",
       "    }\n",
       "\n",
       "    .dataframe thead th {\n",
       "        text-align: right;\n",
       "    }\n",
       "</style>\n",
       "<table border=\"1\" class=\"dataframe\">\n",
       "  <thead>\n",
       "    <tr style=\"text-align: right;\">\n",
       "      <th></th>\n",
       "      <th>NDVI</th>\n",
       "      <th>LST</th>\n",
       "      <th>BURNED_AREA</th>\n",
       "    </tr>\n",
       "  </thead>\n",
       "  <tbody>\n",
       "    <tr>\n",
       "      <th>count</th>\n",
       "      <td>1713.000000</td>\n",
       "      <td>1713.000000</td>\n",
       "      <td>1713.000000</td>\n",
       "    </tr>\n",
       "    <tr>\n",
       "      <th>mean</th>\n",
       "      <td>0.555665</td>\n",
       "      <td>14622.802073</td>\n",
       "      <td>4.674973</td>\n",
       "    </tr>\n",
       "    <tr>\n",
       "      <th>std</th>\n",
       "      <td>0.092847</td>\n",
       "      <td>366.927861</td>\n",
       "      <td>0.583791</td>\n",
       "    </tr>\n",
       "    <tr>\n",
       "      <th>min</th>\n",
       "      <td>0.030735</td>\n",
       "      <td>13137.000000</td>\n",
       "      <td>3.000000</td>\n",
       "    </tr>\n",
       "    <tr>\n",
       "      <th>25%</th>\n",
       "      <td>0.501276</td>\n",
       "      <td>14406.000000</td>\n",
       "      <td>4.521951</td>\n",
       "    </tr>\n",
       "    <tr>\n",
       "      <th>50%</th>\n",
       "      <td>0.565181</td>\n",
       "      <td>14645.750000</td>\n",
       "      <td>4.920635</td>\n",
       "    </tr>\n",
       "    <tr>\n",
       "      <th>75%</th>\n",
       "      <td>0.620987</td>\n",
       "      <td>14881.300000</td>\n",
       "      <td>5.000000</td>\n",
       "    </tr>\n",
       "    <tr>\n",
       "      <th>max</th>\n",
       "      <td>0.781723</td>\n",
       "      <td>15611.570513</td>\n",
       "      <td>9.000000</td>\n",
       "    </tr>\n",
       "  </tbody>\n",
       "</table>\n",
       "</div>"
      ],
      "text/plain": [
       "              NDVI           LST  BURNED_AREA\n",
       "count  1713.000000   1713.000000  1713.000000\n",
       "mean      0.555665  14622.802073     4.674973\n",
       "std       0.092847    366.927861     0.583791\n",
       "min       0.030735  13137.000000     3.000000\n",
       "25%       0.501276  14406.000000     4.521951\n",
       "50%       0.565181  14645.750000     4.920635\n",
       "75%       0.620987  14881.300000     5.000000\n",
       "max       0.781723  15611.570513     9.000000"
      ]
     },
     "execution_count": 6,
     "metadata": {},
     "output_type": "execute_result"
    }
   ],
   "source": [
    "data.describe()"
   ]
  },
  {
   "cell_type": "code",
   "execution_count": 7,
   "metadata": {
    "colab": {
     "base_uri": "https://localhost:8080/"
    },
    "id": "y2l4c8f9nvPu",
    "outputId": "48249d6e-aadb-406b-b697-a2607661f68e"
   },
   "outputs": [
    {
     "data": {
      "text/plain": [
       "NDVI           0\n",
       "LST            0\n",
       "BURNED_AREA    0\n",
       "CLASS          0\n",
       "dtype: int64"
      ]
     },
     "execution_count": 7,
     "metadata": {},
     "output_type": "execute_result"
    }
   ],
   "source": [
    "# check for nulls\n",
    "data.isnull().sum()"
   ]
  },
  {
   "cell_type": "code",
   "execution_count": 8,
   "metadata": {
    "colab": {
     "base_uri": "https://localhost:8080/"
    },
    "id": "OJdibVhGr3CR",
    "outputId": "9063cec1-d311-4a28-e9c6-817e39320bbb"
   },
   "outputs": [
    {
     "name": "stdout",
     "output_type": "stream",
     "text": [
      "before Dropping (1713, 4)\n",
      "after Dropping (1438, 4)\n"
     ]
    }
   ],
   "source": [
    "# Removing the Duplicates\n",
    "print('before Dropping',data.shape)\n",
    "\n",
    "data.drop_duplicates(keep='first',inplace = True)\n",
    "print('after Dropping',data.shape)\n"
   ]
  },
  {
   "cell_type": "markdown",
   "metadata": {
    "id": "N9ohOVWFnN7i"
   },
   "source": [
    "# EDA"
   ]
  },
  {
   "cell_type": "markdown",
   "metadata": {
    "id": "JRg6wwKMofYY"
   },
   "source": [
    "### checking for Feature Correlation"
   ]
  },
  {
   "cell_type": "code",
   "execution_count": 9,
   "metadata": {
    "colab": {
     "base_uri": "https://localhost:8080/",
     "height": 287
    },
    "id": "aQ9DyouRnyVK",
    "outputId": "b7db3665-0f26-445b-966c-bffe27c5af0a"
   },
   "outputs": [
    {
     "data": {
      "text/plain": [
       "<AxesSubplot:>"
      ]
     },
     "execution_count": 9,
     "metadata": {},
     "output_type": "execute_result"
    },
    {
     "data": {
      "image/png": "[encoded data removed]",
      "text/plain": [
       "<Figure size 432x288 with 2 Axes>"
      ]
     },
     "metadata": {
      "needs_background": "light"
     },
     "output_type": "display_data"
    }
   ],
   "source": [
    "import seaborn as sns\n",
    "import numpy as np\n",
    "sns.heatmap(data.corr(), annot = True)"
   ]
  },
  {
   "cell_type": "markdown",
   "metadata": {
    "id": "bpWbH61eoZfB"
   },
   "source": [
    "There is no Strong Correlation:\n",
    "Feature are independent"
   ]
  },
  {
   "cell_type": "markdown",
   "metadata": {
    "id": "wQVgCq8Lo-s9"
   },
   "source": [
    "## Checking Distribution"
   ]
  },
  {
   "cell_type": "markdown",
   "metadata": {
    "id": "hobLU3P72gRk"
   },
   "source": [
    "### Univariate Analysis"
   ]
  },
  {
   "cell_type": "code",
   "execution_count": 10,
   "metadata": {
    "colab": {
     "base_uri": "https://localhost:8080/"
    },
    "id": "aFfxmzxNpa1e",
    "outputId": "dfb656c9-8254-42bf-d39a-09f7e2292d3d"
   },
   "outputs": [
    {
     "name": "stdout",
     "output_type": "stream",
     "text": [
      "Index(['NDVI', 'LST', 'BURNED_AREA', 'CLASS'], dtype='object')\n"
     ]
    }
   ],
   "source": [
    "cols = data.columns\n",
    "print(cols)"
   ]
  },
  {
   "cell_type": "code",
   "execution_count": 11,
   "metadata": {
    "colab": {
     "base_uri": "https://localhost:8080/",
     "height": 882
    },
    "id": "cjhgBHt7o-qJ",
    "outputId": "7d11946a-d8f3-4704-8301-80c7be4a5fd3"
   },
   "outputs": [
    {
     "data": {
      "image/png": "[encoded data removed]",
      "text/plain": [
       "<Figure size 1440x1440 with 3 Axes>"
      ]
     },
     "metadata": {
      "needs_background": "light"
     },
     "output_type": "display_data"
    }
   ],
   "source": [
    "import matplotlib.pyplot as plt\n",
    "\n",
    "#creating temp \n",
    "_fired = data[(data.CLASS=='fire')]\n",
    "_not_fired = data[~(data.CLASS=='fire')]\n",
    "\n",
    "plt.figure(figsize = (20,20))\n",
    "\n",
    "for i,col in enumerate(cols):\n",
    "    if i < 3:\n",
    "        plt.subplot(4,1,i+1)\n",
    "        # d_plot(cols[i])\n",
    "        # plt.title(cols[i])\n",
    "        data1 = _fired[col]\n",
    "        data2 = _not_fired[col]\n",
    "        # plt.figure(figsize=(15,5))\n",
    "        bins = np.linspace(data[col].min(), data[col].max(), 100)\n",
    "        sns.histplot(data2, bins=bins, alpha=0.5, color='green', kde=True,label='not_fired')\n",
    "\n",
    "        sns.histplot(data1, bins=bins, alpha=0.5, color = 'blue', kde=True,label='fired')\n",
    "        plt.gca().set(title=f'Distribution Histogram of {col}', ylabel='Count')\n",
    "        plt.legend()"
   ]
  },
  {
   "cell_type": "code",
   "execution_count": 12,
   "metadata": {
    "colab": {
     "base_uri": "https://localhost:8080/",
     "height": 297
    },
    "id": "GL5LYMty2pB2",
    "outputId": "aa1a5ecf-1fbb-48bc-b60c-52b1d406a056"
   },
   "outputs": [
    {
     "data": {
      "text/plain": [
       "<AxesSubplot:xlabel='CLASS', ylabel='count'>"
      ]
     },
     "execution_count": 12,
     "metadata": {},
     "output_type": "execute_result"
    },
    {
     "data": {
      "image/png": "[encoded data removed]",
      "text/plain": [
       "<Figure size 432x288 with 1 Axes>"
      ]
     },
     "metadata": {
      "needs_background": "light"
     },
     "output_type": "display_data"
    }
   ],
   "source": [
    "sns.countplot(data = data , x = 'CLASS')"
   ]
  },
  {
   "cell_type": "markdown",
   "metadata": {
    "id": "s1D1CClEo-nL"
   },
   "source": [
    "**High Class Immbalance**"
   ]
  },
  {
   "cell_type": "markdown",
   "metadata": {
    "id": "Et9yru9DUOL_"
   },
   "source": [
    "# Outlier Removal"
   ]
  },
  {
   "cell_type": "code",
   "execution_count": 13,
   "metadata": {
    "colab": {
     "base_uri": "https://localhost:8080/",
     "height": 320
    },
    "id": "HOj3gaYd3Gwe",
    "outputId": "e42e76c2-378f-4709-cecf-67e57ffa2088"
   },
   "outputs": [
    {
     "data": {
      "image/png": "[encoded data removed]",
      "text/plain": [
       "<Figure size 1080x360 with 3 Axes>"
      ]
     },
     "metadata": {
      "needs_background": "light"
     },
     "output_type": "display_data"
    }
   ],
   "source": [
    "# OUtliers check\n",
    "num_col = data.select_dtypes('float')\n",
    "\n",
    "plt.figure(figsize=(15,5))\n",
    "i = 1\n",
    "for col in num_col:\n",
    "    plt.subplot(1,3,i)\n",
    "    sns.boxplot(data = data[col])\n",
    "    i += 1\n",
    "plt.show()"
   ]
  },
  {
   "cell_type": "code",
   "execution_count": 14,
   "metadata": {
    "colab": {
     "base_uri": "https://localhost:8080/"
    },
    "id": "R3I7yM2RUN-T",
    "outputId": "529ad69d-0999-4332-ae72-dcd69495ca11"
   },
   "outputs": [
    {
     "data": {
      "text/plain": [
       "array([ 1,  1,  1, ...,  1, -1,  1])"
      ]
     },
     "execution_count": 14,
     "metadata": {},
     "output_type": "execute_result"
    }
   ],
   "source": [
    "from sklearn.covariance import EllipticEnvelope\n",
    "\n",
    "# we will use a copy of data with dropped labels\n",
    "data_with_no_labels = data.drop('CLASS', axis = 1)\n",
    "elliptical = EllipticEnvelope().fit(data_with_no_labels)\n",
    "outliers = elliptical.predict(data_with_no_labels)\n",
    "\n",
    "outliers"
   ]
  },
  {
   "cell_type": "code",
   "execution_count": 15,
   "metadata": {
    "colab": {
     "base_uri": "https://localhost:8080/"
    },
    "id": "kQPY3SFMVAXh",
    "outputId": "e45c57b4-5f38-4d13-9c70-c7c859751883"
   },
   "outputs": [
    {
     "name": "stdout",
     "output_type": "stream",
     "text": [
      "Counter({1: 1294, -1: 144})\n",
      "There are 144 Outliers in the dataset\n"
     ]
    }
   ],
   "source": [
    "from collections import Counter\n",
    "bincount = Counter(outliers)\n",
    "print(bincount)\n",
    "print(f'There are {bincount[-1]} Outliers in the dataset')"
   ]
  },
  {
   "cell_type": "code",
   "execution_count": 16,
   "metadata": {
    "colab": {
     "base_uri": "https://localhost:8080/",
     "height": 206
    },
    "id": "K8_srmvSVlNW",
    "outputId": "3ebbb30f-489f-4856-8213-96cfc5758fa7"
   },
   "outputs": [
    {
     "data": {
      "text/html": [
       "<div>\n",
       "<style scoped>\n",
       "    .dataframe tbody tr th:only-of-type {\n",
       "        vertical-align: middle;\n",
       "    }\n",
       "\n",
       "    .dataframe tbody tr th {\n",
       "        vertical-align: top;\n",
       "    }\n",
       "\n",
       "    .dataframe thead th {\n",
       "        text-align: right;\n",
       "    }\n",
       "</style>\n",
       "<table border=\"1\" class=\"dataframe\">\n",
       "  <thead>\n",
       "    <tr style=\"text-align: right;\">\n",
       "      <th></th>\n",
       "      <th>NDVI</th>\n",
       "      <th>LST</th>\n",
       "      <th>BURNED_AREA</th>\n",
       "      <th>CLASS</th>\n",
       "      <th>outlier</th>\n",
       "    </tr>\n",
       "  </thead>\n",
       "  <tbody>\n",
       "    <tr>\n",
       "      <th>0</th>\n",
       "      <td>0.506782</td>\n",
       "      <td>14584.272727</td>\n",
       "      <td>4.692308</td>\n",
       "      <td>no_fire</td>\n",
       "      <td>1</td>\n",
       "    </tr>\n",
       "    <tr>\n",
       "      <th>1</th>\n",
       "      <td>0.522150</td>\n",
       "      <td>14655.833333</td>\n",
       "      <td>5.000000</td>\n",
       "      <td>no_fire</td>\n",
       "      <td>1</td>\n",
       "    </tr>\n",
       "    <tr>\n",
       "      <th>2</th>\n",
       "      <td>0.682284</td>\n",
       "      <td>14780.000000</td>\n",
       "      <td>5.000000</td>\n",
       "      <td>fire</td>\n",
       "      <td>1</td>\n",
       "    </tr>\n",
       "    <tr>\n",
       "      <th>3</th>\n",
       "      <td>0.120046</td>\n",
       "      <td>13298.500000</td>\n",
       "      <td>3.500000</td>\n",
       "      <td>no_fire</td>\n",
       "      <td>-1</td>\n",
       "    </tr>\n",
       "    <tr>\n",
       "      <th>4</th>\n",
       "      <td>0.568734</td>\n",
       "      <td>14743.000000</td>\n",
       "      <td>5.000000</td>\n",
       "      <td>no_fire</td>\n",
       "      <td>1</td>\n",
       "    </tr>\n",
       "  </tbody>\n",
       "</table>\n",
       "</div>"
      ],
      "text/plain": [
       "       NDVI           LST  BURNED_AREA    CLASS  outlier\n",
       "0  0.506782  14584.272727     4.692308  no_fire        1\n",
       "1  0.522150  14655.833333     5.000000  no_fire        1\n",
       "2  0.682284  14780.000000     5.000000     fire        1\n",
       "3  0.120046  13298.500000     3.500000  no_fire       -1\n",
       "4  0.568734  14743.000000     5.000000  no_fire        1"
      ]
     },
     "execution_count": 16,
     "metadata": {},
     "output_type": "execute_result"
    }
   ],
   "source": [
    "data['outlier'] = outliers\n",
    "data.head()"
   ]
  },
  {
   "cell_type": "code",
   "execution_count": 17,
   "metadata": {
    "colab": {
     "base_uri": "https://localhost:8080/",
     "height": 206
    },
    "id": "8ee6yJKFVyZ9",
    "outputId": "9284c11a-5cff-43a2-91eb-90eec452035b"
   },
   "outputs": [
    {
     "data": {
      "text/html": [
       "<div>\n",
       "<style scoped>\n",
       "    .dataframe tbody tr th:only-of-type {\n",
       "        vertical-align: middle;\n",
       "    }\n",
       "\n",
       "    .dataframe tbody tr th {\n",
       "        vertical-align: top;\n",
       "    }\n",
       "\n",
       "    .dataframe thead th {\n",
       "        text-align: right;\n",
       "    }\n",
       "</style>\n",
       "<table border=\"1\" class=\"dataframe\">\n",
       "  <thead>\n",
       "    <tr style=\"text-align: right;\">\n",
       "      <th></th>\n",
       "      <th>NDVI</th>\n",
       "      <th>LST</th>\n",
       "      <th>BURNED_AREA</th>\n",
       "      <th>CLASS</th>\n",
       "    </tr>\n",
       "  </thead>\n",
       "  <tbody>\n",
       "    <tr>\n",
       "      <th>0</th>\n",
       "      <td>0.506782</td>\n",
       "      <td>14584.272727</td>\n",
       "      <td>4.692308</td>\n",
       "      <td>no_fire</td>\n",
       "    </tr>\n",
       "    <tr>\n",
       "      <th>1</th>\n",
       "      <td>0.522150</td>\n",
       "      <td>14655.833333</td>\n",
       "      <td>5.000000</td>\n",
       "      <td>no_fire</td>\n",
       "    </tr>\n",
       "    <tr>\n",
       "      <th>2</th>\n",
       "      <td>0.682284</td>\n",
       "      <td>14780.000000</td>\n",
       "      <td>5.000000</td>\n",
       "      <td>fire</td>\n",
       "    </tr>\n",
       "    <tr>\n",
       "      <th>4</th>\n",
       "      <td>0.568734</td>\n",
       "      <td>14743.000000</td>\n",
       "      <td>5.000000</td>\n",
       "      <td>no_fire</td>\n",
       "    </tr>\n",
       "    <tr>\n",
       "      <th>5</th>\n",
       "      <td>0.454228</td>\n",
       "      <td>14929.571429</td>\n",
       "      <td>4.904762</td>\n",
       "      <td>fire</td>\n",
       "    </tr>\n",
       "  </tbody>\n",
       "</table>\n",
       "</div>"
      ],
      "text/plain": [
       "       NDVI           LST  BURNED_AREA    CLASS\n",
       "0  0.506782  14584.272727     4.692308  no_fire\n",
       "1  0.522150  14655.833333     5.000000  no_fire\n",
       "2  0.682284  14780.000000     5.000000     fire\n",
       "4  0.568734  14743.000000     5.000000  no_fire\n",
       "5  0.454228  14929.571429     4.904762     fire"
      ]
     },
     "execution_count": 17,
     "metadata": {},
     "output_type": "execute_result"
    }
   ],
   "source": [
    "new_data =  data[data.outlier == 1]\n",
    "\n",
    "#dropping outlier column\n",
    "new_data = new_data.drop('outlier', axis = 1)\n",
    "new_data.head()"
   ]
  },
  {
   "cell_type": "code",
   "execution_count": 18,
   "metadata": {
    "colab": {
     "base_uri": "https://localhost:8080/",
     "height": 320
    },
    "id": "WYwOyxgG3Pd-",
    "outputId": "4664555a-6e51-480e-869f-025d26a75704"
   },
   "outputs": [
    {
     "data": {
      "image/png": "[encoded data removed]",
      "text/plain": [
       "<Figure size 1080x360 with 3 Axes>"
      ]
     },
     "metadata": {
      "needs_background": "light"
     },
     "output_type": "display_data"
    }
   ],
   "source": [
    "# OUtliers check\n",
    "num_col = new_data.select_dtypes('float')\n",
    "\n",
    "plt.figure(figsize=(15,5))\n",
    "i = 1\n",
    "for col in num_col:\n",
    "    plt.subplot(1,3,i)\n",
    "    sns.boxplot(data = new_data[col])\n",
    "    i += 1\n",
    "plt.show()"
   ]
  },
  {
   "cell_type": "markdown",
   "metadata": {
    "id": "6IuydLBf3c1i"
   },
   "source": [
    "* Outlier Removal changes a the Dataset a Little as there are not many outliers"
   ]
  },
  {
   "cell_type": "markdown",
   "metadata": {
    "id": "jbgMMUKZMkLW"
   },
   "source": [
    "## Feature Engineering"
   ]
  },
  {
   "cell_type": "markdown",
   "metadata": {
    "id": "KbESfC0CnCyj"
   },
   "source": [
    "We will create features with combination of other features and see it Helps to improve our models performance"
   ]
  },
  {
   "cell_type": "code",
   "execution_count": 19,
   "metadata": {
    "id": "w7ziszJvMpLQ"
   },
   "outputs": [],
   "source": [
    "from sklearn.preprocessing import PolynomialFeatures"
   ]
  },
  {
   "cell_type": "code",
   "execution_count": 20,
   "metadata": {
    "colab": {
     "base_uri": "https://localhost:8080/",
     "height": 206
    },
    "id": "b2KcLNw3pq_k",
    "outputId": "8304d808-6efe-4ae1-b510-e73002a00f21"
   },
   "outputs": [
    {
     "data": {
      "text/html": [
       "<div>\n",
       "<style scoped>\n",
       "    .dataframe tbody tr th:only-of-type {\n",
       "        vertical-align: middle;\n",
       "    }\n",
       "\n",
       "    .dataframe tbody tr th {\n",
       "        vertical-align: top;\n",
       "    }\n",
       "\n",
       "    .dataframe thead th {\n",
       "        text-align: right;\n",
       "    }\n",
       "</style>\n",
       "<table border=\"1\" class=\"dataframe\">\n",
       "  <thead>\n",
       "    <tr style=\"text-align: right;\">\n",
       "      <th></th>\n",
       "      <th>NDVI</th>\n",
       "      <th>LST</th>\n",
       "      <th>BURNED_AREA</th>\n",
       "    </tr>\n",
       "  </thead>\n",
       "  <tbody>\n",
       "    <tr>\n",
       "      <th>0</th>\n",
       "      <td>0.506782</td>\n",
       "      <td>14584.272727</td>\n",
       "      <td>4.692308</td>\n",
       "    </tr>\n",
       "    <tr>\n",
       "      <th>1</th>\n",
       "      <td>0.522150</td>\n",
       "      <td>14655.833333</td>\n",
       "      <td>5.000000</td>\n",
       "    </tr>\n",
       "    <tr>\n",
       "      <th>2</th>\n",
       "      <td>0.682284</td>\n",
       "      <td>14780.000000</td>\n",
       "      <td>5.000000</td>\n",
       "    </tr>\n",
       "    <tr>\n",
       "      <th>4</th>\n",
       "      <td>0.568734</td>\n",
       "      <td>14743.000000</td>\n",
       "      <td>5.000000</td>\n",
       "    </tr>\n",
       "    <tr>\n",
       "      <th>5</th>\n",
       "      <td>0.454228</td>\n",
       "      <td>14929.571429</td>\n",
       "      <td>4.904762</td>\n",
       "    </tr>\n",
       "  </tbody>\n",
       "</table>\n",
       "</div>"
      ],
      "text/plain": [
       "       NDVI           LST  BURNED_AREA\n",
       "0  0.506782  14584.272727     4.692308\n",
       "1  0.522150  14655.833333     5.000000\n",
       "2  0.682284  14780.000000     5.000000\n",
       "4  0.568734  14743.000000     5.000000\n",
       "5  0.454228  14929.571429     4.904762"
      ]
     },
     "execution_count": 20,
     "metadata": {},
     "output_type": "execute_result"
    }
   ],
   "source": [
    "x = new_data.select_dtypes('number')\n",
    "x.head()"
   ]
  },
  {
   "cell_type": "code",
   "execution_count": 21,
   "metadata": {
    "id": "lNAoF_usMpIU"
   },
   "outputs": [],
   "source": [
    "polynomial_features = PolynomialFeatures(degree=3)\n",
    "data_poly = polynomial_features.fit_transform(x)"
   ]
  },
  {
   "cell_type": "code",
   "execution_count": 22,
   "metadata": {
    "colab": {
     "base_uri": "https://localhost:8080/"
    },
    "id": "t13f692yMpFm",
    "outputId": "b241c94d-af61-4f40-f79d-a2fe750980f0"
   },
   "outputs": [
    {
     "data": {
      "text/plain": [
       "(1294, 20)"
      ]
     },
     "execution_count": 22,
     "metadata": {},
     "output_type": "execute_result"
    }
   ],
   "source": [
    "data_poly.shape"
   ]
  },
  {
   "cell_type": "code",
   "execution_count": 23,
   "metadata": {
    "colab": {
     "base_uri": "https://localhost:8080/"
    },
    "id": "AOEPhVArNX2Y",
    "outputId": "1221d2f6-eb7a-4c9d-cb7a-64c7a80f8380"
   },
   "outputs": [
    {
     "data": {
      "text/plain": [
       "array([[1.00000000e+00, 5.06782000e-01, 1.45842727e+04, ...,\n",
       "        9.98058655e+08, 3.21112935e+05, 1.03314085e+02],\n",
       "       [1.00000000e+00, 5.22150000e-01, 1.46558333e+04, ...,\n",
       "        1.07396725e+09, 3.66395833e+05, 1.25000000e+02],\n",
       "       [1.00000000e+00, 6.82284000e-01, 1.47800000e+04, ...,\n",
       "        1.09224200e+09, 3.69500000e+05, 1.25000000e+02],\n",
       "       ...,\n",
       "       [1.00000000e+00, 6.21721000e-01, 1.44060000e+04, ...,\n",
       "        1.03766418e+09, 3.60150000e+05, 1.25000000e+02],\n",
       "       [1.00000000e+00, 7.09715000e-01, 1.43304000e+04, ...,\n",
       "        9.96378094e+08, 3.37344320e+05, 1.14214866e+02],\n",
       "       [1.00000000e+00, 5.49497000e-01, 1.42697778e+04, ...,\n",
       "        1.01813279e+09, 3.56744444e+05, 1.25000000e+02]])"
      ]
     },
     "execution_count": 23,
     "metadata": {},
     "output_type": "execute_result"
    }
   ],
   "source": [
    "data_poly"
   ]
  },
  {
   "cell_type": "markdown",
   "metadata": {
    "id": "ZT0LIa7Go-ZQ"
   },
   "source": [
    "#Preprocessing"
   ]
  },
  {
   "cell_type": "markdown",
   "metadata": {
    "id": "xafSQ54ao-Wp"
   },
   "source": [
    "* Scale/Normalize the data\n",
    "* Encode the Labels"
   ]
  },
  {
   "cell_type": "code",
   "execution_count": 24,
   "metadata": {
    "id": "Vdu9HRUwo-T4"
   },
   "outputs": [],
   "source": [
    "from sklearn.compose import make_column_transformer\n",
    "from sklearn.preprocessing import LabelEncoder, MinMaxScaler"
   ]
  },
  {
   "cell_type": "code",
   "execution_count": 25,
   "metadata": {
    "colab": {
     "base_uri": "https://localhost:8080/"
    },
    "id": "_JQp1SNr4fey",
    "outputId": "847c7edb-035f-42f1-e45f-23b139c1379e"
   },
   "outputs": [
    {
     "data": {
      "text/plain": [
       "array([1, 1, 0, ..., 1, 1, 0])"
      ]
     },
     "execution_count": 25,
     "metadata": {},
     "output_type": "execute_result"
    }
   ],
   "source": [
    "le = LabelEncoder()\n",
    "enc_label = le.fit_transform(new_data.CLASS)\n",
    "enc_label"
   ]
  },
  {
   "cell_type": "markdown",
   "metadata": {
    "id": "vZVc17EQ44N4"
   },
   "source": [
    "Lables Encoded as :\n",
    "* No_fire = 1\n",
    "* Fire    = 0"
   ]
  },
  {
   "cell_type": "code",
   "execution_count": 26,
   "metadata": {
    "id": "I5t3rNhd4fb9"
   },
   "outputs": [],
   "source": [
    "new_data['CLASS'] = enc_label"
   ]
  },
  {
   "cell_type": "code",
   "execution_count": 27,
   "metadata": {
    "colab": {
     "base_uri": "https://localhost:8080/",
     "height": 206
    },
    "id": "LQkBQrog4fY5",
    "outputId": "85b8e339-016e-4c32-8418-441243e93124"
   },
   "outputs": [
    {
     "data": {
      "text/html": [
       "<div>\n",
       "<style scoped>\n",
       "    .dataframe tbody tr th:only-of-type {\n",
       "        vertical-align: middle;\n",
       "    }\n",
       "\n",
       "    .dataframe tbody tr th {\n",
       "        vertical-align: top;\n",
       "    }\n",
       "\n",
       "    .dataframe thead th {\n",
       "        text-align: right;\n",
       "    }\n",
       "</style>\n",
       "<table border=\"1\" class=\"dataframe\">\n",
       "  <thead>\n",
       "    <tr style=\"text-align: right;\">\n",
       "      <th></th>\n",
       "      <th>NDVI</th>\n",
       "      <th>LST</th>\n",
       "      <th>BURNED_AREA</th>\n",
       "      <th>CLASS</th>\n",
       "    </tr>\n",
       "  </thead>\n",
       "  <tbody>\n",
       "    <tr>\n",
       "      <th>0</th>\n",
       "      <td>0.506782</td>\n",
       "      <td>14584.272727</td>\n",
       "      <td>4.692308</td>\n",
       "      <td>1</td>\n",
       "    </tr>\n",
       "    <tr>\n",
       "      <th>1</th>\n",
       "      <td>0.522150</td>\n",
       "      <td>14655.833333</td>\n",
       "      <td>5.000000</td>\n",
       "      <td>1</td>\n",
       "    </tr>\n",
       "    <tr>\n",
       "      <th>2</th>\n",
       "      <td>0.682284</td>\n",
       "      <td>14780.000000</td>\n",
       "      <td>5.000000</td>\n",
       "      <td>0</td>\n",
       "    </tr>\n",
       "    <tr>\n",
       "      <th>4</th>\n",
       "      <td>0.568734</td>\n",
       "      <td>14743.000000</td>\n",
       "      <td>5.000000</td>\n",
       "      <td>1</td>\n",
       "    </tr>\n",
       "    <tr>\n",
       "      <th>5</th>\n",
       "      <td>0.454228</td>\n",
       "      <td>14929.571429</td>\n",
       "      <td>4.904762</td>\n",
       "      <td>0</td>\n",
       "    </tr>\n",
       "  </tbody>\n",
       "</table>\n",
       "</div>"
      ],
      "text/plain": [
       "       NDVI           LST  BURNED_AREA  CLASS\n",
       "0  0.506782  14584.272727     4.692308      1\n",
       "1  0.522150  14655.833333     5.000000      1\n",
       "2  0.682284  14780.000000     5.000000      0\n",
       "4  0.568734  14743.000000     5.000000      1\n",
       "5  0.454228  14929.571429     4.904762      0"
      ]
     },
     "execution_count": 27,
     "metadata": {},
     "output_type": "execute_result"
    }
   ],
   "source": [
    "new_data.head()"
   ]
  },
  {
   "cell_type": "code",
   "execution_count": 28,
   "metadata": {},
   "outputs": [
    {
     "data": {
      "text/html": [
       "<div>\n",
       "<style scoped>\n",
       "    .dataframe tbody tr th:only-of-type {\n",
       "        vertical-align: middle;\n",
       "    }\n",
       "\n",
       "    .dataframe tbody tr th {\n",
       "        vertical-align: top;\n",
       "    }\n",
       "\n",
       "    .dataframe thead th {\n",
       "        text-align: right;\n",
       "    }\n",
       "</style>\n",
       "<table border=\"1\" class=\"dataframe\">\n",
       "  <thead>\n",
       "    <tr style=\"text-align: right;\">\n",
       "      <th></th>\n",
       "      <th>NDVI</th>\n",
       "      <th>LST</th>\n",
       "      <th>BURNED_AREA</th>\n",
       "      <th>CLASS</th>\n",
       "    </tr>\n",
       "  </thead>\n",
       "  <tbody>\n",
       "    <tr>\n",
       "      <th>count</th>\n",
       "      <td>1294.000000</td>\n",
       "      <td>1294.000000</td>\n",
       "      <td>1294.000000</td>\n",
       "      <td>1294.000000</td>\n",
       "    </tr>\n",
       "    <tr>\n",
       "      <th>mean</th>\n",
       "      <td>0.552286</td>\n",
       "      <td>14630.798349</td>\n",
       "      <td>4.804905</td>\n",
       "      <td>0.774343</td>\n",
       "    </tr>\n",
       "    <tr>\n",
       "      <th>std</th>\n",
       "      <td>0.094624</td>\n",
       "      <td>361.809223</td>\n",
       "      <td>0.296594</td>\n",
       "      <td>0.418176</td>\n",
       "    </tr>\n",
       "    <tr>\n",
       "      <th>min</th>\n",
       "      <td>0.030735</td>\n",
       "      <td>13218.000000</td>\n",
       "      <td>3.939130</td>\n",
       "      <td>0.000000</td>\n",
       "    </tr>\n",
       "    <tr>\n",
       "      <th>25%</th>\n",
       "      <td>0.496778</td>\n",
       "      <td>14412.738636</td>\n",
       "      <td>4.672703</td>\n",
       "      <td>1.000000</td>\n",
       "    </tr>\n",
       "    <tr>\n",
       "      <th>50%</th>\n",
       "      <td>0.558677</td>\n",
       "      <td>14651.083333</td>\n",
       "      <td>4.952381</td>\n",
       "      <td>1.000000</td>\n",
       "    </tr>\n",
       "    <tr>\n",
       "      <th>75%</th>\n",
       "      <td>0.619909</td>\n",
       "      <td>14888.031976</td>\n",
       "      <td>5.000000</td>\n",
       "      <td>1.000000</td>\n",
       "    </tr>\n",
       "    <tr>\n",
       "      <th>max</th>\n",
       "      <td>0.781723</td>\n",
       "      <td>15611.570513</td>\n",
       "      <td>6.000000</td>\n",
       "      <td>1.000000</td>\n",
       "    </tr>\n",
       "  </tbody>\n",
       "</table>\n",
       "</div>"
      ],
      "text/plain": [
       "              NDVI           LST  BURNED_AREA        CLASS\n",
       "count  1294.000000   1294.000000  1294.000000  1294.000000\n",
       "mean      0.552286  14630.798349     4.804905     0.774343\n",
       "std       0.094624    361.809223     0.296594     0.418176\n",
       "min       0.030735  13218.000000     3.939130     0.000000\n",
       "25%       0.496778  14412.738636     4.672703     1.000000\n",
       "50%       0.558677  14651.083333     4.952381     1.000000\n",
       "75%       0.619909  14888.031976     5.000000     1.000000\n",
       "max       0.781723  15611.570513     6.000000     1.000000"
      ]
     },
     "execution_count": 28,
     "metadata": {},
     "output_type": "execute_result"
    }
   ],
   "source": [
    "new_data.describe()"
   ]
  },
  {
   "cell_type": "markdown",
   "metadata": {
    "id": "UCfoZOjL0Hlq"
   },
   "source": [
    "## Splititng the dATA"
   ]
  },
  {
   "cell_type": "code",
   "execution_count": 27,
   "metadata": {
    "id": "TZmojgj70J8O"
   },
   "outputs": [],
   "source": [
    "# features and Labels\n",
    "X = new_data.drop('CLASS', axis = 1)\n",
    "y = new_data.CLASS # non Scaled"
   ]
  },
  {
   "cell_type": "code",
   "execution_count": 28,
   "metadata": {
    "id": "bdUbvNhL5QnX"
   },
   "outputs": [],
   "source": [
    "# Spliting the DATA\n",
    "from sklearn.model_selection import train_test_split\n",
    "xtrain, xtest, ytrain, ytest = train_test_split(X, y, test_size = .2, random_state = 2, stratify = y)"
   ]
  },
  {
   "cell_type": "code",
   "execution_count": 29,
   "metadata": {
    "id": "cAeZz6ti0A6a"
   },
   "outputs": [],
   "source": [
    "# Scaling the data\n",
    "scaler = MinMaxScaler()\n",
    "xtrain_scaled = scaler.fit_transform(xtrain)\n",
    "xtest_scaled = scaler.transform(xtest)"
   ]
  },
  {
   "cell_type": "code",
   "execution_count": 30,
   "metadata": {
    "colab": {
     "base_uri": "https://localhost:8080/"
    },
    "id": "HAewBvpY0hck",
    "outputId": "15bfe252-3ecf-4d32-b576-e37b170d4ecd"
   },
   "outputs": [
    {
     "name": "stdout",
     "output_type": "stream",
     "text": [
      "xtest (259, 3) ytest (259,) xtrain (1035, 3) ytrain (1035,)\n"
     ]
    }
   ],
   "source": [
    "print('xtest', xtest_scaled.shape,\n",
    "      'ytest', ytest.shape,\n",
    "      'xtrain', xtrain_scaled.shape,\n",
    "      'ytrain',ytrain.shape)"
   ]
  },
  {
   "cell_type": "code",
   "execution_count": 31,
   "metadata": {
    "id": "jqrkfpZB5TZo"
   },
   "outputs": [],
   "source": [
    "# spliting the Poly data\n",
    "xtrain_poly, xtest_poly, ytrain_poly, ytest_poly = train_test_split(data_poly, y, test_size = .2, random_state = 2, stratify = y)"
   ]
  },
  {
   "cell_type": "code",
   "execution_count": 32,
   "metadata": {
    "id": "b7gpVBYPy_Xv"
   },
   "outputs": [],
   "source": [
    "# scaling poly data\n",
    "scaler = MinMaxScaler()\n",
    "xtrain_poly_scaled = scaler.fit_transform(xtrain_poly)\n",
    "xtest_poly_scaled = scaler.transform(xtest_poly)"
   ]
  },
  {
   "cell_type": "code",
   "execution_count": 33,
   "metadata": {
    "colab": {
     "base_uri": "https://localhost:8080/"
    },
    "id": "vNM1pAhP57oo",
    "outputId": "f2aac092-1fac-4556-cda8-d82c22180a45"
   },
   "outputs": [
    {
     "name": "stdout",
     "output_type": "stream",
     "text": [
      "xtest (259, 20) ytest (259,) xtrain (1035, 20) ytrain (1035,)\n"
     ]
    }
   ],
   "source": [
    "print('xtest', xtest_poly_scaled.shape,\n",
    "      'ytest', ytest_poly.shape,\n",
    "      'xtrain', xtrain_poly_scaled.shape,\n",
    "      'ytrain',ytrain_poly.shape)"
   ]
  },
  {
   "cell_type": "markdown",
   "metadata": {
    "id": "pLMkiTRSqfXc"
   },
   "source": [
    "## Helper functions"
   ]
  },
  {
   "cell_type": "code",
   "execution_count": 34,
   "metadata": {
    "id": "77RLjmGsqfTD"
   },
   "outputs": [],
   "source": [
    "# Function to evaluate: accuracy, precision, recall, f1-score\n",
    "from sklearn.metrics import accuracy_score, precision_recall_fscore_support\n",
    "\n",
    "def calculate_results(y_true, y_pred):\n",
    "    \"\"\"\n",
    "    Calculates model accuracy, precision, recall and f1 score of a binary classification model.\n",
    "\n",
    "    Args:\n",
    "    -----\n",
    "    y_true = true labels in the form of a 1D array\n",
    "    y_pred = predicted labels in the form of a 1D array\n",
    "\n",
    "    Returns a dictionary of accuracy, precision, recall, f1-score.\n",
    "    \"\"\"\n",
    "    # Calculate model accuracy\n",
    "    model_accuracy = accuracy_score(y_true, y_pred) * 100\n",
    "    # Calculate model precision, recall and f1 score using \"weighted\" average\n",
    "    model_precision, model_recall, model_f1, _ = precision_recall_fscore_support(y_true, y_pred, average='weighted')\n",
    "    model_results = {\"accuracy\": model_accuracy,\n",
    "                  \"precision\": model_precision,\n",
    "                  \"recall\": model_recall,\n",
    "                  \"f1\": model_f1}\n",
    "    return model_results\n"
   ]
  },
  {
   "cell_type": "code",
   "execution_count": 35,
   "metadata": {
    "id": "hZN3Fgd7F0Gj"
   },
   "outputs": [
    {
     "name": "stdout",
     "output_type": "stream",
     "text": [
      "Defaulting to user installation because normal site-packages is not writeable\n",
      "Requirement already satisfied: scikit-plot in /home/t/.local/lib/python3.10/site-packages (0.3.7)\n",
      "Requirement already satisfied: scikit-learn>=0.18 in /usr/local/lib/python3.10/dist-packages (from scikit-plot) (1.1.1)\n",
      "Requirement already satisfied: joblib>=0.10 in /usr/local/lib/python3.10/dist-packages (from scikit-plot) (1.1.0)\n",
      "Requirement already satisfied: scipy>=0.9 in /usr/local/lib/python3.10/dist-packages (from scikit-plot) (1.8.1)\n",
      "Requirement already satisfied: matplotlib>=1.4.0 in /usr/local/lib/python3.10/dist-packages (from scikit-plot) (3.5.2)\n",
      "Requirement already satisfied: pillow>=6.2.0 in /usr/lib/python3/dist-packages (from matplotlib>=1.4.0->scikit-plot) (9.0.1)\n",
      "Requirement already satisfied: pyparsing>=2.2.1 in /usr/lib/python3/dist-packages (from matplotlib>=1.4.0->scikit-plot) (2.4.7)\n",
      "Requirement already satisfied: packaging>=20.0 in /usr/local/lib/python3.10/dist-packages (from matplotlib>=1.4.0->scikit-plot) (21.3)\n",
      "Requirement already satisfied: python-dateutil>=2.7 in /usr/local/lib/python3.10/dist-packages (from matplotlib>=1.4.0->scikit-plot) (2.8.2)\n",
      "Requirement already satisfied: cycler>=0.10 in /usr/local/lib/python3.10/dist-packages (from matplotlib>=1.4.0->scikit-plot) (0.11.0)\n",
      "Requirement already satisfied: kiwisolver>=1.0.1 in /usr/local/lib/python3.10/dist-packages (from matplotlib>=1.4.0->scikit-plot) (1.4.4)\n",
      "Requirement already satisfied: numpy>=1.17 in /usr/local/lib/python3.10/dist-packages (from matplotlib>=1.4.0->scikit-plot) (1.23.1)\n",
      "Requirement already satisfied: fonttools>=4.22.0 in /usr/local/lib/python3.10/dist-packages (from matplotlib>=1.4.0->scikit-plot) (4.34.4)\n",
      "Requirement already satisfied: threadpoolctl>=2.0.0 in /usr/local/lib/python3.10/dist-packages (from scikit-learn>=0.18->scikit-plot) (3.1.0)\n",
      "Requirement already satisfied: six>=1.5 in /usr/lib/python3/dist-packages (from python-dateutil>=2.7->matplotlib>=1.4.0->scikit-plot) (1.16.0)\n"
     ]
    }
   ],
   "source": [
    "# function to plot roc curve\n",
    "!pip install scikit-plot\n",
    "import scikitplot as skplt\n",
    "def plot_roc(y_true, y_probas, figsize = (15,10)):\n",
    "    skplt.metrics.plot_roc(y_true, y_probas,figsize = figsize)\n",
    "    plt.show()"
   ]
  },
  {
   "cell_type": "markdown",
   "metadata": {
    "id": "-pK1fBdH0l0h"
   },
   "source": [
    "# Models"
   ]
  },
  {
   "cell_type": "code",
   "execution_count": 36,
   "metadata": {
    "id": "4W7G4_kh0ogk"
   },
   "outputs": [],
   "source": [
    "from sklearn.pipeline import Pipeline"
   ]
  },
  {
   "cell_type": "code",
   "execution_count": 37,
   "metadata": {
    "id": "0yVL4bFR0sHT"
   },
   "outputs": [],
   "source": [
    "from sklearn.linear_model import LogisticRegression\n",
    "from sklearn.svm import SVC\n",
    "from sklearn.neighbors import KNeighborsClassifier\n",
    "from sklearn.tree import DecisionTreeClassifier\n",
    "from sklearn.naive_bayes import BernoulliNB\n",
    "from sklearn.ensemble import VotingClassifier, RandomForestClassifier, ExtraTreesClassifier"
   ]
  },
  {
   "cell_type": "code",
   "execution_count": 38,
   "metadata": {
    "id": "vcJ2evSB1Lfj"
   },
   "outputs": [],
   "source": [
    "clfs = {'logistic regression': LogisticRegression(),\n",
    "        'SVM': SVC(probability=True),\n",
    "        'Knn': KNeighborsClassifier(n_neighbors=5),\n",
    "        'D Tree': DecisionTreeClassifier(),\n",
    "    'Random Forest': RandomForestClassifier(n_estimators = 20),\n",
    "        'Xtra Random Forest': ExtraTreesClassifier(n_estimators = 20),\n",
    "        'naive bayes': BernoulliNB()}"
   ]
  },
  {
   "cell_type": "markdown",
   "metadata": {
    "id": "Lw8hHHNIJoG_"
   },
   "source": [
    "* Now Let's test all models"
   ]
  },
  {
   "cell_type": "code",
   "execution_count": 39,
   "metadata": {
    "id": "Kqw_1_8kJvVV"
   },
   "outputs": [],
   "source": [
    "#function to train all model at once\n",
    "def models(xtrain, ytrain, xtest, ytest):\n",
    "    sscores = []\n",
    "    for name, model in clfs.items():\n",
    "        model.fit(xtrain, ytrain)\n",
    "        ypred = model.predict(xtest)\n",
    "        result = {'model' : name}\n",
    "        result.update(calculate_results(ytest, ypred))\n",
    "        sscores.append(result)\n",
    "    return sscores"
   ]
  },
  {
   "cell_type": "code",
   "execution_count": 40,
   "metadata": {
    "colab": {
     "base_uri": "https://localhost:8080/"
    },
    "id": "gmvsubnMxGf6",
    "outputId": "76383ee3-0bbc-4df6-98ee-f98fc863e8b6"
   },
   "outputs": [
    {
     "name": "stderr",
     "output_type": "stream",
     "text": [
      "/usr/local/lib/python3.10/dist-packages/sklearn/metrics/_classification.py:1327: UndefinedMetricWarning: Precision and F-score are ill-defined and being set to 0.0 in labels with no predicted samples. Use `zero_division` parameter to control this behavior.\n",
      "  _warn_prf(average, modifier, msg_start, len(result))\n"
     ]
    }
   ],
   "source": [
    "scores = models(xtrain_scaled, ytrain, xtest_scaled,ytest)"
   ]
  },
  {
   "cell_type": "markdown",
   "metadata": {
    "id": "FU5x12tbr7NH"
   },
   "source": [
    "## Voting Classifier"
   ]
  },
  {
   "cell_type": "code",
   "execution_count": 41,
   "metadata": {
    "id": "aUclVSBE4CrS"
   },
   "outputs": [],
   "source": [
    "def votingclf(xtrain, ytrain, xtest, ytest):\n",
    "    vt_clf = VotingClassifier(clfs.items(), voting = 'soft', n_jobs = -1)\n",
    "    vt_clf.fit(xtrain, ytrain )\n",
    "    ypred = vt_clf.predict(xtest)\n",
    "\n",
    "    # calculate  result\n",
    "    vc_result = calculate_results(ytest, ypred)\n",
    "    vc_result['model'] = 'voting_classifier'\n",
    "    return vc_result"
   ]
  },
  {
   "cell_type": "code",
   "execution_count": 42,
   "metadata": {
    "id": "WtArF_Xo6W5O"
   },
   "outputs": [],
   "source": [
    "vc_result = votingclf(xtrain_scaled, ytrain, xtest_scaled,ytest)\n",
    "\n",
    "# add score\n",
    "scores.append(vc_result)"
   ]
  },
  {
   "cell_type": "markdown",
   "metadata": {
    "id": "2UGvwBgmv7e2"
   },
   "source": [
    "## fitting on polynomial data"
   ]
  },
  {
   "cell_type": "code",
   "execution_count": 43,
   "metadata": {
    "id": "PmlD4L7p0IX7"
   },
   "outputs": [],
   "source": [
    "poly_model_result = models(xtrain_poly_scaled, ytrain_poly, xtest_poly_scaled, ytest_poly)\n",
    "poly_votingclf_result = votingclf(xtrain_poly_scaled, ytrain_poly, xtest_poly_scaled, ytest_poly)\n"
   ]
  },
  {
   "cell_type": "code",
   "execution_count": 44,
   "metadata": {
    "id": "kyPiJ-_F340r"
   },
   "outputs": [],
   "source": [
    "all_results = [poly_model_result, poly_votingclf_result]"
   ]
  },
  {
   "cell_type": "code",
   "execution_count": 45,
   "metadata": {
    "id": "RRmSPXKP0kAY"
   },
   "outputs": [],
   "source": [
    "#appending results\n",
    "poly_model_result.append(poly_votingclf_result)\n",
    "scores2 = poly_model_result\n",
    "\n"
   ]
  },
  {
   "cell_type": "markdown",
   "metadata": {
    "id": "XQESdqexS_jx"
   },
   "source": [
    "## Xgboost classifier"
   ]
  },
  {
   "cell_type": "code",
   "execution_count": 46,
   "metadata": {
    "colab": {
     "base_uri": "https://localhost:8080/"
    },
    "id": "6VPqA9JOk11a",
    "outputId": "3def985d-a355-42cf-959e-f50068553795"
   },
   "outputs": [
    {
     "name": "stdout",
     "output_type": "stream",
     "text": [
      "Defaulting to user installation because normal site-packages is not writeable\n",
      "Requirement already satisfied: xgboost in /usr/local/lib/python3.10/dist-packages (1.6.1)\n",
      "Requirement already satisfied: scipy in /usr/local/lib/python3.10/dist-packages (from xgboost) (1.8.1)\n",
      "Requirement already satisfied: numpy in /usr/local/lib/python3.10/dist-packages (from xgboost) (1.23.1)\n"
     ]
    }
   ],
   "source": [
    "!pip install xgboost"
   ]
  },
  {
   "cell_type": "code",
   "execution_count": 47,
   "metadata": {
    "id": "TqHmgzcDk5Wh"
   },
   "outputs": [
    {
     "name": "stderr",
     "output_type": "stream",
     "text": [
      "/usr/lib/python3/dist-packages/pkg_resources/__init__.py:116: PkgResourcesDeprecationWarning: 1.1build1 is an invalid version and will not be supported in a future release\n",
      "  warnings.warn(\n",
      "/usr/lib/python3/dist-packages/pkg_resources/__init__.py:116: PkgResourcesDeprecationWarning: 1.12.1-git20200711.33e2d80-dfsg1-0.6 is an invalid version and will not be supported in a future release\n",
      "  warnings.warn(\n",
      "/usr/lib/python3/dist-packages/pkg_resources/__init__.py:116: PkgResourcesDeprecationWarning: 0.1.43ubuntu1 is an invalid version and will not be supported in a future release\n",
      "  warnings.warn(\n"
     ]
    }
   ],
   "source": [
    "from xgboost import XGBClassifier"
   ]
  },
  {
   "cell_type": "code",
   "execution_count": 48,
   "metadata": {
    "id": "1L4s_KeZlEYl"
   },
   "outputs": [],
   "source": [
    "def xgb(xtrain,ytrain, xtest, ytest):\n",
    "    xgb = XGBClassifier()\n",
    "    xgb.fit(xtrain, ytrain)\n",
    "    ypred = xgb.predict(xtest)\n",
    "\n",
    "    # calculate  result\n",
    "    xgb_result = calculate_results(ytest, ypred)\n",
    "    xgb_result['model'] = 'xgb'\n",
    "\n",
    "    return xgb_result\n"
   ]
  },
  {
   "cell_type": "code",
   "execution_count": 49,
   "metadata": {
    "id": "CWrBg5MUnIU9"
   },
   "outputs": [],
   "source": [
    "xgb_result = xgb(xtrain_scaled, ytrain, xtest_scaled, ytest)\n",
    "# add score to dataframe\n",
    "scores.append(xgb_result)\n"
   ]
  },
  {
   "cell_type": "code",
   "execution_count": 50,
   "metadata": {
    "id": "ePJss8Usnb7o"
   },
   "outputs": [],
   "source": [
    "xgb_result2 = xgb(xtrain_poly_scaled,ytrain_poly, xtest_poly_scaled, ytest_poly)\n",
    "# add score to dataframe\n",
    "scores2.append(xgb_result2)"
   ]
  },
  {
   "cell_type": "code",
   "execution_count": 51,
   "metadata": {
    "colab": {
     "base_uri": "https://localhost:8080/",
     "height": 332
    },
    "id": "RVO4iwwqn_EB",
    "outputId": "ae5d4e09-5a2a-47bb-e538-b3f406f246dd"
   },
   "outputs": [
    {
     "data": {
      "text/html": [
       "<div>\n",
       "<style scoped>\n",
       "    .dataframe tbody tr th:only-of-type {\n",
       "        vertical-align: middle;\n",
       "    }\n",
       "\n",
       "    .dataframe tbody tr th {\n",
       "        vertical-align: top;\n",
       "    }\n",
       "\n",
       "    .dataframe thead th {\n",
       "        text-align: right;\n",
       "    }\n",
       "</style>\n",
       "<table border=\"1\" class=\"dataframe\">\n",
       "  <thead>\n",
       "    <tr style=\"text-align: right;\">\n",
       "      <th></th>\n",
       "      <th>model</th>\n",
       "      <th>accuracy</th>\n",
       "      <th>precision</th>\n",
       "      <th>recall</th>\n",
       "      <th>f1</th>\n",
       "    </tr>\n",
       "  </thead>\n",
       "  <tbody>\n",
       "    <tr>\n",
       "      <th>0</th>\n",
       "      <td>logistic regression</td>\n",
       "      <td>76.061776</td>\n",
       "      <td>0.693968</td>\n",
       "      <td>0.760618</td>\n",
       "      <td>0.704007</td>\n",
       "    </tr>\n",
       "    <tr>\n",
       "      <th>1</th>\n",
       "      <td>SVM</td>\n",
       "      <td>77.992278</td>\n",
       "      <td>0.755590</td>\n",
       "      <td>0.779923</td>\n",
       "      <td>0.693951</td>\n",
       "    </tr>\n",
       "    <tr>\n",
       "      <th>2</th>\n",
       "      <td>Knn</td>\n",
       "      <td>76.061776</td>\n",
       "      <td>0.737891</td>\n",
       "      <td>0.760618</td>\n",
       "      <td>0.746049</td>\n",
       "    </tr>\n",
       "    <tr>\n",
       "      <th>3</th>\n",
       "      <td>D Tree</td>\n",
       "      <td>66.023166</td>\n",
       "      <td>0.684011</td>\n",
       "      <td>0.660232</td>\n",
       "      <td>0.670931</td>\n",
       "    </tr>\n",
       "    <tr>\n",
       "      <th>4</th>\n",
       "      <td>Random Forest</td>\n",
       "      <td>77.606178</td>\n",
       "      <td>0.758086</td>\n",
       "      <td>0.776062</td>\n",
       "      <td>0.764462</td>\n",
       "    </tr>\n",
       "    <tr>\n",
       "      <th>5</th>\n",
       "      <td>Xtra Random Forest</td>\n",
       "      <td>74.131274</td>\n",
       "      <td>0.730222</td>\n",
       "      <td>0.741313</td>\n",
       "      <td>0.735220</td>\n",
       "    </tr>\n",
       "    <tr>\n",
       "      <th>6</th>\n",
       "      <td>naive bayes</td>\n",
       "      <td>76.833977</td>\n",
       "      <td>0.600919</td>\n",
       "      <td>0.768340</td>\n",
       "      <td>0.674394</td>\n",
       "    </tr>\n",
       "    <tr>\n",
       "      <th>7</th>\n",
       "      <td>voting_classifier</td>\n",
       "      <td>76.447876</td>\n",
       "      <td>0.715583</td>\n",
       "      <td>0.764479</td>\n",
       "      <td>0.723026</td>\n",
       "    </tr>\n",
       "    <tr>\n",
       "      <th>8</th>\n",
       "      <td>xgb</td>\n",
       "      <td>76.061776</td>\n",
       "      <td>0.737891</td>\n",
       "      <td>0.760618</td>\n",
       "      <td>0.746049</td>\n",
       "    </tr>\n",
       "  </tbody>\n",
       "</table>\n",
       "</div>"
      ],
      "text/plain": [
       "                 model   accuracy  precision    recall        f1\n",
       "0  logistic regression  76.061776   0.693968  0.760618  0.704007\n",
       "1                  SVM  77.992278   0.755590  0.779923  0.693951\n",
       "2                  Knn  76.061776   0.737891  0.760618  0.746049\n",
       "3               D Tree  66.023166   0.684011  0.660232  0.670931\n",
       "4        Random Forest  77.606178   0.758086  0.776062  0.764462\n",
       "5   Xtra Random Forest  74.131274   0.730222  0.741313  0.735220\n",
       "6          naive bayes  76.833977   0.600919  0.768340  0.674394\n",
       "7    voting_classifier  76.447876   0.715583  0.764479  0.723026\n",
       "8                  xgb  76.061776   0.737891  0.760618  0.746049"
      ]
     },
     "execution_count": 51,
     "metadata": {},
     "output_type": "execute_result"
    }
   ],
   "source": [
    "scoresheet2 = pd.DataFrame(scores2)\n",
    "scoresheet2"
   ]
  },
  {
   "cell_type": "code",
   "execution_count": 52,
   "metadata": {
    "colab": {
     "base_uri": "https://localhost:8080/",
     "height": 332
    },
    "id": "1RZ3kMZDn_BI",
    "outputId": "9bcd17f9-8f9e-41f1-f5b2-a3c4bd38d011"
   },
   "outputs": [
    {
     "data": {
      "text/html": [
       "<div>\n",
       "<style scoped>\n",
       "    .dataframe tbody tr th:only-of-type {\n",
       "        vertical-align: middle;\n",
       "    }\n",
       "\n",
       "    .dataframe tbody tr th {\n",
       "        vertical-align: top;\n",
       "    }\n",
       "\n",
       "    .dataframe thead th {\n",
       "        text-align: right;\n",
       "    }\n",
       "</style>\n",
       "<table border=\"1\" class=\"dataframe\">\n",
       "  <thead>\n",
       "    <tr style=\"text-align: right;\">\n",
       "      <th></th>\n",
       "      <th>model</th>\n",
       "      <th>accuracy</th>\n",
       "      <th>precision</th>\n",
       "      <th>recall</th>\n",
       "      <th>f1</th>\n",
       "    </tr>\n",
       "  </thead>\n",
       "  <tbody>\n",
       "    <tr>\n",
       "      <th>0</th>\n",
       "      <td>logistic regression</td>\n",
       "      <td>77.220077</td>\n",
       "      <td>0.702657</td>\n",
       "      <td>0.772201</td>\n",
       "      <td>0.695657</td>\n",
       "    </tr>\n",
       "    <tr>\n",
       "      <th>1</th>\n",
       "      <td>SVM</td>\n",
       "      <td>78.764479</td>\n",
       "      <td>0.790223</td>\n",
       "      <td>0.787645</td>\n",
       "      <td>0.710689</td>\n",
       "    </tr>\n",
       "    <tr>\n",
       "      <th>2</th>\n",
       "      <td>Knn</td>\n",
       "      <td>74.517375</td>\n",
       "      <td>0.723289</td>\n",
       "      <td>0.745174</td>\n",
       "      <td>0.731974</td>\n",
       "    </tr>\n",
       "    <tr>\n",
       "      <th>3</th>\n",
       "      <td>D Tree</td>\n",
       "      <td>71.814672</td>\n",
       "      <td>0.723315</td>\n",
       "      <td>0.718147</td>\n",
       "      <td>0.720640</td>\n",
       "    </tr>\n",
       "    <tr>\n",
       "      <th>4</th>\n",
       "      <td>Random Forest</td>\n",
       "      <td>76.061776</td>\n",
       "      <td>0.740687</td>\n",
       "      <td>0.760618</td>\n",
       "      <td>0.748218</td>\n",
       "    </tr>\n",
       "    <tr>\n",
       "      <th>5</th>\n",
       "      <td>Xtra Random Forest</td>\n",
       "      <td>75.289575</td>\n",
       "      <td>0.734974</td>\n",
       "      <td>0.752896</td>\n",
       "      <td>0.742221</td>\n",
       "    </tr>\n",
       "    <tr>\n",
       "      <th>6</th>\n",
       "      <td>naive bayes</td>\n",
       "      <td>77.606178</td>\n",
       "      <td>0.602272</td>\n",
       "      <td>0.776062</td>\n",
       "      <td>0.678211</td>\n",
       "    </tr>\n",
       "    <tr>\n",
       "      <th>7</th>\n",
       "      <td>voting_classifier</td>\n",
       "      <td>77.606178</td>\n",
       "      <td>0.728347</td>\n",
       "      <td>0.776062</td>\n",
       "      <td>0.723103</td>\n",
       "    </tr>\n",
       "    <tr>\n",
       "      <th>8</th>\n",
       "      <td>xgb</td>\n",
       "      <td>74.903475</td>\n",
       "      <td>0.726088</td>\n",
       "      <td>0.749035</td>\n",
       "      <td>0.734912</td>\n",
       "    </tr>\n",
       "  </tbody>\n",
       "</table>\n",
       "</div>"
      ],
      "text/plain": [
       "                 model   accuracy  precision    recall        f1\n",
       "0  logistic regression  77.220077   0.702657  0.772201  0.695657\n",
       "1                  SVM  78.764479   0.790223  0.787645  0.710689\n",
       "2                  Knn  74.517375   0.723289  0.745174  0.731974\n",
       "3               D Tree  71.814672   0.723315  0.718147  0.720640\n",
       "4        Random Forest  76.061776   0.740687  0.760618  0.748218\n",
       "5   Xtra Random Forest  75.289575   0.734974  0.752896  0.742221\n",
       "6          naive bayes  77.606178   0.602272  0.776062  0.678211\n",
       "7    voting_classifier  77.606178   0.728347  0.776062  0.723103\n",
       "8                  xgb  74.903475   0.726088  0.749035  0.734912"
      ]
     },
     "execution_count": 52,
     "metadata": {},
     "output_type": "execute_result"
    }
   ],
   "source": [
    "scoresheet = pd.DataFrame(scores)\n",
    "scoresheet"
   ]
  },
  {
   "cell_type": "code",
   "execution_count": 53,
   "metadata": {
    "colab": {
     "base_uri": "https://localhost:8080/",
     "height": 332
    },
    "id": "apnjfU1ioV55",
    "outputId": "4feb7560-1eff-4ae9-8d17-bfc0c8059e7f"
   },
   "outputs": [
    {
     "data": {
      "text/html": [
       "<div>\n",
       "<style scoped>\n",
       "    .dataframe tbody tr th:only-of-type {\n",
       "        vertical-align: middle;\n",
       "    }\n",
       "\n",
       "    .dataframe tbody tr th {\n",
       "        vertical-align: top;\n",
       "    }\n",
       "\n",
       "    .dataframe thead th {\n",
       "        text-align: right;\n",
       "    }\n",
       "</style>\n",
       "<table border=\"1\" class=\"dataframe\">\n",
       "  <thead>\n",
       "    <tr style=\"text-align: right;\">\n",
       "      <th></th>\n",
       "      <th>model</th>\n",
       "      <th>accuracy</th>\n",
       "      <th>precision</th>\n",
       "      <th>recall</th>\n",
       "      <th>f1</th>\n",
       "    </tr>\n",
       "  </thead>\n",
       "  <tbody>\n",
       "    <tr>\n",
       "      <th>0</th>\n",
       "      <td>False</td>\n",
       "      <td>False</td>\n",
       "      <td>False</td>\n",
       "      <td>False</td>\n",
       "      <td>True</td>\n",
       "    </tr>\n",
       "    <tr>\n",
       "      <th>1</th>\n",
       "      <td>False</td>\n",
       "      <td>False</td>\n",
       "      <td>False</td>\n",
       "      <td>False</td>\n",
       "      <td>False</td>\n",
       "    </tr>\n",
       "    <tr>\n",
       "      <th>2</th>\n",
       "      <td>False</td>\n",
       "      <td>True</td>\n",
       "      <td>True</td>\n",
       "      <td>True</td>\n",
       "      <td>True</td>\n",
       "    </tr>\n",
       "    <tr>\n",
       "      <th>3</th>\n",
       "      <td>False</td>\n",
       "      <td>False</td>\n",
       "      <td>False</td>\n",
       "      <td>False</td>\n",
       "      <td>False</td>\n",
       "    </tr>\n",
       "    <tr>\n",
       "      <th>4</th>\n",
       "      <td>False</td>\n",
       "      <td>True</td>\n",
       "      <td>True</td>\n",
       "      <td>True</td>\n",
       "      <td>True</td>\n",
       "    </tr>\n",
       "    <tr>\n",
       "      <th>5</th>\n",
       "      <td>False</td>\n",
       "      <td>False</td>\n",
       "      <td>False</td>\n",
       "      <td>False</td>\n",
       "      <td>False</td>\n",
       "    </tr>\n",
       "    <tr>\n",
       "      <th>6</th>\n",
       "      <td>False</td>\n",
       "      <td>False</td>\n",
       "      <td>False</td>\n",
       "      <td>False</td>\n",
       "      <td>False</td>\n",
       "    </tr>\n",
       "    <tr>\n",
       "      <th>7</th>\n",
       "      <td>False</td>\n",
       "      <td>False</td>\n",
       "      <td>False</td>\n",
       "      <td>False</td>\n",
       "      <td>False</td>\n",
       "    </tr>\n",
       "    <tr>\n",
       "      <th>8</th>\n",
       "      <td>False</td>\n",
       "      <td>True</td>\n",
       "      <td>True</td>\n",
       "      <td>True</td>\n",
       "      <td>True</td>\n",
       "    </tr>\n",
       "  </tbody>\n",
       "</table>\n",
       "</div>"
      ],
      "text/plain": [
       "   model  accuracy  precision  recall     f1\n",
       "0  False     False      False   False   True\n",
       "1  False     False      False   False  False\n",
       "2  False      True       True    True   True\n",
       "3  False     False      False   False  False\n",
       "4  False      True       True    True   True\n",
       "5  False     False      False   False  False\n",
       "6  False     False      False   False  False\n",
       "7  False     False      False   False  False\n",
       "8  False      True       True    True   True"
      ]
     },
     "execution_count": 53,
     "metadata": {},
     "output_type": "execute_result"
    }
   ],
   "source": [
    "scoresheet2 > scoresheet"
   ]
  },
  {
   "cell_type": "markdown",
   "metadata": {
    "id": "bDoa2O3JqYgA"
   },
   "source": [
    "# Fixing Class Immbalance"
   ]
  },
  {
   "cell_type": "markdown",
   "metadata": {
    "id": "xOBZg10WIgFP"
   },
   "source": [
    "we will use oversampling technique to Overcome class imbalance using `imblearn`'s smote"
   ]
  },
  {
   "cell_type": "code",
   "execution_count": 54,
   "metadata": {
    "id": "89idsHV7qtBX"
   },
   "outputs": [],
   "source": [
    "X = new_data.drop('CLASS', axis = 1)\n",
    "y = new_data.CLASS"
   ]
  },
  {
   "cell_type": "code",
   "execution_count": 55,
   "metadata": {
    "colab": {
     "base_uri": "https://localhost:8080/"
    },
    "id": "ejd1jJQVIC2A",
    "outputId": "5e0e8358-1112-4ce9-cd5b-7582f46dc544"
   },
   "outputs": [
    {
     "name": "stdout",
     "output_type": "stream",
     "text": [
      "CLass Count Counter({1: 1002, 0: 292})\n"
     ]
    }
   ],
   "source": [
    "print('CLass Count',Counter(y))"
   ]
  },
  {
   "cell_type": "code",
   "execution_count": 56,
   "metadata": {
    "id": "xlXRborZGQ1F"
   },
   "outputs": [],
   "source": [
    "from imblearn.over_sampling import SMOTE\n",
    "\n",
    "smote = SMOTE()\n",
    "X_balanced, y_balanced = smote.fit_resample(X,y)"
   ]
  },
  {
   "cell_type": "code",
   "execution_count": 57,
   "metadata": {
    "colab": {
     "base_uri": "https://localhost:8080/"
    },
    "id": "vzkfJMRtG4NQ",
    "outputId": "0a66b448-6707-4a8b-d3b9-e9bc4afbd273"
   },
   "outputs": [
    {
     "name": "stdout",
     "output_type": "stream",
     "text": [
      "CLass Count after SMOTING(PUN) Counter({1: 1002, 0: 1002})\n"
     ]
    }
   ],
   "source": [
    "print('CLass Count after SMOTING(PUN)',Counter(y_balanced))"
   ]
  },
  {
   "cell_type": "code",
   "execution_count": 58,
   "metadata": {
    "colab": {
     "base_uri": "https://localhost:8080/"
    },
    "id": "VlqYPU9hMTJQ",
    "outputId": "eacef2cd-24af-409f-822e-24cb8e38b3d1"
   },
   "outputs": [
    {
     "name": "stdout",
     "output_type": "stream",
     "text": [
      "xtrain_balanced (1603, 3) (1603,) xtest_balanced (401, 3) (401,)\n"
     ]
    }
   ],
   "source": [
    "#splitiing data\n",
    "xtrain_bala, xtest_bala, ytrain_bala, ytest_bala = train_test_split(X_balanced, y_balanced, test_size=.2, random_state= 2, stratify = y_balanced)\n",
    "print('xtrain_balanced',xtrain_bala.shape,ytrain_bala.shape, \n",
    "      'xtest_balanced',xtest_bala.shape,  ytest_bala.shape)"
   ]
  },
  {
   "cell_type": "code",
   "execution_count": 59,
   "metadata": {
    "id": "Gvm65uf2IVIr"
   },
   "outputs": [],
   "source": [
    "from numpy.ma.core import size\n",
    "# lets see its representation on 3D\n",
    "import plotly.express as px\n",
    "\n",
    "# Scaling to visualize it better\n",
    "_scale = MinMaxScaler()\n",
    "xtrain_bala_scaled = _scale.fit_transform(xtrain_bala)\n",
    "xtest_bala_scaled = _scale.transform(xtest_bala)\n",
    "\n",
    "# px.scatter_3d(X_balanced, x = X_balanced[:,0], y = X_balanced[:,1], z = X_balanced[:,2], color = y_balanced, size = 0)\n"
   ]
  },
  {
   "cell_type": "markdown",
   "metadata": {
    "id": "DyVrA39wKgAv"
   },
   "source": [
    "# Mode Score on Balanced DATA"
   ]
  },
  {
   "cell_type": "code",
   "execution_count": 60,
   "metadata": {
    "id": "9VxAI8qWP94S"
   },
   "outputs": [],
   "source": [
    "# scaling data\n",
    "bala_scaler = MinMaxScaler()\n",
    "bala_scaler.fit(xtrain_bala)\n",
    "xtrain_bala_scaled = bala_scaler.transform(xtrain_bala)\n",
    "xtest_bala_scaled = bala_scaler.transform(xtest_bala)"
   ]
  },
  {
   "cell_type": "code",
   "execution_count": 61,
   "metadata": {
    "id": "hSnD0COaMMbG"
   },
   "outputs": [],
   "source": [
    "balanced_model_result = models(xtrain_bala_scaled, ytrain_bala, xtest_bala_scaled, ytest_bala)\n",
    "balanced_votingclf_result = votingclf(xtrain_bala_scaled, ytrain_bala, xtest_bala_scaled, ytest_bala)\n",
    "xgb_result = xgb(xtrain_bala_scaled, ytrain_bala, xtest_bala_scaled, ytest_bala)\n"
   ]
  },
  {
   "cell_type": "code",
   "execution_count": 62,
   "metadata": {
    "id": "VTKSD-CDNyRb"
   },
   "outputs": [],
   "source": [
    "#appending results\n",
    "balanced_model_result.append(balanced_votingclf_result)\n",
    "balanced_model_result.append(xgb_result)\n",
    "\n",
    "scores3 = balanced_model_result"
   ]
  },
  {
   "cell_type": "code",
   "execution_count": 63,
   "metadata": {
    "colab": {
     "base_uri": "https://localhost:8080/",
     "height": 332
    },
    "id": "z9SDT1KtOvwL",
    "outputId": "78f8c6e2-3d67-4c13-db6c-49a179fce361"
   },
   "outputs": [
    {
     "data": {
      "text/html": [
       "<div>\n",
       "<style scoped>\n",
       "    .dataframe tbody tr th:only-of-type {\n",
       "        vertical-align: middle;\n",
       "    }\n",
       "\n",
       "    .dataframe tbody tr th {\n",
       "        vertical-align: top;\n",
       "    }\n",
       "\n",
       "    .dataframe thead th {\n",
       "        text-align: right;\n",
       "    }\n",
       "</style>\n",
       "<table border=\"1\" class=\"dataframe\">\n",
       "  <thead>\n",
       "    <tr style=\"text-align: right;\">\n",
       "      <th></th>\n",
       "      <th>model</th>\n",
       "      <th>accuracy</th>\n",
       "      <th>precision</th>\n",
       "      <th>recall</th>\n",
       "      <th>f1</th>\n",
       "    </tr>\n",
       "  </thead>\n",
       "  <tbody>\n",
       "    <tr>\n",
       "      <th>0</th>\n",
       "      <td>logistic regression</td>\n",
       "      <td>70.074813</td>\n",
       "      <td>0.700813</td>\n",
       "      <td>0.700748</td>\n",
       "      <td>0.700711</td>\n",
       "    </tr>\n",
       "    <tr>\n",
       "      <th>1</th>\n",
       "      <td>SVM</td>\n",
       "      <td>73.316708</td>\n",
       "      <td>0.734799</td>\n",
       "      <td>0.733167</td>\n",
       "      <td>0.732658</td>\n",
       "    </tr>\n",
       "    <tr>\n",
       "      <th>2</th>\n",
       "      <td>Knn</td>\n",
       "      <td>71.321696</td>\n",
       "      <td>0.716496</td>\n",
       "      <td>0.713217</td>\n",
       "      <td>0.712053</td>\n",
       "    </tr>\n",
       "    <tr>\n",
       "      <th>3</th>\n",
       "      <td>D Tree</td>\n",
       "      <td>74.812968</td>\n",
       "      <td>0.748844</td>\n",
       "      <td>0.748130</td>\n",
       "      <td>0.747923</td>\n",
       "    </tr>\n",
       "    <tr>\n",
       "      <th>4</th>\n",
       "      <td>Random Forest</td>\n",
       "      <td>81.795511</td>\n",
       "      <td>0.825676</td>\n",
       "      <td>0.817955</td>\n",
       "      <td>0.816825</td>\n",
       "    </tr>\n",
       "    <tr>\n",
       "      <th>5</th>\n",
       "      <td>Xtra Random Forest</td>\n",
       "      <td>79.800499</td>\n",
       "      <td>0.802650</td>\n",
       "      <td>0.798005</td>\n",
       "      <td>0.797185</td>\n",
       "    </tr>\n",
       "    <tr>\n",
       "      <th>6</th>\n",
       "      <td>naive bayes</td>\n",
       "      <td>50.374065</td>\n",
       "      <td>0.750630</td>\n",
       "      <td>0.503741</td>\n",
       "      <td>0.340239</td>\n",
       "    </tr>\n",
       "    <tr>\n",
       "      <th>7</th>\n",
       "      <td>voting_classifier</td>\n",
       "      <td>80.548628</td>\n",
       "      <td>0.807926</td>\n",
       "      <td>0.805486</td>\n",
       "      <td>0.805072</td>\n",
       "    </tr>\n",
       "    <tr>\n",
       "      <th>8</th>\n",
       "      <td>xgb</td>\n",
       "      <td>80.798005</td>\n",
       "      <td>0.811347</td>\n",
       "      <td>0.807980</td>\n",
       "      <td>0.807427</td>\n",
       "    </tr>\n",
       "  </tbody>\n",
       "</table>\n",
       "</div>"
      ],
      "text/plain": [
       "                 model   accuracy  precision    recall        f1\n",
       "0  logistic regression  70.074813   0.700813  0.700748  0.700711\n",
       "1                  SVM  73.316708   0.734799  0.733167  0.732658\n",
       "2                  Knn  71.321696   0.716496  0.713217  0.712053\n",
       "3               D Tree  74.812968   0.748844  0.748130  0.747923\n",
       "4        Random Forest  81.795511   0.825676  0.817955  0.816825\n",
       "5   Xtra Random Forest  79.800499   0.802650  0.798005  0.797185\n",
       "6          naive bayes  50.374065   0.750630  0.503741  0.340239\n",
       "7    voting_classifier  80.548628   0.807926  0.805486  0.805072\n",
       "8                  xgb  80.798005   0.811347  0.807980  0.807427"
      ]
     },
     "execution_count": 63,
     "metadata": {},
     "output_type": "execute_result"
    }
   ],
   "source": [
    "scoresheet3 = pd.DataFrame(scores3)\n",
    "scoresheet3"
   ]
  },
  {
   "cell_type": "code",
   "execution_count": 64,
   "metadata": {
    "colab": {
     "base_uri": "https://localhost:8080/",
     "height": 332
    },
    "id": "2lW7jOn-PKeo",
    "outputId": "052e58d1-ae50-4a09-be9b-c10d4c1cb770"
   },
   "outputs": [
    {
     "data": {
      "text/html": [
       "<div>\n",
       "<style scoped>\n",
       "    .dataframe tbody tr th:only-of-type {\n",
       "        vertical-align: middle;\n",
       "    }\n",
       "\n",
       "    .dataframe tbody tr th {\n",
       "        vertical-align: top;\n",
       "    }\n",
       "\n",
       "    .dataframe thead th {\n",
       "        text-align: right;\n",
       "    }\n",
       "</style>\n",
       "<table border=\"1\" class=\"dataframe\">\n",
       "  <thead>\n",
       "    <tr style=\"text-align: right;\">\n",
       "      <th></th>\n",
       "      <th>model</th>\n",
       "      <th>accuracy</th>\n",
       "      <th>precision</th>\n",
       "      <th>recall</th>\n",
       "      <th>f1</th>\n",
       "    </tr>\n",
       "  </thead>\n",
       "  <tbody>\n",
       "    <tr>\n",
       "      <th>0</th>\n",
       "      <td>logistic regression</td>\n",
       "      <td>76.061776</td>\n",
       "      <td>0.693968</td>\n",
       "      <td>0.760618</td>\n",
       "      <td>0.704007</td>\n",
       "    </tr>\n",
       "    <tr>\n",
       "      <th>1</th>\n",
       "      <td>SVM</td>\n",
       "      <td>77.992278</td>\n",
       "      <td>0.755590</td>\n",
       "      <td>0.779923</td>\n",
       "      <td>0.693951</td>\n",
       "    </tr>\n",
       "    <tr>\n",
       "      <th>2</th>\n",
       "      <td>Knn</td>\n",
       "      <td>76.061776</td>\n",
       "      <td>0.737891</td>\n",
       "      <td>0.760618</td>\n",
       "      <td>0.746049</td>\n",
       "    </tr>\n",
       "    <tr>\n",
       "      <th>3</th>\n",
       "      <td>D Tree</td>\n",
       "      <td>66.023166</td>\n",
       "      <td>0.684011</td>\n",
       "      <td>0.660232</td>\n",
       "      <td>0.670931</td>\n",
       "    </tr>\n",
       "    <tr>\n",
       "      <th>4</th>\n",
       "      <td>Random Forest</td>\n",
       "      <td>77.606178</td>\n",
       "      <td>0.758086</td>\n",
       "      <td>0.776062</td>\n",
       "      <td>0.764462</td>\n",
       "    </tr>\n",
       "    <tr>\n",
       "      <th>5</th>\n",
       "      <td>Xtra Random Forest</td>\n",
       "      <td>74.131274</td>\n",
       "      <td>0.730222</td>\n",
       "      <td>0.741313</td>\n",
       "      <td>0.735220</td>\n",
       "    </tr>\n",
       "    <tr>\n",
       "      <th>6</th>\n",
       "      <td>naive bayes</td>\n",
       "      <td>76.833977</td>\n",
       "      <td>0.600919</td>\n",
       "      <td>0.768340</td>\n",
       "      <td>0.674394</td>\n",
       "    </tr>\n",
       "    <tr>\n",
       "      <th>7</th>\n",
       "      <td>voting_classifier</td>\n",
       "      <td>76.447876</td>\n",
       "      <td>0.715583</td>\n",
       "      <td>0.764479</td>\n",
       "      <td>0.723026</td>\n",
       "    </tr>\n",
       "    <tr>\n",
       "      <th>8</th>\n",
       "      <td>xgb</td>\n",
       "      <td>76.061776</td>\n",
       "      <td>0.737891</td>\n",
       "      <td>0.760618</td>\n",
       "      <td>0.746049</td>\n",
       "    </tr>\n",
       "  </tbody>\n",
       "</table>\n",
       "</div>"
      ],
      "text/plain": [
       "                 model   accuracy  precision    recall        f1\n",
       "0  logistic regression  76.061776   0.693968  0.760618  0.704007\n",
       "1                  SVM  77.992278   0.755590  0.779923  0.693951\n",
       "2                  Knn  76.061776   0.737891  0.760618  0.746049\n",
       "3               D Tree  66.023166   0.684011  0.660232  0.670931\n",
       "4        Random Forest  77.606178   0.758086  0.776062  0.764462\n",
       "5   Xtra Random Forest  74.131274   0.730222  0.741313  0.735220\n",
       "6          naive bayes  76.833977   0.600919  0.768340  0.674394\n",
       "7    voting_classifier  76.447876   0.715583  0.764479  0.723026\n",
       "8                  xgb  76.061776   0.737891  0.760618  0.746049"
      ]
     },
     "execution_count": 64,
     "metadata": {},
     "output_type": "execute_result"
    }
   ],
   "source": [
    "scoresheet2"
   ]
  },
  {
   "cell_type": "code",
   "execution_count": 65,
   "metadata": {
    "colab": {
     "base_uri": "https://localhost:8080/",
     "height": 332
    },
    "id": "70F38aRjPy33",
    "outputId": "6b7812fc-8443-4903-e5a5-09298c9ef53d"
   },
   "outputs": [
    {
     "data": {
      "text/html": [
       "<div>\n",
       "<style scoped>\n",
       "    .dataframe tbody tr th:only-of-type {\n",
       "        vertical-align: middle;\n",
       "    }\n",
       "\n",
       "    .dataframe tbody tr th {\n",
       "        vertical-align: top;\n",
       "    }\n",
       "\n",
       "    .dataframe thead th {\n",
       "        text-align: right;\n",
       "    }\n",
       "</style>\n",
       "<table border=\"1\" class=\"dataframe\">\n",
       "  <thead>\n",
       "    <tr style=\"text-align: right;\">\n",
       "      <th></th>\n",
       "      <th>model</th>\n",
       "      <th>accuracy</th>\n",
       "      <th>precision</th>\n",
       "      <th>recall</th>\n",
       "      <th>f1</th>\n",
       "    </tr>\n",
       "  </thead>\n",
       "  <tbody>\n",
       "    <tr>\n",
       "      <th>0</th>\n",
       "      <td>logistic regression</td>\n",
       "      <td>77.220077</td>\n",
       "      <td>0.702657</td>\n",
       "      <td>0.772201</td>\n",
       "      <td>0.695657</td>\n",
       "    </tr>\n",
       "    <tr>\n",
       "      <th>1</th>\n",
       "      <td>SVM</td>\n",
       "      <td>78.764479</td>\n",
       "      <td>0.790223</td>\n",
       "      <td>0.787645</td>\n",
       "      <td>0.710689</td>\n",
       "    </tr>\n",
       "    <tr>\n",
       "      <th>2</th>\n",
       "      <td>Knn</td>\n",
       "      <td>74.517375</td>\n",
       "      <td>0.723289</td>\n",
       "      <td>0.745174</td>\n",
       "      <td>0.731974</td>\n",
       "    </tr>\n",
       "    <tr>\n",
       "      <th>3</th>\n",
       "      <td>D Tree</td>\n",
       "      <td>71.814672</td>\n",
       "      <td>0.723315</td>\n",
       "      <td>0.718147</td>\n",
       "      <td>0.720640</td>\n",
       "    </tr>\n",
       "    <tr>\n",
       "      <th>4</th>\n",
       "      <td>Random Forest</td>\n",
       "      <td>76.061776</td>\n",
       "      <td>0.740687</td>\n",
       "      <td>0.760618</td>\n",
       "      <td>0.748218</td>\n",
       "    </tr>\n",
       "    <tr>\n",
       "      <th>5</th>\n",
       "      <td>Xtra Random Forest</td>\n",
       "      <td>75.289575</td>\n",
       "      <td>0.734974</td>\n",
       "      <td>0.752896</td>\n",
       "      <td>0.742221</td>\n",
       "    </tr>\n",
       "    <tr>\n",
       "      <th>6</th>\n",
       "      <td>naive bayes</td>\n",
       "      <td>77.606178</td>\n",
       "      <td>0.602272</td>\n",
       "      <td>0.776062</td>\n",
       "      <td>0.678211</td>\n",
       "    </tr>\n",
       "    <tr>\n",
       "      <th>7</th>\n",
       "      <td>voting_classifier</td>\n",
       "      <td>77.606178</td>\n",
       "      <td>0.728347</td>\n",
       "      <td>0.776062</td>\n",
       "      <td>0.723103</td>\n",
       "    </tr>\n",
       "    <tr>\n",
       "      <th>8</th>\n",
       "      <td>xgb</td>\n",
       "      <td>74.903475</td>\n",
       "      <td>0.726088</td>\n",
       "      <td>0.749035</td>\n",
       "      <td>0.734912</td>\n",
       "    </tr>\n",
       "  </tbody>\n",
       "</table>\n",
       "</div>"
      ],
      "text/plain": [
       "                 model   accuracy  precision    recall        f1\n",
       "0  logistic regression  77.220077   0.702657  0.772201  0.695657\n",
       "1                  SVM  78.764479   0.790223  0.787645  0.710689\n",
       "2                  Knn  74.517375   0.723289  0.745174  0.731974\n",
       "3               D Tree  71.814672   0.723315  0.718147  0.720640\n",
       "4        Random Forest  76.061776   0.740687  0.760618  0.748218\n",
       "5   Xtra Random Forest  75.289575   0.734974  0.752896  0.742221\n",
       "6          naive bayes  77.606178   0.602272  0.776062  0.678211\n",
       "7    voting_classifier  77.606178   0.728347  0.776062  0.723103\n",
       "8                  xgb  74.903475   0.726088  0.749035  0.734912"
      ]
     },
     "execution_count": 65,
     "metadata": {},
     "output_type": "execute_result"
    }
   ],
   "source": [
    "scoresheet"
   ]
  },
  {
   "cell_type": "markdown",
   "metadata": {
    "id": "f8LyD3Fd5nOy"
   },
   "source": [
    "# Conclusion"
   ]
  },
  {
   "cell_type": "markdown",
   "metadata": {
    "id": "dIw46-AA-X8h"
   },
   "source": [
    "# Fine Tuning `XGBClassifier`"
   ]
  },
  {
   "cell_type": "markdown",
   "metadata": {
    "id": "FvL2kP2E58Z4"
   },
   "source": [
    "Xgb is best performing model with Default parameter .\n",
    "\n",
    "Now lets fine tune xgb and train on whole dataset"
   ]
  },
  {
   "cell_type": "code",
   "execution_count": 66,
   "metadata": {
    "id": "xgS-Pg316MD2"
   },
   "outputs": [],
   "source": [
    "boost_params = {\n",
    "    'learning_rate': [0.01, 0.005, 0.1 ,1]\n",
    ",'n_estimators': [100, 200, 250, 150]\n",
    ",'max_depth': [ 3, 5, 7, 9, 11]\n",
    ",'subsample': [0.7, 0.8, 0.9, 1 ]\n",
    ",'gamma': [0.1, 0.5 , 1.0, 1.5, 2.0]\n",
    "# , 'booster' :['gbtree', 'gblinear', 'dart']\n",
    "}"
   ]
  },
  {
   "cell_type": "code",
   "execution_count": 67,
   "metadata": {
    "id": "25AtwKGq6btQ"
   },
   "outputs": [],
   "source": [
    "xgb = XGBClassifier(booster = 'gbtree', n_jobs=-1)"
   ]
  },
  {
   "cell_type": "code",
   "execution_count": 68,
   "metadata": {
    "id": "bDW1l2u37Vro"
   },
   "outputs": [],
   "source": [
    "# since it is a cross validation we do not need to split the whole data into train"
   ]
  },
  {
   "cell_type": "code",
   "execution_count": 69,
   "metadata": {
    "id": "ecn9Btzu6cOS"
   },
   "outputs": [],
   "source": [
    "from sklearn.model_selection import RandomizedSearchCV\n",
    "\n",
    "def random_search_cv(estimator, params, n_iters, return_train_score = True, **kwargs):\n",
    "    'returns randomized search model, save it in a variable'\n",
    "    random_cv = RandomizedSearchCV( estimator = estimator, \n",
    "                                          param_distributions = params, \n",
    "                                          n_iter= n_iters, \n",
    "                                          return_train_score = return_train_score,verbose = 1, **kwargs)\n",
    "    random_cv.fit(X_balanced, y_balanced)\n",
    "    print( f'''best score: {random_cv.best_score_}\n",
    "    best estimator: {random_cv.best_estimator_}\n",
    "    best params: {random_cv.best_params_}\n",
    "    best index: {random_cv.best_index_}''')\n",
    "    return random_cv"
   ]
  },
  {
   "cell_type": "code",
   "execution_count": 70,
   "metadata": {
    "colab": {
     "base_uri": "https://localhost:8080/"
    },
    "id": "-AAWnh8s7oFS",
    "outputId": "c0a042d2-eb92-4bcc-ef4f-843fef09e77c"
   },
   "outputs": [
    {
     "name": "stdout",
     "output_type": "stream",
     "text": [
      "Fitting 5 folds for each of 50 candidates, totalling 250 fits\n",
      "best score: 0.8004139650872817\n",
      "    best estimator: XGBClassifier(base_score=0.5, booster='gbtree', callbacks=None,\n",
      "              colsample_bylevel=1, colsample_bynode=1, colsample_bytree=1,\n",
      "              early_stopping_rounds=None, enable_categorical=False,\n",
      "              eval_metric=None, gamma=0.5, gpu_id=-1, grow_policy='depthwise',\n",
      "              importance_type=None, interaction_constraints='',\n",
      "              learning_rate=0.1, max_bin=256, max_cat_to_onehot=4,\n",
      "              max_delta_step=0, max_depth=9, max_leaves=0, min_child_weight=1,\n",
      "              missing=nan, monotone_constraints='()', n_estimators=100,\n",
      "              n_jobs=-1, num_parallel_tree=1, predictor='auto', random_state=0,\n",
      "              reg_alpha=0, reg_lambda=1, ...)\n",
      "    best params: {'subsample': 1, 'n_estimators': 100, 'max_depth': 9, 'learning_rate': 0.1, 'gamma': 0.5}\n",
      "    best index: 27\n"
     ]
    }
   ],
   "source": [
    "rscv = random_search_cv(xgb, boost_params, n_iters=50)"
   ]
  },
  {
   "cell_type": "code",
   "execution_count": 71,
   "metadata": {
    "colab": {
     "base_uri": "https://localhost:8080/"
    },
    "id": "TjmyoyEw7v34",
    "outputId": "f6cdaabf-da77-46bf-c35e-992069f15797"
   },
   "outputs": [
    {
     "data": {
      "text/plain": [
       "{'subsample': 1,\n",
       " 'n_estimators': 100,\n",
       " 'max_depth': 9,\n",
       " 'learning_rate': 0.1,\n",
       " 'gamma': 0.5}"
      ]
     },
     "execution_count": 71,
     "metadata": {},
     "output_type": "execute_result"
    }
   ],
   "source": [
    "# getting the best params\n",
    "xgb_param = rscv.best_params_\n",
    "xgb_param"
   ]
  },
  {
   "cell_type": "code",
   "execution_count": 72,
   "metadata": {
    "id": "tdOSX8G1-hR4"
   },
   "outputs": [],
   "source": [
    "xgb_tuned = XGBClassifier( n_estimators=xgb_param['n_estimators'],\n",
    "                                    subsample = xgb_param['subsample'],\n",
    "                                    gamma = xgb_param['gamma'],\n",
    "                                    learning_rate = xgb_param['learning_rate'],\n",
    "                                    max_depth= xgb_param['max_depth'])"
   ]
  },
  {
   "cell_type": "code",
   "execution_count": 93,
   "metadata": {
    "colab": {
     "base_uri": "https://localhost:8080/"
    },
    "id": "LZBPCGZF-kvB",
    "outputId": "93bcfe18-3cf7-4c81-f20e-ba4fdd28a624",
    "scrolled": true
   },
   "outputs": [
    {
     "data": {
      "text/html": [
       "<style>#sk-container-id-5 {color: black;background-color: white;}#sk-container-id-5 pre{padding: 0;}#sk-container-id-5 div.sk-toggleable {background-color: white;}#sk-container-id-5 label.sk-toggleable__label {cursor: pointer;display: block;width: 100%;margin-bottom: 0;padding: 0.3em;box-sizing: border-box;text-align: center;}#sk-container-id-5 label.sk-toggleable__label-arrow:before {content: \"▸\";float: left;margin-right: 0.25em;color: #696969;}#sk-container-id-5 label.sk-toggleable__label-arrow:hover:before {color: black;}#sk-container-id-5 div.sk-estimator:hover label.sk-toggleable__label-arrow:before {color: black;}#sk-container-id-5 div.sk-toggleable__content {max-height: 0;max-width: 0;overflow: hidden;text-align: left;background-color: #f0f8ff;}#sk-container-id-5 div.sk-toggleable__content pre {margin: 0.2em;color: black;border-radius: 0.25em;background-color: #f0f8ff;}#sk-container-id-5 input.sk-toggleable__control:checked~div.sk-toggleable__content {max-height: 200px;max-width: 100%;overflow: auto;}#sk-container-id-5 input.sk-toggleable__control:checked~label.sk-toggleable__label-arrow:before {content: \"▾\";}#sk-container-id-5 div.sk-estimator input.sk-toggleable__control:checked~label.sk-toggleable__label {background-color: #d4ebff;}#sk-container-id-5 div.sk-label input.sk-toggleable__control:checked~label.sk-toggleable__label {background-color: #d4ebff;}#sk-container-id-5 input.sk-hidden--visually {border: 0;clip: rect(1px 1px 1px 1px);clip: rect(1px, 1px, 1px, 1px);height: 1px;margin: -1px;overflow: hidden;padding: 0;position: absolute;width: 1px;}#sk-container-id-5 div.sk-estimator {font-family: monospace;background-color: #f0f8ff;border: 1px dotted black;border-radius: 0.25em;box-sizing: border-box;margin-bottom: 0.5em;}#sk-container-id-5 div.sk-estimator:hover {background-color: #d4ebff;}#sk-container-id-5 div.sk-parallel-item::after {content: \"\";width: 100%;border-bottom: 1px solid gray;flex-grow: 1;}#sk-container-id-5 div.sk-label:hover label.sk-toggleable__label {background-color: #d4ebff;}#sk-container-id-5 div.sk-serial::before {content: \"\";position: absolute;border-left: 1px solid gray;box-sizing: border-box;top: 0;bottom: 0;left: 50%;z-index: 0;}#sk-container-id-5 div.sk-serial {display: flex;flex-direction: column;align-items: center;background-color: white;padding-right: 0.2em;padding-left: 0.2em;position: relative;}#sk-container-id-5 div.sk-item {position: relative;z-index: 1;}#sk-container-id-5 div.sk-parallel {display: flex;align-items: stretch;justify-content: center;background-color: white;position: relative;}#sk-container-id-5 div.sk-item::before, #sk-container-id-5 div.sk-parallel-item::before {content: \"\";position: absolute;border-left: 1px solid gray;box-sizing: border-box;top: 0;bottom: 0;left: 50%;z-index: -1;}#sk-container-id-5 div.sk-parallel-item {display: flex;flex-direction: column;z-index: 1;position: relative;background-color: white;}#sk-container-id-5 div.sk-parallel-item:first-child::after {align-self: flex-end;width: 50%;}#sk-container-id-5 div.sk-parallel-item:last-child::after {align-self: flex-start;width: 50%;}#sk-container-id-5 div.sk-parallel-item:only-child::after {width: 0;}#sk-container-id-5 div.sk-dashed-wrapped {border: 1px dashed gray;margin: 0 0.4em 0.5em 0.4em;box-sizing: border-box;padding-bottom: 0.4em;background-color: white;}#sk-container-id-5 div.sk-label label {font-family: monospace;font-weight: bold;display: inline-block;line-height: 1.2em;}#sk-container-id-5 div.sk-label-container {text-align: center;}#sk-container-id-5 div.sk-container {/* jupyter's `normalize.less` sets `[hidden] { display: none; }` but bootstrap.min.css set `[hidden] { display: none !important; }` so we also need the `!important` here to be able to override the default hidden behavior on the sphinx rendered scikit-learn.org. See: https://github.com/scikit-learn/scikit-learn/issues/21755 */display: inline-block !important;position: relative;}#sk-container-id-5 div.sk-text-repr-fallback {display: none;}</style><div id=\"sk-container-id-5\" class=\"sk-top-container\"><div class=\"sk-text-repr-fallback\"><pre>XGBClassifier(base_score=0.5, booster=&#x27;gbtree&#x27;, callbacks=None,\n",
       "              colsample_bylevel=1, colsample_bynode=1, colsample_bytree=1,\n",
       "              early_stopping_rounds=None, enable_categorical=False,\n",
       "              eval_metric=None, gamma=0.5, gpu_id=-1, grow_policy=&#x27;depthwise&#x27;,\n",
       "              importance_type=None, interaction_constraints=&#x27;&#x27;,\n",
       "              learning_rate=0.1, max_bin=256, max_cat_to_onehot=4,\n",
       "              max_delta_step=0, max_depth=9, max_leaves=0, min_child_weight=1,\n",
       "              missing=nan, monotone_constraints=&#x27;()&#x27;, n_estimators=100,\n",
       "              n_jobs=0, num_parallel_tree=1, predictor=&#x27;auto&#x27;, random_state=0,\n",
       "              reg_alpha=0, reg_lambda=1, ...)</pre><b>In a Jupyter environment, please rerun this cell to show the HTML representation or trust the notebook. <br />On GitHub, the HTML representation is unable to render, please try loading this page with nbviewer.org.</b></div><div class=\"sk-container\" hidden><div class=\"sk-item\"><div class=\"sk-estimator sk-toggleable\"><input class=\"sk-toggleable__control sk-hidden--visually\" id=\"sk-estimator-id-5\" type=\"checkbox\" checked><label for=\"sk-estimator-id-5\" class=\"sk-toggleable__label sk-toggleable__label-arrow\">XGBClassifier</label><div class=\"sk-toggleable__content\"><pre>XGBClassifier(base_score=0.5, booster=&#x27;gbtree&#x27;, callbacks=None,\n",
       "              colsample_bylevel=1, colsample_bynode=1, colsample_bytree=1,\n",
       "              early_stopping_rounds=None, enable_categorical=False,\n",
       "              eval_metric=None, gamma=0.5, gpu_id=-1, grow_policy=&#x27;depthwise&#x27;,\n",
       "              importance_type=None, interaction_constraints=&#x27;&#x27;,\n",
       "              learning_rate=0.1, max_bin=256, max_cat_to_onehot=4,\n",
       "              max_delta_step=0, max_depth=9, max_leaves=0, min_child_weight=1,\n",
       "              missing=nan, monotone_constraints=&#x27;()&#x27;, n_estimators=100,\n",
       "              n_jobs=0, num_parallel_tree=1, predictor=&#x27;auto&#x27;, random_state=0,\n",
       "              reg_alpha=0, reg_lambda=1, ...)</pre></div></div></div></div></div>"
      ],
      "text/plain": [
       "XGBClassifier(base_score=0.5, booster='gbtree', callbacks=None,\n",
       "              colsample_bylevel=1, colsample_bynode=1, colsample_bytree=1,\n",
       "              early_stopping_rounds=None, enable_categorical=False,\n",
       "              eval_metric=None, gamma=0.5, gpu_id=-1, grow_policy='depthwise',\n",
       "              importance_type=None, interaction_constraints='',\n",
       "              learning_rate=0.1, max_bin=256, max_cat_to_onehot=4,\n",
       "              max_delta_step=0, max_depth=9, max_leaves=0, min_child_weight=1,\n",
       "              missing=nan, monotone_constraints='()', n_estimators=100,\n",
       "              n_jobs=0, num_parallel_tree=1, predictor='auto', random_state=0,\n",
       "              reg_alpha=0, reg_lambda=1, ...)"
      ]
     },
     "execution_count": 93,
     "metadata": {},
     "output_type": "execute_result"
    }
   ],
   "source": [
    "# fitting on splitted data to see performance\n",
    "xgb_tuned.fit(xtrain_bala_scaled, ytrain_bala)"
   ]
  },
  {
   "cell_type": "code",
   "execution_count": 74,
   "metadata": {
    "colab": {
     "base_uri": "https://localhost:8080/"
    },
    "id": "5Gf1PZLX-v7J",
    "outputId": "83e65740-a496-4389-98e9-811070058dba"
   },
   "outputs": [
    {
     "data": {
      "text/plain": [
       "{'accuracy': 81.79551122194513,\n",
       " 'precision': 0.8237692200894174,\n",
       " 'recall': 0.8179551122194514,\n",
       " 'f1': 0.8170950415072016}"
      ]
     },
     "execution_count": 74,
     "metadata": {},
     "output_type": "execute_result"
    }
   ],
   "source": [
    "ypred = xgb_tuned.predict(xtest_bala_scaled)\n",
    "calculate_results(y_true=ytest_bala, y_pred = ypred)"
   ]
  },
  {
   "cell_type": "code",
   "execution_count": 75,
   "metadata": {
    "colab": {
     "base_uri": "https://localhost:8080/",
     "height": 621
    },
    "id": "uWC-XRCcDhzN",
    "outputId": "dce259fc-ad62-462f-e9ab-9fa17e7e351d"
   },
   "outputs": [
    {
     "data": {
      "image/png": "[encoded data removed]",
      "text/plain": [
       "<Figure size 1080x720 with 1 Axes>"
      ]
     },
     "metadata": {
      "needs_background": "light"
     },
     "output_type": "display_data"
    }
   ],
   "source": [
    "# ploting roc curve for xgbclassifier\n",
    "# it requires probability as input rather than hard value\n",
    "ypred_proba = xgb_tuned.predict_proba(xtest_bala_scaled)\n",
    "plot_roc(ytest_bala, ypred_proba)"
   ]
  },
  {
   "cell_type": "markdown",
   "metadata": {
    "id": "BBM3OsFlAFyU"
   },
   "source": [
    " **Best Score so far**"
   ]
  },
  {
   "cell_type": "code",
   "execution_count": 76,
   "metadata": {
    "colab": {
     "base_uri": "https://localhost:8080/"
    },
    "id": "bFXuVyqT_W-Z",
    "outputId": "a82c1cae-e1ab-4ecd-90db-c5a52a3c4469"
   },
   "outputs": [
    {
     "data": {
      "text/html": [
       "<style>#sk-container-id-2 {color: black;background-color: white;}#sk-container-id-2 pre{padding: 0;}#sk-container-id-2 div.sk-toggleable {background-color: white;}#sk-container-id-2 label.sk-toggleable__label {cursor: pointer;display: block;width: 100%;margin-bottom: 0;padding: 0.3em;box-sizing: border-box;text-align: center;}#sk-container-id-2 label.sk-toggleable__label-arrow:before {content: \"▸\";float: left;margin-right: 0.25em;color: #696969;}#sk-container-id-2 label.sk-toggleable__label-arrow:hover:before {color: black;}#sk-container-id-2 div.sk-estimator:hover label.sk-toggleable__label-arrow:before {color: black;}#sk-container-id-2 div.sk-toggleable__content {max-height: 0;max-width: 0;overflow: hidden;text-align: left;background-color: #f0f8ff;}#sk-container-id-2 div.sk-toggleable__content pre {margin: 0.2em;color: black;border-radius: 0.25em;background-color: #f0f8ff;}#sk-container-id-2 input.sk-toggleable__control:checked~div.sk-toggleable__content {max-height: 200px;max-width: 100%;overflow: auto;}#sk-container-id-2 input.sk-toggleable__control:checked~label.sk-toggleable__label-arrow:before {content: \"▾\";}#sk-container-id-2 div.sk-estimator input.sk-toggleable__control:checked~label.sk-toggleable__label {background-color: #d4ebff;}#sk-container-id-2 div.sk-label input.sk-toggleable__control:checked~label.sk-toggleable__label {background-color: #d4ebff;}#sk-container-id-2 input.sk-hidden--visually {border: 0;clip: rect(1px 1px 1px 1px);clip: rect(1px, 1px, 1px, 1px);height: 1px;margin: -1px;overflow: hidden;padding: 0;position: absolute;width: 1px;}#sk-container-id-2 div.sk-estimator {font-family: monospace;background-color: #f0f8ff;border: 1px dotted black;border-radius: 0.25em;box-sizing: border-box;margin-bottom: 0.5em;}#sk-container-id-2 div.sk-estimator:hover {background-color: #d4ebff;}#sk-container-id-2 div.sk-parallel-item::after {content: \"\";width: 100%;border-bottom: 1px solid gray;flex-grow: 1;}#sk-container-id-2 div.sk-label:hover label.sk-toggleable__label {background-color: #d4ebff;}#sk-container-id-2 div.sk-serial::before {content: \"\";position: absolute;border-left: 1px solid gray;box-sizing: border-box;top: 0;bottom: 0;left: 50%;z-index: 0;}#sk-container-id-2 div.sk-serial {display: flex;flex-direction: column;align-items: center;background-color: white;padding-right: 0.2em;padding-left: 0.2em;position: relative;}#sk-container-id-2 div.sk-item {position: relative;z-index: 1;}#sk-container-id-2 div.sk-parallel {display: flex;align-items: stretch;justify-content: center;background-color: white;position: relative;}#sk-container-id-2 div.sk-item::before, #sk-container-id-2 div.sk-parallel-item::before {content: \"\";position: absolute;border-left: 1px solid gray;box-sizing: border-box;top: 0;bottom: 0;left: 50%;z-index: -1;}#sk-container-id-2 div.sk-parallel-item {display: flex;flex-direction: column;z-index: 1;position: relative;background-color: white;}#sk-container-id-2 div.sk-parallel-item:first-child::after {align-self: flex-end;width: 50%;}#sk-container-id-2 div.sk-parallel-item:last-child::after {align-self: flex-start;width: 50%;}#sk-container-id-2 div.sk-parallel-item:only-child::after {width: 0;}#sk-container-id-2 div.sk-dashed-wrapped {border: 1px dashed gray;margin: 0 0.4em 0.5em 0.4em;box-sizing: border-box;padding-bottom: 0.4em;background-color: white;}#sk-container-id-2 div.sk-label label {font-family: monospace;font-weight: bold;display: inline-block;line-height: 1.2em;}#sk-container-id-2 div.sk-label-container {text-align: center;}#sk-container-id-2 div.sk-container {/* jupyter's `normalize.less` sets `[hidden] { display: none; }` but bootstrap.min.css set `[hidden] { display: none !important; }` so we also need the `!important` here to be able to override the default hidden behavior on the sphinx rendered scikit-learn.org. See: https://github.com/scikit-learn/scikit-learn/issues/21755 */display: inline-block !important;position: relative;}#sk-container-id-2 div.sk-text-repr-fallback {display: none;}</style><div id=\"sk-container-id-2\" class=\"sk-top-container\"><div class=\"sk-text-repr-fallback\"><pre>XGBClassifier(base_score=0.5, booster=&#x27;gbtree&#x27;, callbacks=None,\n",
       "              colsample_bylevel=1, colsample_bynode=1, colsample_bytree=1,\n",
       "              early_stopping_rounds=None, enable_categorical=False,\n",
       "              eval_metric=None, gamma=0.5, gpu_id=-1, grow_policy=&#x27;depthwise&#x27;,\n",
       "              importance_type=None, interaction_constraints=&#x27;&#x27;,\n",
       "              learning_rate=0.1, max_bin=256, max_cat_to_onehot=4,\n",
       "              max_delta_step=0, max_depth=9, max_leaves=0, min_child_weight=1,\n",
       "              missing=nan, monotone_constraints=&#x27;()&#x27;, n_estimators=100,\n",
       "              n_jobs=0, num_parallel_tree=1, predictor=&#x27;auto&#x27;, random_state=0,\n",
       "              reg_alpha=0, reg_lambda=1, ...)</pre><b>In a Jupyter environment, please rerun this cell to show the HTML representation or trust the notebook. <br />On GitHub, the HTML representation is unable to render, please try loading this page with nbviewer.org.</b></div><div class=\"sk-container\" hidden><div class=\"sk-item\"><div class=\"sk-estimator sk-toggleable\"><input class=\"sk-toggleable__control sk-hidden--visually\" id=\"sk-estimator-id-2\" type=\"checkbox\" checked><label for=\"sk-estimator-id-2\" class=\"sk-toggleable__label sk-toggleable__label-arrow\">XGBClassifier</label><div class=\"sk-toggleable__content\"><pre>XGBClassifier(base_score=0.5, booster=&#x27;gbtree&#x27;, callbacks=None,\n",
       "              colsample_bylevel=1, colsample_bynode=1, colsample_bytree=1,\n",
       "              early_stopping_rounds=None, enable_categorical=False,\n",
       "              eval_metric=None, gamma=0.5, gpu_id=-1, grow_policy=&#x27;depthwise&#x27;,\n",
       "              importance_type=None, interaction_constraints=&#x27;&#x27;,\n",
       "              learning_rate=0.1, max_bin=256, max_cat_to_onehot=4,\n",
       "              max_delta_step=0, max_depth=9, max_leaves=0, min_child_weight=1,\n",
       "              missing=nan, monotone_constraints=&#x27;()&#x27;, n_estimators=100,\n",
       "              n_jobs=0, num_parallel_tree=1, predictor=&#x27;auto&#x27;, random_state=0,\n",
       "              reg_alpha=0, reg_lambda=1, ...)</pre></div></div></div></div></div>"
      ],
      "text/plain": [
       "XGBClassifier(base_score=0.5, booster='gbtree', callbacks=None,\n",
       "              colsample_bylevel=1, colsample_bynode=1, colsample_bytree=1,\n",
       "              early_stopping_rounds=None, enable_categorical=False,\n",
       "              eval_metric=None, gamma=0.5, gpu_id=-1, grow_policy='depthwise',\n",
       "              importance_type=None, interaction_constraints='',\n",
       "              learning_rate=0.1, max_bin=256, max_cat_to_onehot=4,\n",
       "              max_delta_step=0, max_depth=9, max_leaves=0, min_child_weight=1,\n",
       "              missing=nan, monotone_constraints='()', n_estimators=100,\n",
       "              n_jobs=0, num_parallel_tree=1, predictor='auto', random_state=0,\n",
       "              reg_alpha=0, reg_lambda=1, ...)"
      ]
     },
     "execution_count": 76,
     "metadata": {},
     "output_type": "execute_result"
    }
   ],
   "source": [
    "# fittting on Whole data\n",
    "xgb_tuned.fit(X_balanced, y_balanced)"
   ]
  },
  {
   "cell_type": "code",
   "execution_count": 77,
   "metadata": {
    "colab": {
     "base_uri": "https://localhost:8080/"
    },
    "id": "cEW89RKRB0IM",
    "outputId": "712e57b7-748b-4ebf-e3e8-0fcc0ad294fb"
   },
   "outputs": [
    {
     "data": {
      "text/plain": [
       "['XGBClassifier.joblib']"
      ]
     },
     "execution_count": 77,
     "metadata": {},
     "output_type": "execute_result"
    }
   ],
   "source": [
    "import joblib\n",
    "# saving the Model\n",
    "joblib.dump(xgb_tuned,'XGBClassifier.joblib')"
   ]
  },
  {
   "cell_type": "markdown",
   "metadata": {
    "id": "2qmqMA9CCJg-"
   },
   "source": [
    "# Fine Tuning Random FOrest"
   ]
  },
  {
   "cell_type": "code",
   "execution_count": 78,
   "metadata": {
    "id": "ofPVuzUTDnyM"
   },
   "outputs": [],
   "source": [
    "rand_params ={\n",
    " 'max_depth': [ 3, 5, 7, 9, 11],\n",
    " 'max_leaf_nodes': [2,3,4,5],\n",
    " 'min_samples_leaf': [2,3,4,5],\n",
    " 'min_samples_split': [3,4,5],\n",
    " 'n_estimators': [100,150, 200,250]\n",
    "}"
   ]
  },
  {
   "cell_type": "code",
   "execution_count": 79,
   "metadata": {
    "id": "stp4QP7jDz2J"
   },
   "outputs": [],
   "source": [
    "rand = RandomForestClassifier(bootstrap=True, oob_score=True, n_jobs= -1, criterion='gini')"
   ]
  },
  {
   "cell_type": "code",
   "execution_count": 80,
   "metadata": {
    "colab": {
     "base_uri": "https://localhost:8080/"
    },
    "id": "w6Yf7ERzDqX-",
    "outputId": "8cb63977-70f7-404f-e302-59f4fdeffa37"
   },
   "outputs": [
    {
     "name": "stdout",
     "output_type": "stream",
     "text": [
      "Fitting 5 folds for each of 50 candidates, totalling 250 fits\n",
      "best score: 0.7465274314214464\n",
      "    best estimator: RandomForestClassifier(max_depth=11, max_leaf_nodes=5, min_samples_leaf=2,\n",
      "                       min_samples_split=5, n_jobs=-1, oob_score=True)\n",
      "    best params: {'n_estimators': 100, 'min_samples_split': 5, 'min_samples_leaf': 2, 'max_leaf_nodes': 5, 'max_depth': 11}\n",
      "    best index: 10\n"
     ]
    }
   ],
   "source": [
    "# using random function to perform random search cv\n",
    "rscv2 = random_search_cv(rand, rand_params, n_iters=50)"
   ]
  },
  {
   "cell_type": "code",
   "execution_count": 81,
   "metadata": {
    "id": "IJAWBsjND1N2"
   },
   "outputs": [],
   "source": [
    "param = rscv2.best_params_"
   ]
  },
  {
   "cell_type": "code",
   "execution_count": 82,
   "metadata": {
    "id": "YqawtDxTD77x"
   },
   "outputs": [],
   "source": [
    "rand_tuned = RandomForestClassifier(n_estimators=param['n_estimators'],\n",
    "                                    min_samples_split = param['min_samples_split'],\n",
    "                                    min_samples_leaf = param['min_samples_leaf'],\n",
    "                                    max_leaf_nodes = param['max_leaf_nodes'],\n",
    "                                    max_depth= param['max_depth'],\n",
    "                                    bootstrap= True, oob_score=True)"
   ]
  },
  {
   "cell_type": "code",
   "execution_count": 102,
   "metadata": {
    "colab": {
     "base_uri": "https://localhost:8080/"
    },
    "id": "NmuZGAEND748",
    "outputId": "a6628c27-3e87-4772-e775-422676bbef20",
    "scrolled": false
   },
   "outputs": [
    {
     "data": {
      "text/html": [
       "<style>#sk-container-id-6 {color: black;background-color: white;}#sk-container-id-6 pre{padding: 0;}#sk-container-id-6 div.sk-toggleable {background-color: white;}#sk-container-id-6 label.sk-toggleable__label {cursor: pointer;display: block;width: 100%;margin-bottom: 0;padding: 0.3em;box-sizing: border-box;text-align: center;}#sk-container-id-6 label.sk-toggleable__label-arrow:before {content: \"▸\";float: left;margin-right: 0.25em;color: #696969;}#sk-container-id-6 label.sk-toggleable__label-arrow:hover:before {color: black;}#sk-container-id-6 div.sk-estimator:hover label.sk-toggleable__label-arrow:before {color: black;}#sk-container-id-6 div.sk-toggleable__content {max-height: 0;max-width: 0;overflow: hidden;text-align: left;background-color: #f0f8ff;}#sk-container-id-6 div.sk-toggleable__content pre {margin: 0.2em;color: black;border-radius: 0.25em;background-color: #f0f8ff;}#sk-container-id-6 input.sk-toggleable__control:checked~div.sk-toggleable__content {max-height: 200px;max-width: 100%;overflow: auto;}#sk-container-id-6 input.sk-toggleable__control:checked~label.sk-toggleable__label-arrow:before {content: \"▾\";}#sk-container-id-6 div.sk-estimator input.sk-toggleable__control:checked~label.sk-toggleable__label {background-color: #d4ebff;}#sk-container-id-6 div.sk-label input.sk-toggleable__control:checked~label.sk-toggleable__label {background-color: #d4ebff;}#sk-container-id-6 input.sk-hidden--visually {border: 0;clip: rect(1px 1px 1px 1px);clip: rect(1px, 1px, 1px, 1px);height: 1px;margin: -1px;overflow: hidden;padding: 0;position: absolute;width: 1px;}#sk-container-id-6 div.sk-estimator {font-family: monospace;background-color: #f0f8ff;border: 1px dotted black;border-radius: 0.25em;box-sizing: border-box;margin-bottom: 0.5em;}#sk-container-id-6 div.sk-estimator:hover {background-color: #d4ebff;}#sk-container-id-6 div.sk-parallel-item::after {content: \"\";width: 100%;border-bottom: 1px solid gray;flex-grow: 1;}#sk-container-id-6 div.sk-label:hover label.sk-toggleable__label {background-color: #d4ebff;}#sk-container-id-6 div.sk-serial::before {content: \"\";position: absolute;border-left: 1px solid gray;box-sizing: border-box;top: 0;bottom: 0;left: 50%;z-index: 0;}#sk-container-id-6 div.sk-serial {display: flex;flex-direction: column;align-items: center;background-color: white;padding-right: 0.2em;padding-left: 0.2em;position: relative;}#sk-container-id-6 div.sk-item {position: relative;z-index: 1;}#sk-container-id-6 div.sk-parallel {display: flex;align-items: stretch;justify-content: center;background-color: white;position: relative;}#sk-container-id-6 div.sk-item::before, #sk-container-id-6 div.sk-parallel-item::before {content: \"\";position: absolute;border-left: 1px solid gray;box-sizing: border-box;top: 0;bottom: 0;left: 50%;z-index: -1;}#sk-container-id-6 div.sk-parallel-item {display: flex;flex-direction: column;z-index: 1;position: relative;background-color: white;}#sk-container-id-6 div.sk-parallel-item:first-child::after {align-self: flex-end;width: 50%;}#sk-container-id-6 div.sk-parallel-item:last-child::after {align-self: flex-start;width: 50%;}#sk-container-id-6 div.sk-parallel-item:only-child::after {width: 0;}#sk-container-id-6 div.sk-dashed-wrapped {border: 1px dashed gray;margin: 0 0.4em 0.5em 0.4em;box-sizing: border-box;padding-bottom: 0.4em;background-color: white;}#sk-container-id-6 div.sk-label label {font-family: monospace;font-weight: bold;display: inline-block;line-height: 1.2em;}#sk-container-id-6 div.sk-label-container {text-align: center;}#sk-container-id-6 div.sk-container {/* jupyter's `normalize.less` sets `[hidden] { display: none; }` but bootstrap.min.css set `[hidden] { display: none !important; }` so we also need the `!important` here to be able to override the default hidden behavior on the sphinx rendered scikit-learn.org. See: https://github.com/scikit-learn/scikit-learn/issues/21755 */display: inline-block !important;position: relative;}#sk-container-id-6 div.sk-text-repr-fallback {display: none;}</style><div id=\"sk-container-id-6\" class=\"sk-top-container\"><div class=\"sk-text-repr-fallback\"><pre>RandomForestClassifier(max_depth=11, max_leaf_nodes=5, min_samples_leaf=2,\n",
       "                       min_samples_split=5, oob_score=True)</pre><b>In a Jupyter environment, please rerun this cell to show the HTML representation or trust the notebook. <br />On GitHub, the HTML representation is unable to render, please try loading this page with nbviewer.org.</b></div><div class=\"sk-container\" hidden><div class=\"sk-item\"><div class=\"sk-estimator sk-toggleable\"><input class=\"sk-toggleable__control sk-hidden--visually\" id=\"sk-estimator-id-6\" type=\"checkbox\" checked><label for=\"sk-estimator-id-6\" class=\"sk-toggleable__label sk-toggleable__label-arrow\">RandomForestClassifier</label><div class=\"sk-toggleable__content\"><pre>RandomForestClassifier(max_depth=11, max_leaf_nodes=5, min_samples_leaf=2,\n",
       "                       min_samples_split=5, oob_score=True)</pre></div></div></div></div></div>"
      ],
      "text/plain": [
       "RandomForestClassifier(max_depth=11, max_leaf_nodes=5, min_samples_leaf=2,\n",
       "                       min_samples_split=5, oob_score=True)"
      ]
     },
     "execution_count": 102,
     "metadata": {},
     "output_type": "execute_result"
    }
   ],
   "source": [
    "# fitting on splitted data to see performance\n",
    "rand_tuned.fit(xtrain_bala_scaled, ytrain_bala)"
   ]
  },
  {
   "cell_type": "code",
   "execution_count": 84,
   "metadata": {
    "colab": {
     "base_uri": "https://localhost:8080/"
    },
    "id": "HmXWSAGVD71_",
    "outputId": "edf7305f-72de-430a-e963-85aa209c13a9"
   },
   "outputs": [
    {
     "data": {
      "text/plain": [
       "{'accuracy': 75.31172069825436,\n",
       " 'precision': 0.7536006655015416,\n",
       " 'recall': 0.7531172069825436,\n",
       " 'f1': 0.7529789411884816}"
      ]
     },
     "execution_count": 84,
     "metadata": {},
     "output_type": "execute_result"
    }
   ],
   "source": [
    "ypred2 = rand_tuned.predict(xtest_bala_scaled)\n",
    "\n",
    "calculate_results(y_true=ytest_bala, y_pred = ypred2)"
   ]
  },
  {
   "cell_type": "code",
   "execution_count": 85,
   "metadata": {
    "colab": {
     "base_uri": "https://localhost:8080/",
     "height": 621
    },
    "id": "HXYhJlAUD7zV",
    "outputId": "1913f0a0-8f88-4075-c4f0-b6a90ffcc10a"
   },
   "outputs": [
    {
     "data": {
      "image/png": "[encoded data removed]",
      "text/plain": [
       "<Figure size 1080x720 with 1 Axes>"
      ]
     },
     "metadata": {
      "needs_background": "light"
     },
     "output_type": "display_data"
    }
   ],
   "source": [
    "# ploting roc curve for random forest classifier\n",
    "# it requires probability as input rather than hard value\n",
    "ypred2_proba = rand_tuned.predict_proba(xtest_bala_scaled)\n",
    "plot_roc(ytest_bala, ypred2_proba)"
   ]
  },
  {
   "cell_type": "code",
   "execution_count": 86,
   "metadata": {
    "colab": {
     "base_uri": "https://localhost:8080/"
    },
    "id": "kW-0Syr-G2-M",
    "outputId": "2313b94a-0157-48d9-db21-b826b444622f"
   },
   "outputs": [
    {
     "data": {
      "text/html": [
       "<style>#sk-container-id-4 {color: black;background-color: white;}#sk-container-id-4 pre{padding: 0;}#sk-container-id-4 div.sk-toggleable {background-color: white;}#sk-container-id-4 label.sk-toggleable__label {cursor: pointer;display: block;width: 100%;margin-bottom: 0;padding: 0.3em;box-sizing: border-box;text-align: center;}#sk-container-id-4 label.sk-toggleable__label-arrow:before {content: \"▸\";float: left;margin-right: 0.25em;color: #696969;}#sk-container-id-4 label.sk-toggleable__label-arrow:hover:before {color: black;}#sk-container-id-4 div.sk-estimator:hover label.sk-toggleable__label-arrow:before {color: black;}#sk-container-id-4 div.sk-toggleable__content {max-height: 0;max-width: 0;overflow: hidden;text-align: left;background-color: #f0f8ff;}#sk-container-id-4 div.sk-toggleable__content pre {margin: 0.2em;color: black;border-radius: 0.25em;background-color: #f0f8ff;}#sk-container-id-4 input.sk-toggleable__control:checked~div.sk-toggleable__content {max-height: 200px;max-width: 100%;overflow: auto;}#sk-container-id-4 input.sk-toggleable__control:checked~label.sk-toggleable__label-arrow:before {content: \"▾\";}#sk-container-id-4 div.sk-estimator input.sk-toggleable__control:checked~label.sk-toggleable__label {background-color: #d4ebff;}#sk-container-id-4 div.sk-label input.sk-toggleable__control:checked~label.sk-toggleable__label {background-color: #d4ebff;}#sk-container-id-4 input.sk-hidden--visually {border: 0;clip: rect(1px 1px 1px 1px);clip: rect(1px, 1px, 1px, 1px);height: 1px;margin: -1px;overflow: hidden;padding: 0;position: absolute;width: 1px;}#sk-container-id-4 div.sk-estimator {font-family: monospace;background-color: #f0f8ff;border: 1px dotted black;border-radius: 0.25em;box-sizing: border-box;margin-bottom: 0.5em;}#sk-container-id-4 div.sk-estimator:hover {background-color: #d4ebff;}#sk-container-id-4 div.sk-parallel-item::after {content: \"\";width: 100%;border-bottom: 1px solid gray;flex-grow: 1;}#sk-container-id-4 div.sk-label:hover label.sk-toggleable__label {background-color: #d4ebff;}#sk-container-id-4 div.sk-serial::before {content: \"\";position: absolute;border-left: 1px solid gray;box-sizing: border-box;top: 0;bottom: 0;left: 50%;z-index: 0;}#sk-container-id-4 div.sk-serial {display: flex;flex-direction: column;align-items: center;background-color: white;padding-right: 0.2em;padding-left: 0.2em;position: relative;}#sk-container-id-4 div.sk-item {position: relative;z-index: 1;}#sk-container-id-4 div.sk-parallel {display: flex;align-items: stretch;justify-content: center;background-color: white;position: relative;}#sk-container-id-4 div.sk-item::before, #sk-container-id-4 div.sk-parallel-item::before {content: \"\";position: absolute;border-left: 1px solid gray;box-sizing: border-box;top: 0;bottom: 0;left: 50%;z-index: -1;}#sk-container-id-4 div.sk-parallel-item {display: flex;flex-direction: column;z-index: 1;position: relative;background-color: white;}#sk-container-id-4 div.sk-parallel-item:first-child::after {align-self: flex-end;width: 50%;}#sk-container-id-4 div.sk-parallel-item:last-child::after {align-self: flex-start;width: 50%;}#sk-container-id-4 div.sk-parallel-item:only-child::after {width: 0;}#sk-container-id-4 div.sk-dashed-wrapped {border: 1px dashed gray;margin: 0 0.4em 0.5em 0.4em;box-sizing: border-box;padding-bottom: 0.4em;background-color: white;}#sk-container-id-4 div.sk-label label {font-family: monospace;font-weight: bold;display: inline-block;line-height: 1.2em;}#sk-container-id-4 div.sk-label-container {text-align: center;}#sk-container-id-4 div.sk-container {/* jupyter's `normalize.less` sets `[hidden] { display: none; }` but bootstrap.min.css set `[hidden] { display: none !important; }` so we also need the `!important` here to be able to override the default hidden behavior on the sphinx rendered scikit-learn.org. See: https://github.com/scikit-learn/scikit-learn/issues/21755 */display: inline-block !important;position: relative;}#sk-container-id-4 div.sk-text-repr-fallback {display: none;}</style><div id=\"sk-container-id-4\" class=\"sk-top-container\"><div class=\"sk-text-repr-fallback\"><pre>RandomForestClassifier(max_depth=11, max_leaf_nodes=5, min_samples_leaf=2,\n",
       "                       min_samples_split=5, oob_score=True)</pre><b>In a Jupyter environment, please rerun this cell to show the HTML representation or trust the notebook. <br />On GitHub, the HTML representation is unable to render, please try loading this page with nbviewer.org.</b></div><div class=\"sk-container\" hidden><div class=\"sk-item\"><div class=\"sk-estimator sk-toggleable\"><input class=\"sk-toggleable__control sk-hidden--visually\" id=\"sk-estimator-id-4\" type=\"checkbox\" checked><label for=\"sk-estimator-id-4\" class=\"sk-toggleable__label sk-toggleable__label-arrow\">RandomForestClassifier</label><div class=\"sk-toggleable__content\"><pre>RandomForestClassifier(max_depth=11, max_leaf_nodes=5, min_samples_leaf=2,\n",
       "                       min_samples_split=5, oob_score=True)</pre></div></div></div></div></div>"
      ],
      "text/plain": [
       "RandomForestClassifier(max_depth=11, max_leaf_nodes=5, min_samples_leaf=2,\n",
       "                       min_samples_split=5, oob_score=True)"
      ]
     },
     "execution_count": 86,
     "metadata": {},
     "output_type": "execute_result"
    }
   ],
   "source": [
    "#FInally fitting whole dataset\n",
    "rand_tuned.fit(X_balanced, y_balanced)"
   ]
  },
  {
   "cell_type": "code",
   "execution_count": 87,
   "metadata": {
    "colab": {
     "base_uri": "https://localhost:8080/"
    },
    "id": "epkZYtRiGgPB",
    "outputId": "266e29fd-666b-4c65-f9be-56e2cf54f134"
   },
   "outputs": [
    {
     "data": {
      "text/plain": [
       "['RandomForestClassifier.joblib']"
      ]
     },
     "execution_count": 87,
     "metadata": {},
     "output_type": "execute_result"
    }
   ],
   "source": [
    "# Saving model\n",
    "joblib.dump(rand_tuned, 'RandomForestClassifier.joblib')"
   ]
  },
  {
   "cell_type": "markdown",
   "metadata": {
    "id": "yyzqw-vcJYnU"
   },
   "source": [
    "## Just to see a Cross validation"
   ]
  },
  {
   "cell_type": "code",
   "execution_count": 88,
   "metadata": {
    "id": "R3J8X6mwHHU6"
   },
   "outputs": [],
   "source": [
    "from sklearn.model_selection import cross_val_score"
   ]
  },
  {
   "cell_type": "code",
   "execution_count": 89,
   "metadata": {
    "colab": {
     "base_uri": "https://localhost:8080/"
    },
    "id": "EFO1gfj1HRAJ",
    "outputId": "55971df9-f583-4207-ed64-943384105712"
   },
   "outputs": [
    {
     "name": "stderr",
     "output_type": "stream",
     "text": [
      "[Parallel(n_jobs=-1)]: Using backend LokyBackend with 8 concurrent workers.\n",
      "/usr/lib/python3/dist-packages/pkg_resources/__init__.py:116: PkgResourcesDeprecationWarning: 1.1build1 is an invalid version and will not be supported in a future release\n",
      "  warnings.warn(\n",
      "/usr/lib/python3/dist-packages/pkg_resources/__init__.py:116: PkgResourcesDeprecationWarning: 1.12.1-git20200711.33e2d80-dfsg1-0.6 is an invalid version and will not be supported in a future release\n",
      "  warnings.warn(\n",
      "/usr/lib/python3/dist-packages/pkg_resources/__init__.py:116: PkgResourcesDeprecationWarning: 1.1build1 is an invalid version and will not be supported in a future release\n",
      "  warnings.warn(\n",
      "/usr/lib/python3/dist-packages/pkg_resources/__init__.py:116: PkgResourcesDeprecationWarning: 0.1.43ubuntu1 is an invalid version and will not be supported in a future release\n",
      "  warnings.warn(\n",
      "/usr/lib/python3/dist-packages/pkg_resources/__init__.py:116: PkgResourcesDeprecationWarning: 1.12.1-git20200711.33e2d80-dfsg1-0.6 is an invalid version and will not be supported in a future release\n",
      "  warnings.warn(\n",
      "/usr/lib/python3/dist-packages/pkg_resources/__init__.py:116: PkgResourcesDeprecationWarning: 0.1.43ubuntu1 is an invalid version and will not be supported in a future release\n",
      "  warnings.warn(\n",
      "/usr/lib/python3/dist-packages/pkg_resources/__init__.py:116: PkgResourcesDeprecationWarning: 1.1build1 is an invalid version and will not be supported in a future release\n",
      "  warnings.warn(\n",
      "/usr/lib/python3/dist-packages/pkg_resources/__init__.py:116: PkgResourcesDeprecationWarning: 1.12.1-git20200711.33e2d80-dfsg1-0.6 is an invalid version and will not be supported in a future release\n",
      "  warnings.warn(\n",
      "/usr/lib/python3/dist-packages/pkg_resources/__init__.py:116: PkgResourcesDeprecationWarning: 0.1.43ubuntu1 is an invalid version and will not be supported in a future release\n",
      "  warnings.warn(\n",
      "/usr/lib/python3/dist-packages/pkg_resources/__init__.py:116: PkgResourcesDeprecationWarning: 1.1build1 is an invalid version and will not be supported in a future release\n",
      "  warnings.warn(\n",
      "/usr/lib/python3/dist-packages/pkg_resources/__init__.py:116: PkgResourcesDeprecationWarning: 1.12.1-git20200711.33e2d80-dfsg1-0.6 is an invalid version and will not be supported in a future release\n",
      "  warnings.warn(\n",
      "/usr/lib/python3/dist-packages/pkg_resources/__init__.py:116: PkgResourcesDeprecationWarning: 0.1.43ubuntu1 is an invalid version and will not be supported in a future release\n",
      "  warnings.warn(\n",
      "/usr/lib/python3/dist-packages/pkg_resources/__init__.py:116: PkgResourcesDeprecationWarning: 1.1build1 is an invalid version and will not be supported in a future release\n",
      "  warnings.warn(\n",
      "/usr/lib/python3/dist-packages/pkg_resources/__init__.py:116: PkgResourcesDeprecationWarning: 1.12.1-git20200711.33e2d80-dfsg1-0.6 is an invalid version and will not be supported in a future release\n",
      "  warnings.warn(\n",
      "/usr/lib/python3/dist-packages/pkg_resources/__init__.py:116: PkgResourcesDeprecationWarning: 0.1.43ubuntu1 is an invalid version and will not be supported in a future release\n",
      "  warnings.warn(\n",
      "[Parallel(n_jobs=-1)]: Done   2 out of   5 | elapsed:    0.8s remaining:    1.2s\n",
      "[Parallel(n_jobs=-1)]: Done   5 out of   5 | elapsed:    0.9s finished\n"
     ]
    }
   ],
   "source": [
    "aa = cross_val_score(xgb_tuned, X_balanced, y_balanced, n_jobs=-1,\n",
    "                     verbose = 1,\n",
    "                     cv = 5)"
   ]
  },
  {
   "cell_type": "code",
   "execution_count": 90,
   "metadata": {
    "colab": {
     "base_uri": "https://localhost:8080/"
    },
    "id": "Gred1IwvHrGy",
    "outputId": "8f3b0cf9-177b-42fc-c3de-6f523c8bf6d3"
   },
   "outputs": [
    {
     "data": {
      "text/plain": [
       "0.8004139650872817"
      ]
     },
     "execution_count": 90,
     "metadata": {},
     "output_type": "execute_result"
    }
   ],
   "source": [
    "np.mean(aa)"
   ]
  },
  {
   "cell_type": "code",
   "execution_count": 91,
   "metadata": {
    "colab": {
     "base_uri": "https://localhost:8080/"
    },
    "id": "ZnqZVaNOHxYE",
    "outputId": "0dc27950-a428-4224-eb7e-ff8fb50fd4a0"
   },
   "outputs": [
    {
     "name": "stderr",
     "output_type": "stream",
     "text": [
      "[Parallel(n_jobs=-1)]: Using backend LokyBackend with 8 concurrent workers.\n",
      "[Parallel(n_jobs=-1)]: Done   2 out of   5 | elapsed:    0.3s remaining:    0.5s\n",
      "[Parallel(n_jobs=-1)]: Done   5 out of   5 | elapsed:    0.5s finished\n"
     ]
    }
   ],
   "source": [
    "aaa = cross_val_score(rand_tuned, X_balanced, y_balanced, n_jobs=-1,\n",
    "                     verbose = 1,\n",
    "                     cv = 5)"
   ]
  },
  {
   "cell_type": "code",
   "execution_count": 92,
   "metadata": {
    "colab": {
     "base_uri": "https://localhost:8080/"
    },
    "id": "KRDil_HZIZC3",
    "outputId": "4fd2231b-95e8-4e93-800a-b9dcf89c3c06"
   },
   "outputs": [
    {
     "data": {
      "text/plain": [
       "0.7415324189526185"
      ]
     },
     "execution_count": 92,
     "metadata": {},
     "output_type": "execute_result"
    }
   ],
   "source": [
    "np.mean(aaa)"
   ]
  },
  {
   "cell_type": "code",
   "execution_count": null,
   "metadata": {
    "id": "S8pfcYjWIavm"
   },
   "outputs": [],
   "source": []
  }
 ],
 "metadata": {
  "colab": {
   "collapsed_sections": [],
   "provenance": []
  },
  "kernelspec": {
   "display_name": "Python 3.10.4 64-bit",
   "language": "python",
   "name": "python3"
  },
  "language_info": {
   "codemirror_mode": {
    "name": "ipython",
    "version": 3
   },
   "file_extension": ".py",
   "mimetype": "text/x-python",
   "name": "python",
   "nbconvert_exporter": "python",
   "pygments_lexer": "ipython3",
   "version": "3.10.4"
  },
  "vscode": {
   "interpreter": {
    "hash": "916dbcbb3f70747c44a77c7bcd40155683ae19c65e1c03b4aa3499c5328201f1"
   }
  }
 },
 "nbformat": 4,
 "nbformat_minor": 1
}
