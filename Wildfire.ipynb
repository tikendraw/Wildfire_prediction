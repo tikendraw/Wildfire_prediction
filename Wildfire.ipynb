{
  "cells": [
    {
      "cell_type": "markdown",
      "metadata": {
        "id": "view-in-github",
        "colab_type": "text"
      },
      "source": [
        "<a href=\"https://colab.research.google.com/github/tikendraw/Wildfire_prediction/blob/main/Wildfire.ipynb\" target=\"_parent\"><img src=\"https://colab.research.google.com/assets/colab-badge.svg\" alt=\"Open In Colab\"/></a>"
      ]
    },
    {
      "cell_type": "markdown",
      "metadata": {
        "id": "JE2u9nzflX7N"
      },
      "source": [
        "#Predictive modeling of wildfires: A new dataset and machine learning approach"
      ]
    },
    {
      "cell_type": "markdown",
      "metadata": {
        "id": "IRqq9IyLlvhZ"
      },
      "source": [
        "Abstract\n",
        "Wildfires, whether natural or caused by humans, are considered among the most dangerous and devastating disasters around the world.\n",
        "\n",
        "To address this issue, many research efforts have been conducted in order to monitor, predict and prevent wildfires using several Artificial Intelligence techniques and strategies such as Big Data, Machine Learning, and Remote Sensing. T\n",
        "\n",
        "he latter offers a rich source of satellite images, from which we can retrieve a huge amount of data that can be used to monitor wildfires.  The method used in this paper combines Big Data, Remote Sensing and Data Mining algorithms (Artificial Neural Network and SVM) to process data collected from satellite images over large areas and extract insights from them to predict the occurrence of wildfires and avoid such disasters. \n",
        "\n",
        "\n",
        " This dataset is available on GitHub via this link (https://github.com/ouladsayadyounes/Wildfires). "
      ]
    },
    {
      "cell_type": "code",
      "execution_count": 111,
      "metadata": {
        "id": "Q4Dah3IUlLrK"
      },
      "outputs": [],
      "source": [
        "data_repo = 'https://github.com/ouladsayadyounes/WildFires'"
      ]
    },
    {
      "cell_type": "code",
      "execution_count": 112,
      "metadata": {
        "colab": {
          "base_uri": "https://localhost:8080/"
        },
        "id": "EIXLeBuTlXLc",
        "outputId": "6040dbab-f1e5-4c61-f88f-69ddef7080db"
      },
      "outputs": [
        {
          "output_type": "stream",
          "name": "stdout",
          "text": [
            "fatal: destination path 'WildFires' already exists and is not an empty directory.\n"
          ]
        }
      ],
      "source": [
        "# get the data\n",
        "! git clone $data_repo"
      ]
    },
    {
      "cell_type": "code",
      "execution_count": 113,
      "metadata": {
        "id": "cYqFipyLm03-",
        "colab": {
          "base_uri": "https://localhost:8080/",
          "height": 206
        },
        "outputId": "3d53c3cd-0554-4778-ee28-acb295361abb"
      },
      "outputs": [
        {
          "output_type": "execute_result",
          "data": {
            "text/plain": [
              "       NDVI           LST  BURNED_AREA    CLASS\n",
              "0  0.506782  14584.272727     4.692308  no_fire\n",
              "1  0.522150  14655.833333     5.000000  no_fire\n",
              "2  0.682284  14780.000000     5.000000     fire\n",
              "3  0.120046  13298.500000     3.500000  no_fire\n",
              "4  0.568734  14743.000000     5.000000  no_fire"
            ],
            "text/html": [
              "\n",
              "  <div id=\"df-9a732629-7578-4995-9090-3c406137a92d\">\n",
              "    <div class=\"colab-df-container\">\n",
              "      <div>\n",
              "<style scoped>\n",
              "    .dataframe tbody tr th:only-of-type {\n",
              "        vertical-align: middle;\n",
              "    }\n",
              "\n",
              "    .dataframe tbody tr th {\n",
              "        vertical-align: top;\n",
              "    }\n",
              "\n",
              "    .dataframe thead th {\n",
              "        text-align: right;\n",
              "    }\n",
              "</style>\n",
              "<table border=\"1\" class=\"dataframe\">\n",
              "  <thead>\n",
              "    <tr style=\"text-align: right;\">\n",
              "      <th></th>\n",
              "      <th>NDVI</th>\n",
              "      <th>LST</th>\n",
              "      <th>BURNED_AREA</th>\n",
              "      <th>CLASS</th>\n",
              "    </tr>\n",
              "  </thead>\n",
              "  <tbody>\n",
              "    <tr>\n",
              "      <th>0</th>\n",
              "      <td>0.506782</td>\n",
              "      <td>14584.272727</td>\n",
              "      <td>4.692308</td>\n",
              "      <td>no_fire</td>\n",
              "    </tr>\n",
              "    <tr>\n",
              "      <th>1</th>\n",
              "      <td>0.522150</td>\n",
              "      <td>14655.833333</td>\n",
              "      <td>5.000000</td>\n",
              "      <td>no_fire</td>\n",
              "    </tr>\n",
              "    <tr>\n",
              "      <th>2</th>\n",
              "      <td>0.682284</td>\n",
              "      <td>14780.000000</td>\n",
              "      <td>5.000000</td>\n",
              "      <td>fire</td>\n",
              "    </tr>\n",
              "    <tr>\n",
              "      <th>3</th>\n",
              "      <td>0.120046</td>\n",
              "      <td>13298.500000</td>\n",
              "      <td>3.500000</td>\n",
              "      <td>no_fire</td>\n",
              "    </tr>\n",
              "    <tr>\n",
              "      <th>4</th>\n",
              "      <td>0.568734</td>\n",
              "      <td>14743.000000</td>\n",
              "      <td>5.000000</td>\n",
              "      <td>no_fire</td>\n",
              "    </tr>\n",
              "  </tbody>\n",
              "</table>\n",
              "</div>\n",
              "      <button class=\"colab-df-convert\" onclick=\"convertToInteractive('df-9a732629-7578-4995-9090-3c406137a92d')\"\n",
              "              title=\"Convert this dataframe to an interactive table.\"\n",
              "              style=\"display:none;\">\n",
              "        \n",
              "  <svg xmlns=\"http://www.w3.org/2000/svg\" height=\"24px\"viewBox=\"0 0 24 24\"\n",
              "       width=\"24px\">\n",
              "    <path d=\"M0 0h24v24H0V0z\" fill=\"none\"/>\n",
              "    <path d=\"M18.56 5.44l.94 2.06.94-2.06 2.06-.94-2.06-.94-.94-2.06-.94 2.06-2.06.94zm-11 1L8.5 8.5l.94-2.06 2.06-.94-2.06-.94L8.5 2.5l-.94 2.06-2.06.94zm10 10l.94 2.06.94-2.06 2.06-.94-2.06-.94-.94-2.06-.94 2.06-2.06.94z\"/><path d=\"M17.41 7.96l-1.37-1.37c-.4-.4-.92-.59-1.43-.59-.52 0-1.04.2-1.43.59L10.3 9.45l-7.72 7.72c-.78.78-.78 2.05 0 2.83L4 21.41c.39.39.9.59 1.41.59.51 0 1.02-.2 1.41-.59l7.78-7.78 2.81-2.81c.8-.78.8-2.07 0-2.86zM5.41 20L4 18.59l7.72-7.72 1.47 1.35L5.41 20z\"/>\n",
              "  </svg>\n",
              "      </button>\n",
              "      \n",
              "  <style>\n",
              "    .colab-df-container {\n",
              "      display:flex;\n",
              "      flex-wrap:wrap;\n",
              "      gap: 12px;\n",
              "    }\n",
              "\n",
              "    .colab-df-convert {\n",
              "      background-color: #E8F0FE;\n",
              "      border: none;\n",
              "      border-radius: 50%;\n",
              "      cursor: pointer;\n",
              "      display: none;\n",
              "      fill: #1967D2;\n",
              "      height: 32px;\n",
              "      padding: 0 0 0 0;\n",
              "      width: 32px;\n",
              "    }\n",
              "\n",
              "    .colab-df-convert:hover {\n",
              "      background-color: #E2EBFA;\n",
              "      box-shadow: 0px 1px 2px rgba(60, 64, 67, 0.3), 0px 1px 3px 1px rgba(60, 64, 67, 0.15);\n",
              "      fill: #174EA6;\n",
              "    }\n",
              "\n",
              "    [theme=dark] .colab-df-convert {\n",
              "      background-color: #3B4455;\n",
              "      fill: #D2E3FC;\n",
              "    }\n",
              "\n",
              "    [theme=dark] .colab-df-convert:hover {\n",
              "      background-color: #434B5C;\n",
              "      box-shadow: 0px 1px 3px 1px rgba(0, 0, 0, 0.15);\n",
              "      filter: drop-shadow(0px 1px 2px rgba(0, 0, 0, 0.3));\n",
              "      fill: #FFFFFF;\n",
              "    }\n",
              "  </style>\n",
              "\n",
              "      <script>\n",
              "        const buttonEl =\n",
              "          document.querySelector('#df-9a732629-7578-4995-9090-3c406137a92d button.colab-df-convert');\n",
              "        buttonEl.style.display =\n",
              "          google.colab.kernel.accessAllowed ? 'block' : 'none';\n",
              "\n",
              "        async function convertToInteractive(key) {\n",
              "          const element = document.querySelector('#df-9a732629-7578-4995-9090-3c406137a92d');\n",
              "          const dataTable =\n",
              "            await google.colab.kernel.invokeFunction('convertToInteractive',\n",
              "                                                     [key], {});\n",
              "          if (!dataTable) return;\n",
              "\n",
              "          const docLinkHtml = 'Like what you see? Visit the ' +\n",
              "            '<a target=\"_blank\" href=https://colab.research.google.com/notebooks/data_table.ipynb>data table notebook</a>'\n",
              "            + ' to learn more about interactive tables.';\n",
              "          element.innerHTML = '';\n",
              "          dataTable['output_type'] = 'display_data';\n",
              "          await google.colab.output.renderOutput(dataTable, element);\n",
              "          const docLink = document.createElement('div');\n",
              "          docLink.innerHTML = docLinkHtml;\n",
              "          element.appendChild(docLink);\n",
              "        }\n",
              "      </script>\n",
              "    </div>\n",
              "  </div>\n",
              "  "
            ]
          },
          "metadata": {},
          "execution_count": 113
        }
      ],
      "source": [
        "#read the DATA\n",
        "import pandas as pd\n",
        "data = pd.read_csv('/content/WildFires/WildFires_DataSet.csv')\n",
        "data.head()"
      ]
    },
    {
      "cell_type": "code",
      "execution_count": 114,
      "metadata": {
        "id": "UtJoxbsLnKda",
        "colab": {
          "base_uri": "https://localhost:8080/"
        },
        "outputId": "e0c0cce0-45ef-4787-a383-80c74e9a7348"
      },
      "outputs": [
        {
          "output_type": "stream",
          "name": "stdout",
          "text": [
            "<class 'pandas.core.frame.DataFrame'>\n",
            "RangeIndex: 1713 entries, 0 to 1712\n",
            "Data columns (total 4 columns):\n",
            " #   Column       Non-Null Count  Dtype  \n",
            "---  ------       --------------  -----  \n",
            " 0   NDVI         1713 non-null   float64\n",
            " 1   LST          1713 non-null   float64\n",
            " 2   BURNED_AREA  1713 non-null   float64\n",
            " 3   CLASS        1713 non-null   object \n",
            "dtypes: float64(3), object(1)\n",
            "memory usage: 53.7+ KB\n"
          ]
        }
      ],
      "source": [
        "data.info()"
      ]
    },
    {
      "cell_type": "code",
      "execution_count": 115,
      "metadata": {
        "id": "zqyb84wwoBKT",
        "colab": {
          "base_uri": "https://localhost:8080/",
          "height": 300
        },
        "outputId": "ff9d062d-c27c-448a-8d30-ecf32561736d"
      },
      "outputs": [
        {
          "output_type": "execute_result",
          "data": {
            "text/plain": [
              "              NDVI           LST  BURNED_AREA\n",
              "count  1713.000000   1713.000000  1713.000000\n",
              "mean      0.555665  14622.802073     4.674973\n",
              "std       0.092847    366.927861     0.583791\n",
              "min       0.030735  13137.000000     3.000000\n",
              "25%       0.501276  14406.000000     4.521951\n",
              "50%       0.565181  14645.750000     4.920635\n",
              "75%       0.620987  14881.300000     5.000000\n",
              "max       0.781723  15611.570513     9.000000"
            ],
            "text/html": [
              "\n",
              "  <div id=\"df-12805c23-a719-4282-8594-059ef869411f\">\n",
              "    <div class=\"colab-df-container\">\n",
              "      <div>\n",
              "<style scoped>\n",
              "    .dataframe tbody tr th:only-of-type {\n",
              "        vertical-align: middle;\n",
              "    }\n",
              "\n",
              "    .dataframe tbody tr th {\n",
              "        vertical-align: top;\n",
              "    }\n",
              "\n",
              "    .dataframe thead th {\n",
              "        text-align: right;\n",
              "    }\n",
              "</style>\n",
              "<table border=\"1\" class=\"dataframe\">\n",
              "  <thead>\n",
              "    <tr style=\"text-align: right;\">\n",
              "      <th></th>\n",
              "      <th>NDVI</th>\n",
              "      <th>LST</th>\n",
              "      <th>BURNED_AREA</th>\n",
              "    </tr>\n",
              "  </thead>\n",
              "  <tbody>\n",
              "    <tr>\n",
              "      <th>count</th>\n",
              "      <td>1713.000000</td>\n",
              "      <td>1713.000000</td>\n",
              "      <td>1713.000000</td>\n",
              "    </tr>\n",
              "    <tr>\n",
              "      <th>mean</th>\n",
              "      <td>0.555665</td>\n",
              "      <td>14622.802073</td>\n",
              "      <td>4.674973</td>\n",
              "    </tr>\n",
              "    <tr>\n",
              "      <th>std</th>\n",
              "      <td>0.092847</td>\n",
              "      <td>366.927861</td>\n",
              "      <td>0.583791</td>\n",
              "    </tr>\n",
              "    <tr>\n",
              "      <th>min</th>\n",
              "      <td>0.030735</td>\n",
              "      <td>13137.000000</td>\n",
              "      <td>3.000000</td>\n",
              "    </tr>\n",
              "    <tr>\n",
              "      <th>25%</th>\n",
              "      <td>0.501276</td>\n",
              "      <td>14406.000000</td>\n",
              "      <td>4.521951</td>\n",
              "    </tr>\n",
              "    <tr>\n",
              "      <th>50%</th>\n",
              "      <td>0.565181</td>\n",
              "      <td>14645.750000</td>\n",
              "      <td>4.920635</td>\n",
              "    </tr>\n",
              "    <tr>\n",
              "      <th>75%</th>\n",
              "      <td>0.620987</td>\n",
              "      <td>14881.300000</td>\n",
              "      <td>5.000000</td>\n",
              "    </tr>\n",
              "    <tr>\n",
              "      <th>max</th>\n",
              "      <td>0.781723</td>\n",
              "      <td>15611.570513</td>\n",
              "      <td>9.000000</td>\n",
              "    </tr>\n",
              "  </tbody>\n",
              "</table>\n",
              "</div>\n",
              "      <button class=\"colab-df-convert\" onclick=\"convertToInteractive('df-12805c23-a719-4282-8594-059ef869411f')\"\n",
              "              title=\"Convert this dataframe to an interactive table.\"\n",
              "              style=\"display:none;\">\n",
              "        \n",
              "  <svg xmlns=\"http://www.w3.org/2000/svg\" height=\"24px\"viewBox=\"0 0 24 24\"\n",
              "       width=\"24px\">\n",
              "    <path d=\"M0 0h24v24H0V0z\" fill=\"none\"/>\n",
              "    <path d=\"M18.56 5.44l.94 2.06.94-2.06 2.06-.94-2.06-.94-.94-2.06-.94 2.06-2.06.94zm-11 1L8.5 8.5l.94-2.06 2.06-.94-2.06-.94L8.5 2.5l-.94 2.06-2.06.94zm10 10l.94 2.06.94-2.06 2.06-.94-2.06-.94-.94-2.06-.94 2.06-2.06.94z\"/><path d=\"M17.41 7.96l-1.37-1.37c-.4-.4-.92-.59-1.43-.59-.52 0-1.04.2-1.43.59L10.3 9.45l-7.72 7.72c-.78.78-.78 2.05 0 2.83L4 21.41c.39.39.9.59 1.41.59.51 0 1.02-.2 1.41-.59l7.78-7.78 2.81-2.81c.8-.78.8-2.07 0-2.86zM5.41 20L4 18.59l7.72-7.72 1.47 1.35L5.41 20z\"/>\n",
              "  </svg>\n",
              "      </button>\n",
              "      \n",
              "  <style>\n",
              "    .colab-df-container {\n",
              "      display:flex;\n",
              "      flex-wrap:wrap;\n",
              "      gap: 12px;\n",
              "    }\n",
              "\n",
              "    .colab-df-convert {\n",
              "      background-color: #E8F0FE;\n",
              "      border: none;\n",
              "      border-radius: 50%;\n",
              "      cursor: pointer;\n",
              "      display: none;\n",
              "      fill: #1967D2;\n",
              "      height: 32px;\n",
              "      padding: 0 0 0 0;\n",
              "      width: 32px;\n",
              "    }\n",
              "\n",
              "    .colab-df-convert:hover {\n",
              "      background-color: #E2EBFA;\n",
              "      box-shadow: 0px 1px 2px rgba(60, 64, 67, 0.3), 0px 1px 3px 1px rgba(60, 64, 67, 0.15);\n",
              "      fill: #174EA6;\n",
              "    }\n",
              "\n",
              "    [theme=dark] .colab-df-convert {\n",
              "      background-color: #3B4455;\n",
              "      fill: #D2E3FC;\n",
              "    }\n",
              "\n",
              "    [theme=dark] .colab-df-convert:hover {\n",
              "      background-color: #434B5C;\n",
              "      box-shadow: 0px 1px 3px 1px rgba(0, 0, 0, 0.15);\n",
              "      filter: drop-shadow(0px 1px 2px rgba(0, 0, 0, 0.3));\n",
              "      fill: #FFFFFF;\n",
              "    }\n",
              "  </style>\n",
              "\n",
              "      <script>\n",
              "        const buttonEl =\n",
              "          document.querySelector('#df-12805c23-a719-4282-8594-059ef869411f button.colab-df-convert');\n",
              "        buttonEl.style.display =\n",
              "          google.colab.kernel.accessAllowed ? 'block' : 'none';\n",
              "\n",
              "        async function convertToInteractive(key) {\n",
              "          const element = document.querySelector('#df-12805c23-a719-4282-8594-059ef869411f');\n",
              "          const dataTable =\n",
              "            await google.colab.kernel.invokeFunction('convertToInteractive',\n",
              "                                                     [key], {});\n",
              "          if (!dataTable) return;\n",
              "\n",
              "          const docLinkHtml = 'Like what you see? Visit the ' +\n",
              "            '<a target=\"_blank\" href=https://colab.research.google.com/notebooks/data_table.ipynb>data table notebook</a>'\n",
              "            + ' to learn more about interactive tables.';\n",
              "          element.innerHTML = '';\n",
              "          dataTable['output_type'] = 'display_data';\n",
              "          await google.colab.output.renderOutput(dataTable, element);\n",
              "          const docLink = document.createElement('div');\n",
              "          docLink.innerHTML = docLinkHtml;\n",
              "          element.appendChild(docLink);\n",
              "        }\n",
              "      </script>\n",
              "    </div>\n",
              "  </div>\n",
              "  "
            ]
          },
          "metadata": {},
          "execution_count": 115
        }
      ],
      "source": [
        "data.describe()"
      ]
    },
    {
      "cell_type": "code",
      "execution_count": 116,
      "metadata": {
        "id": "y2l4c8f9nvPu",
        "colab": {
          "base_uri": "https://localhost:8080/"
        },
        "outputId": "d73ef6bc-c93e-4562-c953-e68b3eb7963e"
      },
      "outputs": [
        {
          "output_type": "execute_result",
          "data": {
            "text/plain": [
              "NDVI           0\n",
              "LST            0\n",
              "BURNED_AREA    0\n",
              "CLASS          0\n",
              "dtype: int64"
            ]
          },
          "metadata": {},
          "execution_count": 116
        }
      ],
      "source": [
        "# check for nulls\n",
        "data.isnull().sum()"
      ]
    },
    {
      "cell_type": "code",
      "execution_count": 117,
      "metadata": {
        "id": "OJdibVhGr3CR",
        "colab": {
          "base_uri": "https://localhost:8080/"
        },
        "outputId": "56716a89-47e3-4253-b21e-ee4ddc388980"
      },
      "outputs": [
        {
          "output_type": "stream",
          "name": "stdout",
          "text": [
            "before Dropping (1713, 4)\n",
            "after Dropping (1438, 4)\n"
          ]
        }
      ],
      "source": [
        "# Removing the Duplicates\n",
        "print('before Dropping',data.shape)\n",
        "\n",
        "data.drop_duplicates(keep='first',inplace = True)\n",
        "print('after Dropping',data.shape)\n"
      ]
    },
    {
      "cell_type": "markdown",
      "metadata": {
        "id": "N9ohOVWFnN7i"
      },
      "source": [
        "# EDA"
      ]
    },
    {
      "cell_type": "markdown",
      "metadata": {
        "id": "JRg6wwKMofYY"
      },
      "source": [
        "### checking for Feature Correlation"
      ]
    },
    {
      "cell_type": "code",
      "execution_count": 118,
      "metadata": {
        "id": "aQ9DyouRnyVK",
        "colab": {
          "base_uri": "https://localhost:8080/",
          "height": 287
        },
        "outputId": "569d3eff-3d45-4844-e798-765056d033de"
      },
      "outputs": [
        {
          "output_type": "execute_result",
          "data": {
            "text/plain": [
              "<matplotlib.axes._subplots.AxesSubplot at 0x7f71f97aea90>"
            ]
          },
          "metadata": {},
          "execution_count": 118
        },
        {
          "output_type": "display_data",
          "data": {
            "text/plain": [
              "<Figure size 432x288 with 2 Axes>"
            ],
            "image/png": "[encoded data removed]"
          },
          "metadata": {
            "needs_background": "light"
          }
        }
      ],
      "source": [
        "import seaborn as sns\n",
        "import numpy as np\n",
        "sns.heatmap(data.corr(), annot = True)"
      ]
    },
    {
      "cell_type": "markdown",
      "metadata": {
        "id": "bpWbH61eoZfB"
      },
      "source": [
        "There is no Strong Correlation:\n",
        "Feature are independent"
      ]
    },
    {
      "cell_type": "markdown",
      "metadata": {
        "id": "wQVgCq8Lo-s9"
      },
      "source": [
        "## Checking Distribution"
      ]
    },
    {
      "cell_type": "markdown",
      "source": [
        "### Univariate Analysis"
      ],
      "metadata": {
        "id": "hobLU3P72gRk"
      }
    },
    {
      "cell_type": "code",
      "execution_count": 119,
      "metadata": {
        "id": "aFfxmzxNpa1e",
        "colab": {
          "base_uri": "https://localhost:8080/"
        },
        "outputId": "4d98d761-85d1-4125-9e9a-5ad25d9de6c5"
      },
      "outputs": [
        {
          "output_type": "stream",
          "name": "stdout",
          "text": [
            "Index(['NDVI', 'LST', 'BURNED_AREA', 'CLASS'], dtype='object')\n"
          ]
        }
      ],
      "source": [
        "cols = data.columns\n",
        "print(cols)"
      ]
    },
    {
      "cell_type": "code",
      "execution_count": 120,
      "metadata": {
        "id": "cjhgBHt7o-qJ",
        "colab": {
          "base_uri": "https://localhost:8080/",
          "height": 882
        },
        "outputId": "f1305fee-1862-4c35-82b8-32155eceea4c"
      },
      "outputs": [
        {
          "output_type": "display_data",
          "data": {
            "text/plain": [
              "<Figure size 1440x1440 with 3 Axes>"
            ],
            "image/png": "[encoded data removed]"
          },
          "metadata": {
            "needs_background": "light"
          }
        }
      ],
      "source": [
        "import matplotlib.pyplot as plt\n",
        "\n",
        "#creating temp \n",
        "_fired = data[(data.CLASS=='fire')]\n",
        "_not_fired = data[~(data.CLASS=='fire')]\n",
        "\n",
        "plt.figure(figsize = (20,20))\n",
        "\n",
        "for i,col in enumerate(cols):\n",
        "    if i < 3:\n",
        "        plt.subplot(4,1,i+1)\n",
        "        # d_plot(cols[i])\n",
        "        # plt.title(cols[i])\n",
        "        data1 = _fired[col]\n",
        "        data2 = _not_fired[col]\n",
        "        # plt.figure(figsize=(15,5))\n",
        "        bins = np.linspace(data[col].min(), data[col].max(), 100)\n",
        "        sns.histplot(data2, bins=bins, alpha=0.5, color='green', kde=True,label='not_fired')\n",
        "\n",
        "        sns.histplot(data1, bins=bins, alpha=0.5, color = 'blue', kde=True,label='fired')\n",
        "        plt.gca().set(title=f'Distribution Histogram of {col}', ylabel='Count')\n",
        "        plt.legend()"
      ]
    },
    {
      "cell_type": "code",
      "source": [
        "sns.countplot(data = data , x = 'CLASS')"
      ],
      "metadata": {
        "colab": {
          "base_uri": "https://localhost:8080/",
          "height": 297
        },
        "id": "GL5LYMty2pB2",
        "outputId": "93d8b738-f379-48a6-93d5-9e872db1a22b"
      },
      "execution_count": 121,
      "outputs": [
        {
          "output_type": "execute_result",
          "data": {
            "text/plain": [
              "<matplotlib.axes._subplots.AxesSubplot at 0x7f71fc395790>"
            ]
          },
          "metadata": {},
          "execution_count": 121
        },
        {
          "output_type": "display_data",
          "data": {
            "text/plain": [
              "<Figure size 432x288 with 1 Axes>"
            ],
            "image/png": "[encoded data removed]"
          },
          "metadata": {
            "needs_background": "light"
          }
        }
      ]
    },
    {
      "cell_type": "markdown",
      "metadata": {
        "id": "s1D1CClEo-nL"
      },
      "source": [
        "**High Class Immbalance**"
      ]
    },
    {
      "cell_type": "markdown",
      "metadata": {
        "id": "Et9yru9DUOL_"
      },
      "source": [
        "# Outlier Removal"
      ]
    },
    {
      "cell_type": "code",
      "source": [
        "# OUtliers check\n",
        "num_col = data.select_dtypes('float')\n",
        "\n",
        "plt.figure(figsize=(15,5))\n",
        "i = 1\n",
        "for col in num_col:\n",
        "    plt.subplot(1,3,i)\n",
        "    sns.boxplot(data = data[col])\n",
        "    i += 1\n",
        "plt.show()"
      ],
      "metadata": {
        "colab": {
          "base_uri": "https://localhost:8080/",
          "height": 320
        },
        "id": "HOj3gaYd3Gwe",
        "outputId": "3f01bac3-8d24-444f-cbb6-2dba4cc4e5c1"
      },
      "execution_count": 122,
      "outputs": [
        {
          "output_type": "display_data",
          "data": {
            "text/plain": [
              "<Figure size 1080x360 with 3 Axes>"
            ],
            "image/png": "[encoded data removed]"
          },
          "metadata": {
            "needs_background": "light"
          }
        }
      ]
    },
    {
      "cell_type": "code",
      "execution_count": 123,
      "metadata": {
        "id": "R3I7yM2RUN-T",
        "colab": {
          "base_uri": "https://localhost:8080/"
        },
        "outputId": "2ceb6f44-93c6-4280-ddc9-c66be3e60df1"
      },
      "outputs": [
        {
          "output_type": "execute_result",
          "data": {
            "text/plain": [
              "array([ 1,  1,  1, ...,  1, -1,  1])"
            ]
          },
          "metadata": {},
          "execution_count": 123
        }
      ],
      "source": [
        "from sklearn.covariance import EllipticEnvelope\n",
        "\n",
        "# we will use a copy of data with dropped labels\n",
        "data_with_no_labels = data.drop('CLASS', axis = 1)\n",
        "elliptical = EllipticEnvelope().fit(data_with_no_labels)\n",
        "outliers = elliptical.predict(data_with_no_labels)\n",
        "\n",
        "outliers"
      ]
    },
    {
      "cell_type": "code",
      "execution_count": 124,
      "metadata": {
        "id": "kQPY3SFMVAXh",
        "colab": {
          "base_uri": "https://localhost:8080/"
        },
        "outputId": "3154b21f-738e-47ea-f80d-8e6d6bb7903d"
      },
      "outputs": [
        {
          "output_type": "stream",
          "name": "stdout",
          "text": [
            "Counter({1: 1294, -1: 144})\n",
            "There are 144 Outliers in the dataset\n"
          ]
        }
      ],
      "source": [
        "from collections import Counter\n",
        "bincount = Counter(outliers)\n",
        "print(bincount)\n",
        "print(f'There are {bincount[-1]} Outliers in the dataset')"
      ]
    },
    {
      "cell_type": "code",
      "execution_count": 125,
      "metadata": {
        "id": "K8_srmvSVlNW",
        "colab": {
          "base_uri": "https://localhost:8080/",
          "height": 206
        },
        "outputId": "9b03a401-7dcb-4360-9ae1-38250ba23282"
      },
      "outputs": [
        {
          "output_type": "execute_result",
          "data": {
            "text/plain": [
              "       NDVI           LST  BURNED_AREA    CLASS  outlier\n",
              "0  0.506782  14584.272727     4.692308  no_fire        1\n",
              "1  0.522150  14655.833333     5.000000  no_fire        1\n",
              "2  0.682284  14780.000000     5.000000     fire        1\n",
              "3  0.120046  13298.500000     3.500000  no_fire       -1\n",
              "4  0.568734  14743.000000     5.000000  no_fire        1"
            ],
            "text/html": [
              "\n",
              "  <div id=\"df-ee5c1b44-28ff-4431-b114-4170e057cc7c\">\n",
              "    <div class=\"colab-df-container\">\n",
              "      <div>\n",
              "<style scoped>\n",
              "    .dataframe tbody tr th:only-of-type {\n",
              "        vertical-align: middle;\n",
              "    }\n",
              "\n",
              "    .dataframe tbody tr th {\n",
              "        vertical-align: top;\n",
              "    }\n",
              "\n",
              "    .dataframe thead th {\n",
              "        text-align: right;\n",
              "    }\n",
              "</style>\n",
              "<table border=\"1\" class=\"dataframe\">\n",
              "  <thead>\n",
              "    <tr style=\"text-align: right;\">\n",
              "      <th></th>\n",
              "      <th>NDVI</th>\n",
              "      <th>LST</th>\n",
              "      <th>BURNED_AREA</th>\n",
              "      <th>CLASS</th>\n",
              "      <th>outlier</th>\n",
              "    </tr>\n",
              "  </thead>\n",
              "  <tbody>\n",
              "    <tr>\n",
              "      <th>0</th>\n",
              "      <td>0.506782</td>\n",
              "      <td>14584.272727</td>\n",
              "      <td>4.692308</td>\n",
              "      <td>no_fire</td>\n",
              "      <td>1</td>\n",
              "    </tr>\n",
              "    <tr>\n",
              "      <th>1</th>\n",
              "      <td>0.522150</td>\n",
              "      <td>14655.833333</td>\n",
              "      <td>5.000000</td>\n",
              "      <td>no_fire</td>\n",
              "      <td>1</td>\n",
              "    </tr>\n",
              "    <tr>\n",
              "      <th>2</th>\n",
              "      <td>0.682284</td>\n",
              "      <td>14780.000000</td>\n",
              "      <td>5.000000</td>\n",
              "      <td>fire</td>\n",
              "      <td>1</td>\n",
              "    </tr>\n",
              "    <tr>\n",
              "      <th>3</th>\n",
              "      <td>0.120046</td>\n",
              "      <td>13298.500000</td>\n",
              "      <td>3.500000</td>\n",
              "      <td>no_fire</td>\n",
              "      <td>-1</td>\n",
              "    </tr>\n",
              "    <tr>\n",
              "      <th>4</th>\n",
              "      <td>0.568734</td>\n",
              "      <td>14743.000000</td>\n",
              "      <td>5.000000</td>\n",
              "      <td>no_fire</td>\n",
              "      <td>1</td>\n",
              "    </tr>\n",
              "  </tbody>\n",
              "</table>\n",
              "</div>\n",
              "      <button class=\"colab-df-convert\" onclick=\"convertToInteractive('df-ee5c1b44-28ff-4431-b114-4170e057cc7c')\"\n",
              "              title=\"Convert this dataframe to an interactive table.\"\n",
              "              style=\"display:none;\">\n",
              "        \n",
              "  <svg xmlns=\"http://www.w3.org/2000/svg\" height=\"24px\"viewBox=\"0 0 24 24\"\n",
              "       width=\"24px\">\n",
              "    <path d=\"M0 0h24v24H0V0z\" fill=\"none\"/>\n",
              "    <path d=\"M18.56 5.44l.94 2.06.94-2.06 2.06-.94-2.06-.94-.94-2.06-.94 2.06-2.06.94zm-11 1L8.5 8.5l.94-2.06 2.06-.94-2.06-.94L8.5 2.5l-.94 2.06-2.06.94zm10 10l.94 2.06.94-2.06 2.06-.94-2.06-.94-.94-2.06-.94 2.06-2.06.94z\"/><path d=\"M17.41 7.96l-1.37-1.37c-.4-.4-.92-.59-1.43-.59-.52 0-1.04.2-1.43.59L10.3 9.45l-7.72 7.72c-.78.78-.78 2.05 0 2.83L4 21.41c.39.39.9.59 1.41.59.51 0 1.02-.2 1.41-.59l7.78-7.78 2.81-2.81c.8-.78.8-2.07 0-2.86zM5.41 20L4 18.59l7.72-7.72 1.47 1.35L5.41 20z\"/>\n",
              "  </svg>\n",
              "      </button>\n",
              "      \n",
              "  <style>\n",
              "    .colab-df-container {\n",
              "      display:flex;\n",
              "      flex-wrap:wrap;\n",
              "      gap: 12px;\n",
              "    }\n",
              "\n",
              "    .colab-df-convert {\n",
              "      background-color: #E8F0FE;\n",
              "      border: none;\n",
              "      border-radius: 50%;\n",
              "      cursor: pointer;\n",
              "      display: none;\n",
              "      fill: #1967D2;\n",
              "      height: 32px;\n",
              "      padding: 0 0 0 0;\n",
              "      width: 32px;\n",
              "    }\n",
              "\n",
              "    .colab-df-convert:hover {\n",
              "      background-color: #E2EBFA;\n",
              "      box-shadow: 0px 1px 2px rgba(60, 64, 67, 0.3), 0px 1px 3px 1px rgba(60, 64, 67, 0.15);\n",
              "      fill: #174EA6;\n",
              "    }\n",
              "\n",
              "    [theme=dark] .colab-df-convert {\n",
              "      background-color: #3B4455;\n",
              "      fill: #D2E3FC;\n",
              "    }\n",
              "\n",
              "    [theme=dark] .colab-df-convert:hover {\n",
              "      background-color: #434B5C;\n",
              "      box-shadow: 0px 1px 3px 1px rgba(0, 0, 0, 0.15);\n",
              "      filter: drop-shadow(0px 1px 2px rgba(0, 0, 0, 0.3));\n",
              "      fill: #FFFFFF;\n",
              "    }\n",
              "  </style>\n",
              "\n",
              "      <script>\n",
              "        const buttonEl =\n",
              "          document.querySelector('#df-ee5c1b44-28ff-4431-b114-4170e057cc7c button.colab-df-convert');\n",
              "        buttonEl.style.display =\n",
              "          google.colab.kernel.accessAllowed ? 'block' : 'none';\n",
              "\n",
              "        async function convertToInteractive(key) {\n",
              "          const element = document.querySelector('#df-ee5c1b44-28ff-4431-b114-4170e057cc7c');\n",
              "          const dataTable =\n",
              "            await google.colab.kernel.invokeFunction('convertToInteractive',\n",
              "                                                     [key], {});\n",
              "          if (!dataTable) return;\n",
              "\n",
              "          const docLinkHtml = 'Like what you see? Visit the ' +\n",
              "            '<a target=\"_blank\" href=https://colab.research.google.com/notebooks/data_table.ipynb>data table notebook</a>'\n",
              "            + ' to learn more about interactive tables.';\n",
              "          element.innerHTML = '';\n",
              "          dataTable['output_type'] = 'display_data';\n",
              "          await google.colab.output.renderOutput(dataTable, element);\n",
              "          const docLink = document.createElement('div');\n",
              "          docLink.innerHTML = docLinkHtml;\n",
              "          element.appendChild(docLink);\n",
              "        }\n",
              "      </script>\n",
              "    </div>\n",
              "  </div>\n",
              "  "
            ]
          },
          "metadata": {},
          "execution_count": 125
        }
      ],
      "source": [
        "data['outlier'] = outliers\n",
        "data.head()"
      ]
    },
    {
      "cell_type": "code",
      "execution_count": 126,
      "metadata": {
        "id": "8ee6yJKFVyZ9",
        "colab": {
          "base_uri": "https://localhost:8080/",
          "height": 206
        },
        "outputId": "1a5bbf2a-31c2-41a8-b152-5e815868940f"
      },
      "outputs": [
        {
          "output_type": "execute_result",
          "data": {
            "text/plain": [
              "       NDVI           LST  BURNED_AREA    CLASS\n",
              "0  0.506782  14584.272727     4.692308  no_fire\n",
              "1  0.522150  14655.833333     5.000000  no_fire\n",
              "2  0.682284  14780.000000     5.000000     fire\n",
              "4  0.568734  14743.000000     5.000000  no_fire\n",
              "5  0.454228  14929.571429     4.904762     fire"
            ],
            "text/html": [
              "\n",
              "  <div id=\"df-ca27c114-8eb9-4387-9e00-69fcadaacdd4\">\n",
              "    <div class=\"colab-df-container\">\n",
              "      <div>\n",
              "<style scoped>\n",
              "    .dataframe tbody tr th:only-of-type {\n",
              "        vertical-align: middle;\n",
              "    }\n",
              "\n",
              "    .dataframe tbody tr th {\n",
              "        vertical-align: top;\n",
              "    }\n",
              "\n",
              "    .dataframe thead th {\n",
              "        text-align: right;\n",
              "    }\n",
              "</style>\n",
              "<table border=\"1\" class=\"dataframe\">\n",
              "  <thead>\n",
              "    <tr style=\"text-align: right;\">\n",
              "      <th></th>\n",
              "      <th>NDVI</th>\n",
              "      <th>LST</th>\n",
              "      <th>BURNED_AREA</th>\n",
              "      <th>CLASS</th>\n",
              "    </tr>\n",
              "  </thead>\n",
              "  <tbody>\n",
              "    <tr>\n",
              "      <th>0</th>\n",
              "      <td>0.506782</td>\n",
              "      <td>14584.272727</td>\n",
              "      <td>4.692308</td>\n",
              "      <td>no_fire</td>\n",
              "    </tr>\n",
              "    <tr>\n",
              "      <th>1</th>\n",
              "      <td>0.522150</td>\n",
              "      <td>14655.833333</td>\n",
              "      <td>5.000000</td>\n",
              "      <td>no_fire</td>\n",
              "    </tr>\n",
              "    <tr>\n",
              "      <th>2</th>\n",
              "      <td>0.682284</td>\n",
              "      <td>14780.000000</td>\n",
              "      <td>5.000000</td>\n",
              "      <td>fire</td>\n",
              "    </tr>\n",
              "    <tr>\n",
              "      <th>4</th>\n",
              "      <td>0.568734</td>\n",
              "      <td>14743.000000</td>\n",
              "      <td>5.000000</td>\n",
              "      <td>no_fire</td>\n",
              "    </tr>\n",
              "    <tr>\n",
              "      <th>5</th>\n",
              "      <td>0.454228</td>\n",
              "      <td>14929.571429</td>\n",
              "      <td>4.904762</td>\n",
              "      <td>fire</td>\n",
              "    </tr>\n",
              "  </tbody>\n",
              "</table>\n",
              "</div>\n",
              "      <button class=\"colab-df-convert\" onclick=\"convertToInteractive('df-ca27c114-8eb9-4387-9e00-69fcadaacdd4')\"\n",
              "              title=\"Convert this dataframe to an interactive table.\"\n",
              "              style=\"display:none;\">\n",
              "        \n",
              "  <svg xmlns=\"http://www.w3.org/2000/svg\" height=\"24px\"viewBox=\"0 0 24 24\"\n",
              "       width=\"24px\">\n",
              "    <path d=\"M0 0h24v24H0V0z\" fill=\"none\"/>\n",
              "    <path d=\"M18.56 5.44l.94 2.06.94-2.06 2.06-.94-2.06-.94-.94-2.06-.94 2.06-2.06.94zm-11 1L8.5 8.5l.94-2.06 2.06-.94-2.06-.94L8.5 2.5l-.94 2.06-2.06.94zm10 10l.94 2.06.94-2.06 2.06-.94-2.06-.94-.94-2.06-.94 2.06-2.06.94z\"/><path d=\"M17.41 7.96l-1.37-1.37c-.4-.4-.92-.59-1.43-.59-.52 0-1.04.2-1.43.59L10.3 9.45l-7.72 7.72c-.78.78-.78 2.05 0 2.83L4 21.41c.39.39.9.59 1.41.59.51 0 1.02-.2 1.41-.59l7.78-7.78 2.81-2.81c.8-.78.8-2.07 0-2.86zM5.41 20L4 18.59l7.72-7.72 1.47 1.35L5.41 20z\"/>\n",
              "  </svg>\n",
              "      </button>\n",
              "      \n",
              "  <style>\n",
              "    .colab-df-container {\n",
              "      display:flex;\n",
              "      flex-wrap:wrap;\n",
              "      gap: 12px;\n",
              "    }\n",
              "\n",
              "    .colab-df-convert {\n",
              "      background-color: #E8F0FE;\n",
              "      border: none;\n",
              "      border-radius: 50%;\n",
              "      cursor: pointer;\n",
              "      display: none;\n",
              "      fill: #1967D2;\n",
              "      height: 32px;\n",
              "      padding: 0 0 0 0;\n",
              "      width: 32px;\n",
              "    }\n",
              "\n",
              "    .colab-df-convert:hover {\n",
              "      background-color: #E2EBFA;\n",
              "      box-shadow: 0px 1px 2px rgba(60, 64, 67, 0.3), 0px 1px 3px 1px rgba(60, 64, 67, 0.15);\n",
              "      fill: #174EA6;\n",
              "    }\n",
              "\n",
              "    [theme=dark] .colab-df-convert {\n",
              "      background-color: #3B4455;\n",
              "      fill: #D2E3FC;\n",
              "    }\n",
              "\n",
              "    [theme=dark] .colab-df-convert:hover {\n",
              "      background-color: #434B5C;\n",
              "      box-shadow: 0px 1px 3px 1px rgba(0, 0, 0, 0.15);\n",
              "      filter: drop-shadow(0px 1px 2px rgba(0, 0, 0, 0.3));\n",
              "      fill: #FFFFFF;\n",
              "    }\n",
              "  </style>\n",
              "\n",
              "      <script>\n",
              "        const buttonEl =\n",
              "          document.querySelector('#df-ca27c114-8eb9-4387-9e00-69fcadaacdd4 button.colab-df-convert');\n",
              "        buttonEl.style.display =\n",
              "          google.colab.kernel.accessAllowed ? 'block' : 'none';\n",
              "\n",
              "        async function convertToInteractive(key) {\n",
              "          const element = document.querySelector('#df-ca27c114-8eb9-4387-9e00-69fcadaacdd4');\n",
              "          const dataTable =\n",
              "            await google.colab.kernel.invokeFunction('convertToInteractive',\n",
              "                                                     [key], {});\n",
              "          if (!dataTable) return;\n",
              "\n",
              "          const docLinkHtml = 'Like what you see? Visit the ' +\n",
              "            '<a target=\"_blank\" href=https://colab.research.google.com/notebooks/data_table.ipynb>data table notebook</a>'\n",
              "            + ' to learn more about interactive tables.';\n",
              "          element.innerHTML = '';\n",
              "          dataTable['output_type'] = 'display_data';\n",
              "          await google.colab.output.renderOutput(dataTable, element);\n",
              "          const docLink = document.createElement('div');\n",
              "          docLink.innerHTML = docLinkHtml;\n",
              "          element.appendChild(docLink);\n",
              "        }\n",
              "      </script>\n",
              "    </div>\n",
              "  </div>\n",
              "  "
            ]
          },
          "metadata": {},
          "execution_count": 126
        }
      ],
      "source": [
        "new_data =  data[data.outlier == 1]\n",
        "\n",
        "#dropping outlier column\n",
        "new_data = new_data.drop('outlier', axis = 1)\n",
        "new_data.head()"
      ]
    },
    {
      "cell_type": "code",
      "source": [
        "# OUtliers check\n",
        "num_col = new_data.select_dtypes('float')\n",
        "\n",
        "plt.figure(figsize=(15,5))\n",
        "i = 1\n",
        "for col in num_col:\n",
        "    plt.subplot(1,3,i)\n",
        "    sns.boxplot(data = new_data[col])\n",
        "    i += 1\n",
        "plt.show()"
      ],
      "metadata": {
        "colab": {
          "base_uri": "https://localhost:8080/",
          "height": 320
        },
        "id": "WYwOyxgG3Pd-",
        "outputId": "74851bf5-2ef5-426b-a04e-e4623a4fd59d"
      },
      "execution_count": 127,
      "outputs": [
        {
          "output_type": "display_data",
          "data": {
            "text/plain": [
              "<Figure size 1080x360 with 3 Axes>"
            ],
            "image/png": "[encoded data removed]"
          },
          "metadata": {
            "needs_background": "light"
          }
        }
      ]
    },
    {
      "cell_type": "markdown",
      "source": [
        "* Outlier Removal changes a the Dataset a Little as there are not many outliers"
      ],
      "metadata": {
        "id": "6IuydLBf3c1i"
      }
    },
    {
      "cell_type": "markdown",
      "metadata": {
        "id": "jbgMMUKZMkLW"
      },
      "source": [
        "## Feature Engineering"
      ]
    },
    {
      "cell_type": "markdown",
      "metadata": {
        "id": "KbESfC0CnCyj"
      },
      "source": [
        "We will create features with combination of other features and see it Helps to improve our models performance"
      ]
    },
    {
      "cell_type": "code",
      "execution_count": 128,
      "metadata": {
        "id": "w7ziszJvMpLQ"
      },
      "outputs": [],
      "source": [
        "from sklearn.preprocessing import PolynomialFeatures"
      ]
    },
    {
      "cell_type": "code",
      "execution_count": 129,
      "metadata": {
        "id": "b2KcLNw3pq_k",
        "colab": {
          "base_uri": "https://localhost:8080/",
          "height": 206
        },
        "outputId": "b8ed2e49-dd14-43bb-c84e-0454d67a2d12"
      },
      "outputs": [
        {
          "output_type": "execute_result",
          "data": {
            "text/plain": [
              "       NDVI           LST  BURNED_AREA\n",
              "0  0.506782  14584.272727     4.692308\n",
              "1  0.522150  14655.833333     5.000000\n",
              "2  0.682284  14780.000000     5.000000\n",
              "4  0.568734  14743.000000     5.000000\n",
              "5  0.454228  14929.571429     4.904762"
            ],
            "text/html": [
              "\n",
              "  <div id=\"df-7aa8a6b1-5091-4816-a1f3-5049187cc672\">\n",
              "    <div class=\"colab-df-container\">\n",
              "      <div>\n",
              "<style scoped>\n",
              "    .dataframe tbody tr th:only-of-type {\n",
              "        vertical-align: middle;\n",
              "    }\n",
              "\n",
              "    .dataframe tbody tr th {\n",
              "        vertical-align: top;\n",
              "    }\n",
              "\n",
              "    .dataframe thead th {\n",
              "        text-align: right;\n",
              "    }\n",
              "</style>\n",
              "<table border=\"1\" class=\"dataframe\">\n",
              "  <thead>\n",
              "    <tr style=\"text-align: right;\">\n",
              "      <th></th>\n",
              "      <th>NDVI</th>\n",
              "      <th>LST</th>\n",
              "      <th>BURNED_AREA</th>\n",
              "    </tr>\n",
              "  </thead>\n",
              "  <tbody>\n",
              "    <tr>\n",
              "      <th>0</th>\n",
              "      <td>0.506782</td>\n",
              "      <td>14584.272727</td>\n",
              "      <td>4.692308</td>\n",
              "    </tr>\n",
              "    <tr>\n",
              "      <th>1</th>\n",
              "      <td>0.522150</td>\n",
              "      <td>14655.833333</td>\n",
              "      <td>5.000000</td>\n",
              "    </tr>\n",
              "    <tr>\n",
              "      <th>2</th>\n",
              "      <td>0.682284</td>\n",
              "      <td>14780.000000</td>\n",
              "      <td>5.000000</td>\n",
              "    </tr>\n",
              "    <tr>\n",
              "      <th>4</th>\n",
              "      <td>0.568734</td>\n",
              "      <td>14743.000000</td>\n",
              "      <td>5.000000</td>\n",
              "    </tr>\n",
              "    <tr>\n",
              "      <th>5</th>\n",
              "      <td>0.454228</td>\n",
              "      <td>14929.571429</td>\n",
              "      <td>4.904762</td>\n",
              "    </tr>\n",
              "  </tbody>\n",
              "</table>\n",
              "</div>\n",
              "      <button class=\"colab-df-convert\" onclick=\"convertToInteractive('df-7aa8a6b1-5091-4816-a1f3-5049187cc672')\"\n",
              "              title=\"Convert this dataframe to an interactive table.\"\n",
              "              style=\"display:none;\">\n",
              "        \n",
              "  <svg xmlns=\"http://www.w3.org/2000/svg\" height=\"24px\"viewBox=\"0 0 24 24\"\n",
              "       width=\"24px\">\n",
              "    <path d=\"M0 0h24v24H0V0z\" fill=\"none\"/>\n",
              "    <path d=\"M18.56 5.44l.94 2.06.94-2.06 2.06-.94-2.06-.94-.94-2.06-.94 2.06-2.06.94zm-11 1L8.5 8.5l.94-2.06 2.06-.94-2.06-.94L8.5 2.5l-.94 2.06-2.06.94zm10 10l.94 2.06.94-2.06 2.06-.94-2.06-.94-.94-2.06-.94 2.06-2.06.94z\"/><path d=\"M17.41 7.96l-1.37-1.37c-.4-.4-.92-.59-1.43-.59-.52 0-1.04.2-1.43.59L10.3 9.45l-7.72 7.72c-.78.78-.78 2.05 0 2.83L4 21.41c.39.39.9.59 1.41.59.51 0 1.02-.2 1.41-.59l7.78-7.78 2.81-2.81c.8-.78.8-2.07 0-2.86zM5.41 20L4 18.59l7.72-7.72 1.47 1.35L5.41 20z\"/>\n",
              "  </svg>\n",
              "      </button>\n",
              "      \n",
              "  <style>\n",
              "    .colab-df-container {\n",
              "      display:flex;\n",
              "      flex-wrap:wrap;\n",
              "      gap: 12px;\n",
              "    }\n",
              "\n",
              "    .colab-df-convert {\n",
              "      background-color: #E8F0FE;\n",
              "      border: none;\n",
              "      border-radius: 50%;\n",
              "      cursor: pointer;\n",
              "      display: none;\n",
              "      fill: #1967D2;\n",
              "      height: 32px;\n",
              "      padding: 0 0 0 0;\n",
              "      width: 32px;\n",
              "    }\n",
              "\n",
              "    .colab-df-convert:hover {\n",
              "      background-color: #E2EBFA;\n",
              "      box-shadow: 0px 1px 2px rgba(60, 64, 67, 0.3), 0px 1px 3px 1px rgba(60, 64, 67, 0.15);\n",
              "      fill: #174EA6;\n",
              "    }\n",
              "\n",
              "    [theme=dark] .colab-df-convert {\n",
              "      background-color: #3B4455;\n",
              "      fill: #D2E3FC;\n",
              "    }\n",
              "\n",
              "    [theme=dark] .colab-df-convert:hover {\n",
              "      background-color: #434B5C;\n",
              "      box-shadow: 0px 1px 3px 1px rgba(0, 0, 0, 0.15);\n",
              "      filter: drop-shadow(0px 1px 2px rgba(0, 0, 0, 0.3));\n",
              "      fill: #FFFFFF;\n",
              "    }\n",
              "  </style>\n",
              "\n",
              "      <script>\n",
              "        const buttonEl =\n",
              "          document.querySelector('#df-7aa8a6b1-5091-4816-a1f3-5049187cc672 button.colab-df-convert');\n",
              "        buttonEl.style.display =\n",
              "          google.colab.kernel.accessAllowed ? 'block' : 'none';\n",
              "\n",
              "        async function convertToInteractive(key) {\n",
              "          const element = document.querySelector('#df-7aa8a6b1-5091-4816-a1f3-5049187cc672');\n",
              "          const dataTable =\n",
              "            await google.colab.kernel.invokeFunction('convertToInteractive',\n",
              "                                                     [key], {});\n",
              "          if (!dataTable) return;\n",
              "\n",
              "          const docLinkHtml = 'Like what you see? Visit the ' +\n",
              "            '<a target=\"_blank\" href=https://colab.research.google.com/notebooks/data_table.ipynb>data table notebook</a>'\n",
              "            + ' to learn more about interactive tables.';\n",
              "          element.innerHTML = '';\n",
              "          dataTable['output_type'] = 'display_data';\n",
              "          await google.colab.output.renderOutput(dataTable, element);\n",
              "          const docLink = document.createElement('div');\n",
              "          docLink.innerHTML = docLinkHtml;\n",
              "          element.appendChild(docLink);\n",
              "        }\n",
              "      </script>\n",
              "    </div>\n",
              "  </div>\n",
              "  "
            ]
          },
          "metadata": {},
          "execution_count": 129
        }
      ],
      "source": [
        "x = new_data.select_dtypes('number')\n",
        "x.head()"
      ]
    },
    {
      "cell_type": "code",
      "execution_count": 130,
      "metadata": {
        "id": "lNAoF_usMpIU"
      },
      "outputs": [],
      "source": [
        "polynomial_features = PolynomialFeatures(degree=3)\n",
        "data_poly = polynomial_features.fit_transform(x)"
      ]
    },
    {
      "cell_type": "code",
      "execution_count": 131,
      "metadata": {
        "id": "t13f692yMpFm",
        "colab": {
          "base_uri": "https://localhost:8080/"
        },
        "outputId": "e89d0a8b-b762-4e5f-9095-67825166e8f1"
      },
      "outputs": [
        {
          "output_type": "execute_result",
          "data": {
            "text/plain": [
              "(1294, 20)"
            ]
          },
          "metadata": {},
          "execution_count": 131
        }
      ],
      "source": [
        "data_poly.shape"
      ]
    },
    {
      "cell_type": "code",
      "execution_count": 132,
      "metadata": {
        "id": "AOEPhVArNX2Y",
        "colab": {
          "base_uri": "https://localhost:8080/"
        },
        "outputId": "929bccf1-120b-4a26-a875-a46a53f0e959"
      },
      "outputs": [
        {
          "output_type": "execute_result",
          "data": {
            "text/plain": [
              "array([[1.00000000e+00, 5.06782000e-01, 1.45842727e+04, ...,\n",
              "        9.98058655e+08, 3.21112935e+05, 1.03314085e+02],\n",
              "       [1.00000000e+00, 5.22150000e-01, 1.46558333e+04, ...,\n",
              "        1.07396725e+09, 3.66395833e+05, 1.25000000e+02],\n",
              "       [1.00000000e+00, 6.82284000e-01, 1.47800000e+04, ...,\n",
              "        1.09224200e+09, 3.69500000e+05, 1.25000000e+02],\n",
              "       ...,\n",
              "       [1.00000000e+00, 6.21721000e-01, 1.44060000e+04, ...,\n",
              "        1.03766418e+09, 3.60150000e+05, 1.25000000e+02],\n",
              "       [1.00000000e+00, 7.09715000e-01, 1.43304000e+04, ...,\n",
              "        9.96378094e+08, 3.37344320e+05, 1.14214866e+02],\n",
              "       [1.00000000e+00, 5.49497000e-01, 1.42697778e+04, ...,\n",
              "        1.01813279e+09, 3.56744444e+05, 1.25000000e+02]])"
            ]
          },
          "metadata": {},
          "execution_count": 132
        }
      ],
      "source": [
        "data_poly"
      ]
    },
    {
      "cell_type": "markdown",
      "metadata": {
        "id": "ZT0LIa7Go-ZQ"
      },
      "source": [
        "#Preprocessing"
      ]
    },
    {
      "cell_type": "markdown",
      "metadata": {
        "id": "xafSQ54ao-Wp"
      },
      "source": [
        "* Scale/Normalize the data\n",
        "* Encode the Labels"
      ]
    },
    {
      "cell_type": "code",
      "execution_count": 133,
      "metadata": {
        "id": "Vdu9HRUwo-T4"
      },
      "outputs": [],
      "source": [
        "from sklearn.compose import make_column_transformer\n",
        "from sklearn.preprocessing import LabelEncoder, MinMaxScaler"
      ]
    },
    {
      "cell_type": "code",
      "execution_count": 134,
      "metadata": {
        "colab": {
          "base_uri": "https://localhost:8080/"
        },
        "id": "_JQp1SNr4fey",
        "outputId": "f80f7cbf-b74c-4b57-c791-efff072c3ac3"
      },
      "outputs": [
        {
          "output_type": "execute_result",
          "data": {
            "text/plain": [
              "array([1, 1, 0, ..., 1, 1, 0])"
            ]
          },
          "metadata": {},
          "execution_count": 134
        }
      ],
      "source": [
        "le = LabelEncoder()\n",
        "enc_label = le.fit_transform(new_data.CLASS)\n",
        "enc_label"
      ]
    },
    {
      "cell_type": "markdown",
      "metadata": {
        "id": "vZVc17EQ44N4"
      },
      "source": [
        "Lables Encoded as :\n",
        "* No_fire = 1\n",
        "* Fire    = 0"
      ]
    },
    {
      "cell_type": "code",
      "execution_count": 135,
      "metadata": {
        "id": "I5t3rNhd4fb9"
      },
      "outputs": [],
      "source": [
        "new_data['CLASS'] = enc_label"
      ]
    },
    {
      "cell_type": "code",
      "execution_count": 136,
      "metadata": {
        "colab": {
          "base_uri": "https://localhost:8080/",
          "height": 206
        },
        "id": "LQkBQrog4fY5",
        "outputId": "284e5997-3a81-446c-ce74-b99ac3020fc0"
      },
      "outputs": [
        {
          "output_type": "execute_result",
          "data": {
            "text/plain": [
              "       NDVI           LST  BURNED_AREA  CLASS\n",
              "0  0.506782  14584.272727     4.692308      1\n",
              "1  0.522150  14655.833333     5.000000      1\n",
              "2  0.682284  14780.000000     5.000000      0\n",
              "4  0.568734  14743.000000     5.000000      1\n",
              "5  0.454228  14929.571429     4.904762      0"
            ],
            "text/html": [
              "\n",
              "  <div id=\"df-1dde0c9c-7559-49cb-95f9-381642721412\">\n",
              "    <div class=\"colab-df-container\">\n",
              "      <div>\n",
              "<style scoped>\n",
              "    .dataframe tbody tr th:only-of-type {\n",
              "        vertical-align: middle;\n",
              "    }\n",
              "\n",
              "    .dataframe tbody tr th {\n",
              "        vertical-align: top;\n",
              "    }\n",
              "\n",
              "    .dataframe thead th {\n",
              "        text-align: right;\n",
              "    }\n",
              "</style>\n",
              "<table border=\"1\" class=\"dataframe\">\n",
              "  <thead>\n",
              "    <tr style=\"text-align: right;\">\n",
              "      <th></th>\n",
              "      <th>NDVI</th>\n",
              "      <th>LST</th>\n",
              "      <th>BURNED_AREA</th>\n",
              "      <th>CLASS</th>\n",
              "    </tr>\n",
              "  </thead>\n",
              "  <tbody>\n",
              "    <tr>\n",
              "      <th>0</th>\n",
              "      <td>0.506782</td>\n",
              "      <td>14584.272727</td>\n",
              "      <td>4.692308</td>\n",
              "      <td>1</td>\n",
              "    </tr>\n",
              "    <tr>\n",
              "      <th>1</th>\n",
              "      <td>0.522150</td>\n",
              "      <td>14655.833333</td>\n",
              "      <td>5.000000</td>\n",
              "      <td>1</td>\n",
              "    </tr>\n",
              "    <tr>\n",
              "      <th>2</th>\n",
              "      <td>0.682284</td>\n",
              "      <td>14780.000000</td>\n",
              "      <td>5.000000</td>\n",
              "      <td>0</td>\n",
              "    </tr>\n",
              "    <tr>\n",
              "      <th>4</th>\n",
              "      <td>0.568734</td>\n",
              "      <td>14743.000000</td>\n",
              "      <td>5.000000</td>\n",
              "      <td>1</td>\n",
              "    </tr>\n",
              "    <tr>\n",
              "      <th>5</th>\n",
              "      <td>0.454228</td>\n",
              "      <td>14929.571429</td>\n",
              "      <td>4.904762</td>\n",
              "      <td>0</td>\n",
              "    </tr>\n",
              "  </tbody>\n",
              "</table>\n",
              "</div>\n",
              "      <button class=\"colab-df-convert\" onclick=\"convertToInteractive('df-1dde0c9c-7559-49cb-95f9-381642721412')\"\n",
              "              title=\"Convert this dataframe to an interactive table.\"\n",
              "              style=\"display:none;\">\n",
              "        \n",
              "  <svg xmlns=\"http://www.w3.org/2000/svg\" height=\"24px\"viewBox=\"0 0 24 24\"\n",
              "       width=\"24px\">\n",
              "    <path d=\"M0 0h24v24H0V0z\" fill=\"none\"/>\n",
              "    <path d=\"M18.56 5.44l.94 2.06.94-2.06 2.06-.94-2.06-.94-.94-2.06-.94 2.06-2.06.94zm-11 1L8.5 8.5l.94-2.06 2.06-.94-2.06-.94L8.5 2.5l-.94 2.06-2.06.94zm10 10l.94 2.06.94-2.06 2.06-.94-2.06-.94-.94-2.06-.94 2.06-2.06.94z\"/><path d=\"M17.41 7.96l-1.37-1.37c-.4-.4-.92-.59-1.43-.59-.52 0-1.04.2-1.43.59L10.3 9.45l-7.72 7.72c-.78.78-.78 2.05 0 2.83L4 21.41c.39.39.9.59 1.41.59.51 0 1.02-.2 1.41-.59l7.78-7.78 2.81-2.81c.8-.78.8-2.07 0-2.86zM5.41 20L4 18.59l7.72-7.72 1.47 1.35L5.41 20z\"/>\n",
              "  </svg>\n",
              "      </button>\n",
              "      \n",
              "  <style>\n",
              "    .colab-df-container {\n",
              "      display:flex;\n",
              "      flex-wrap:wrap;\n",
              "      gap: 12px;\n",
              "    }\n",
              "\n",
              "    .colab-df-convert {\n",
              "      background-color: #E8F0FE;\n",
              "      border: none;\n",
              "      border-radius: 50%;\n",
              "      cursor: pointer;\n",
              "      display: none;\n",
              "      fill: #1967D2;\n",
              "      height: 32px;\n",
              "      padding: 0 0 0 0;\n",
              "      width: 32px;\n",
              "    }\n",
              "\n",
              "    .colab-df-convert:hover {\n",
              "      background-color: #E2EBFA;\n",
              "      box-shadow: 0px 1px 2px rgba(60, 64, 67, 0.3), 0px 1px 3px 1px rgba(60, 64, 67, 0.15);\n",
              "      fill: #174EA6;\n",
              "    }\n",
              "\n",
              "    [theme=dark] .colab-df-convert {\n",
              "      background-color: #3B4455;\n",
              "      fill: #D2E3FC;\n",
              "    }\n",
              "\n",
              "    [theme=dark] .colab-df-convert:hover {\n",
              "      background-color: #434B5C;\n",
              "      box-shadow: 0px 1px 3px 1px rgba(0, 0, 0, 0.15);\n",
              "      filter: drop-shadow(0px 1px 2px rgba(0, 0, 0, 0.3));\n",
              "      fill: #FFFFFF;\n",
              "    }\n",
              "  </style>\n",
              "\n",
              "      <script>\n",
              "        const buttonEl =\n",
              "          document.querySelector('#df-1dde0c9c-7559-49cb-95f9-381642721412 button.colab-df-convert');\n",
              "        buttonEl.style.display =\n",
              "          google.colab.kernel.accessAllowed ? 'block' : 'none';\n",
              "\n",
              "        async function convertToInteractive(key) {\n",
              "          const element = document.querySelector('#df-1dde0c9c-7559-49cb-95f9-381642721412');\n",
              "          const dataTable =\n",
              "            await google.colab.kernel.invokeFunction('convertToInteractive',\n",
              "                                                     [key], {});\n",
              "          if (!dataTable) return;\n",
              "\n",
              "          const docLinkHtml = 'Like what you see? Visit the ' +\n",
              "            '<a target=\"_blank\" href=https://colab.research.google.com/notebooks/data_table.ipynb>data table notebook</a>'\n",
              "            + ' to learn more about interactive tables.';\n",
              "          element.innerHTML = '';\n",
              "          dataTable['output_type'] = 'display_data';\n",
              "          await google.colab.output.renderOutput(dataTable, element);\n",
              "          const docLink = document.createElement('div');\n",
              "          docLink.innerHTML = docLinkHtml;\n",
              "          element.appendChild(docLink);\n",
              "        }\n",
              "      </script>\n",
              "    </div>\n",
              "  </div>\n",
              "  "
            ]
          },
          "metadata": {},
          "execution_count": 136
        }
      ],
      "source": [
        "new_data.head()"
      ]
    },
    {
      "cell_type": "markdown",
      "source": [
        "## Splititng the dATA"
      ],
      "metadata": {
        "id": "UCfoZOjL0Hlq"
      }
    },
    {
      "cell_type": "code",
      "source": [
        "# features and Labels\n",
        "X = new_data.drop('CLASS', axis = 1)\n",
        "y = new_data.CLASS # non Scaled"
      ],
      "metadata": {
        "id": "TZmojgj70J8O"
      },
      "execution_count": 137,
      "outputs": []
    },
    {
      "cell_type": "code",
      "execution_count": 138,
      "metadata": {
        "id": "bdUbvNhL5QnX"
      },
      "outputs": [],
      "source": [
        "# Spliting the DATA\n",
        "from sklearn.model_selection import train_test_split\n",
        "xtrain, xtest, ytrain, ytest = train_test_split(X, y, test_size = .2, random_state = 2, stratify = y)"
      ]
    },
    {
      "cell_type": "code",
      "source": [
        "# Scaling the data\n",
        "scaler = MinMaxScaler()\n",
        "xtrain_scaled = scaler.fit_transform(xtrain)\n",
        "xtest_scaled = scaler.transform(xtest)"
      ],
      "metadata": {
        "id": "cAeZz6ti0A6a"
      },
      "execution_count": 139,
      "outputs": []
    },
    {
      "cell_type": "code",
      "source": [
        "print('xtest', xtest_scaled.shape,\n",
        "      'ytest', ytest.shape,\n",
        "      'xtrain', xtrain_scaled.shape,\n",
        "      'ytrain',ytrain.shape)"
      ],
      "metadata": {
        "colab": {
          "base_uri": "https://localhost:8080/"
        },
        "id": "HAewBvpY0hck",
        "outputId": "f285919c-745c-460e-f60a-e4c78ae1b7bc"
      },
      "execution_count": 140,
      "outputs": [
        {
          "output_type": "stream",
          "name": "stdout",
          "text": [
            "xtest (259, 3) ytest (259,) xtrain (1035, 3) ytrain (1035,)\n"
          ]
        }
      ]
    },
    {
      "cell_type": "code",
      "execution_count": 141,
      "metadata": {
        "id": "jqrkfpZB5TZo"
      },
      "outputs": [],
      "source": [
        "# spliting the Poly data\n",
        "xtrain_poly, xtest_poly, ytrain_poly, ytest_poly = train_test_split(data_poly, y, test_size = .2, random_state = 2, stratify = y)"
      ]
    },
    {
      "cell_type": "code",
      "source": [
        "# scaling poly data\n",
        "scaler = MinMaxScaler()\n",
        "xtrain_poly_scaled = scaler.fit_transform(xtrain_poly)\n",
        "xtest_poly_scaled = scaler.transform(xtest_poly)"
      ],
      "metadata": {
        "id": "b7gpVBYPy_Xv"
      },
      "execution_count": 142,
      "outputs": []
    },
    {
      "cell_type": "code",
      "execution_count": 143,
      "metadata": {
        "colab": {
          "base_uri": "https://localhost:8080/"
        },
        "id": "vNM1pAhP57oo",
        "outputId": "175b1625-a10c-4270-ac3c-f1a81332875a"
      },
      "outputs": [
        {
          "output_type": "stream",
          "name": "stdout",
          "text": [
            "xtest (259, 20) ytest (259,) xtrain (1035, 20) ytrain (1035,)\n"
          ]
        }
      ],
      "source": [
        "print('xtest', xtest_poly_scaled.shape,\n",
        "      'ytest', ytest_poly.shape,\n",
        "      'xtrain', xtrain_poly_scaled.shape,\n",
        "      'ytrain',ytrain_poly.shape)"
      ]
    },
    {
      "cell_type": "markdown",
      "metadata": {
        "id": "pLMkiTRSqfXc"
      },
      "source": [
        "## Helper functions"
      ]
    },
    {
      "cell_type": "code",
      "execution_count": 144,
      "metadata": {
        "id": "77RLjmGsqfTD"
      },
      "outputs": [],
      "source": [
        "# Function to evaluate: accuracy, precision, recall, f1-score\n",
        "from sklearn.metrics import accuracy_score, precision_recall_fscore_support\n",
        "\n",
        "def calculate_results(y_true, y_pred):\n",
        "    \"\"\"\n",
        "    Calculates model accuracy, precision, recall and f1 score of a binary classification model.\n",
        "\n",
        "    Args:\n",
        "    -----\n",
        "    y_true = true labels in the form of a 1D array\n",
        "    y_pred = predicted labels in the form of a 1D array\n",
        "\n",
        "    Returns a dictionary of accuracy, precision, recall, f1-score.\n",
        "    \"\"\"\n",
        "    # Calculate model accuracy\n",
        "    model_accuracy = accuracy_score(y_true, y_pred) * 100\n",
        "    # Calculate model precision, recall and f1 score using \"weighted\" average\n",
        "    model_precision, model_recall, model_f1, _ = precision_recall_fscore_support(y_true, y_pred, average='weighted')\n",
        "    model_results = {\"accuracy\": model_accuracy,\n",
        "                  \"precision\": model_precision,\n",
        "                  \"recall\": model_recall,\n",
        "                  \"f1\": model_f1}\n",
        "    return model_results\n"
      ]
    },
    {
      "cell_type": "code",
      "source": [
        "# function to plot roc curve\n",
        "# !pip install scikit-plot\n",
        "import scikitplot as skplt\n",
        "def plot_roc(y_true, y_probas, figsize = (15,10)):\n",
        "    skplt.metrics.plot_roc(y_true, y_probas,figsize = figsize)\n",
        "    plt.show()"
      ],
      "metadata": {
        "id": "hZN3Fgd7F0Gj"
      },
      "execution_count": 145,
      "outputs": []
    },
    {
      "cell_type": "markdown",
      "metadata": {
        "id": "-pK1fBdH0l0h"
      },
      "source": [
        "# Models"
      ]
    },
    {
      "cell_type": "code",
      "execution_count": 146,
      "metadata": {
        "id": "4W7G4_kh0ogk"
      },
      "outputs": [],
      "source": [
        "from sklearn.pipeline import Pipeline"
      ]
    },
    {
      "cell_type": "code",
      "execution_count": 147,
      "metadata": {
        "id": "0yVL4bFR0sHT"
      },
      "outputs": [],
      "source": [
        "from sklearn.linear_model import LogisticRegression\n",
        "from sklearn.svm import SVC\n",
        "from sklearn.neighbors import KNeighborsClassifier\n",
        "from sklearn.tree import DecisionTreeClassifier\n",
        "from sklearn.naive_bayes import BernoulliNB\n",
        "from sklearn.ensemble import VotingClassifier, RandomForestClassifier, ExtraTreesClassifier"
      ]
    },
    {
      "cell_type": "code",
      "execution_count": 148,
      "metadata": {
        "id": "vcJ2evSB1Lfj"
      },
      "outputs": [],
      "source": [
        "clfs = {'logistic regression': LogisticRegression(),\n",
        "        'SVM': SVC(probability=True),\n",
        "        'Knn': KNeighborsClassifier(n_neighbors=5),\n",
        "        'D Tree': DecisionTreeClassifier(),\n",
        "    'Random Forest': RandomForestClassifier(n_estimators = 20),\n",
        "        'Xtra Random Forest': ExtraTreesClassifier(n_estimators = 20),\n",
        "        'naive bayes': BernoulliNB()}"
      ]
    },
    {
      "cell_type": "markdown",
      "metadata": {
        "id": "Lw8hHHNIJoG_"
      },
      "source": [
        "* Now Let's test all models"
      ]
    },
    {
      "cell_type": "code",
      "execution_count": 149,
      "metadata": {
        "id": "Kqw_1_8kJvVV"
      },
      "outputs": [],
      "source": [
        "#function to train all model at once\n",
        "def models(xtrain, ytrain, xtest, ytest):\n",
        "    sscores = []\n",
        "    for name, model in clfs.items():\n",
        "        model.fit(xtrain, ytrain)\n",
        "        ypred = model.predict(xtest)\n",
        "        result = {'model' : name}\n",
        "        result.update(calculate_results(ytest, ypred))\n",
        "        sscores.append(result)\n",
        "    return sscores"
      ]
    },
    {
      "cell_type": "code",
      "execution_count": 150,
      "metadata": {
        "colab": {
          "base_uri": "https://localhost:8080/"
        },
        "id": "gmvsubnMxGf6",
        "outputId": "e0eb0ce7-5bc9-441a-8e8a-55e6b889af17"
      },
      "outputs": [
        {
          "output_type": "stream",
          "name": "stderr",
          "text": [
            "/usr/local/lib/python3.7/dist-packages/sklearn/metrics/_classification.py:1318: UndefinedMetricWarning: Precision and F-score are ill-defined and being set to 0.0 in labels with no predicted samples. Use `zero_division` parameter to control this behavior.\n",
            "  _warn_prf(average, modifier, msg_start, len(result))\n"
          ]
        }
      ],
      "source": [
        "scores = models(xtrain_scaled, ytrain, xtest_scaled,ytest)"
      ]
    },
    {
      "cell_type": "markdown",
      "metadata": {
        "id": "FU5x12tbr7NH"
      },
      "source": [
        "## Voting Classifier"
      ]
    },
    {
      "cell_type": "code",
      "execution_count": 151,
      "metadata": {
        "id": "aUclVSBE4CrS"
      },
      "outputs": [],
      "source": [
        "def votingclf(xtrain, ytrain, xtest, ytest):\n",
        "    vt_clf = VotingClassifier(clfs.items(), voting = 'soft', n_jobs = -1)\n",
        "    vt_clf.fit(xtrain, ytrain )\n",
        "    ypred = vt_clf.predict(xtest)\n",
        "\n",
        "    # calculate  result\n",
        "    vc_result = calculate_results(ytest, ypred)\n",
        "    vc_result['model'] = 'voting_classifier'\n",
        "    return vc_result"
      ]
    },
    {
      "cell_type": "code",
      "execution_count": 152,
      "metadata": {
        "id": "WtArF_Xo6W5O"
      },
      "outputs": [],
      "source": [
        "vc_result = votingclf(xtrain_scaled, ytrain, xtest_scaled,ytest)\n",
        "\n",
        "# add score\n",
        "scores.append(vc_result)"
      ]
    },
    {
      "cell_type": "markdown",
      "metadata": {
        "id": "l1xJX_LSq_LJ"
      },
      "source": [
        "## ANN"
      ]
    },
    {
      "cell_type": "code",
      "execution_count": 153,
      "metadata": {
        "id": "E9nqzb8QsCJr"
      },
      "outputs": [],
      "source": [
        "import tensorflow as tf\n",
        "from tensorflow import keras\n",
        "from tensorflow.keras import layers"
      ]
    },
    {
      "cell_type": "code",
      "execution_count": 154,
      "metadata": {
        "id": "fCdG8TyRsQhZ"
      },
      "outputs": [],
      "source": [
        "def annmodel(xtrain, ytrain, xtest, ytest):\n",
        "    ann = keras.Sequential([\n",
        "        layers.Dense(15, activation = 'relu'),\n",
        "        layers.Dropout(.4),\n",
        "        layers.Dense(15, activation = 'relu'),\n",
        "        layers.Dropout(.4),\n",
        "        layers.Dense(15, activation = 'relu'),\n",
        "        layers.Dense(1, activation = 'sigmoid')\n",
        "    ])\n",
        "\n",
        "    ann.compile(loss = keras.losses.BinaryCrossentropy(),\n",
        "                metrics = ['binary_accuracy'],\n",
        "                optimizer = keras.optimizers.Adam())\n",
        "    ann.fit(xtrain, ytrain, epochs = 100, verbose = 0)\n",
        "\n",
        "    ypred = ann.predict(xtest)\n",
        "    ypred = tf.round(ypred)\n",
        "\n",
        "    # calculate  result\n",
        "    ann_result = calculate_results(ytest, ypred)\n",
        "    ann_result['model'] = 'ann'\n",
        "\n",
        "    return ann_result"
      ]
    },
    {
      "cell_type": "code",
      "execution_count": 155,
      "metadata": {
        "colab": {
          "base_uri": "https://localhost:8080/",
          "height": 386
        },
        "id": "d6SCehcztkao",
        "outputId": "3a6e29a2-fd25-4a32-c77d-81cb49d1e1fd"
      },
      "outputs": [
        {
          "output_type": "stream",
          "name": "stderr",
          "text": [
            "/usr/local/lib/python3.7/dist-packages/sklearn/metrics/_classification.py:1318: UndefinedMetricWarning: Precision and F-score are ill-defined and being set to 0.0 in labels with no predicted samples. Use `zero_division` parameter to control this behavior.\n",
            "  _warn_prf(average, modifier, msg_start, len(result))\n"
          ]
        },
        {
          "output_type": "execute_result",
          "data": {
            "text/plain": [
              "                 model   accuracy  precision    recall        f1\n",
              "0  logistic regression  77.220077   0.702657  0.772201  0.695657\n",
              "1                  SVM  78.764479   0.790223  0.787645  0.710689\n",
              "2                  Knn  74.517375   0.723289  0.745174  0.731974\n",
              "3               D Tree  71.814672   0.716415  0.718147  0.717271\n",
              "4        Random Forest  74.903475   0.738344  0.749035  0.743124\n",
              "5   Xtra Random Forest  72.586873   0.706973  0.725869  0.715160\n",
              "6          naive bayes  77.606178   0.602272  0.776062  0.678211\n",
              "7    voting_classifier  76.833977   0.714581  0.768340  0.717859\n",
              "8                  ann  77.606178   0.602272  0.776062  0.678211"
            ],
            "text/html": [
              "\n",
              "  <div id=\"df-9c0e15ec-b449-4fae-8d7d-3997bf3c64fc\">\n",
              "    <div class=\"colab-df-container\">\n",
              "      <div>\n",
              "<style scoped>\n",
              "    .dataframe tbody tr th:only-of-type {\n",
              "        vertical-align: middle;\n",
              "    }\n",
              "\n",
              "    .dataframe tbody tr th {\n",
              "        vertical-align: top;\n",
              "    }\n",
              "\n",
              "    .dataframe thead th {\n",
              "        text-align: right;\n",
              "    }\n",
              "</style>\n",
              "<table border=\"1\" class=\"dataframe\">\n",
              "  <thead>\n",
              "    <tr style=\"text-align: right;\">\n",
              "      <th></th>\n",
              "      <th>model</th>\n",
              "      <th>accuracy</th>\n",
              "      <th>precision</th>\n",
              "      <th>recall</th>\n",
              "      <th>f1</th>\n",
              "    </tr>\n",
              "  </thead>\n",
              "  <tbody>\n",
              "    <tr>\n",
              "      <th>0</th>\n",
              "      <td>logistic regression</td>\n",
              "      <td>77.220077</td>\n",
              "      <td>0.702657</td>\n",
              "      <td>0.772201</td>\n",
              "      <td>0.695657</td>\n",
              "    </tr>\n",
              "    <tr>\n",
              "      <th>1</th>\n",
              "      <td>SVM</td>\n",
              "      <td>78.764479</td>\n",
              "      <td>0.790223</td>\n",
              "      <td>0.787645</td>\n",
              "      <td>0.710689</td>\n",
              "    </tr>\n",
              "    <tr>\n",
              "      <th>2</th>\n",
              "      <td>Knn</td>\n",
              "      <td>74.517375</td>\n",
              "      <td>0.723289</td>\n",
              "      <td>0.745174</td>\n",
              "      <td>0.731974</td>\n",
              "    </tr>\n",
              "    <tr>\n",
              "      <th>3</th>\n",
              "      <td>D Tree</td>\n",
              "      <td>71.814672</td>\n",
              "      <td>0.716415</td>\n",
              "      <td>0.718147</td>\n",
              "      <td>0.717271</td>\n",
              "    </tr>\n",
              "    <tr>\n",
              "      <th>4</th>\n",
              "      <td>Random Forest</td>\n",
              "      <td>74.903475</td>\n",
              "      <td>0.738344</td>\n",
              "      <td>0.749035</td>\n",
              "      <td>0.743124</td>\n",
              "    </tr>\n",
              "    <tr>\n",
              "      <th>5</th>\n",
              "      <td>Xtra Random Forest</td>\n",
              "      <td>72.586873</td>\n",
              "      <td>0.706973</td>\n",
              "      <td>0.725869</td>\n",
              "      <td>0.715160</td>\n",
              "    </tr>\n",
              "    <tr>\n",
              "      <th>6</th>\n",
              "      <td>naive bayes</td>\n",
              "      <td>77.606178</td>\n",
              "      <td>0.602272</td>\n",
              "      <td>0.776062</td>\n",
              "      <td>0.678211</td>\n",
              "    </tr>\n",
              "    <tr>\n",
              "      <th>7</th>\n",
              "      <td>voting_classifier</td>\n",
              "      <td>76.833977</td>\n",
              "      <td>0.714581</td>\n",
              "      <td>0.768340</td>\n",
              "      <td>0.717859</td>\n",
              "    </tr>\n",
              "    <tr>\n",
              "      <th>8</th>\n",
              "      <td>ann</td>\n",
              "      <td>77.606178</td>\n",
              "      <td>0.602272</td>\n",
              "      <td>0.776062</td>\n",
              "      <td>0.678211</td>\n",
              "    </tr>\n",
              "  </tbody>\n",
              "</table>\n",
              "</div>\n",
              "      <button class=\"colab-df-convert\" onclick=\"convertToInteractive('df-9c0e15ec-b449-4fae-8d7d-3997bf3c64fc')\"\n",
              "              title=\"Convert this dataframe to an interactive table.\"\n",
              "              style=\"display:none;\">\n",
              "        \n",
              "  <svg xmlns=\"http://www.w3.org/2000/svg\" height=\"24px\"viewBox=\"0 0 24 24\"\n",
              "       width=\"24px\">\n",
              "    <path d=\"M0 0h24v24H0V0z\" fill=\"none\"/>\n",
              "    <path d=\"M18.56 5.44l.94 2.06.94-2.06 2.06-.94-2.06-.94-.94-2.06-.94 2.06-2.06.94zm-11 1L8.5 8.5l.94-2.06 2.06-.94-2.06-.94L8.5 2.5l-.94 2.06-2.06.94zm10 10l.94 2.06.94-2.06 2.06-.94-2.06-.94-.94-2.06-.94 2.06-2.06.94z\"/><path d=\"M17.41 7.96l-1.37-1.37c-.4-.4-.92-.59-1.43-.59-.52 0-1.04.2-1.43.59L10.3 9.45l-7.72 7.72c-.78.78-.78 2.05 0 2.83L4 21.41c.39.39.9.59 1.41.59.51 0 1.02-.2 1.41-.59l7.78-7.78 2.81-2.81c.8-.78.8-2.07 0-2.86zM5.41 20L4 18.59l7.72-7.72 1.47 1.35L5.41 20z\"/>\n",
              "  </svg>\n",
              "      </button>\n",
              "      \n",
              "  <style>\n",
              "    .colab-df-container {\n",
              "      display:flex;\n",
              "      flex-wrap:wrap;\n",
              "      gap: 12px;\n",
              "    }\n",
              "\n",
              "    .colab-df-convert {\n",
              "      background-color: #E8F0FE;\n",
              "      border: none;\n",
              "      border-radius: 50%;\n",
              "      cursor: pointer;\n",
              "      display: none;\n",
              "      fill: #1967D2;\n",
              "      height: 32px;\n",
              "      padding: 0 0 0 0;\n",
              "      width: 32px;\n",
              "    }\n",
              "\n",
              "    .colab-df-convert:hover {\n",
              "      background-color: #E2EBFA;\n",
              "      box-shadow: 0px 1px 2px rgba(60, 64, 67, 0.3), 0px 1px 3px 1px rgba(60, 64, 67, 0.15);\n",
              "      fill: #174EA6;\n",
              "    }\n",
              "\n",
              "    [theme=dark] .colab-df-convert {\n",
              "      background-color: #3B4455;\n",
              "      fill: #D2E3FC;\n",
              "    }\n",
              "\n",
              "    [theme=dark] .colab-df-convert:hover {\n",
              "      background-color: #434B5C;\n",
              "      box-shadow: 0px 1px 3px 1px rgba(0, 0, 0, 0.15);\n",
              "      filter: drop-shadow(0px 1px 2px rgba(0, 0, 0, 0.3));\n",
              "      fill: #FFFFFF;\n",
              "    }\n",
              "  </style>\n",
              "\n",
              "      <script>\n",
              "        const buttonEl =\n",
              "          document.querySelector('#df-9c0e15ec-b449-4fae-8d7d-3997bf3c64fc button.colab-df-convert');\n",
              "        buttonEl.style.display =\n",
              "          google.colab.kernel.accessAllowed ? 'block' : 'none';\n",
              "\n",
              "        async function convertToInteractive(key) {\n",
              "          const element = document.querySelector('#df-9c0e15ec-b449-4fae-8d7d-3997bf3c64fc');\n",
              "          const dataTable =\n",
              "            await google.colab.kernel.invokeFunction('convertToInteractive',\n",
              "                                                     [key], {});\n",
              "          if (!dataTable) return;\n",
              "\n",
              "          const docLinkHtml = 'Like what you see? Visit the ' +\n",
              "            '<a target=\"_blank\" href=https://colab.research.google.com/notebooks/data_table.ipynb>data table notebook</a>'\n",
              "            + ' to learn more about interactive tables.';\n",
              "          element.innerHTML = '';\n",
              "          dataTable['output_type'] = 'display_data';\n",
              "          await google.colab.output.renderOutput(dataTable, element);\n",
              "          const docLink = document.createElement('div');\n",
              "          docLink.innerHTML = docLinkHtml;\n",
              "          element.appendChild(docLink);\n",
              "        }\n",
              "      </script>\n",
              "    </div>\n",
              "  </div>\n",
              "  "
            ]
          },
          "metadata": {},
          "execution_count": 155
        }
      ],
      "source": [
        "ann_result = annmodel(xtrain_scaled, ytrain, xtest_scaled,ytest)\n",
        "# add score to dataframe\n",
        "scores.append(ann_result)\n",
        "\n",
        "scoresheet = pd.DataFrame(scores)\n",
        "scoresheet"
      ]
    },
    {
      "cell_type": "markdown",
      "metadata": {
        "id": "2UGvwBgmv7e2"
      },
      "source": [
        "## fitting on polynomial data"
      ]
    },
    {
      "cell_type": "code",
      "execution_count": 156,
      "metadata": {
        "id": "PmlD4L7p0IX7"
      },
      "outputs": [],
      "source": [
        "poly_model_result = models(xtrain_poly_scaled, ytrain_poly, xtest_poly_scaled, ytest_poly)\n",
        "poly_votingclf_result = votingclf(xtrain_poly_scaled, ytrain_poly, xtest_poly_scaled, ytest_poly)\n",
        "poly_ann_result = annmodel(xtrain_poly_scaled, ytrain_poly, xtest_poly_scaled, ytest_poly)"
      ]
    },
    {
      "cell_type": "code",
      "execution_count": 157,
      "metadata": {
        "id": "kyPiJ-_F340r"
      },
      "outputs": [],
      "source": [
        "all_results = [poly_model_result, poly_votingclf_result, poly_ann_result]"
      ]
    },
    {
      "cell_type": "code",
      "execution_count": 158,
      "metadata": {
        "id": "RRmSPXKP0kAY"
      },
      "outputs": [],
      "source": [
        "#appending results\n",
        "poly_model_result.append(poly_votingclf_result)\n",
        "poly_model_result.append(poly_ann_result)\n",
        "scores2 = poly_model_result\n",
        "\n"
      ]
    },
    {
      "cell_type": "markdown",
      "metadata": {
        "id": "XQESdqexS_jx"
      },
      "source": [
        "## Xgboost classifier"
      ]
    },
    {
      "cell_type": "code",
      "execution_count": 159,
      "metadata": {
        "colab": {
          "base_uri": "https://localhost:8080/"
        },
        "id": "6VPqA9JOk11a",
        "outputId": "9f25fe86-119b-4181-cdbe-5dd1563d70a1"
      },
      "outputs": [
        {
          "output_type": "stream",
          "name": "stdout",
          "text": [
            "Looking in indexes: https://pypi.org/simple, https://us-python.pkg.dev/colab-wheels/public/simple/\n",
            "Requirement already satisfied: xgboost in /usr/local/lib/python3.7/dist-packages (0.90)\n",
            "Requirement already satisfied: scipy in /usr/local/lib/python3.7/dist-packages (from xgboost) (1.7.3)\n",
            "Requirement already satisfied: numpy in /usr/local/lib/python3.7/dist-packages (from xgboost) (1.21.6)\n"
          ]
        }
      ],
      "source": [
        "!pip install xgboost"
      ]
    },
    {
      "cell_type": "code",
      "execution_count": 160,
      "metadata": {
        "id": "TqHmgzcDk5Wh"
      },
      "outputs": [],
      "source": [
        "from xgboost import XGBClassifier"
      ]
    },
    {
      "cell_type": "code",
      "execution_count": 161,
      "metadata": {
        "id": "1L4s_KeZlEYl"
      },
      "outputs": [],
      "source": [
        "def xgb(xtrain,ytrain, xtest, ytest):\n",
        "    xgb = XGBClassifier()\n",
        "    xgb.fit(xtrain, ytrain)\n",
        "    ypred = xgb.predict(xtest)\n",
        "\n",
        "    # calculate  result\n",
        "    xgb_result = calculate_results(ytest, ypred)\n",
        "    xgb_result['model'] = 'xgb'\n",
        "\n",
        "    return xgb_result\n"
      ]
    },
    {
      "cell_type": "code",
      "execution_count": 162,
      "metadata": {
        "id": "CWrBg5MUnIU9"
      },
      "outputs": [],
      "source": [
        "xgb_result = xgb(xtrain_scaled, ytrain, xtest_scaled, ytest)\n",
        "# add score to dataframe\n",
        "scores.append(xgb_result)\n"
      ]
    },
    {
      "cell_type": "code",
      "execution_count": 163,
      "metadata": {
        "id": "ePJss8Usnb7o"
      },
      "outputs": [],
      "source": [
        "xgb_result2 = xgb(xtrain_poly_scaled,ytrain_poly, xtest_poly_scaled, ytest_poly)\n",
        "# add score to dataframe\n",
        "scores2.append(xgb_result2)"
      ]
    },
    {
      "cell_type": "code",
      "execution_count": 164,
      "metadata": {
        "colab": {
          "base_uri": "https://localhost:8080/",
          "height": 363
        },
        "id": "RVO4iwwqn_EB",
        "outputId": "0769d2eb-a825-43ef-a03c-3d410ea6542d"
      },
      "outputs": [
        {
          "output_type": "execute_result",
          "data": {
            "text/plain": [
              "                 model   accuracy  precision    recall        f1\n",
              "0  logistic regression  76.061776   0.693968  0.760618  0.704007\n",
              "1                  SVM  77.992278   0.755590  0.779923  0.693951\n",
              "2                  Knn  76.061776   0.737891  0.760618  0.746049\n",
              "3               D Tree  68.339768   0.709606  0.683398  0.694734\n",
              "4        Random Forest  76.447876   0.751832  0.764479  0.757152\n",
              "5   Xtra Random Forest  74.131274   0.727035  0.741313  0.733266\n",
              "6          naive bayes  76.833977   0.600919  0.768340  0.674394\n",
              "7    voting_classifier  77.606178   0.736121  0.776062  0.738367\n",
              "8                  ann  77.220077   0.694537  0.772201  0.689648\n",
              "9                  xgb  77.606178   0.744442  0.776062  0.750517"
            ],
            "text/html": [
              "\n",
              "  <div id=\"df-68ab03da-5751-4477-b3b1-a4282ad9901b\">\n",
              "    <div class=\"colab-df-container\">\n",
              "      <div>\n",
              "<style scoped>\n",
              "    .dataframe tbody tr th:only-of-type {\n",
              "        vertical-align: middle;\n",
              "    }\n",
              "\n",
              "    .dataframe tbody tr th {\n",
              "        vertical-align: top;\n",
              "    }\n",
              "\n",
              "    .dataframe thead th {\n",
              "        text-align: right;\n",
              "    }\n",
              "</style>\n",
              "<table border=\"1\" class=\"dataframe\">\n",
              "  <thead>\n",
              "    <tr style=\"text-align: right;\">\n",
              "      <th></th>\n",
              "      <th>model</th>\n",
              "      <th>accuracy</th>\n",
              "      <th>precision</th>\n",
              "      <th>recall</th>\n",
              "      <th>f1</th>\n",
              "    </tr>\n",
              "  </thead>\n",
              "  <tbody>\n",
              "    <tr>\n",
              "      <th>0</th>\n",
              "      <td>logistic regression</td>\n",
              "      <td>76.061776</td>\n",
              "      <td>0.693968</td>\n",
              "      <td>0.760618</td>\n",
              "      <td>0.704007</td>\n",
              "    </tr>\n",
              "    <tr>\n",
              "      <th>1</th>\n",
              "      <td>SVM</td>\n",
              "      <td>77.992278</td>\n",
              "      <td>0.755590</td>\n",
              "      <td>0.779923</td>\n",
              "      <td>0.693951</td>\n",
              "    </tr>\n",
              "    <tr>\n",
              "      <th>2</th>\n",
              "      <td>Knn</td>\n",
              "      <td>76.061776</td>\n",
              "      <td>0.737891</td>\n",
              "      <td>0.760618</td>\n",
              "      <td>0.746049</td>\n",
              "    </tr>\n",
              "    <tr>\n",
              "      <th>3</th>\n",
              "      <td>D Tree</td>\n",
              "      <td>68.339768</td>\n",
              "      <td>0.709606</td>\n",
              "      <td>0.683398</td>\n",
              "      <td>0.694734</td>\n",
              "    </tr>\n",
              "    <tr>\n",
              "      <th>4</th>\n",
              "      <td>Random Forest</td>\n",
              "      <td>76.447876</td>\n",
              "      <td>0.751832</td>\n",
              "      <td>0.764479</td>\n",
              "      <td>0.757152</td>\n",
              "    </tr>\n",
              "    <tr>\n",
              "      <th>5</th>\n",
              "      <td>Xtra Random Forest</td>\n",
              "      <td>74.131274</td>\n",
              "      <td>0.727035</td>\n",
              "      <td>0.741313</td>\n",
              "      <td>0.733266</td>\n",
              "    </tr>\n",
              "    <tr>\n",
              "      <th>6</th>\n",
              "      <td>naive bayes</td>\n",
              "      <td>76.833977</td>\n",
              "      <td>0.600919</td>\n",
              "      <td>0.768340</td>\n",
              "      <td>0.674394</td>\n",
              "    </tr>\n",
              "    <tr>\n",
              "      <th>7</th>\n",
              "      <td>voting_classifier</td>\n",
              "      <td>77.606178</td>\n",
              "      <td>0.736121</td>\n",
              "      <td>0.776062</td>\n",
              "      <td>0.738367</td>\n",
              "    </tr>\n",
              "    <tr>\n",
              "      <th>8</th>\n",
              "      <td>ann</td>\n",
              "      <td>77.220077</td>\n",
              "      <td>0.694537</td>\n",
              "      <td>0.772201</td>\n",
              "      <td>0.689648</td>\n",
              "    </tr>\n",
              "    <tr>\n",
              "      <th>9</th>\n",
              "      <td>xgb</td>\n",
              "      <td>77.606178</td>\n",
              "      <td>0.744442</td>\n",
              "      <td>0.776062</td>\n",
              "      <td>0.750517</td>\n",
              "    </tr>\n",
              "  </tbody>\n",
              "</table>\n",
              "</div>\n",
              "      <button class=\"colab-df-convert\" onclick=\"convertToInteractive('df-68ab03da-5751-4477-b3b1-a4282ad9901b')\"\n",
              "              title=\"Convert this dataframe to an interactive table.\"\n",
              "              style=\"display:none;\">\n",
              "        \n",
              "  <svg xmlns=\"http://www.w3.org/2000/svg\" height=\"24px\"viewBox=\"0 0 24 24\"\n",
              "       width=\"24px\">\n",
              "    <path d=\"M0 0h24v24H0V0z\" fill=\"none\"/>\n",
              "    <path d=\"M18.56 5.44l.94 2.06.94-2.06 2.06-.94-2.06-.94-.94-2.06-.94 2.06-2.06.94zm-11 1L8.5 8.5l.94-2.06 2.06-.94-2.06-.94L8.5 2.5l-.94 2.06-2.06.94zm10 10l.94 2.06.94-2.06 2.06-.94-2.06-.94-.94-2.06-.94 2.06-2.06.94z\"/><path d=\"M17.41 7.96l-1.37-1.37c-.4-.4-.92-.59-1.43-.59-.52 0-1.04.2-1.43.59L10.3 9.45l-7.72 7.72c-.78.78-.78 2.05 0 2.83L4 21.41c.39.39.9.59 1.41.59.51 0 1.02-.2 1.41-.59l7.78-7.78 2.81-2.81c.8-.78.8-2.07 0-2.86zM5.41 20L4 18.59l7.72-7.72 1.47 1.35L5.41 20z\"/>\n",
              "  </svg>\n",
              "      </button>\n",
              "      \n",
              "  <style>\n",
              "    .colab-df-container {\n",
              "      display:flex;\n",
              "      flex-wrap:wrap;\n",
              "      gap: 12px;\n",
              "    }\n",
              "\n",
              "    .colab-df-convert {\n",
              "      background-color: #E8F0FE;\n",
              "      border: none;\n",
              "      border-radius: 50%;\n",
              "      cursor: pointer;\n",
              "      display: none;\n",
              "      fill: #1967D2;\n",
              "      height: 32px;\n",
              "      padding: 0 0 0 0;\n",
              "      width: 32px;\n",
              "    }\n",
              "\n",
              "    .colab-df-convert:hover {\n",
              "      background-color: #E2EBFA;\n",
              "      box-shadow: 0px 1px 2px rgba(60, 64, 67, 0.3), 0px 1px 3px 1px rgba(60, 64, 67, 0.15);\n",
              "      fill: #174EA6;\n",
              "    }\n",
              "\n",
              "    [theme=dark] .colab-df-convert {\n",
              "      background-color: #3B4455;\n",
              "      fill: #D2E3FC;\n",
              "    }\n",
              "\n",
              "    [theme=dark] .colab-df-convert:hover {\n",
              "      background-color: #434B5C;\n",
              "      box-shadow: 0px 1px 3px 1px rgba(0, 0, 0, 0.15);\n",
              "      filter: drop-shadow(0px 1px 2px rgba(0, 0, 0, 0.3));\n",
              "      fill: #FFFFFF;\n",
              "    }\n",
              "  </style>\n",
              "\n",
              "      <script>\n",
              "        const buttonEl =\n",
              "          document.querySelector('#df-68ab03da-5751-4477-b3b1-a4282ad9901b button.colab-df-convert');\n",
              "        buttonEl.style.display =\n",
              "          google.colab.kernel.accessAllowed ? 'block' : 'none';\n",
              "\n",
              "        async function convertToInteractive(key) {\n",
              "          const element = document.querySelector('#df-68ab03da-5751-4477-b3b1-a4282ad9901b');\n",
              "          const dataTable =\n",
              "            await google.colab.kernel.invokeFunction('convertToInteractive',\n",
              "                                                     [key], {});\n",
              "          if (!dataTable) return;\n",
              "\n",
              "          const docLinkHtml = 'Like what you see? Visit the ' +\n",
              "            '<a target=\"_blank\" href=https://colab.research.google.com/notebooks/data_table.ipynb>data table notebook</a>'\n",
              "            + ' to learn more about interactive tables.';\n",
              "          element.innerHTML = '';\n",
              "          dataTable['output_type'] = 'display_data';\n",
              "          await google.colab.output.renderOutput(dataTable, element);\n",
              "          const docLink = document.createElement('div');\n",
              "          docLink.innerHTML = docLinkHtml;\n",
              "          element.appendChild(docLink);\n",
              "        }\n",
              "      </script>\n",
              "    </div>\n",
              "  </div>\n",
              "  "
            ]
          },
          "metadata": {},
          "execution_count": 164
        }
      ],
      "source": [
        "scoresheet2 = pd.DataFrame(scores2)\n",
        "scoresheet2"
      ]
    },
    {
      "cell_type": "code",
      "execution_count": 165,
      "metadata": {
        "colab": {
          "base_uri": "https://localhost:8080/",
          "height": 363
        },
        "id": "1RZ3kMZDn_BI",
        "outputId": "d452118a-03c7-4ac1-d2a1-bc49b9ebd827"
      },
      "outputs": [
        {
          "output_type": "execute_result",
          "data": {
            "text/plain": [
              "                 model   accuracy  precision    recall        f1\n",
              "0  logistic regression  77.220077   0.702657  0.772201  0.695657\n",
              "1                  SVM  78.764479   0.790223  0.787645  0.710689\n",
              "2                  Knn  74.517375   0.723289  0.745174  0.731974\n",
              "3               D Tree  71.814672   0.716415  0.718147  0.717271\n",
              "4        Random Forest  74.903475   0.738344  0.749035  0.743124\n",
              "5   Xtra Random Forest  72.586873   0.706973  0.725869  0.715160\n",
              "6          naive bayes  77.606178   0.602272  0.776062  0.678211\n",
              "7    voting_classifier  76.833977   0.714581  0.768340  0.717859\n",
              "8                  ann  77.606178   0.602272  0.776062  0.678211\n",
              "9                  xgb  78.764479   0.762510  0.787645  0.767132"
            ],
            "text/html": [
              "\n",
              "  <div id=\"df-788e041d-e87b-465e-aca8-9e18db906672\">\n",
              "    <div class=\"colab-df-container\">\n",
              "      <div>\n",
              "<style scoped>\n",
              "    .dataframe tbody tr th:only-of-type {\n",
              "        vertical-align: middle;\n",
              "    }\n",
              "\n",
              "    .dataframe tbody tr th {\n",
              "        vertical-align: top;\n",
              "    }\n",
              "\n",
              "    .dataframe thead th {\n",
              "        text-align: right;\n",
              "    }\n",
              "</style>\n",
              "<table border=\"1\" class=\"dataframe\">\n",
              "  <thead>\n",
              "    <tr style=\"text-align: right;\">\n",
              "      <th></th>\n",
              "      <th>model</th>\n",
              "      <th>accuracy</th>\n",
              "      <th>precision</th>\n",
              "      <th>recall</th>\n",
              "      <th>f1</th>\n",
              "    </tr>\n",
              "  </thead>\n",
              "  <tbody>\n",
              "    <tr>\n",
              "      <th>0</th>\n",
              "      <td>logistic regression</td>\n",
              "      <td>77.220077</td>\n",
              "      <td>0.702657</td>\n",
              "      <td>0.772201</td>\n",
              "      <td>0.695657</td>\n",
              "    </tr>\n",
              "    <tr>\n",
              "      <th>1</th>\n",
              "      <td>SVM</td>\n",
              "      <td>78.764479</td>\n",
              "      <td>0.790223</td>\n",
              "      <td>0.787645</td>\n",
              "      <td>0.710689</td>\n",
              "    </tr>\n",
              "    <tr>\n",
              "      <th>2</th>\n",
              "      <td>Knn</td>\n",
              "      <td>74.517375</td>\n",
              "      <td>0.723289</td>\n",
              "      <td>0.745174</td>\n",
              "      <td>0.731974</td>\n",
              "    </tr>\n",
              "    <tr>\n",
              "      <th>3</th>\n",
              "      <td>D Tree</td>\n",
              "      <td>71.814672</td>\n",
              "      <td>0.716415</td>\n",
              "      <td>0.718147</td>\n",
              "      <td>0.717271</td>\n",
              "    </tr>\n",
              "    <tr>\n",
              "      <th>4</th>\n",
              "      <td>Random Forest</td>\n",
              "      <td>74.903475</td>\n",
              "      <td>0.738344</td>\n",
              "      <td>0.749035</td>\n",
              "      <td>0.743124</td>\n",
              "    </tr>\n",
              "    <tr>\n",
              "      <th>5</th>\n",
              "      <td>Xtra Random Forest</td>\n",
              "      <td>72.586873</td>\n",
              "      <td>0.706973</td>\n",
              "      <td>0.725869</td>\n",
              "      <td>0.715160</td>\n",
              "    </tr>\n",
              "    <tr>\n",
              "      <th>6</th>\n",
              "      <td>naive bayes</td>\n",
              "      <td>77.606178</td>\n",
              "      <td>0.602272</td>\n",
              "      <td>0.776062</td>\n",
              "      <td>0.678211</td>\n",
              "    </tr>\n",
              "    <tr>\n",
              "      <th>7</th>\n",
              "      <td>voting_classifier</td>\n",
              "      <td>76.833977</td>\n",
              "      <td>0.714581</td>\n",
              "      <td>0.768340</td>\n",
              "      <td>0.717859</td>\n",
              "    </tr>\n",
              "    <tr>\n",
              "      <th>8</th>\n",
              "      <td>ann</td>\n",
              "      <td>77.606178</td>\n",
              "      <td>0.602272</td>\n",
              "      <td>0.776062</td>\n",
              "      <td>0.678211</td>\n",
              "    </tr>\n",
              "    <tr>\n",
              "      <th>9</th>\n",
              "      <td>xgb</td>\n",
              "      <td>78.764479</td>\n",
              "      <td>0.762510</td>\n",
              "      <td>0.787645</td>\n",
              "      <td>0.767132</td>\n",
              "    </tr>\n",
              "  </tbody>\n",
              "</table>\n",
              "</div>\n",
              "      <button class=\"colab-df-convert\" onclick=\"convertToInteractive('df-788e041d-e87b-465e-aca8-9e18db906672')\"\n",
              "              title=\"Convert this dataframe to an interactive table.\"\n",
              "              style=\"display:none;\">\n",
              "        \n",
              "  <svg xmlns=\"http://www.w3.org/2000/svg\" height=\"24px\"viewBox=\"0 0 24 24\"\n",
              "       width=\"24px\">\n",
              "    <path d=\"M0 0h24v24H0V0z\" fill=\"none\"/>\n",
              "    <path d=\"M18.56 5.44l.94 2.06.94-2.06 2.06-.94-2.06-.94-.94-2.06-.94 2.06-2.06.94zm-11 1L8.5 8.5l.94-2.06 2.06-.94-2.06-.94L8.5 2.5l-.94 2.06-2.06.94zm10 10l.94 2.06.94-2.06 2.06-.94-2.06-.94-.94-2.06-.94 2.06-2.06.94z\"/><path d=\"M17.41 7.96l-1.37-1.37c-.4-.4-.92-.59-1.43-.59-.52 0-1.04.2-1.43.59L10.3 9.45l-7.72 7.72c-.78.78-.78 2.05 0 2.83L4 21.41c.39.39.9.59 1.41.59.51 0 1.02-.2 1.41-.59l7.78-7.78 2.81-2.81c.8-.78.8-2.07 0-2.86zM5.41 20L4 18.59l7.72-7.72 1.47 1.35L5.41 20z\"/>\n",
              "  </svg>\n",
              "      </button>\n",
              "      \n",
              "  <style>\n",
              "    .colab-df-container {\n",
              "      display:flex;\n",
              "      flex-wrap:wrap;\n",
              "      gap: 12px;\n",
              "    }\n",
              "\n",
              "    .colab-df-convert {\n",
              "      background-color: #E8F0FE;\n",
              "      border: none;\n",
              "      border-radius: 50%;\n",
              "      cursor: pointer;\n",
              "      display: none;\n",
              "      fill: #1967D2;\n",
              "      height: 32px;\n",
              "      padding: 0 0 0 0;\n",
              "      width: 32px;\n",
              "    }\n",
              "\n",
              "    .colab-df-convert:hover {\n",
              "      background-color: #E2EBFA;\n",
              "      box-shadow: 0px 1px 2px rgba(60, 64, 67, 0.3), 0px 1px 3px 1px rgba(60, 64, 67, 0.15);\n",
              "      fill: #174EA6;\n",
              "    }\n",
              "\n",
              "    [theme=dark] .colab-df-convert {\n",
              "      background-color: #3B4455;\n",
              "      fill: #D2E3FC;\n",
              "    }\n",
              "\n",
              "    [theme=dark] .colab-df-convert:hover {\n",
              "      background-color: #434B5C;\n",
              "      box-shadow: 0px 1px 3px 1px rgba(0, 0, 0, 0.15);\n",
              "      filter: drop-shadow(0px 1px 2px rgba(0, 0, 0, 0.3));\n",
              "      fill: #FFFFFF;\n",
              "    }\n",
              "  </style>\n",
              "\n",
              "      <script>\n",
              "        const buttonEl =\n",
              "          document.querySelector('#df-788e041d-e87b-465e-aca8-9e18db906672 button.colab-df-convert');\n",
              "        buttonEl.style.display =\n",
              "          google.colab.kernel.accessAllowed ? 'block' : 'none';\n",
              "\n",
              "        async function convertToInteractive(key) {\n",
              "          const element = document.querySelector('#df-788e041d-e87b-465e-aca8-9e18db906672');\n",
              "          const dataTable =\n",
              "            await google.colab.kernel.invokeFunction('convertToInteractive',\n",
              "                                                     [key], {});\n",
              "          if (!dataTable) return;\n",
              "\n",
              "          const docLinkHtml = 'Like what you see? Visit the ' +\n",
              "            '<a target=\"_blank\" href=https://colab.research.google.com/notebooks/data_table.ipynb>data table notebook</a>'\n",
              "            + ' to learn more about interactive tables.';\n",
              "          element.innerHTML = '';\n",
              "          dataTable['output_type'] = 'display_data';\n",
              "          await google.colab.output.renderOutput(dataTable, element);\n",
              "          const docLink = document.createElement('div');\n",
              "          docLink.innerHTML = docLinkHtml;\n",
              "          element.appendChild(docLink);\n",
              "        }\n",
              "      </script>\n",
              "    </div>\n",
              "  </div>\n",
              "  "
            ]
          },
          "metadata": {},
          "execution_count": 165
        }
      ],
      "source": [
        "scoresheet = pd.DataFrame(scores)\n",
        "scoresheet"
      ]
    },
    {
      "cell_type": "code",
      "execution_count": 166,
      "metadata": {
        "colab": {
          "base_uri": "https://localhost:8080/",
          "height": 363
        },
        "id": "apnjfU1ioV55",
        "outputId": "7e1c3e36-6841-4015-be80-4fadd8a1658c"
      },
      "outputs": [
        {
          "output_type": "execute_result",
          "data": {
            "text/plain": [
              "   model  accuracy  precision  recall     f1\n",
              "0  False     False      False   False   True\n",
              "1  False     False      False   False  False\n",
              "2  False      True       True    True   True\n",
              "3  False     False      False   False  False\n",
              "4  False      True       True    True   True\n",
              "5  False      True       True    True   True\n",
              "6  False     False      False   False  False\n",
              "7  False      True       True    True   True\n",
              "8  False     False       True   False   True\n",
              "9  False     False      False   False  False"
            ],
            "text/html": [
              "\n",
              "  <div id=\"df-4363fab9-8deb-4265-a661-5543fa38fad1\">\n",
              "    <div class=\"colab-df-container\">\n",
              "      <div>\n",
              "<style scoped>\n",
              "    .dataframe tbody tr th:only-of-type {\n",
              "        vertical-align: middle;\n",
              "    }\n",
              "\n",
              "    .dataframe tbody tr th {\n",
              "        vertical-align: top;\n",
              "    }\n",
              "\n",
              "    .dataframe thead th {\n",
              "        text-align: right;\n",
              "    }\n",
              "</style>\n",
              "<table border=\"1\" class=\"dataframe\">\n",
              "  <thead>\n",
              "    <tr style=\"text-align: right;\">\n",
              "      <th></th>\n",
              "      <th>model</th>\n",
              "      <th>accuracy</th>\n",
              "      <th>precision</th>\n",
              "      <th>recall</th>\n",
              "      <th>f1</th>\n",
              "    </tr>\n",
              "  </thead>\n",
              "  <tbody>\n",
              "    <tr>\n",
              "      <th>0</th>\n",
              "      <td>False</td>\n",
              "      <td>False</td>\n",
              "      <td>False</td>\n",
              "      <td>False</td>\n",
              "      <td>True</td>\n",
              "    </tr>\n",
              "    <tr>\n",
              "      <th>1</th>\n",
              "      <td>False</td>\n",
              "      <td>False</td>\n",
              "      <td>False</td>\n",
              "      <td>False</td>\n",
              "      <td>False</td>\n",
              "    </tr>\n",
              "    <tr>\n",
              "      <th>2</th>\n",
              "      <td>False</td>\n",
              "      <td>True</td>\n",
              "      <td>True</td>\n",
              "      <td>True</td>\n",
              "      <td>True</td>\n",
              "    </tr>\n",
              "    <tr>\n",
              "      <th>3</th>\n",
              "      <td>False</td>\n",
              "      <td>False</td>\n",
              "      <td>False</td>\n",
              "      <td>False</td>\n",
              "      <td>False</td>\n",
              "    </tr>\n",
              "    <tr>\n",
              "      <th>4</th>\n",
              "      <td>False</td>\n",
              "      <td>True</td>\n",
              "      <td>True</td>\n",
              "      <td>True</td>\n",
              "      <td>True</td>\n",
              "    </tr>\n",
              "    <tr>\n",
              "      <th>5</th>\n",
              "      <td>False</td>\n",
              "      <td>True</td>\n",
              "      <td>True</td>\n",
              "      <td>True</td>\n",
              "      <td>True</td>\n",
              "    </tr>\n",
              "    <tr>\n",
              "      <th>6</th>\n",
              "      <td>False</td>\n",
              "      <td>False</td>\n",
              "      <td>False</td>\n",
              "      <td>False</td>\n",
              "      <td>False</td>\n",
              "    </tr>\n",
              "    <tr>\n",
              "      <th>7</th>\n",
              "      <td>False</td>\n",
              "      <td>True</td>\n",
              "      <td>True</td>\n",
              "      <td>True</td>\n",
              "      <td>True</td>\n",
              "    </tr>\n",
              "    <tr>\n",
              "      <th>8</th>\n",
              "      <td>False</td>\n",
              "      <td>False</td>\n",
              "      <td>True</td>\n",
              "      <td>False</td>\n",
              "      <td>True</td>\n",
              "    </tr>\n",
              "    <tr>\n",
              "      <th>9</th>\n",
              "      <td>False</td>\n",
              "      <td>False</td>\n",
              "      <td>False</td>\n",
              "      <td>False</td>\n",
              "      <td>False</td>\n",
              "    </tr>\n",
              "  </tbody>\n",
              "</table>\n",
              "</div>\n",
              "      <button class=\"colab-df-convert\" onclick=\"convertToInteractive('df-4363fab9-8deb-4265-a661-5543fa38fad1')\"\n",
              "              title=\"Convert this dataframe to an interactive table.\"\n",
              "              style=\"display:none;\">\n",
              "        \n",
              "  <svg xmlns=\"http://www.w3.org/2000/svg\" height=\"24px\"viewBox=\"0 0 24 24\"\n",
              "       width=\"24px\">\n",
              "    <path d=\"M0 0h24v24H0V0z\" fill=\"none\"/>\n",
              "    <path d=\"M18.56 5.44l.94 2.06.94-2.06 2.06-.94-2.06-.94-.94-2.06-.94 2.06-2.06.94zm-11 1L8.5 8.5l.94-2.06 2.06-.94-2.06-.94L8.5 2.5l-.94 2.06-2.06.94zm10 10l.94 2.06.94-2.06 2.06-.94-2.06-.94-.94-2.06-.94 2.06-2.06.94z\"/><path d=\"M17.41 7.96l-1.37-1.37c-.4-.4-.92-.59-1.43-.59-.52 0-1.04.2-1.43.59L10.3 9.45l-7.72 7.72c-.78.78-.78 2.05 0 2.83L4 21.41c.39.39.9.59 1.41.59.51 0 1.02-.2 1.41-.59l7.78-7.78 2.81-2.81c.8-.78.8-2.07 0-2.86zM5.41 20L4 18.59l7.72-7.72 1.47 1.35L5.41 20z\"/>\n",
              "  </svg>\n",
              "      </button>\n",
              "      \n",
              "  <style>\n",
              "    .colab-df-container {\n",
              "      display:flex;\n",
              "      flex-wrap:wrap;\n",
              "      gap: 12px;\n",
              "    }\n",
              "\n",
              "    .colab-df-convert {\n",
              "      background-color: #E8F0FE;\n",
              "      border: none;\n",
              "      border-radius: 50%;\n",
              "      cursor: pointer;\n",
              "      display: none;\n",
              "      fill: #1967D2;\n",
              "      height: 32px;\n",
              "      padding: 0 0 0 0;\n",
              "      width: 32px;\n",
              "    }\n",
              "\n",
              "    .colab-df-convert:hover {\n",
              "      background-color: #E2EBFA;\n",
              "      box-shadow: 0px 1px 2px rgba(60, 64, 67, 0.3), 0px 1px 3px 1px rgba(60, 64, 67, 0.15);\n",
              "      fill: #174EA6;\n",
              "    }\n",
              "\n",
              "    [theme=dark] .colab-df-convert {\n",
              "      background-color: #3B4455;\n",
              "      fill: #D2E3FC;\n",
              "    }\n",
              "\n",
              "    [theme=dark] .colab-df-convert:hover {\n",
              "      background-color: #434B5C;\n",
              "      box-shadow: 0px 1px 3px 1px rgba(0, 0, 0, 0.15);\n",
              "      filter: drop-shadow(0px 1px 2px rgba(0, 0, 0, 0.3));\n",
              "      fill: #FFFFFF;\n",
              "    }\n",
              "  </style>\n",
              "\n",
              "      <script>\n",
              "        const buttonEl =\n",
              "          document.querySelector('#df-4363fab9-8deb-4265-a661-5543fa38fad1 button.colab-df-convert');\n",
              "        buttonEl.style.display =\n",
              "          google.colab.kernel.accessAllowed ? 'block' : 'none';\n",
              "\n",
              "        async function convertToInteractive(key) {\n",
              "          const element = document.querySelector('#df-4363fab9-8deb-4265-a661-5543fa38fad1');\n",
              "          const dataTable =\n",
              "            await google.colab.kernel.invokeFunction('convertToInteractive',\n",
              "                                                     [key], {});\n",
              "          if (!dataTable) return;\n",
              "\n",
              "          const docLinkHtml = 'Like what you see? Visit the ' +\n",
              "            '<a target=\"_blank\" href=https://colab.research.google.com/notebooks/data_table.ipynb>data table notebook</a>'\n",
              "            + ' to learn more about interactive tables.';\n",
              "          element.innerHTML = '';\n",
              "          dataTable['output_type'] = 'display_data';\n",
              "          await google.colab.output.renderOutput(dataTable, element);\n",
              "          const docLink = document.createElement('div');\n",
              "          docLink.innerHTML = docLinkHtml;\n",
              "          element.appendChild(docLink);\n",
              "        }\n",
              "      </script>\n",
              "    </div>\n",
              "  </div>\n",
              "  "
            ]
          },
          "metadata": {},
          "execution_count": 166
        }
      ],
      "source": [
        "scoresheet2 > scoresheet"
      ]
    },
    {
      "cell_type": "markdown",
      "metadata": {
        "id": "bDoa2O3JqYgA"
      },
      "source": [
        "# Fixing Class Immbalance"
      ]
    },
    {
      "cell_type": "markdown",
      "source": [
        "we will use oversampling technique to Overcome class imbalance using `imblearn`'s smote"
      ],
      "metadata": {
        "id": "xOBZg10WIgFP"
      }
    },
    {
      "cell_type": "code",
      "execution_count": 167,
      "metadata": {
        "id": "89idsHV7qtBX"
      },
      "outputs": [],
      "source": [
        "X = new_data.drop('CLASS', axis = 1)\n",
        "y = new_data.CLASS"
      ]
    },
    {
      "cell_type": "code",
      "source": [
        "print('CLass Count',Counter(y))"
      ],
      "metadata": {
        "colab": {
          "base_uri": "https://localhost:8080/"
        },
        "id": "ejd1jJQVIC2A",
        "outputId": "907f4245-8766-4ad1-ede5-801ac5bc805c"
      },
      "execution_count": 168,
      "outputs": [
        {
          "output_type": "stream",
          "name": "stdout",
          "text": [
            "CLass Count Counter({1: 1002, 0: 292})\n"
          ]
        }
      ]
    },
    {
      "cell_type": "code",
      "source": [
        "from imblearn.over_sampling import SMOTE\n",
        "\n",
        "smote = SMOTE()\n",
        "X_balanced, y_balanced = smote.fit_resample(X,y)"
      ],
      "metadata": {
        "id": "xlXRborZGQ1F"
      },
      "execution_count": 169,
      "outputs": []
    },
    {
      "cell_type": "code",
      "source": [
        "print('CLass Count after SMOTING(PUN)',Counter(y_balanced))"
      ],
      "metadata": {
        "colab": {
          "base_uri": "https://localhost:8080/"
        },
        "id": "vzkfJMRtG4NQ",
        "outputId": "05fd1555-5891-4ba6-d8bf-6696e2175a4a"
      },
      "execution_count": 170,
      "outputs": [
        {
          "output_type": "stream",
          "name": "stdout",
          "text": [
            "CLass Count after SMOTING(PUN) Counter({1: 1002, 0: 1002})\n"
          ]
        }
      ]
    },
    {
      "cell_type": "code",
      "source": [
        "#splitiing data\n",
        "xtrain_bala, xtest_bala, ytrain_bala, ytest_bala = train_test_split(X_balanced, y_balanced, test_size=.2, random_state= 2, stratify = y_balanced)\n",
        "print('xtrain_balanced',xtrain_bala.shape,ytrain_bala.shape, \n",
        "      'xtest_balanced',xtest_bala.shape,  ytest_bala.shape)"
      ],
      "metadata": {
        "colab": {
          "base_uri": "https://localhost:8080/"
        },
        "id": "VlqYPU9hMTJQ",
        "outputId": "3fbdb040-c7bc-4cf4-df91-2e302eafd24d"
      },
      "execution_count": 171,
      "outputs": [
        {
          "output_type": "stream",
          "name": "stdout",
          "text": [
            "xtrain_balanced (1603, 3) (1603,) xtest_balanced (401, 3) (401,)\n"
          ]
        }
      ]
    },
    {
      "cell_type": "code",
      "source": [
        "from numpy.ma.core import size\n",
        "# lets see its representation on 3D\n",
        "import plotly.express as px\n",
        "\n",
        "# Scaling to visualize it better\n",
        "_scale = MinMaxScaler()\n",
        "xtrain_bala_scaled = _scale.fit_transform(xtrain_bala)\n",
        "xtest_bala_scaled = _scale.transform(xtest_bala)\n",
        "\n",
        "# px.scatter_3d(X_balanced, x = X_balanced[:,0], y = X_balanced[:,1], z = X_balanced[:,2], color = y_balanced, size = 0)\n"
      ],
      "metadata": {
        "id": "Gvm65uf2IVIr"
      },
      "execution_count": 172,
      "outputs": []
    },
    {
      "cell_type": "markdown",
      "source": [
        "# Mode Score on Balanced DATA"
      ],
      "metadata": {
        "id": "DyVrA39wKgAv"
      }
    },
    {
      "cell_type": "code",
      "source": [
        "# scaling data\n",
        "bala_scaler = MinMaxScaler()\n",
        "bala_scaler.fit(xtrain_bala)\n",
        "xtrain_bala_scaled = bala_scaler.transform(xtrain_bala)\n",
        "xtest_bala_scaled = bala_scaler.transform(xtest_bala)"
      ],
      "metadata": {
        "id": "9VxAI8qWP94S"
      },
      "execution_count": 173,
      "outputs": []
    },
    {
      "cell_type": "code",
      "source": [
        "balanced_model_result = models(xtrain_bala_scaled, ytrain_bala, xtest_bala_scaled, ytest_bala)\n",
        "balanced_votingclf_result = votingclf(xtrain_bala_scaled, ytrain_bala, xtest_bala_scaled, ytest_bala)\n",
        "balanced_ann_result = annmodel(xtrain_bala_scaled, ytrain_bala, xtest_bala_scaled, ytest_bala)\n",
        "xgb_result = xgb(xtrain_bala_scaled, ytrain_bala, xtest_bala_scaled, ytest_bala)\n"
      ],
      "metadata": {
        "id": "hSnD0COaMMbG"
      },
      "execution_count": 174,
      "outputs": []
    },
    {
      "cell_type": "code",
      "source": [
        "#appending results\n",
        "balanced_model_result.append(balanced_votingclf_result)\n",
        "balanced_model_result.append(balanced_ann_result)\n",
        "balanced_model_result.append(xgb_result)\n",
        "\n",
        "scores3 = balanced_model_result"
      ],
      "metadata": {
        "id": "VTKSD-CDNyRb"
      },
      "execution_count": 175,
      "outputs": []
    },
    {
      "cell_type": "code",
      "source": [
        "scoresheet3 = pd.DataFrame(scores3)\n",
        "scoresheet3"
      ],
      "metadata": {
        "colab": {
          "base_uri": "https://localhost:8080/",
          "height": 363
        },
        "id": "z9SDT1KtOvwL",
        "outputId": "f7c2218b-b7cc-49fb-c804-5b698f156bab"
      },
      "execution_count": 176,
      "outputs": [
        {
          "output_type": "execute_result",
          "data": {
            "text/plain": [
              "                 model   accuracy  precision    recall        f1\n",
              "0  logistic regression  69.825436   0.698263  0.698254  0.698254\n",
              "1                  SVM  73.316708   0.735684  0.733167  0.732398\n",
              "2                  Knn  72.817955   0.730183  0.728180  0.727536\n",
              "3               D Tree  76.558603   0.768198  0.765586  0.764972\n",
              "4        Random Forest  77.805486   0.785710  0.778055  0.776495\n",
              "5   Xtra Random Forest  78.054863   0.786055  0.780549  0.779435\n",
              "6          naive bayes  50.374065   0.750630  0.503741  0.340239\n",
              "7    voting_classifier  79.551122   0.799748  0.795511  0.794745\n",
              "8                  ann  72.319202   0.727222  0.723192  0.721884\n",
              "9                  xgb  77.057357   0.774440  0.770574  0.769714"
            ],
            "text/html": [
              "\n",
              "  <div id=\"df-901c81a7-1e7d-41df-b68e-ba74c33454da\">\n",
              "    <div class=\"colab-df-container\">\n",
              "      <div>\n",
              "<style scoped>\n",
              "    .dataframe tbody tr th:only-of-type {\n",
              "        vertical-align: middle;\n",
              "    }\n",
              "\n",
              "    .dataframe tbody tr th {\n",
              "        vertical-align: top;\n",
              "    }\n",
              "\n",
              "    .dataframe thead th {\n",
              "        text-align: right;\n",
              "    }\n",
              "</style>\n",
              "<table border=\"1\" class=\"dataframe\">\n",
              "  <thead>\n",
              "    <tr style=\"text-align: right;\">\n",
              "      <th></th>\n",
              "      <th>model</th>\n",
              "      <th>accuracy</th>\n",
              "      <th>precision</th>\n",
              "      <th>recall</th>\n",
              "      <th>f1</th>\n",
              "    </tr>\n",
              "  </thead>\n",
              "  <tbody>\n",
              "    <tr>\n",
              "      <th>0</th>\n",
              "      <td>logistic regression</td>\n",
              "      <td>69.825436</td>\n",
              "      <td>0.698263</td>\n",
              "      <td>0.698254</td>\n",
              "      <td>0.698254</td>\n",
              "    </tr>\n",
              "    <tr>\n",
              "      <th>1</th>\n",
              "      <td>SVM</td>\n",
              "      <td>73.316708</td>\n",
              "      <td>0.735684</td>\n",
              "      <td>0.733167</td>\n",
              "      <td>0.732398</td>\n",
              "    </tr>\n",
              "    <tr>\n",
              "      <th>2</th>\n",
              "      <td>Knn</td>\n",
              "      <td>72.817955</td>\n",
              "      <td>0.730183</td>\n",
              "      <td>0.728180</td>\n",
              "      <td>0.727536</td>\n",
              "    </tr>\n",
              "    <tr>\n",
              "      <th>3</th>\n",
              "      <td>D Tree</td>\n",
              "      <td>76.558603</td>\n",
              "      <td>0.768198</td>\n",
              "      <td>0.765586</td>\n",
              "      <td>0.764972</td>\n",
              "    </tr>\n",
              "    <tr>\n",
              "      <th>4</th>\n",
              "      <td>Random Forest</td>\n",
              "      <td>77.805486</td>\n",
              "      <td>0.785710</td>\n",
              "      <td>0.778055</td>\n",
              "      <td>0.776495</td>\n",
              "    </tr>\n",
              "    <tr>\n",
              "      <th>5</th>\n",
              "      <td>Xtra Random Forest</td>\n",
              "      <td>78.054863</td>\n",
              "      <td>0.786055</td>\n",
              "      <td>0.780549</td>\n",
              "      <td>0.779435</td>\n",
              "    </tr>\n",
              "    <tr>\n",
              "      <th>6</th>\n",
              "      <td>naive bayes</td>\n",
              "      <td>50.374065</td>\n",
              "      <td>0.750630</td>\n",
              "      <td>0.503741</td>\n",
              "      <td>0.340239</td>\n",
              "    </tr>\n",
              "    <tr>\n",
              "      <th>7</th>\n",
              "      <td>voting_classifier</td>\n",
              "      <td>79.551122</td>\n",
              "      <td>0.799748</td>\n",
              "      <td>0.795511</td>\n",
              "      <td>0.794745</td>\n",
              "    </tr>\n",
              "    <tr>\n",
              "      <th>8</th>\n",
              "      <td>ann</td>\n",
              "      <td>72.319202</td>\n",
              "      <td>0.727222</td>\n",
              "      <td>0.723192</td>\n",
              "      <td>0.721884</td>\n",
              "    </tr>\n",
              "    <tr>\n",
              "      <th>9</th>\n",
              "      <td>xgb</td>\n",
              "      <td>77.057357</td>\n",
              "      <td>0.774440</td>\n",
              "      <td>0.770574</td>\n",
              "      <td>0.769714</td>\n",
              "    </tr>\n",
              "  </tbody>\n",
              "</table>\n",
              "</div>\n",
              "      <button class=\"colab-df-convert\" onclick=\"convertToInteractive('df-901c81a7-1e7d-41df-b68e-ba74c33454da')\"\n",
              "              title=\"Convert this dataframe to an interactive table.\"\n",
              "              style=\"display:none;\">\n",
              "        \n",
              "  <svg xmlns=\"http://www.w3.org/2000/svg\" height=\"24px\"viewBox=\"0 0 24 24\"\n",
              "       width=\"24px\">\n",
              "    <path d=\"M0 0h24v24H0V0z\" fill=\"none\"/>\n",
              "    <path d=\"M18.56 5.44l.94 2.06.94-2.06 2.06-.94-2.06-.94-.94-2.06-.94 2.06-2.06.94zm-11 1L8.5 8.5l.94-2.06 2.06-.94-2.06-.94L8.5 2.5l-.94 2.06-2.06.94zm10 10l.94 2.06.94-2.06 2.06-.94-2.06-.94-.94-2.06-.94 2.06-2.06.94z\"/><path d=\"M17.41 7.96l-1.37-1.37c-.4-.4-.92-.59-1.43-.59-.52 0-1.04.2-1.43.59L10.3 9.45l-7.72 7.72c-.78.78-.78 2.05 0 2.83L4 21.41c.39.39.9.59 1.41.59.51 0 1.02-.2 1.41-.59l7.78-7.78 2.81-2.81c.8-.78.8-2.07 0-2.86zM5.41 20L4 18.59l7.72-7.72 1.47 1.35L5.41 20z\"/>\n",
              "  </svg>\n",
              "      </button>\n",
              "      \n",
              "  <style>\n",
              "    .colab-df-container {\n",
              "      display:flex;\n",
              "      flex-wrap:wrap;\n",
              "      gap: 12px;\n",
              "    }\n",
              "\n",
              "    .colab-df-convert {\n",
              "      background-color: #E8F0FE;\n",
              "      border: none;\n",
              "      border-radius: 50%;\n",
              "      cursor: pointer;\n",
              "      display: none;\n",
              "      fill: #1967D2;\n",
              "      height: 32px;\n",
              "      padding: 0 0 0 0;\n",
              "      width: 32px;\n",
              "    }\n",
              "\n",
              "    .colab-df-convert:hover {\n",
              "      background-color: #E2EBFA;\n",
              "      box-shadow: 0px 1px 2px rgba(60, 64, 67, 0.3), 0px 1px 3px 1px rgba(60, 64, 67, 0.15);\n",
              "      fill: #174EA6;\n",
              "    }\n",
              "\n",
              "    [theme=dark] .colab-df-convert {\n",
              "      background-color: #3B4455;\n",
              "      fill: #D2E3FC;\n",
              "    }\n",
              "\n",
              "    [theme=dark] .colab-df-convert:hover {\n",
              "      background-color: #434B5C;\n",
              "      box-shadow: 0px 1px 3px 1px rgba(0, 0, 0, 0.15);\n",
              "      filter: drop-shadow(0px 1px 2px rgba(0, 0, 0, 0.3));\n",
              "      fill: #FFFFFF;\n",
              "    }\n",
              "  </style>\n",
              "\n",
              "      <script>\n",
              "        const buttonEl =\n",
              "          document.querySelector('#df-901c81a7-1e7d-41df-b68e-ba74c33454da button.colab-df-convert');\n",
              "        buttonEl.style.display =\n",
              "          google.colab.kernel.accessAllowed ? 'block' : 'none';\n",
              "\n",
              "        async function convertToInteractive(key) {\n",
              "          const element = document.querySelector('#df-901c81a7-1e7d-41df-b68e-ba74c33454da');\n",
              "          const dataTable =\n",
              "            await google.colab.kernel.invokeFunction('convertToInteractive',\n",
              "                                                     [key], {});\n",
              "          if (!dataTable) return;\n",
              "\n",
              "          const docLinkHtml = 'Like what you see? Visit the ' +\n",
              "            '<a target=\"_blank\" href=https://colab.research.google.com/notebooks/data_table.ipynb>data table notebook</a>'\n",
              "            + ' to learn more about interactive tables.';\n",
              "          element.innerHTML = '';\n",
              "          dataTable['output_type'] = 'display_data';\n",
              "          await google.colab.output.renderOutput(dataTable, element);\n",
              "          const docLink = document.createElement('div');\n",
              "          docLink.innerHTML = docLinkHtml;\n",
              "          element.appendChild(docLink);\n",
              "        }\n",
              "      </script>\n",
              "    </div>\n",
              "  </div>\n",
              "  "
            ]
          },
          "metadata": {},
          "execution_count": 176
        }
      ]
    },
    {
      "cell_type": "code",
      "source": [
        "scoresheet2"
      ],
      "metadata": {
        "colab": {
          "base_uri": "https://localhost:8080/",
          "height": 363
        },
        "id": "2lW7jOn-PKeo",
        "outputId": "5031b036-009b-4b8b-8897-7118ed53807a"
      },
      "execution_count": 177,
      "outputs": [
        {
          "output_type": "execute_result",
          "data": {
            "text/plain": [
              "                 model   accuracy  precision    recall        f1\n",
              "0  logistic regression  76.061776   0.693968  0.760618  0.704007\n",
              "1                  SVM  77.992278   0.755590  0.779923  0.693951\n",
              "2                  Knn  76.061776   0.737891  0.760618  0.746049\n",
              "3               D Tree  68.339768   0.709606  0.683398  0.694734\n",
              "4        Random Forest  76.447876   0.751832  0.764479  0.757152\n",
              "5   Xtra Random Forest  74.131274   0.727035  0.741313  0.733266\n",
              "6          naive bayes  76.833977   0.600919  0.768340  0.674394\n",
              "7    voting_classifier  77.606178   0.736121  0.776062  0.738367\n",
              "8                  ann  77.220077   0.694537  0.772201  0.689648\n",
              "9                  xgb  77.606178   0.744442  0.776062  0.750517"
            ],
            "text/html": [
              "\n",
              "  <div id=\"df-cffe7cbb-cdf2-4ac4-8eca-b433645ab004\">\n",
              "    <div class=\"colab-df-container\">\n",
              "      <div>\n",
              "<style scoped>\n",
              "    .dataframe tbody tr th:only-of-type {\n",
              "        vertical-align: middle;\n",
              "    }\n",
              "\n",
              "    .dataframe tbody tr th {\n",
              "        vertical-align: top;\n",
              "    }\n",
              "\n",
              "    .dataframe thead th {\n",
              "        text-align: right;\n",
              "    }\n",
              "</style>\n",
              "<table border=\"1\" class=\"dataframe\">\n",
              "  <thead>\n",
              "    <tr style=\"text-align: right;\">\n",
              "      <th></th>\n",
              "      <th>model</th>\n",
              "      <th>accuracy</th>\n",
              "      <th>precision</th>\n",
              "      <th>recall</th>\n",
              "      <th>f1</th>\n",
              "    </tr>\n",
              "  </thead>\n",
              "  <tbody>\n",
              "    <tr>\n",
              "      <th>0</th>\n",
              "      <td>logistic regression</td>\n",
              "      <td>76.061776</td>\n",
              "      <td>0.693968</td>\n",
              "      <td>0.760618</td>\n",
              "      <td>0.704007</td>\n",
              "    </tr>\n",
              "    <tr>\n",
              "      <th>1</th>\n",
              "      <td>SVM</td>\n",
              "      <td>77.992278</td>\n",
              "      <td>0.755590</td>\n",
              "      <td>0.779923</td>\n",
              "      <td>0.693951</td>\n",
              "    </tr>\n",
              "    <tr>\n",
              "      <th>2</th>\n",
              "      <td>Knn</td>\n",
              "      <td>76.061776</td>\n",
              "      <td>0.737891</td>\n",
              "      <td>0.760618</td>\n",
              "      <td>0.746049</td>\n",
              "    </tr>\n",
              "    <tr>\n",
              "      <th>3</th>\n",
              "      <td>D Tree</td>\n",
              "      <td>68.339768</td>\n",
              "      <td>0.709606</td>\n",
              "      <td>0.683398</td>\n",
              "      <td>0.694734</td>\n",
              "    </tr>\n",
              "    <tr>\n",
              "      <th>4</th>\n",
              "      <td>Random Forest</td>\n",
              "      <td>76.447876</td>\n",
              "      <td>0.751832</td>\n",
              "      <td>0.764479</td>\n",
              "      <td>0.757152</td>\n",
              "    </tr>\n",
              "    <tr>\n",
              "      <th>5</th>\n",
              "      <td>Xtra Random Forest</td>\n",
              "      <td>74.131274</td>\n",
              "      <td>0.727035</td>\n",
              "      <td>0.741313</td>\n",
              "      <td>0.733266</td>\n",
              "    </tr>\n",
              "    <tr>\n",
              "      <th>6</th>\n",
              "      <td>naive bayes</td>\n",
              "      <td>76.833977</td>\n",
              "      <td>0.600919</td>\n",
              "      <td>0.768340</td>\n",
              "      <td>0.674394</td>\n",
              "    </tr>\n",
              "    <tr>\n",
              "      <th>7</th>\n",
              "      <td>voting_classifier</td>\n",
              "      <td>77.606178</td>\n",
              "      <td>0.736121</td>\n",
              "      <td>0.776062</td>\n",
              "      <td>0.738367</td>\n",
              "    </tr>\n",
              "    <tr>\n",
              "      <th>8</th>\n",
              "      <td>ann</td>\n",
              "      <td>77.220077</td>\n",
              "      <td>0.694537</td>\n",
              "      <td>0.772201</td>\n",
              "      <td>0.689648</td>\n",
              "    </tr>\n",
              "    <tr>\n",
              "      <th>9</th>\n",
              "      <td>xgb</td>\n",
              "      <td>77.606178</td>\n",
              "      <td>0.744442</td>\n",
              "      <td>0.776062</td>\n",
              "      <td>0.750517</td>\n",
              "    </tr>\n",
              "  </tbody>\n",
              "</table>\n",
              "</div>\n",
              "      <button class=\"colab-df-convert\" onclick=\"convertToInteractive('df-cffe7cbb-cdf2-4ac4-8eca-b433645ab004')\"\n",
              "              title=\"Convert this dataframe to an interactive table.\"\n",
              "              style=\"display:none;\">\n",
              "        \n",
              "  <svg xmlns=\"http://www.w3.org/2000/svg\" height=\"24px\"viewBox=\"0 0 24 24\"\n",
              "       width=\"24px\">\n",
              "    <path d=\"M0 0h24v24H0V0z\" fill=\"none\"/>\n",
              "    <path d=\"M18.56 5.44l.94 2.06.94-2.06 2.06-.94-2.06-.94-.94-2.06-.94 2.06-2.06.94zm-11 1L8.5 8.5l.94-2.06 2.06-.94-2.06-.94L8.5 2.5l-.94 2.06-2.06.94zm10 10l.94 2.06.94-2.06 2.06-.94-2.06-.94-.94-2.06-.94 2.06-2.06.94z\"/><path d=\"M17.41 7.96l-1.37-1.37c-.4-.4-.92-.59-1.43-.59-.52 0-1.04.2-1.43.59L10.3 9.45l-7.72 7.72c-.78.78-.78 2.05 0 2.83L4 21.41c.39.39.9.59 1.41.59.51 0 1.02-.2 1.41-.59l7.78-7.78 2.81-2.81c.8-.78.8-2.07 0-2.86zM5.41 20L4 18.59l7.72-7.72 1.47 1.35L5.41 20z\"/>\n",
              "  </svg>\n",
              "      </button>\n",
              "      \n",
              "  <style>\n",
              "    .colab-df-container {\n",
              "      display:flex;\n",
              "      flex-wrap:wrap;\n",
              "      gap: 12px;\n",
              "    }\n",
              "\n",
              "    .colab-df-convert {\n",
              "      background-color: #E8F0FE;\n",
              "      border: none;\n",
              "      border-radius: 50%;\n",
              "      cursor: pointer;\n",
              "      display: none;\n",
              "      fill: #1967D2;\n",
              "      height: 32px;\n",
              "      padding: 0 0 0 0;\n",
              "      width: 32px;\n",
              "    }\n",
              "\n",
              "    .colab-df-convert:hover {\n",
              "      background-color: #E2EBFA;\n",
              "      box-shadow: 0px 1px 2px rgba(60, 64, 67, 0.3), 0px 1px 3px 1px rgba(60, 64, 67, 0.15);\n",
              "      fill: #174EA6;\n",
              "    }\n",
              "\n",
              "    [theme=dark] .colab-df-convert {\n",
              "      background-color: #3B4455;\n",
              "      fill: #D2E3FC;\n",
              "    }\n",
              "\n",
              "    [theme=dark] .colab-df-convert:hover {\n",
              "      background-color: #434B5C;\n",
              "      box-shadow: 0px 1px 3px 1px rgba(0, 0, 0, 0.15);\n",
              "      filter: drop-shadow(0px 1px 2px rgba(0, 0, 0, 0.3));\n",
              "      fill: #FFFFFF;\n",
              "    }\n",
              "  </style>\n",
              "\n",
              "      <script>\n",
              "        const buttonEl =\n",
              "          document.querySelector('#df-cffe7cbb-cdf2-4ac4-8eca-b433645ab004 button.colab-df-convert');\n",
              "        buttonEl.style.display =\n",
              "          google.colab.kernel.accessAllowed ? 'block' : 'none';\n",
              "\n",
              "        async function convertToInteractive(key) {\n",
              "          const element = document.querySelector('#df-cffe7cbb-cdf2-4ac4-8eca-b433645ab004');\n",
              "          const dataTable =\n",
              "            await google.colab.kernel.invokeFunction('convertToInteractive',\n",
              "                                                     [key], {});\n",
              "          if (!dataTable) return;\n",
              "\n",
              "          const docLinkHtml = 'Like what you see? Visit the ' +\n",
              "            '<a target=\"_blank\" href=https://colab.research.google.com/notebooks/data_table.ipynb>data table notebook</a>'\n",
              "            + ' to learn more about interactive tables.';\n",
              "          element.innerHTML = '';\n",
              "          dataTable['output_type'] = 'display_data';\n",
              "          await google.colab.output.renderOutput(dataTable, element);\n",
              "          const docLink = document.createElement('div');\n",
              "          docLink.innerHTML = docLinkHtml;\n",
              "          element.appendChild(docLink);\n",
              "        }\n",
              "      </script>\n",
              "    </div>\n",
              "  </div>\n",
              "  "
            ]
          },
          "metadata": {},
          "execution_count": 177
        }
      ]
    },
    {
      "cell_type": "code",
      "source": [
        "scoresheet"
      ],
      "metadata": {
        "id": "70F38aRjPy33",
        "colab": {
          "base_uri": "https://localhost:8080/",
          "height": 363
        },
        "outputId": "079d4f11-6273-4460-8f13-b0c68acd8315"
      },
      "execution_count": 178,
      "outputs": [
        {
          "output_type": "execute_result",
          "data": {
            "text/plain": [
              "                 model   accuracy  precision    recall        f1\n",
              "0  logistic regression  77.220077   0.702657  0.772201  0.695657\n",
              "1                  SVM  78.764479   0.790223  0.787645  0.710689\n",
              "2                  Knn  74.517375   0.723289  0.745174  0.731974\n",
              "3               D Tree  71.814672   0.716415  0.718147  0.717271\n",
              "4        Random Forest  74.903475   0.738344  0.749035  0.743124\n",
              "5   Xtra Random Forest  72.586873   0.706973  0.725869  0.715160\n",
              "6          naive bayes  77.606178   0.602272  0.776062  0.678211\n",
              "7    voting_classifier  76.833977   0.714581  0.768340  0.717859\n",
              "8                  ann  77.606178   0.602272  0.776062  0.678211\n",
              "9                  xgb  78.764479   0.762510  0.787645  0.767132"
            ],
            "text/html": [
              "\n",
              "  <div id=\"df-46d25d66-8b1e-4b4e-a127-db54b6066dec\">\n",
              "    <div class=\"colab-df-container\">\n",
              "      <div>\n",
              "<style scoped>\n",
              "    .dataframe tbody tr th:only-of-type {\n",
              "        vertical-align: middle;\n",
              "    }\n",
              "\n",
              "    .dataframe tbody tr th {\n",
              "        vertical-align: top;\n",
              "    }\n",
              "\n",
              "    .dataframe thead th {\n",
              "        text-align: right;\n",
              "    }\n",
              "</style>\n",
              "<table border=\"1\" class=\"dataframe\">\n",
              "  <thead>\n",
              "    <tr style=\"text-align: right;\">\n",
              "      <th></th>\n",
              "      <th>model</th>\n",
              "      <th>accuracy</th>\n",
              "      <th>precision</th>\n",
              "      <th>recall</th>\n",
              "      <th>f1</th>\n",
              "    </tr>\n",
              "  </thead>\n",
              "  <tbody>\n",
              "    <tr>\n",
              "      <th>0</th>\n",
              "      <td>logistic regression</td>\n",
              "      <td>77.220077</td>\n",
              "      <td>0.702657</td>\n",
              "      <td>0.772201</td>\n",
              "      <td>0.695657</td>\n",
              "    </tr>\n",
              "    <tr>\n",
              "      <th>1</th>\n",
              "      <td>SVM</td>\n",
              "      <td>78.764479</td>\n",
              "      <td>0.790223</td>\n",
              "      <td>0.787645</td>\n",
              "      <td>0.710689</td>\n",
              "    </tr>\n",
              "    <tr>\n",
              "      <th>2</th>\n",
              "      <td>Knn</td>\n",
              "      <td>74.517375</td>\n",
              "      <td>0.723289</td>\n",
              "      <td>0.745174</td>\n",
              "      <td>0.731974</td>\n",
              "    </tr>\n",
              "    <tr>\n",
              "      <th>3</th>\n",
              "      <td>D Tree</td>\n",
              "      <td>71.814672</td>\n",
              "      <td>0.716415</td>\n",
              "      <td>0.718147</td>\n",
              "      <td>0.717271</td>\n",
              "    </tr>\n",
              "    <tr>\n",
              "      <th>4</th>\n",
              "      <td>Random Forest</td>\n",
              "      <td>74.903475</td>\n",
              "      <td>0.738344</td>\n",
              "      <td>0.749035</td>\n",
              "      <td>0.743124</td>\n",
              "    </tr>\n",
              "    <tr>\n",
              "      <th>5</th>\n",
              "      <td>Xtra Random Forest</td>\n",
              "      <td>72.586873</td>\n",
              "      <td>0.706973</td>\n",
              "      <td>0.725869</td>\n",
              "      <td>0.715160</td>\n",
              "    </tr>\n",
              "    <tr>\n",
              "      <th>6</th>\n",
              "      <td>naive bayes</td>\n",
              "      <td>77.606178</td>\n",
              "      <td>0.602272</td>\n",
              "      <td>0.776062</td>\n",
              "      <td>0.678211</td>\n",
              "    </tr>\n",
              "    <tr>\n",
              "      <th>7</th>\n",
              "      <td>voting_classifier</td>\n",
              "      <td>76.833977</td>\n",
              "      <td>0.714581</td>\n",
              "      <td>0.768340</td>\n",
              "      <td>0.717859</td>\n",
              "    </tr>\n",
              "    <tr>\n",
              "      <th>8</th>\n",
              "      <td>ann</td>\n",
              "      <td>77.606178</td>\n",
              "      <td>0.602272</td>\n",
              "      <td>0.776062</td>\n",
              "      <td>0.678211</td>\n",
              "    </tr>\n",
              "    <tr>\n",
              "      <th>9</th>\n",
              "      <td>xgb</td>\n",
              "      <td>78.764479</td>\n",
              "      <td>0.762510</td>\n",
              "      <td>0.787645</td>\n",
              "      <td>0.767132</td>\n",
              "    </tr>\n",
              "  </tbody>\n",
              "</table>\n",
              "</div>\n",
              "      <button class=\"colab-df-convert\" onclick=\"convertToInteractive('df-46d25d66-8b1e-4b4e-a127-db54b6066dec')\"\n",
              "              title=\"Convert this dataframe to an interactive table.\"\n",
              "              style=\"display:none;\">\n",
              "        \n",
              "  <svg xmlns=\"http://www.w3.org/2000/svg\" height=\"24px\"viewBox=\"0 0 24 24\"\n",
              "       width=\"24px\">\n",
              "    <path d=\"M0 0h24v24H0V0z\" fill=\"none\"/>\n",
              "    <path d=\"M18.56 5.44l.94 2.06.94-2.06 2.06-.94-2.06-.94-.94-2.06-.94 2.06-2.06.94zm-11 1L8.5 8.5l.94-2.06 2.06-.94-2.06-.94L8.5 2.5l-.94 2.06-2.06.94zm10 10l.94 2.06.94-2.06 2.06-.94-2.06-.94-.94-2.06-.94 2.06-2.06.94z\"/><path d=\"M17.41 7.96l-1.37-1.37c-.4-.4-.92-.59-1.43-.59-.52 0-1.04.2-1.43.59L10.3 9.45l-7.72 7.72c-.78.78-.78 2.05 0 2.83L4 21.41c.39.39.9.59 1.41.59.51 0 1.02-.2 1.41-.59l7.78-7.78 2.81-2.81c.8-.78.8-2.07 0-2.86zM5.41 20L4 18.59l7.72-7.72 1.47 1.35L5.41 20z\"/>\n",
              "  </svg>\n",
              "      </button>\n",
              "      \n",
              "  <style>\n",
              "    .colab-df-container {\n",
              "      display:flex;\n",
              "      flex-wrap:wrap;\n",
              "      gap: 12px;\n",
              "    }\n",
              "\n",
              "    .colab-df-convert {\n",
              "      background-color: #E8F0FE;\n",
              "      border: none;\n",
              "      border-radius: 50%;\n",
              "      cursor: pointer;\n",
              "      display: none;\n",
              "      fill: #1967D2;\n",
              "      height: 32px;\n",
              "      padding: 0 0 0 0;\n",
              "      width: 32px;\n",
              "    }\n",
              "\n",
              "    .colab-df-convert:hover {\n",
              "      background-color: #E2EBFA;\n",
              "      box-shadow: 0px 1px 2px rgba(60, 64, 67, 0.3), 0px 1px 3px 1px rgba(60, 64, 67, 0.15);\n",
              "      fill: #174EA6;\n",
              "    }\n",
              "\n",
              "    [theme=dark] .colab-df-convert {\n",
              "      background-color: #3B4455;\n",
              "      fill: #D2E3FC;\n",
              "    }\n",
              "\n",
              "    [theme=dark] .colab-df-convert:hover {\n",
              "      background-color: #434B5C;\n",
              "      box-shadow: 0px 1px 3px 1px rgba(0, 0, 0, 0.15);\n",
              "      filter: drop-shadow(0px 1px 2px rgba(0, 0, 0, 0.3));\n",
              "      fill: #FFFFFF;\n",
              "    }\n",
              "  </style>\n",
              "\n",
              "      <script>\n",
              "        const buttonEl =\n",
              "          document.querySelector('#df-46d25d66-8b1e-4b4e-a127-db54b6066dec button.colab-df-convert');\n",
              "        buttonEl.style.display =\n",
              "          google.colab.kernel.accessAllowed ? 'block' : 'none';\n",
              "\n",
              "        async function convertToInteractive(key) {\n",
              "          const element = document.querySelector('#df-46d25d66-8b1e-4b4e-a127-db54b6066dec');\n",
              "          const dataTable =\n",
              "            await google.colab.kernel.invokeFunction('convertToInteractive',\n",
              "                                                     [key], {});\n",
              "          if (!dataTable) return;\n",
              "\n",
              "          const docLinkHtml = 'Like what you see? Visit the ' +\n",
              "            '<a target=\"_blank\" href=https://colab.research.google.com/notebooks/data_table.ipynb>data table notebook</a>'\n",
              "            + ' to learn more about interactive tables.';\n",
              "          element.innerHTML = '';\n",
              "          dataTable['output_type'] = 'display_data';\n",
              "          await google.colab.output.renderOutput(dataTable, element);\n",
              "          const docLink = document.createElement('div');\n",
              "          docLink.innerHTML = docLinkHtml;\n",
              "          element.appendChild(docLink);\n",
              "        }\n",
              "      </script>\n",
              "    </div>\n",
              "  </div>\n",
              "  "
            ]
          },
          "metadata": {},
          "execution_count": 178
        }
      ]
    },
    {
      "cell_type": "markdown",
      "source": [
        "# Conclusion"
      ],
      "metadata": {
        "id": "f8LyD3Fd5nOy"
      }
    },
    {
      "cell_type": "markdown",
      "source": [
        "# Fine Tuning `XGBClassifier`"
      ],
      "metadata": {
        "id": "dIw46-AA-X8h"
      }
    },
    {
      "cell_type": "markdown",
      "source": [
        "Xgb is best performing model with Default parameter .\n",
        "\n",
        "Now lets fine tune xgb and train on whole dataset"
      ],
      "metadata": {
        "id": "FvL2kP2E58Z4"
      }
    },
    {
      "cell_type": "code",
      "source": [
        "boost_params = {\n",
        "    'learning_rate': [0.01, 0.005, 0.1 ,1]\n",
        ",'n_estimators': [100, 200, 250, 150]\n",
        ",'max_depth': [ 3, 5, 7, 9, 11]\n",
        ",'subsample': [0.7, 0.8, 0.9, 1 ]\n",
        ",'gamma': [0.1, 0.5 , 1.0, 1.5, 2.0]\n",
        "# , 'booster' :['gbtree', 'gblinear', 'dart']\n",
        "}"
      ],
      "metadata": {
        "id": "xgS-Pg316MD2"
      },
      "execution_count": 184,
      "outputs": []
    },
    {
      "cell_type": "code",
      "source": [
        "xgb = XGBClassifier(booster = 'gbtree', n_jobs=-1)"
      ],
      "metadata": {
        "id": "25AtwKGq6btQ"
      },
      "execution_count": 185,
      "outputs": []
    },
    {
      "cell_type": "code",
      "source": [
        "# since it is a cross validation we do not need to split the whole data into train"
      ],
      "metadata": {
        "id": "bDW1l2u37Vro"
      },
      "execution_count": 186,
      "outputs": []
    },
    {
      "cell_type": "code",
      "source": [
        "from sklearn.model_selection import RandomizedSearchCV\n",
        "\n",
        "def random_search_cv(estimator, params, n_iters, return_train_score = True, **kwargs):\n",
        "    'returns randomized search model, save it in a variable'\n",
        "    random_cv = RandomizedSearchCV( estimator = estimator, \n",
        "                                          param_distributions = params, \n",
        "                                          n_iter= n_iters, \n",
        "                                          return_train_score = return_train_score,verbose = 1, **kwargs)\n",
        "    random_cv.fit(X_balanced, y_balanced)\n",
        "    print( f'''best score: {random_cv.best_score_}\n",
        "    best estimator: {random_cv.best_estimator_}\n",
        "    best params: {random_cv.best_params_}\n",
        "    best index: {random_cv.best_index_}''')\n",
        "    return random_cv"
      ],
      "metadata": {
        "id": "ecn9Btzu6cOS"
      },
      "execution_count": 187,
      "outputs": []
    },
    {
      "cell_type": "code",
      "source": [
        "rscv = random_search_cv(xgb, boost_params, n_iters=50)"
      ],
      "metadata": {
        "colab": {
          "base_uri": "https://localhost:8080/"
        },
        "id": "-AAWnh8s7oFS",
        "outputId": "6a4b264c-fca1-456f-cc16-b56e9ee56fb9"
      },
      "execution_count": 188,
      "outputs": [
        {
          "output_type": "stream",
          "name": "stdout",
          "text": [
            "Fitting 5 folds for each of 50 candidates, totalling 250 fits\n",
            "best score: 0.7954152119700748\n",
            "    best estimator: XGBClassifier(gamma=1.5, max_depth=11, n_estimators=150, n_jobs=-1,\n",
            "              subsample=0.9)\n",
            "    best params: {'subsample': 0.9, 'n_estimators': 150, 'max_depth': 11, 'learning_rate': 0.1, 'gamma': 1.5}\n",
            "    best index: 17\n"
          ]
        }
      ]
    },
    {
      "cell_type": "code",
      "source": [
        "# getting the best params\n",
        "xgb_param = rscv.best_params_\n",
        "xgb_param"
      ],
      "metadata": {
        "colab": {
          "base_uri": "https://localhost:8080/"
        },
        "id": "TjmyoyEw7v34",
        "outputId": "8f00ef0d-f65e-48f2-b941-260108848e10"
      },
      "execution_count": 189,
      "outputs": [
        {
          "output_type": "execute_result",
          "data": {
            "text/plain": [
              "{'subsample': 0.9,\n",
              " 'n_estimators': 150,\n",
              " 'max_depth': 11,\n",
              " 'learning_rate': 0.1,\n",
              " 'gamma': 1.5}"
            ]
          },
          "metadata": {},
          "execution_count": 189
        }
      ]
    },
    {
      "cell_type": "code",
      "source": [
        "xgb_tuned = XGBClassifier( n_estimators=xgb_param['n_estimators'],\n",
        "                                    subsample = xgb_param['subsample'],\n",
        "                                    gamma = xgb_param['gamma'],\n",
        "                                    learning_rate = xgb_param['learning_rate'],\n",
        "                                    max_depth= xgb_param['max_depth'])"
      ],
      "metadata": {
        "id": "tdOSX8G1-hR4"
      },
      "execution_count": 190,
      "outputs": []
    },
    {
      "cell_type": "code",
      "source": [
        "# fitting on splitted data to see performance\n",
        "xgb_tuned.fit(xtrain_bala_scaled, ytrain_bala)"
      ],
      "metadata": {
        "colab": {
          "base_uri": "https://localhost:8080/"
        },
        "id": "LZBPCGZF-kvB",
        "outputId": "47690119-b3fb-4268-a8ac-71ea14299801"
      },
      "execution_count": 191,
      "outputs": [
        {
          "output_type": "execute_result",
          "data": {
            "text/plain": [
              "XGBClassifier(gamma=1.5, max_depth=11, n_estimators=150, subsample=0.9)"
            ]
          },
          "metadata": {},
          "execution_count": 191
        }
      ]
    },
    {
      "cell_type": "code",
      "source": [
        "ypred = xgb_tuned.predict(xtest_bala_scaled)\n",
        "\n",
        "calculate_results(y_true=ytest_bala, y_pred = ypred)"
      ],
      "metadata": {
        "colab": {
          "base_uri": "https://localhost:8080/"
        },
        "id": "5Gf1PZLX-v7J",
        "outputId": "b62fb180-b038-40d7-d497-27347059d763"
      },
      "execution_count": 192,
      "outputs": [
        {
          "output_type": "execute_result",
          "data": {
            "text/plain": [
              "{'accuracy': 80.29925187032418,\n",
              " 'precision': 0.8051454809109476,\n",
              " 'recall': 0.8029925187032418,\n",
              " 'f1': 0.802616861822338}"
            ]
          },
          "metadata": {},
          "execution_count": 192
        }
      ]
    },
    {
      "cell_type": "code",
      "source": [
        "# ploting roc curve for xgbclassifier\n",
        "# it requires probability as input rather than hard value\n",
        "ypred_proba = xgb_tuned.predict_proba(xtest_bala_scaled)\n",
        "plot_roc(ytest_bala, ypred_proba)"
      ],
      "metadata": {
        "colab": {
          "base_uri": "https://localhost:8080/",
          "height": 621
        },
        "id": "uWC-XRCcDhzN",
        "outputId": "b015583f-8005-48f4-cf18-9ffbabeab581"
      },
      "execution_count": 193,
      "outputs": [
        {
          "output_type": "display_data",
          "data": {
            "text/plain": [
              "<Figure size 1080x720 with 1 Axes>"
            ],
            "image/png": "[encoded data removed]"
          },
          "metadata": {
            "needs_background": "light"
          }
        }
      ]
    },
    {
      "cell_type": "markdown",
      "source": [
        " **Best Score so far**"
      ],
      "metadata": {
        "id": "BBM3OsFlAFyU"
      }
    },
    {
      "cell_type": "code",
      "source": [
        "# fittting on Whole data\n",
        "xgb_tuned.fit(X_balanced, y_balanced)"
      ],
      "metadata": {
        "colab": {
          "base_uri": "https://localhost:8080/"
        },
        "id": "bFXuVyqT_W-Z",
        "outputId": "e7a6ea75-381a-4a11-a4de-9de86812cb09"
      },
      "execution_count": 194,
      "outputs": [
        {
          "output_type": "execute_result",
          "data": {
            "text/plain": [
              "XGBClassifier(gamma=1.5, max_depth=11, n_estimators=150, subsample=0.9)"
            ]
          },
          "metadata": {},
          "execution_count": 194
        }
      ]
    },
    {
      "cell_type": "code",
      "source": [
        "import joblib\n",
        "# saving the Model\n",
        "joblib.dump(xgb_tuned,'XGBClassifier.joblib')"
      ],
      "metadata": {
        "colab": {
          "base_uri": "https://localhost:8080/"
        },
        "id": "cEW89RKRB0IM",
        "outputId": "4b694fd7-e99b-4ef9-e1f3-176563a9b1da"
      },
      "execution_count": 195,
      "outputs": [
        {
          "output_type": "execute_result",
          "data": {
            "text/plain": [
              "['XGBClassifier.joblib']"
            ]
          },
          "metadata": {},
          "execution_count": 195
        }
      ]
    },
    {
      "cell_type": "markdown",
      "source": [
        "# Fine Tuning Random FOrest"
      ],
      "metadata": {
        "id": "2qmqMA9CCJg-"
      }
    },
    {
      "cell_type": "code",
      "source": [
        "rand_params ={\n",
        " 'max_depth': [ 3, 5, 7, 9, 11],\n",
        " 'max_leaf_nodes': [2,3,4,5],\n",
        " 'min_samples_leaf': [2,3,4,5],\n",
        " 'min_samples_split': [3,4,5],\n",
        " 'n_estimators': [100,150, 200,250]\n",
        "}"
      ],
      "metadata": {
        "id": "ofPVuzUTDnyM"
      },
      "execution_count": 196,
      "outputs": []
    },
    {
      "cell_type": "code",
      "source": [
        "rand = RandomForestClassifier(bootstrap=True, oob_score=True, n_jobs= -1, criterion='gini')"
      ],
      "metadata": {
        "id": "stp4QP7jDz2J"
      },
      "execution_count": 197,
      "outputs": []
    },
    {
      "cell_type": "code",
      "source": [
        "# using random function to perform random search cv\n",
        "rscv2 = random_search_cv(rand, rand_params, n_iters=50)"
      ],
      "metadata": {
        "colab": {
          "base_uri": "https://localhost:8080/"
        },
        "id": "w6Yf7ERzDqX-",
        "outputId": "cb48ad2a-9882-44d8-bf5a-b216879cda66"
      },
      "execution_count": 198,
      "outputs": [
        {
          "output_type": "stream",
          "name": "stdout",
          "text": [
            "Fitting 5 folds for each of 50 candidates, totalling 250 fits\n",
            "best score: 0.751001246882793\n",
            "    best estimator: RandomForestClassifier(max_depth=9, max_leaf_nodes=5, min_samples_leaf=2,\n",
            "                       min_samples_split=5, n_estimators=150, n_jobs=-1,\n",
            "                       oob_score=True)\n",
            "    best params: {'n_estimators': 150, 'min_samples_split': 5, 'min_samples_leaf': 2, 'max_leaf_nodes': 5, 'max_depth': 9}\n",
            "    best index: 5\n"
          ]
        }
      ]
    },
    {
      "cell_type": "code",
      "source": [
        "param = rscv2.best_params_"
      ],
      "metadata": {
        "id": "IJAWBsjND1N2"
      },
      "execution_count": 199,
      "outputs": []
    },
    {
      "cell_type": "code",
      "source": [
        "rand_tuned = RandomForestClassifier(n_estimators=param['n_estimators'],\n",
        "                                    min_samples_split = param['min_samples_split'],\n",
        "                                    min_samples_leaf = param['min_samples_leaf'],\n",
        "                                    max_leaf_nodes = param['max_leaf_nodes'],\n",
        "                                    max_depth= param['max_depth'],\n",
        "                                    bootstrap= True, oob_score=True)"
      ],
      "metadata": {
        "id": "YqawtDxTD77x"
      },
      "execution_count": 200,
      "outputs": []
    },
    {
      "cell_type": "code",
      "source": [
        "# fitting on splitted data to see performance\n",
        "rand_tuned.fit(xtrain_bala_scaled, ytrain_bala)"
      ],
      "metadata": {
        "colab": {
          "base_uri": "https://localhost:8080/"
        },
        "id": "NmuZGAEND748",
        "outputId": "d3990714-37ec-4b7d-aecc-80e867755de3"
      },
      "execution_count": 201,
      "outputs": [
        {
          "output_type": "execute_result",
          "data": {
            "text/plain": [
              "RandomForestClassifier(max_depth=9, max_leaf_nodes=5, min_samples_leaf=2,\n",
              "                       min_samples_split=5, n_estimators=150, oob_score=True)"
            ]
          },
          "metadata": {},
          "execution_count": 201
        }
      ]
    },
    {
      "cell_type": "code",
      "source": [
        "ypred2 = rand_tuned.predict(xtest_bala_scaled)\n",
        "\n",
        "calculate_results(y_true=ytest_bala, y_pred = ypred2)"
      ],
      "metadata": {
        "colab": {
          "base_uri": "https://localhost:8080/"
        },
        "id": "HmXWSAGVD71_",
        "outputId": "66cf8a9f-e23e-4c9c-fc39-6f69478cc90e"
      },
      "execution_count": 202,
      "outputs": [
        {
          "output_type": "execute_result",
          "data": {
            "text/plain": [
              "{'accuracy': 78.05486284289277,\n",
              " 'precision': 0.7815246122033844,\n",
              " 'recall': 0.7805486284289277,\n",
              " 'f1': 0.7803355051784853}"
            ]
          },
          "metadata": {},
          "execution_count": 202
        }
      ]
    },
    {
      "cell_type": "code",
      "source": [
        "# ploting roc curve for random forest classifier\n",
        "# it requires probability as input rather than hard value\n",
        "ypred2_proba = rand_tuned.predict_proba(xtest_bala_scaled)\n",
        "plot_roc(ytest_bala, ypred2_proba)"
      ],
      "metadata": {
        "colab": {
          "base_uri": "https://localhost:8080/",
          "height": 621
        },
        "id": "HXYhJlAUD7zV",
        "outputId": "73309143-752f-4e0f-f710-4182db4b5aaf"
      },
      "execution_count": 203,
      "outputs": [
        {
          "output_type": "display_data",
          "data": {
            "text/plain": [
              "<Figure size 1080x720 with 1 Axes>"
            ],
            "image/png": "[encoded data removed]"
          },
          "metadata": {
            "needs_background": "light"
          }
        }
      ]
    },
    {
      "cell_type": "code",
      "source": [
        "#FInally fitting whole dataset\n",
        "rand_tuned.fit(X_balanced, y_balanced)"
      ],
      "metadata": {
        "colab": {
          "base_uri": "https://localhost:8080/"
        },
        "id": "kW-0Syr-G2-M",
        "outputId": "1466e396-7885-4b37-f512-5fde0d231e64"
      },
      "execution_count": 204,
      "outputs": [
        {
          "output_type": "execute_result",
          "data": {
            "text/plain": [
              "RandomForestClassifier(max_depth=9, max_leaf_nodes=5, min_samples_leaf=2,\n",
              "                       min_samples_split=5, n_estimators=150, oob_score=True)"
            ]
          },
          "metadata": {},
          "execution_count": 204
        }
      ]
    },
    {
      "cell_type": "code",
      "source": [
        "# Saving model\n",
        "joblib.dump(rand_tuned, 'RandomForestClassifier.joblib')"
      ],
      "metadata": {
        "colab": {
          "base_uri": "https://localhost:8080/"
        },
        "id": "epkZYtRiGgPB",
        "outputId": "aa54e51a-12ea-41b3-a5ee-06ba2ca90440"
      },
      "execution_count": 205,
      "outputs": [
        {
          "output_type": "execute_result",
          "data": {
            "text/plain": [
              "['RandomForestClassifier.joblib']"
            ]
          },
          "metadata": {},
          "execution_count": 205
        }
      ]
    },
    {
      "cell_type": "markdown",
      "source": [
        "## Just to see a Cross validation"
      ],
      "metadata": {
        "id": "yyzqw-vcJYnU"
      }
    },
    {
      "cell_type": "code",
      "source": [
        "from sklearn.model_selection import cross_val_score"
      ],
      "metadata": {
        "id": "R3J8X6mwHHU6"
      },
      "execution_count": 206,
      "outputs": []
    },
    {
      "cell_type": "code",
      "source": [
        "aa = cross_val_score(xgb_tuned, X_balanced, y_balanced, n_jobs=-1,\n",
        "                     verbose = 1,\n",
        "                     cv = 5)"
      ],
      "metadata": {
        "colab": {
          "base_uri": "https://localhost:8080/"
        },
        "id": "EFO1gfj1HRAJ",
        "outputId": "5af1ed03-8301-432b-932d-b16527e42f8b"
      },
      "execution_count": 207,
      "outputs": [
        {
          "output_type": "stream",
          "name": "stderr",
          "text": [
            "[Parallel(n_jobs=-1)]: Using backend LokyBackend with 2 concurrent workers.\n",
            "[Parallel(n_jobs=-1)]: Done   5 out of   5 | elapsed:    1.9s finished\n"
          ]
        }
      ]
    },
    {
      "cell_type": "code",
      "source": [
        "np.mean(aa)"
      ],
      "metadata": {
        "colab": {
          "base_uri": "https://localhost:8080/"
        },
        "id": "Gred1IwvHrGy",
        "outputId": "a192dfe6-8649-4377-ba70-0ba62878ede8"
      },
      "execution_count": 208,
      "outputs": [
        {
          "output_type": "execute_result",
          "data": {
            "text/plain": [
              "0.7954152119700748"
            ]
          },
          "metadata": {},
          "execution_count": 208
        }
      ]
    },
    {
      "cell_type": "code",
      "source": [
        "aaa = cross_val_score(rand_tuned, X_balanced, y_balanced, n_jobs=-1,\n",
        "                     verbose = 1,\n",
        "                     cv = 5)"
      ],
      "metadata": {
        "colab": {
          "base_uri": "https://localhost:8080/"
        },
        "id": "ZnqZVaNOHxYE",
        "outputId": "da816f0b-d9d8-441b-e245-5fab2e6f9c75"
      },
      "execution_count": 209,
      "outputs": [
        {
          "output_type": "stream",
          "name": "stderr",
          "text": [
            "[Parallel(n_jobs=-1)]: Using backend LokyBackend with 2 concurrent workers.\n",
            "[Parallel(n_jobs=-1)]: Done   5 out of   5 | elapsed:    1.7s finished\n"
          ]
        }
      ]
    },
    {
      "cell_type": "code",
      "source": [
        "np.mean(aaa)"
      ],
      "metadata": {
        "colab": {
          "base_uri": "https://localhost:8080/"
        },
        "id": "KRDil_HZIZC3",
        "outputId": "3c4da727-9ee6-486a-f8e9-b5a12185e412"
      },
      "execution_count": 210,
      "outputs": [
        {
          "output_type": "execute_result",
          "data": {
            "text/plain": [
              "0.7455074812967581"
            ]
          },
          "metadata": {},
          "execution_count": 210
        }
      ]
    },
    {
      "cell_type": "code",
      "source": [],
      "metadata": {
        "id": "S8pfcYjWIavm"
      },
      "execution_count": 210,
      "outputs": []
    }
  ],
  "metadata": {
    "colab": {
      "collapsed_sections": [],
      "provenance": [],
      "authorship_tag": "ABX9TyOfoX19/ErHYdNdAZ+KIcks",
      "include_colab_link": true
    },
    "kernelspec": {
      "display_name": "Python 3",
      "name": "python3"
    },
    "language_info": {
      "name": "python"
    }
  },
  "nbformat": 4,
  "nbformat_minor": 0
}